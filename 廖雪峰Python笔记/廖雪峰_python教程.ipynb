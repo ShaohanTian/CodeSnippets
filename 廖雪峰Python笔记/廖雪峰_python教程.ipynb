{
 "cells": [
  {
   "cell_type": "markdown",
   "id": "e4fa6a1e-1ebf-4886-bef5-7de0c37cd797",
   "metadata": {},
   "source": [
    "## Python预备知识"
   ]
  },
  {
   "cell_type": "markdown",
   "id": "b381748f-bffd-4580-b498-16bfa529e93f",
   "metadata": {},
   "source": [
    "进入[Python官网](https://www.python.org/) 可以看到它的主页面写着这样两句话，“Python的便利性使得它成为机器学习和人工智能领域最流行的编程语言。Python的灵活性满足从笔记本到计算机集群的任意规模机器学习或人工智能”，这两句话充分表明了Python的特点”便利性“和”灵活性“。其中”便利性“主要体现在：比如完成同一个任务，C语言可能要写1000行代码，Java要写100行，而Python可能只要20行就可以达成目标。"
   ]
  },
  {
   "cell_type": "markdown",
   "id": "c94d1fa7-c9b4-4b82-b628-08bb2bed5119",
   "metadata": {
    "tags": []
   },
   "source": [
    "## Python基础"
   ]
  },
  {
   "cell_type": "markdown",
   "id": "e256b988-ed01-4336-abbc-ca7c5d82944f",
   "metadata": {},
   "source": [
    "* Python有适合自己的一套语法体系，编译器或者解释器就是把符合语法规则的Python转成CPU能够执行的机器码  \n",
    "* Python的注释通常是以`#`开头的\n",
    "* 约定俗成的缩进为**四个空格**"
   ]
  },
  {
   "cell_type": "markdown",
   "id": "6f7135b7-2620-4fef-a11b-21f11ab9986a",
   "metadata": {},
   "source": [
    "### 基本数据类型和变量"
   ]
  },
  {
   "cell_type": "markdown",
   "id": "530929be-1d96-4080-b258-310a08aac43c",
   "metadata": {},
   "source": [
    "#### 整数"
   ]
  },
  {
   "cell_type": "markdown",
   "id": "d00385fb-9963-4381-b336-c66584c86974",
   "metadata": {},
   "source": [
    "* Python可以处理整数，例如`1`、`10`、`100`\n",
    "* 计算机使用的是二进制，有时候使用十六进制比较方便，因此用`0x`表示十六进制，例如：`0xff00` \n",
    "* 对于较大的数字，Python允许使用`_`进行分隔，可以写为`10_000_000`,十六进制可以写为`0xa1b2_c3d4`"
   ]
  },
  {
   "cell_type": "markdown",
   "id": "c652f826-af6e-4c9f-8f45-eea2e957db0a",
   "metadata": {},
   "source": [
    "#### 浮点数"
   ]
  },
  {
   "cell_type": "markdown",
   "id": "49c32896-df0e-4c6e-a1f9-9602eb454d5d",
   "metadata": {},
   "source": [
    "* 浮点数可以用科学计数法表示 $1.23 \\times 10^9$ 可以表示为`1.233e`\n",
    "* 整数运算永远是精准的**（除法也是）**，浮点数运算可能存在四舍五入误差"
   ]
  },
  {
   "cell_type": "markdown",
   "id": "e39013e9-0bf0-40ac-b600-e7fbf02233eb",
   "metadata": {},
   "source": [
    "#### 字符串"
   ]
  },
  {
   "cell_type": "markdown",
   "id": "22cb51b7-b1c5-4914-9d36-653ed16e2272",
   "metadata": {},
   "source": [
    "* 字符串是以`''`或者`\"\"`表示的\n",
    "* 字符串中的反斜杠`\\`表示转义符，可以用来表示一些特殊字符\n",
    "* 当字符串用`r\"\"`表示的时候，默认不进行转义\n",
    "* 字符串有很多行时候，可以三个单引号如`'''str'''`进行表示"
   ]
  },
  {
   "cell_type": "code",
   "execution_count": 2,
   "id": "a102c6b0-55ca-4cf9-9707-10da14753b53",
   "metadata": {
    "execution": {
     "iopub.execute_input": "2022-04-01T12:21:03.084637Z",
     "iopub.status.busy": "2022-04-01T12:21:03.083677Z",
     "iopub.status.idle": "2022-04-01T12:21:03.090865Z",
     "shell.execute_reply": "2022-04-01T12:21:03.089056Z",
     "shell.execute_reply.started": "2022-04-01T12:21:03.084555Z"
    },
    "tags": []
   },
   "outputs": [
    {
     "name": "stdout",
     "output_type": "stream",
     "text": [
      "hello,\\n\n",
      "Python\n"
     ]
    }
   ],
   "source": [
    "# 不进行转义\n",
    "print(r'''hello,\\n\n",
    "Python''')"
   ]
  },
  {
   "cell_type": "markdown",
   "id": "009516a3-3d30-4890-9626-49cdad4a3caf",
   "metadata": {},
   "source": [
    "#### 布尔值"
   ]
  },
  {
   "cell_type": "markdown",
   "id": "cf899449-3116-49e1-add2-c98e3ef2ee32",
   "metadata": {},
   "source": [
    "* 布尔值用`True`和`False`进行表示\n",
    "* 两种布尔值可以用逻辑的`and`、`or`、`not`进行连接"
   ]
  },
  {
   "cell_type": "markdown",
   "id": "ca591651-30ce-4853-a096-842b0af2ceee",
   "metadata": {},
   "source": [
    "#### 空值None"
   ]
  },
  {
   "cell_type": "markdown",
   "id": "4619d35f-b168-4787-ae07-f6d7d9962ab6",
   "metadata": {},
   "source": [
    "* 空值`None`是一个特殊的值，不能理解为`0`"
   ]
  },
  {
   "cell_type": "markdown",
   "id": "158bc4ff-06f1-421d-8fed-f181fad01b3a",
   "metadata": {},
   "source": [
    "### 字符串和编码"
   ]
  },
  {
   "cell_type": "markdown",
   "id": "7ee748ce-ed04-46f0-828b-944c2ae7270f",
   "metadata": {},
   "source": [
    "#### 字符编码"
   ]
  },
  {
   "cell_type": "markdown",
   "id": "e0d48676-1e1e-4688-9d4a-7588f533174d",
   "metadata": {},
   "source": [
    "* 计算机只能处理数字，使用字符串存在**编码**问题\n",
    "* 最早设计8个bit为一个字节，因此一个字节表示最大整数为$2^8-1=255$\n",
    "* 美国人设计用`ASCII`编码表示127个字符\n",
    "* 各国都有自己的标准，导致编码混乱\n",
    "* 最终统一使用`Unicode`进行编码，常用两个字节\n",
    "* 由于`Unicode`存在内存占用过大问题的，出现`UTF-8`编码，可以自动调控字节占用大小\n",
    "![](https://shaohan-yun.oss-cn-beijing.aliyuncs.com/my_blog/20220401204939.png)  \n",
    "* 在计算机**内存**中，统一使用`Unicode`编码，当需要保存到**硬盘**或者需要**传输**的时候，就转换为`UTF-8`编码"
   ]
  },
  {
   "cell_type": "markdown",
   "id": "1783bcf0-df6b-49b8-ae2f-4d6f399508b8",
   "metadata": {},
   "source": [
    "#### Python字符串"
   ]
  },
  {
   "cell_type": "markdown",
   "id": "a2a12b4e-bb88-4bad-8e70-171e3c1cc1fb",
   "metadata": {},
   "source": [
    "* 在Python3中，字符串是以`Unicode`进行编码的，也就是Python支持多语言\n",
    "* Python3提供`ord`函数获取字符串整数表示，`chr()`把编码转为字符\n",
    "* Python的字符串类型是`str`，内存以`Unicode`表示，一个字符对应若干字节，在网络传输或保存到磁盘，以`bytes`字节表示"
   ]
  },
  {
   "cell_type": "code",
   "execution_count": 11,
   "id": "72fd429a-1cdb-401c-baa5-bdc14f162f29",
   "metadata": {
    "execution": {
     "iopub.execute_input": "2022-04-01T12:55:10.361890Z",
     "iopub.status.busy": "2022-04-01T12:55:10.360617Z",
     "iopub.status.idle": "2022-04-01T12:55:10.371854Z",
     "shell.execute_reply": "2022-04-01T12:55:10.371064Z",
     "shell.execute_reply.started": "2022-04-01T12:55:10.361833Z"
    }
   },
   "outputs": [
    {
     "data": {
      "text/plain": [
       "22269"
      ]
     },
     "execution_count": 11,
     "metadata": {},
     "output_type": "execute_result"
    }
   ],
   "source": [
    "ord('国')"
   ]
  },
  {
   "cell_type": "code",
   "execution_count": 12,
   "id": "c7b659e0-635f-416b-a375-9db96fe24d26",
   "metadata": {
    "execution": {
     "iopub.execute_input": "2022-04-01T12:55:18.909037Z",
     "iopub.status.busy": "2022-04-01T12:55:18.907751Z",
     "iopub.status.idle": "2022-04-01T12:55:18.918377Z",
     "shell.execute_reply": "2022-04-01T12:55:18.916744Z",
     "shell.execute_reply.started": "2022-04-01T12:55:18.908958Z"
    }
   },
   "outputs": [
    {
     "data": {
      "text/plain": [
       "'国'"
      ]
     },
     "execution_count": 12,
     "metadata": {},
     "output_type": "execute_result"
    }
   ],
   "source": [
    "chr(22269)"
   ]
  },
  {
   "cell_type": "markdown",
   "id": "e279b404-0930-49e7-9e24-9f240104ce87",
   "metadata": {},
   "source": [
    "* Python对`bytes`类型用带`b`的前缀单引号表示，如`x = b'ABC'`"
   ]
  },
  {
   "cell_type": "code",
   "execution_count": 14,
   "id": "d68beb27-5009-4b0b-bc98-7825809adb8d",
   "metadata": {
    "execution": {
     "iopub.execute_input": "2022-04-01T13:01:38.699814Z",
     "iopub.status.busy": "2022-04-01T13:01:38.698755Z",
     "iopub.status.idle": "2022-04-01T13:01:38.705779Z",
     "shell.execute_reply": "2022-04-01T13:01:38.704634Z",
     "shell.execute_reply.started": "2022-04-01T13:01:38.699750Z"
    },
    "tags": []
   },
   "outputs": [
    {
     "name": "stdout",
     "output_type": "stream",
     "text": [
      "b'abc'\n",
      "b'\\xe4\\xb8\\xad\\xe6\\x96\\x87'\n"
     ]
    }
   ],
   "source": [
    "# 以Unicode表示的str可以编码为指定的bytes\n",
    "print('abc'.encode('ascii'))\n",
    "print('中文'.encode('utf-8'))"
   ]
  },
  {
   "cell_type": "code",
   "execution_count": 16,
   "id": "a5d545ec-7621-4548-95a9-f201f249bbe8",
   "metadata": {
    "execution": {
     "iopub.execute_input": "2022-04-01T13:03:04.268072Z",
     "iopub.status.busy": "2022-04-01T13:03:04.267445Z",
     "iopub.status.idle": "2022-04-01T13:03:04.277354Z",
     "shell.execute_reply": "2022-04-01T13:03:04.276530Z",
     "shell.execute_reply.started": "2022-04-01T13:03:04.268004Z"
    },
    "tags": []
   },
   "outputs": [
    {
     "name": "stdout",
     "output_type": "stream",
     "text": [
      "abc\n",
      "中文\n"
     ]
    }
   ],
   "source": [
    "# 解码从网络或者磁盘上读取的字节流\n",
    "print(b'abc'.decode('ascii'))\n",
    "print(b'\\xe4\\xb8\\xad\\xe6\\x96\\x87'.decode('utf-8'))"
   ]
  },
  {
   "cell_type": "markdown",
   "id": "a9e5f19d-1c1b-4612-b343-697d01fc6598",
   "metadata": {},
   "source": [
    "* Python源码也是一个文本文件，因此我们需要指定读取方式为`utf-8`的编码方式\n",
    "* Python文件通常需要添加这两行`#!/usr/bin/env python3`和`\\# -*- coding: utf-8 -*-`   \n",
    "\n",
    "    * 第一行注释是为了告诉Linux/OS X系统，这是一个Python可执行程序，Windows系统会忽略这个注释\n",
    "\n",
    "    * 第二行注释是为了告诉Python解释器，按照UTF-8编码读取源代码，否则，你在源代码中写的中文输出可能有乱码\n",
    "* 确保你的编辑器使用`utf-8`编码\n",
    "\n",
    "![](https://shaohan-yun.oss-cn-beijing.aliyuncs.com/my_blog/20220401211140.png)\n",
    "\n"
   ]
  },
  {
   "cell_type": "markdown",
   "id": "b84c85ed-ea7c-4516-b710-9c996c675ab3",
   "metadata": {},
   "source": [
    "#### 格式化"
   ]
  },
  {
   "cell_type": "markdown",
   "id": "02f9b311-b0a3-4826-87f3-0d709c743f17",
   "metadata": {
    "execution": {
     "iopub.execute_input": "2022-04-01T12:31:29.532007Z",
     "iopub.status.busy": "2022-04-01T12:31:29.531087Z",
     "iopub.status.idle": "2022-04-01T12:31:29.542075Z",
     "shell.execute_reply": "2022-04-01T12:31:29.539353Z",
     "shell.execute_reply.started": "2022-04-01T12:31:29.531878Z"
    },
    "tags": []
   },
   "source": [
    "1. `%`表示\n",
    "    * 使用`%`进行输出，后面使用`()`对应好变量顺序  \n",
    "    ![](https://shaohan-yun.oss-cn-beijing.aliyuncs.com/my_blog/20220401211743.png)\n",
    "    * `%s`永远起作用，可以将整数等转为字符串\n",
    "    * 使用`%%`表示%输出  \n",
    "2. `format()`表示    \n",
    "    * 传入参数依次占据`{0}`、`{1}`等\n",
    "3. `f-string`表示\n",
    "    * 字符串如果包含`{str}`就会以变量记性替换    "
   ]
  },
  {
   "cell_type": "code",
   "execution_count": 22,
   "id": "1e620b3d-18a2-4e44-95f2-5000a4c9b992",
   "metadata": {
    "execution": {
     "iopub.execute_input": "2022-04-01T13:23:16.777474Z",
     "iopub.status.busy": "2022-04-01T13:23:16.777062Z",
     "iopub.status.idle": "2022-04-01T13:23:16.784790Z",
     "shell.execute_reply": "2022-04-01T13:23:16.784065Z",
     "shell.execute_reply.started": "2022-04-01T13:23:16.777415Z"
    },
    "tags": []
   },
   "outputs": [
    {
     "data": {
      "text/plain": [
       "'name: xiaoming, age: 23.00'"
      ]
     },
     "execution_count": 22,
     "metadata": {},
     "output_type": "execute_result"
    }
   ],
   "source": [
    "\"name: %s, age: %.2f\" % ('xiaoming', 23.0)"
   ]
  },
  {
   "cell_type": "code",
   "execution_count": 23,
   "id": "be046a14-4a80-4077-9728-7233a2cc2e75",
   "metadata": {
    "execution": {
     "iopub.execute_input": "2022-04-01T13:24:08.262253Z",
     "iopub.status.busy": "2022-04-01T13:24:08.261257Z",
     "iopub.status.idle": "2022-04-01T13:24:08.267874Z",
     "shell.execute_reply": "2022-04-01T13:24:08.267142Z",
     "shell.execute_reply.started": "2022-04-01T13:24:08.262208Z"
    }
   },
   "outputs": [
    {
     "data": {
      "text/plain": [
       "'name: xiaoming, age: 23.00'"
      ]
     },
     "execution_count": 23,
     "metadata": {},
     "output_type": "execute_result"
    }
   ],
   "source": [
    "\"name: {0}, age: {1:.2f}\".format('xiaoming', 23.00)"
   ]
  },
  {
   "cell_type": "code",
   "execution_count": 25,
   "id": "f17c850a-4f22-4bf2-b500-cfe907143b03",
   "metadata": {
    "execution": {
     "iopub.execute_input": "2022-04-01T13:25:01.968459Z",
     "iopub.status.busy": "2022-04-01T13:25:01.967171Z",
     "iopub.status.idle": "2022-04-01T13:25:01.977764Z",
     "shell.execute_reply": "2022-04-01T13:25:01.976219Z",
     "shell.execute_reply.started": "2022-04-01T13:25:01.968361Z"
    },
    "tags": []
   },
   "outputs": [
    {
     "data": {
      "text/plain": [
       "'name: xiaoming, age: 23.00'"
      ]
     },
     "execution_count": 25,
     "metadata": {},
     "output_type": "execute_result"
    }
   ],
   "source": [
    "name = 'xiaoming'\n",
    "age = 23.0\n",
    "f\"name: {name}, age: {age:.2f}\""
   ]
  },
  {
   "cell_type": "markdown",
   "id": "e1e74755-b2b4-4a85-981c-6ba239f0fad5",
   "metadata": {},
   "source": [
    "### 集合list数据类型"
   ]
  },
  {
   "cell_type": "markdown",
   "id": "5ec0ea7e-520a-4399-90d6-0ba00bea285a",
   "metadata": {},
   "source": [
    "* list是一种**有序集合**"
   ]
  },
  {
   "cell_type": "code",
   "execution_count": 27,
   "id": "a3e655f2-ec78-433e-8ae7-a38a0ecdea80",
   "metadata": {
    "execution": {
     "iopub.execute_input": "2022-04-01T13:29:16.066107Z",
     "iopub.status.busy": "2022-04-01T13:29:16.065673Z",
     "iopub.status.idle": "2022-04-01T13:29:16.080822Z",
     "shell.execute_reply": "2022-04-01T13:29:16.079253Z",
     "shell.execute_reply.started": "2022-04-01T13:29:16.066041Z"
    },
    "tags": []
   },
   "outputs": [
    {
     "data": {
      "text/plain": [
       "['li', 'mu', 'zhang']"
      ]
     },
     "execution_count": 28,
     "metadata": {},
     "output_type": "execute_result"
    }
   ],
   "source": [
    "people = ['li', 'mu', 'zhang']\n",
    "people"
   ]
  },
  {
   "cell_type": "markdown",
   "id": "0c0e3bb3-5645-42b0-8da5-202436ede206",
   "metadata": {},
   "source": [
    "* 使用索引进行访问，从0开始，例如`li[0]`，最后一个元素为索引为`-1`"
   ]
  },
  {
   "cell_type": "code",
   "execution_count": 29,
   "id": "f294b04a-4dd3-4299-909b-c39f45ef7282",
   "metadata": {
    "execution": {
     "iopub.execute_input": "2022-04-01T13:30:55.988180Z",
     "iopub.status.busy": "2022-04-01T13:30:55.987750Z",
     "iopub.status.idle": "2022-04-01T13:30:56.003710Z",
     "shell.execute_reply": "2022-04-01T13:30:56.002285Z",
     "shell.execute_reply.started": "2022-04-01T13:30:55.988147Z"
    }
   },
   "outputs": [
    {
     "data": {
      "text/plain": [
       "'zhang'"
      ]
     },
     "execution_count": 29,
     "metadata": {},
     "output_type": "execute_result"
    }
   ],
   "source": [
    "people[-1]"
   ]
  },
  {
   "cell_type": "markdown",
   "id": "60fb95a2-fe6f-48d0-bd8f-1bb68ef4181a",
   "metadata": {},
   "source": [
    "* 列表常见操作"
   ]
  },
  {
   "cell_type": "code",
   "execution_count": 35,
   "id": "21d1ba96-5fa4-44da-9ac3-dd6b24c87cdf",
   "metadata": {
    "execution": {
     "iopub.execute_input": "2022-04-01T13:34:09.785177Z",
     "iopub.status.busy": "2022-04-01T13:34:09.783566Z",
     "iopub.status.idle": "2022-04-01T13:34:09.800200Z",
     "shell.execute_reply": "2022-04-01T13:34:09.799003Z",
     "shell.execute_reply.started": "2022-04-01T13:34:09.785100Z"
    },
    "tags": []
   },
   "outputs": [
    {
     "data": {
      "text/plain": [
       "['li', 'mu', 'zhang', 'wang']"
      ]
     },
     "execution_count": 35,
     "metadata": {},
     "output_type": "execute_result"
    }
   ],
   "source": [
    "# 列表添加元素到末尾\n",
    "people = ['li', 'mu', 'zhang']\n",
    "people.append('wang')\n",
    "people"
   ]
  },
  {
   "cell_type": "code",
   "execution_count": 37,
   "id": "8d21fbef-ef3c-42ad-a0d5-a5d99bf9d604",
   "metadata": {
    "execution": {
     "iopub.execute_input": "2022-04-01T13:34:45.556523Z",
     "iopub.status.busy": "2022-04-01T13:34:45.555423Z",
     "iopub.status.idle": "2022-04-01T13:34:45.562447Z",
     "shell.execute_reply": "2022-04-01T13:34:45.561739Z",
     "shell.execute_reply.started": "2022-04-01T13:34:45.556486Z"
    },
    "tags": []
   },
   "outputs": [
    {
     "data": {
      "text/plain": [
       "['li', 'zhang']"
      ]
     },
     "execution_count": 37,
     "metadata": {},
     "output_type": "execute_result"
    }
   ],
   "source": [
    "# 删除指定索引元素，默认为0\n",
    "people = ['li', 'mu', 'zhang']\n",
    "people.pop(1)\n",
    "people"
   ]
  },
  {
   "cell_type": "code",
   "execution_count": 42,
   "id": "f511fb2b-331c-4d50-8f21-5d8c7d0e4cbb",
   "metadata": {
    "execution": {
     "iopub.execute_input": "2022-04-01T13:38:13.078831Z",
     "iopub.status.busy": "2022-04-01T13:38:13.078351Z",
     "iopub.status.idle": "2022-04-01T13:38:13.091427Z",
     "shell.execute_reply": "2022-04-01T13:38:13.090238Z",
     "shell.execute_reply.started": "2022-04-01T13:38:13.078747Z"
    },
    "tags": []
   },
   "outputs": [
    {
     "data": {
      "text/plain": [
       "['li', 'mei', 'mu', 'zhang']"
      ]
     },
     "execution_count": 42,
     "metadata": {},
     "output_type": "execute_result"
    }
   ],
   "source": [
    "# 指定位置插入某个元素\n",
    "people = ['li', 'mu', 'zhang']\n",
    "people.insert(1, 'mei')\n",
    "people"
   ]
  },
  {
   "cell_type": "code",
   "execution_count": 38,
   "id": "78d44218-f66d-4c46-9088-23bcda197896",
   "metadata": {
    "execution": {
     "iopub.execute_input": "2022-04-01T13:35:24.634840Z",
     "iopub.status.busy": "2022-04-01T13:35:24.634215Z",
     "iopub.status.idle": "2022-04-01T13:35:24.645380Z",
     "shell.execute_reply": "2022-04-01T13:35:24.644348Z",
     "shell.execute_reply.started": "2022-04-01T13:35:24.634799Z"
    },
    "tags": []
   },
   "outputs": [
    {
     "data": {
      "text/plain": [
       "['zhang', 'mu', 'zhang']"
      ]
     },
     "execution_count": 38,
     "metadata": {},
     "output_type": "execute_result"
    }
   ],
   "source": [
    "# 直接替换某个元素\n",
    "people = ['li', 'mu', 'zhang']\n",
    "people[0] = 'zhang'\n",
    "people"
   ]
  },
  {
   "cell_type": "code",
   "execution_count": 41,
   "id": "2448b8d8-a1cb-44a9-8f8a-7714d2abbd1c",
   "metadata": {
    "execution": {
     "iopub.execute_input": "2022-04-01T13:36:23.608986Z",
     "iopub.status.busy": "2022-04-01T13:36:23.608500Z",
     "iopub.status.idle": "2022-04-01T13:36:23.620896Z",
     "shell.execute_reply": "2022-04-01T13:36:23.619797Z",
     "shell.execute_reply.started": "2022-04-01T13:36:23.608899Z"
    },
    "tags": []
   },
   "outputs": [
    {
     "data": {
      "text/plain": [
       "'mei'"
      ]
     },
     "execution_count": 41,
     "metadata": {},
     "output_type": "execute_result"
    }
   ],
   "source": [
    "# 可以进行嵌套索引\n",
    "people = ['li', ['mu','mei'], 'zhang']\n",
    "people[1][1]"
   ]
  },
  {
   "cell_type": "markdown",
   "id": "c174ba0b-068c-4104-b089-c77f8849e335",
   "metadata": {},
   "source": [
    "### 元组tuple数据类型"
   ]
  },
  {
   "cell_type": "markdown",
   "id": "1ac7409c-88b4-40a9-8a5a-95dc64eb3eaa",
   "metadata": {},
   "source": [
    "* tuple一旦初始化就无法改变，这里的改变是在说**指向无法改变**\n",
    "* 也是有序存储"
   ]
  },
  {
   "cell_type": "code",
   "execution_count": 44,
   "id": "4c70eb8b-0f19-4a39-bfad-c512797e948d",
   "metadata": {
    "execution": {
     "iopub.execute_input": "2022-04-01T13:41:00.951650Z",
     "iopub.status.busy": "2022-04-01T13:41:00.950573Z",
     "iopub.status.idle": "2022-04-01T13:41:00.957824Z",
     "shell.execute_reply": "2022-04-01T13:41:00.956836Z",
     "shell.execute_reply.started": "2022-04-01T13:41:00.951586Z"
    },
    "tags": []
   },
   "outputs": [
    {
     "data": {
      "text/plain": [
       "()"
      ]
     },
     "execution_count": 44,
     "metadata": {},
     "output_type": "execute_result"
    }
   ],
   "source": [
    "# 创建空元组\n",
    "t = ()\n",
    "t"
   ]
  },
  {
   "cell_type": "code",
   "execution_count": 46,
   "id": "18527b2a-1413-4e79-913f-8d679e51faa3",
   "metadata": {
    "execution": {
     "iopub.execute_input": "2022-04-01T13:41:27.673039Z",
     "iopub.status.busy": "2022-04-01T13:41:27.672112Z",
     "iopub.status.idle": "2022-04-01T13:41:27.680999Z",
     "shell.execute_reply": "2022-04-01T13:41:27.679991Z",
     "shell.execute_reply.started": "2022-04-01T13:41:27.672906Z"
    }
   },
   "outputs": [],
   "source": [
    "# 单个元素的元组\n",
    "t = (1,)"
   ]
  },
  {
   "cell_type": "code",
   "execution_count": 50,
   "id": "e2fd21ff-4c07-46b4-baa5-31f04d016219",
   "metadata": {
    "execution": {
     "iopub.execute_input": "2022-04-01T13:42:49.200076Z",
     "iopub.status.busy": "2022-04-01T13:42:49.198819Z",
     "iopub.status.idle": "2022-04-01T13:42:49.208391Z",
     "shell.execute_reply": "2022-04-01T13:42:49.207077Z",
     "shell.execute_reply.started": "2022-04-01T13:42:49.199971Z"
    },
    "tags": []
   },
   "outputs": [
    {
     "data": {
      "text/plain": [
       "(1, 2, 3)"
      ]
     },
     "execution_count": 50,
     "metadata": {},
     "output_type": "execute_result"
    }
   ],
   "source": [
    "# 多个元素元组\n",
    "t = (1, 2, 3)\n",
    "t"
   ]
  },
  {
   "cell_type": "markdown",
   "id": "8b1261db-b42e-4848-989a-8cea14e5a2ce",
   "metadata": {},
   "source": [
    "### 字典dict类型"
   ]
  },
  {
   "cell_type": "markdown",
   "id": "7c483a5d-12ad-40e3-b858-b074ee1686d1",
   "metadata": {},
   "source": [
    "* 字典类型是一种`key`-`value`键值对的形式存在\n",
    "* `dict`类型具有查找和插入速度很快和占用内存较多有点，而`list`类型正好相反\n",
    "* dict的`key`是**不可变**对象，`value`可变\n",
    "* dict是无序的"
   ]
  },
  {
   "cell_type": "code",
   "execution_count": 70,
   "id": "a9b325d2-f030-4854-9c36-a24057f03f51",
   "metadata": {
    "execution": {
     "iopub.execute_input": "2022-04-01T14:06:51.580842Z",
     "iopub.status.busy": "2022-04-01T14:06:51.580291Z",
     "iopub.status.idle": "2022-04-01T14:06:51.594598Z",
     "shell.execute_reply": "2022-04-01T14:06:51.593123Z",
     "shell.execute_reply.started": "2022-04-01T14:06:51.580757Z"
    },
    "tags": []
   },
   "outputs": [
    {
     "data": {
      "text/plain": [
       "{'li': 12, 'wang': 13, 'wu': 35}"
      ]
     },
     "execution_count": 70,
     "metadata": {},
     "output_type": "execute_result"
    }
   ],
   "source": [
    "# 创建词典\n",
    "my_dict = {\n",
    "    'li':12,\n",
    "    'wang':13,\n",
    "    'wu':35\n",
    "}\n",
    "my_dict"
   ]
  },
  {
   "cell_type": "code",
   "execution_count": 71,
   "id": "8be1c626-909e-494a-8e64-af3406ddb473",
   "metadata": {
    "execution": {
     "iopub.execute_input": "2022-04-01T14:07:38.401292Z",
     "iopub.status.busy": "2022-04-01T14:07:38.400795Z",
     "iopub.status.idle": "2022-04-01T14:07:38.408518Z",
     "shell.execute_reply": "2022-04-01T14:07:38.407506Z",
     "shell.execute_reply.started": "2022-04-01T14:07:38.401228Z"
    },
    "tags": []
   },
   "outputs": [
    {
     "data": {
      "text/plain": [
       "35"
      ]
     },
     "execution_count": 71,
     "metadata": {},
     "output_type": "execute_result"
    }
   ],
   "source": [
    "# 查找元素\n",
    "my_dict['wu']"
   ]
  },
  {
   "cell_type": "code",
   "execution_count": 74,
   "id": "bc7cc8f4-4d22-418b-89f7-2a3cac48ad68",
   "metadata": {
    "execution": {
     "iopub.execute_input": "2022-04-01T14:08:37.670031Z",
     "iopub.status.busy": "2022-04-01T14:08:37.669321Z",
     "iopub.status.idle": "2022-04-01T14:08:37.681155Z",
     "shell.execute_reply": "2022-04-01T14:08:37.679690Z",
     "shell.execute_reply.started": "2022-04-01T14:08:37.669987Z"
    },
    "tags": []
   },
   "outputs": [
    {
     "name": "stdout",
     "output_type": "stream",
     "text": [
      "35\n",
      "18\n"
     ]
    }
   ],
   "source": [
    "# 判断元素是否存在，不存在返回默认值\n",
    "print(my_dict.get('wu', 23))\n",
    "print(my_dict.get('lv', 18))"
   ]
  },
  {
   "cell_type": "code",
   "execution_count": 75,
   "id": "4829695a-98a2-4a9c-97dd-acfa6bc41b8c",
   "metadata": {
    "execution": {
     "iopub.execute_input": "2022-04-01T14:09:19.156043Z",
     "iopub.status.busy": "2022-04-01T14:09:19.155411Z",
     "iopub.status.idle": "2022-04-01T14:09:19.172816Z",
     "shell.execute_reply": "2022-04-01T14:09:19.167081Z",
     "shell.execute_reply.started": "2022-04-01T14:09:19.155981Z"
    },
    "tags": []
   },
   "outputs": [
    {
     "data": {
      "text/plain": [
       "{'li': 12, 'wang': 13}"
      ]
     },
     "execution_count": 75,
     "metadata": {},
     "output_type": "execute_result"
    }
   ],
   "source": [
    "# 删除元素\n",
    "my_dict.pop('wu')\n",
    "my_dict"
   ]
  },
  {
   "cell_type": "markdown",
   "id": "00b3b881-32b8-41b0-80d7-97900a9d958b",
   "metadata": {
    "tags": []
   },
   "source": [
    "### 集合set类型"
   ]
  },
  {
   "cell_type": "markdown",
   "id": "ac9831bb-832a-48fe-8971-7502cc23548b",
   "metadata": {},
   "source": [
    "* set是相当于存储一组key的结合，不存储value\n",
    "* key**不可以重复**\n",
    "* 使用`set()`包含一个`list`创建集合\n",
    "* 使用`&`和`|`可以对集合进行交集、并集运算 "
   ]
  },
  {
   "cell_type": "code",
   "execution_count": 77,
   "id": "7fd2a2c9-1361-4f97-a8a6-31f5c12fb469",
   "metadata": {
    "execution": {
     "iopub.execute_input": "2022-04-01T14:15:45.789023Z",
     "iopub.status.busy": "2022-04-01T14:15:45.787971Z",
     "iopub.status.idle": "2022-04-01T14:15:45.797817Z",
     "shell.execute_reply": "2022-04-01T14:15:45.796336Z",
     "shell.execute_reply.started": "2022-04-01T14:15:45.788978Z"
    },
    "tags": []
   },
   "outputs": [
    {
     "data": {
      "text/plain": [
       "{4}"
      ]
     },
     "execution_count": 77,
     "metadata": {},
     "output_type": "execute_result"
    }
   ],
   "source": [
    "s1 = set([1, 3, 4, 4])\n",
    "s2 = set([4, 5, 5, 4, 8])\n",
    "s1 & s2"
   ]
  },
  {
   "cell_type": "code",
   "execution_count": 79,
   "id": "43e3f6b0-fd61-4afa-b904-c0d66322e085",
   "metadata": {
    "execution": {
     "iopub.execute_input": "2022-04-01T14:17:06.421741Z",
     "iopub.status.busy": "2022-04-01T14:17:06.421048Z",
     "iopub.status.idle": "2022-04-01T14:17:06.438399Z",
     "shell.execute_reply": "2022-04-01T14:17:06.437101Z",
     "shell.execute_reply.started": "2022-04-01T14:17:06.421622Z"
    },
    "tags": []
   },
   "outputs": [
    {
     "data": {
      "text/plain": [
       "{1, 3, 4, 5}"
      ]
     },
     "execution_count": 79,
     "metadata": {},
     "output_type": "execute_result"
    }
   ],
   "source": [
    "# 添加元素\n",
    "s1.add(5)\n",
    "s1"
   ]
  },
  {
   "cell_type": "code",
   "execution_count": 80,
   "id": "4049e89a-f3a0-4c27-8315-404e6e8cf49b",
   "metadata": {
    "execution": {
     "iopub.execute_input": "2022-04-01T14:17:26.128390Z",
     "iopub.status.busy": "2022-04-01T14:17:26.127976Z",
     "iopub.status.idle": "2022-04-01T14:17:26.141424Z",
     "shell.execute_reply": "2022-04-01T14:17:26.140026Z",
     "shell.execute_reply.started": "2022-04-01T14:17:26.128345Z"
    },
    "tags": []
   },
   "outputs": [
    {
     "data": {
      "text/plain": [
       "{4, 8}"
      ]
     },
     "execution_count": 80,
     "metadata": {},
     "output_type": "execute_result"
    }
   ],
   "source": [
    "# 移除元素\n",
    "s2.remove(5)\n",
    "s2"
   ]
  },
  {
   "cell_type": "markdown",
   "id": "e9f63c19-c428-4b94-8bdb-66bde51f75c5",
   "metadata": {},
   "source": [
    "* `list`是**可变对象**，当一个变量指向list，操作会改变其值\n",
    "* `str`是**不可变对象**，对其操作会生成一个新的存储空间，但不会覆盖原来的值"
   ]
  },
  {
   "cell_type": "code",
   "execution_count": 85,
   "id": "20f32639-b78a-4818-baa3-fd1b21f330ff",
   "metadata": {
    "execution": {
     "iopub.execute_input": "2022-04-01T14:35:02.322643Z",
     "iopub.status.busy": "2022-04-01T14:35:02.321892Z",
     "iopub.status.idle": "2022-04-01T14:35:02.330722Z",
     "shell.execute_reply": "2022-04-01T14:35:02.329665Z",
     "shell.execute_reply.started": "2022-04-01T14:35:02.322587Z"
    },
    "tags": []
   },
   "outputs": [
    {
     "name": "stdout",
     "output_type": "stream",
     "text": [
      "[1, 2, 3, 4, 5]\n",
      "abc\n"
     ]
    }
   ],
   "source": [
    "li = [1, 2, 3, 4]\n",
    "li.append(5)\n",
    "print(li)\n",
    "\n",
    "s = 'abc'\n",
    "s.replace('a', 'A')\n",
    "print(s)"
   ]
  },
  {
   "cell_type": "markdown",
   "id": "57124046-4cd4-47e0-a69c-26d7b4575cad",
   "metadata": {
    "execution": {
     "iopub.execute_input": "2022-04-01T14:34:32.351770Z",
     "iopub.status.busy": "2022-04-01T14:34:32.351150Z",
     "iopub.status.idle": "2022-04-01T14:34:32.511476Z",
     "shell.execute_reply": "2022-04-01T14:34:32.510128Z",
     "shell.execute_reply.started": "2022-04-01T14:34:32.351739Z"
    },
    "tags": []
   },
   "source": [
    "![](https://shaohan-yun.oss-cn-beijing.aliyuncs.com/my_blog/20220401223355.png)"
   ]
  },
  {
   "cell_type": "markdown",
   "id": "65234b1c-e498-42bd-a313-664710e0a22f",
   "metadata": {
    "tags": []
   },
   "source": [
    "### 条件和判断"
   ]
  },
  {
   "cell_type": "markdown",
   "id": "03b3b95a-8908-4b59-a6e8-52766e0105f2",
   "metadata": {},
   "source": [
    "* Python使用`if`、`elif`以及`else`作判断"
   ]
  },
  {
   "cell_type": "code",
   "execution_count": 53,
   "id": "5c77b131-2fae-4606-8381-27688c41ad18",
   "metadata": {
    "execution": {
     "iopub.execute_input": "2022-04-01T13:49:44.467243Z",
     "iopub.status.busy": "2022-04-01T13:49:44.466799Z",
     "iopub.status.idle": "2022-04-01T13:49:44.477088Z",
     "shell.execute_reply": "2022-04-01T13:49:44.475811Z",
     "shell.execute_reply.started": "2022-04-01T13:49:44.467181Z"
    },
    "tags": []
   },
   "outputs": [
    {
     "name": "stdout",
     "output_type": "stream",
     "text": [
      "child\n"
     ]
    }
   ],
   "source": [
    "# 顺序执行，只要满足其中一个添加就会退出\n",
    "age = 5\n",
    "if age <= 7:\n",
    "    print('child')\n",
    "elif age <= 18:\n",
    "    print('teenager')\n",
    "else:\n",
    "    print('adult')  "
   ]
  },
  {
   "cell_type": "markdown",
   "id": "cc289c10-b555-4251-b01d-ef28328f63cb",
   "metadata": {},
   "source": [
    "* 使用`if x`可以简写，`x`可以是非空数值、非空字符串、非空list，都会判断为`True`"
   ]
  },
  {
   "cell_type": "code",
   "execution_count": 60,
   "id": "9c1019d9-afce-4663-be35-7acc1b031da1",
   "metadata": {
    "execution": {
     "iopub.execute_input": "2022-04-01T13:52:02.436072Z",
     "iopub.status.busy": "2022-04-01T13:52:02.435501Z",
     "iopub.status.idle": "2022-04-01T13:52:02.443232Z",
     "shell.execute_reply": "2022-04-01T13:52:02.442385Z",
     "shell.execute_reply.started": "2022-04-01T13:52:02.436034Z"
    },
    "tags": []
   },
   "outputs": [
    {
     "name": "stdout",
     "output_type": "stream",
     "text": [
      "True\n"
     ]
    }
   ],
   "source": [
    "x = 1\n",
    "if x:\n",
    "    print('True')"
   ]
  },
  {
   "cell_type": "markdown",
   "id": "bca1443d-df95-4dce-9839-6a580c890ea2",
   "metadata": {},
   "source": [
    "### 循环"
   ]
  },
  {
   "cell_type": "markdown",
   "id": "d2809a50-7b42-4ac4-abc3-340706a0f181",
   "metadata": {},
   "source": [
    "* 使用`break`打断循环，使用`continue`跳出本次循环\n",
    "* `break`和`continue`会造成循环逻辑分叉较多，尽量不要用"
   ]
  },
  {
   "cell_type": "code",
   "execution_count": 65,
   "id": "db08ebf5-12bb-4664-be7f-133d7ad1b532",
   "metadata": {
    "execution": {
     "iopub.execute_input": "2022-04-01T13:54:58.962209Z",
     "iopub.status.busy": "2022-04-01T13:54:58.961124Z",
     "iopub.status.idle": "2022-04-01T13:54:58.970175Z",
     "shell.execute_reply": "2022-04-01T13:54:58.968360Z",
     "shell.execute_reply.started": "2022-04-01T13:54:58.962163Z"
    },
    "tags": []
   },
   "outputs": [
    {
     "name": "stdout",
     "output_type": "stream",
     "text": [
      "45\n"
     ]
    }
   ],
   "source": [
    "# for循环\n",
    "sum = 0\n",
    "for i in range(10):\n",
    "    sum += i\n",
    "print(sum) "
   ]
  },
  {
   "cell_type": "code",
   "execution_count": 68,
   "id": "8e915d72-598c-459f-9aab-318fcc00b1f9",
   "metadata": {
    "execution": {
     "iopub.execute_input": "2022-04-01T13:56:22.585553Z",
     "iopub.status.busy": "2022-04-01T13:56:22.584646Z",
     "iopub.status.idle": "2022-04-01T13:56:22.600074Z",
     "shell.execute_reply": "2022-04-01T13:56:22.598739Z",
     "shell.execute_reply.started": "2022-04-01T13:56:22.585461Z"
    },
    "tags": []
   },
   "outputs": [
    {
     "name": "stdout",
     "output_type": "stream",
     "text": [
      "45\n"
     ]
    }
   ],
   "source": [
    "# while循环\n",
    "sum = 0\n",
    "n = 0\n",
    "while n < 10: # 只要条件满足便会一直循环\n",
    "    sum += n\n",
    "    n += 1\n",
    "print(sum)"
   ]
  },
  {
   "cell_type": "markdown",
   "id": "a61d97b4-c547-47bc-8376-09e7da458030",
   "metadata": {},
   "source": [
    "## 函数"
   ]
  },
  {
   "cell_type": "markdown",
   "id": "a8b83056-d5d7-43a9-b056-eaee27d42276",
   "metadata": {},
   "source": [
    "### 调用函数"
   ]
  },
  {
   "cell_type": "markdown",
   "id": "7af026f9-33d6-4d52-884c-fb0cb1a08187",
   "metadata": {
    "execution": {
     "iopub.execute_input": "2022-04-04T11:50:24.307228Z",
     "iopub.status.busy": "2022-04-04T11:50:24.306717Z",
     "iopub.status.idle": "2022-04-04T11:50:24.314668Z",
     "shell.execute_reply": "2022-04-04T11:50:24.312804Z",
     "shell.execute_reply.started": "2022-04-04T11:50:24.307195Z"
    },
    "tags": []
   },
   "source": [
    "* 可以直接使用Python内置的函数\n",
    "* 直接`int(124.0)`可以进行数据转换\n",
    "* 当把函数名赋予一个变量的时候，相当于给这个函数给出了一个**别名**"
   ]
  },
  {
   "cell_type": "code",
   "execution_count": 88,
   "id": "1a93cd4b-b30a-47c3-802c-93a89ff2cb01",
   "metadata": {
    "execution": {
     "iopub.execute_input": "2022-04-04T11:53:36.622231Z",
     "iopub.status.busy": "2022-04-04T11:53:36.621650Z",
     "iopub.status.idle": "2022-04-04T11:53:36.633475Z",
     "shell.execute_reply": "2022-04-04T11:53:36.632640Z",
     "shell.execute_reply.started": "2022-04-04T11:53:36.622192Z"
    },
    "tags": []
   },
   "outputs": [
    {
     "data": {
      "text/plain": [
       "19"
      ]
     },
     "execution_count": 88,
     "metadata": {},
     "output_type": "execute_result"
    }
   ],
   "source": [
    "a = abs\n",
    "a(-19)"
   ]
  },
  {
   "cell_type": "markdown",
   "id": "874d4c6b-db15-4e05-ad23-fd44bf44f47d",
   "metadata": {},
   "source": [
    "### 定义函数"
   ]
  },
  {
   "cell_type": "markdown",
   "id": "af2035bf-1d0a-4dd9-b428-3096c4b5447f",
   "metadata": {},
   "source": [
    "* 定义函数时，需要确定**函数名**和**参数个数**\n",
    "* 如果有必要，可以先对参数的数据**类型做检查**\n",
    "* 函数执行完毕也没有`return`语句时，自动return `None`\n",
    "* 函数可以同时返回多个值，但其实就是一个`tuple`"
   ]
  },
  {
   "cell_type": "code",
   "execution_count": 90,
   "id": "47277db9-56aa-4f87-b944-d02bc78a289a",
   "metadata": {
    "execution": {
     "iopub.execute_input": "2022-04-04T11:59:17.785714Z",
     "iopub.status.busy": "2022-04-04T11:59:17.784539Z",
     "iopub.status.idle": "2022-04-04T11:59:17.816130Z",
     "shell.execute_reply": "2022-04-04T11:59:17.815083Z",
     "shell.execute_reply.started": "2022-04-04T11:59:17.785668Z"
    },
    "tags": []
   },
   "outputs": [
    {
     "ename": "TypeError",
     "evalue": "bad operand type",
     "output_type": "error",
     "traceback": [
      "\u001b[0;31m---------------------------------------------------------------------------\u001b[0m",
      "\u001b[0;31mTypeError\u001b[0m                                 Traceback (most recent call last)",
      "Input \u001b[0;32mIn [90]\u001b[0m, in \u001b[0;36m<cell line: 9>\u001b[0;34m()\u001b[0m\n\u001b[1;32m      7\u001b[0m     \u001b[38;5;28;01melse\u001b[39;00m:\n\u001b[1;32m      8\u001b[0m         \u001b[38;5;28;01mreturn\u001b[39;00m \u001b[38;5;241m-\u001b[39mx\n\u001b[0;32m----> 9\u001b[0m \u001b[43mmy_abs\u001b[49m\u001b[43m(\u001b[49m\u001b[38;5;124;43m'\u001b[39;49m\u001b[38;5;124;43mf\u001b[39;49m\u001b[38;5;124;43m'\u001b[39;49m\u001b[43m)\u001b[49m\n",
      "Input \u001b[0;32mIn [90]\u001b[0m, in \u001b[0;36mmy_abs\u001b[0;34m(x)\u001b[0m\n\u001b[1;32m      2\u001b[0m \u001b[38;5;28;01mdef\u001b[39;00m \u001b[38;5;21mmy_abs\u001b[39m(x):\n\u001b[1;32m      3\u001b[0m     \u001b[38;5;28;01mif\u001b[39;00m \u001b[38;5;129;01mnot\u001b[39;00m \u001b[38;5;28misinstance\u001b[39m(x, (\u001b[38;5;28mint\u001b[39m, \u001b[38;5;28mfloat\u001b[39m)):\n\u001b[0;32m----> 4\u001b[0m         \u001b[38;5;28;01mraise\u001b[39;00m(\u001b[38;5;167;01mTypeError\u001b[39;00m(\u001b[38;5;124m'\u001b[39m\u001b[38;5;124mbad operand type\u001b[39m\u001b[38;5;124m'\u001b[39m))\n\u001b[1;32m      5\u001b[0m     \u001b[38;5;28;01mif\u001b[39;00m x \u001b[38;5;241m>\u001b[39m\u001b[38;5;241m=\u001b[39m \u001b[38;5;241m0\u001b[39m:\n\u001b[1;32m      6\u001b[0m         \u001b[38;5;28;01mreturn\u001b[39;00m x \n",
      "\u001b[0;31mTypeError\u001b[0m: bad operand type"
     ]
    }
   ],
   "source": [
    "# 函数传入参数的类型检查,使用raise抛出一个错误\n",
    "def my_abs(x):\n",
    "    if not isinstance(x, (int, float)):\n",
    "        raise(TypeError('bad operand type'))\n",
    "    if x >= 0:\n",
    "        return x \n",
    "    else:\n",
    "        return -x\n",
    "my_abs('f')    "
   ]
  },
  {
   "cell_type": "code",
   "execution_count": 99,
   "id": "2de38684-76b4-477c-8e0e-89d67f194e24",
   "metadata": {
    "execution": {
     "iopub.execute_input": "2022-04-04T12:03:43.418691Z",
     "iopub.status.busy": "2022-04-04T12:03:43.418026Z",
     "iopub.status.idle": "2022-04-04T12:03:43.432210Z",
     "shell.execute_reply": "2022-04-04T12:03:43.430126Z",
     "shell.execute_reply.started": "2022-04-04T12:03:43.418647Z"
    },
    "tags": []
   },
   "outputs": [
    {
     "name": "stdout",
     "output_type": "stream",
     "text": [
      "5  -1\n"
     ]
    }
   ],
   "source": [
    "# 返回多个值\n",
    "def f1(a, b):\n",
    "    return a+b, a-b\n",
    "x, y  = f1(2, 3)\n",
    "print(f'{x}  {y}')"
   ]
  },
  {
   "cell_type": "markdown",
   "id": "0edfbb41-5de9-4edf-a032-b9c87bd89c40",
   "metadata": {},
   "source": [
    "### 函数参数"
   ]
  },
  {
   "cell_type": "markdown",
   "id": "db1246f7-be34-4866-ace7-850741eb1bfd",
   "metadata": {},
   "source": [
    "#### 必选参数"
   ]
  },
  {
   "cell_type": "code",
   "execution_count": 100,
   "id": "4079f63e-17bb-4110-86b3-a202f2043b68",
   "metadata": {
    "execution": {
     "iopub.execute_input": "2022-04-04T12:10:28.810251Z",
     "iopub.status.busy": "2022-04-04T12:10:28.809252Z",
     "iopub.status.idle": "2022-04-04T12:10:28.816558Z",
     "shell.execute_reply": "2022-04-04T12:10:28.815761Z",
     "shell.execute_reply.started": "2022-04-04T12:10:28.810193Z"
    },
    "tags": []
   },
   "outputs": [
    {
     "data": {
      "text/plain": [
       "5"
      ]
     },
     "execution_count": 100,
     "metadata": {},
     "output_type": "execute_result"
    }
   ],
   "source": [
    "def add(a, b):\n",
    "    return a+b\n",
    "add(2,3)"
   ]
  },
  {
   "cell_type": "markdown",
   "id": "12bdef46-547d-4dc4-a83d-7091945a7e1e",
   "metadata": {},
   "source": [
    "#### 默认参数"
   ]
  },
  {
   "cell_type": "markdown",
   "id": "1a38a188-8302-4631-b2aa-6e2e7916957f",
   "metadata": {},
   "source": [
    "* 必选参数在前，默认参数在后\n",
    "* 变化大的参数在前，变化小的在后\n",
    "* 默认参数必须指向**不可变对象**，可变的包含元组和列表"
   ]
  },
  {
   "cell_type": "code",
   "execution_count": 150,
   "id": "7ebed892-1dd3-407b-bcab-3a3cbb454edc",
   "metadata": {
    "execution": {
     "iopub.execute_input": "2022-04-04T13:03:54.921710Z",
     "iopub.status.busy": "2022-04-04T13:03:54.920560Z",
     "iopub.status.idle": "2022-04-04T13:03:54.934357Z",
     "shell.execute_reply": "2022-04-04T13:03:54.932989Z",
     "shell.execute_reply.started": "2022-04-04T13:03:54.921663Z"
    },
    "tags": []
   },
   "outputs": [
    {
     "data": {
      "text/plain": [
       "6"
      ]
     },
     "execution_count": 150,
     "metadata": {},
     "output_type": "execute_result"
    }
   ],
   "source": [
    "def add(a, b=1):\n",
    "    return a+b\n",
    "add(2, 4)"
   ]
  },
  {
   "cell_type": "markdown",
   "id": "259c9b39-d205-4251-8df4-521a91874f6e",
   "metadata": {},
   "source": [
    "#### 可变参数"
   ]
  },
  {
   "cell_type": "markdown",
   "id": "25173437-b966-4c42-899e-7ebcb7afbf03",
   "metadata": {},
   "source": [
    "* 传入参数可变，可以为`0`个或者`1`个\n",
    "* 在函数定义部分添加`*`，内部接受到的是一个`tuple`\n",
    "* 如果已经有一个`list`或者`tuple`，可以在调用函数时候给参数前加`*`"
   ]
  },
  {
   "cell_type": "code",
   "execution_count": 105,
   "id": "ad0ba9c4-f349-4b0d-b13e-ce06ba7cab25",
   "metadata": {
    "execution": {
     "iopub.execute_input": "2022-04-04T12:19:26.568230Z",
     "iopub.status.busy": "2022-04-04T12:19:26.567446Z",
     "iopub.status.idle": "2022-04-04T12:19:26.575153Z",
     "shell.execute_reply": "2022-04-04T12:19:26.574135Z",
     "shell.execute_reply.started": "2022-04-04T12:19:26.568152Z"
    },
    "tags": []
   },
   "outputs": [
    {
     "data": {
      "text/plain": [
       "17"
      ]
     },
     "execution_count": 105,
     "metadata": {},
     "output_type": "execute_result"
    }
   ],
   "source": [
    "# 函数内部接受到的是一个 tuple\n",
    "def calc(*numbers):\n",
    "    sum = 0\n",
    "    for n in numbers:\n",
    "        sum += n\n",
    "    return sum\n",
    "calc(2,2,4,4,5)"
   ]
  },
  {
   "cell_type": "code",
   "execution_count": 106,
   "id": "22933127-4fda-45f7-9456-68545cf3a72a",
   "metadata": {
    "execution": {
     "iopub.execute_input": "2022-04-04T12:20:58.726890Z",
     "iopub.status.busy": "2022-04-04T12:20:58.726569Z",
     "iopub.status.idle": "2022-04-04T12:20:58.735813Z",
     "shell.execute_reply": "2022-04-04T12:20:58.734771Z",
     "shell.execute_reply.started": "2022-04-04T12:20:58.726836Z"
    },
    "tags": []
   },
   "outputs": [
    {
     "data": {
      "text/plain": [
       "12"
      ]
     },
     "execution_count": 106,
     "metadata": {},
     "output_type": "execute_result"
    }
   ],
   "source": [
    "# 如果已经有一个list或tuple\n",
    "t = tuple([1,2,4,5])\n",
    "calc(*t)"
   ]
  },
  {
   "cell_type": "markdown",
   "id": "d33fe752-071e-4cab-b39b-2762ede66ec1",
   "metadata": {},
   "source": [
    "#### 关键字参数"
   ]
  },
  {
   "cell_type": "markdown",
   "id": "67178a68-1e93-4a2f-a72b-30d728914cd1",
   "metadata": {},
   "source": [
    "* 关键字参数允许传入`0个或者任意个`包含参数名的参数\n",
    "* 这些关键字参数自动组成一个`dict`\n",
    "* 使用场景：强制填写必要的信息，但可以接受额外信息"
   ]
  },
  {
   "cell_type": "code",
   "execution_count": 111,
   "id": "95eca754-9616-48f8-b14c-6adf30e1d10f",
   "metadata": {
    "execution": {
     "iopub.execute_input": "2022-04-04T12:28:18.533501Z",
     "iopub.status.busy": "2022-04-04T12:28:18.532327Z",
     "iopub.status.idle": "2022-04-04T12:28:18.539947Z",
     "shell.execute_reply": "2022-04-04T12:28:18.539170Z",
     "shell.execute_reply.started": "2022-04-04T12:28:18.533446Z"
    },
    "tags": []
   },
   "outputs": [
    {
     "name": "stdout",
     "output_type": "stream",
     "text": [
      "name: Bob age: 23 other: {'city': 'beijing', 'gender': 'M'}\n"
     ]
    }
   ],
   "source": [
    "## 定义关键字参数，多余的会组成一个字典输出\n",
    "def person(name, age, **kw):\n",
    "    print(f'name: {name} age: {age} other: {kw}')\n",
    "person('Bob', 23, city = 'beijing', gender = 'M')  "
   ]
  },
  {
   "cell_type": "code",
   "execution_count": 114,
   "id": "82bf9142-98af-45d2-b7b0-c7937417f20a",
   "metadata": {
    "execution": {
     "iopub.execute_input": "2022-04-04T12:30:00.417080Z",
     "iopub.status.busy": "2022-04-04T12:30:00.416645Z",
     "iopub.status.idle": "2022-04-04T12:30:00.426482Z",
     "shell.execute_reply": "2022-04-04T12:30:00.425306Z",
     "shell.execute_reply.started": "2022-04-04T12:30:00.417019Z"
    },
    "tags": []
   },
   "outputs": [
    {
     "name": "stdout",
     "output_type": "stream",
     "text": [
      "name: Bob age: 23 other: {'city': 'Beijing', 'gender': 'M'}\n"
     ]
    }
   ],
   "source": [
    "## 调用已经构建好的字典\n",
    "extra = {'name':'Bob',\n",
    "         'age':23,\n",
    "         'city':'Beijing',\n",
    "         'gender':'M'}\n",
    "person(**extra)"
   ]
  },
  {
   "cell_type": "markdown",
   "id": "bc7ae5f5-4d1f-4da1-9f98-0d4e0334bfa5",
   "metadata": {},
   "source": [
    "#### 命名关键字参数"
   ]
  },
  {
   "cell_type": "markdown",
   "id": "6e754e81-b3aa-446b-8302-23c054082243",
   "metadata": {},
   "source": [
    "* 函数无可变参数时候，使用`*`与命名关键字参数分隔\n",
    "* 函数有可变参数时候，调用保证**命名关键字参数**的传入"
   ]
  },
  {
   "cell_type": "code",
   "execution_count": 127,
   "id": "ea65182d-d2a6-454e-959d-d540f7248f84",
   "metadata": {
    "execution": {
     "iopub.execute_input": "2022-04-04T12:43:23.141477Z",
     "iopub.status.busy": "2022-04-04T12:43:23.141082Z",
     "iopub.status.idle": "2022-04-04T12:43:23.150994Z",
     "shell.execute_reply": "2022-04-04T12:43:23.150026Z",
     "shell.execute_reply.started": "2022-04-04T12:43:23.141435Z"
    },
    "tags": []
   },
   "outputs": [
    {
     "name": "stdout",
     "output_type": "stream",
     "text": [
      "Jack 24 beijing Engineer\n"
     ]
    }
   ],
   "source": [
    "# 使用*分隔之后的命名关键字参数\n",
    "def person(name, age, *, city, job):\n",
    "    print(name, age, city, job)\n",
    "person('Jack', 24, city='beijing', job='Engineer')"
   ]
  },
  {
   "cell_type": "code",
   "execution_count": 128,
   "id": "b5c5242d-e91d-484e-9198-4752be4cecb1",
   "metadata": {
    "execution": {
     "iopub.execute_input": "2022-04-04T12:44:41.621773Z",
     "iopub.status.busy": "2022-04-04T12:44:41.620759Z",
     "iopub.status.idle": "2022-04-04T12:44:41.629056Z",
     "shell.execute_reply": "2022-04-04T12:44:41.627522Z",
     "shell.execute_reply.started": "2022-04-04T12:44:41.621734Z"
    },
    "tags": []
   },
   "outputs": [
    {
     "name": "stdout",
     "output_type": "stream",
     "text": [
      "Jack 24 () Beijing Engineer\n"
     ]
    }
   ],
   "source": [
    "# 如果函数定义有可变参数\n",
    "def person(name, age, *args, city='Beijing', job):\n",
    "    print(name, age, args, city, job)\n",
    "person('Jack', 24, job='Engineer')"
   ]
  },
  {
   "cell_type": "markdown",
   "id": "464b1e26-7663-4403-ae07-ed335444c641",
   "metadata": {},
   "source": [
    "#### 函数组合"
   ]
  },
  {
   "cell_type": "markdown",
   "id": "0a7e0a35-a984-419d-a5cf-1691ddcad09a",
   "metadata": {},
   "source": [
    "* Python函数按照顺序**必选、默认、可变、关键字以及命名关键字参数**，可以组合使用\n",
    "* 不要同时使用太多组合，否则函数接口的理解行会降低\n",
    "* `*args`是可变参数，接收的是一个`tuple`\n",
    "* `**kw`是关键字参数，接受的是一个`dict`"
   ]
  },
  {
   "cell_type": "code",
   "execution_count": 154,
   "id": "b893e4c6-8c25-42e0-a648-77c5346a51b3",
   "metadata": {
    "execution": {
     "iopub.execute_input": "2022-04-04T13:06:36.335393Z",
     "iopub.status.busy": "2022-04-04T13:06:36.335018Z",
     "iopub.status.idle": "2022-04-04T13:06:36.343034Z",
     "shell.execute_reply": "2022-04-04T13:06:36.341509Z",
     "shell.execute_reply.started": "2022-04-04T13:06:36.335364Z"
    },
    "tags": []
   },
   "outputs": [],
   "source": [
    "# 包含可变参数\n",
    "def f1(a, b, c=0, *args, **kw,):\n",
    "    print('a =', a, 'b =', b, 'c =', c, 'args =', args, 'kw =', kw)\n",
    "# 不包含可变参数\n",
    "def f2(a, b, c=0, *, d, **kw):\n",
    "    print('a =', a, 'b =', b, 'c =', c, 'd =', d, 'kw =', kw)"
   ]
  },
  {
   "cell_type": "code",
   "execution_count": 146,
   "id": "463e5630-63b8-4918-b30d-70352b54040e",
   "metadata": {
    "execution": {
     "iopub.execute_input": "2022-04-04T13:03:17.604080Z",
     "iopub.status.busy": "2022-04-04T13:03:17.603463Z",
     "iopub.status.idle": "2022-04-04T13:03:17.610050Z",
     "shell.execute_reply": "2022-04-04T13:03:17.608894Z",
     "shell.execute_reply.started": "2022-04-04T13:03:17.604049Z"
    },
    "tags": []
   },
   "outputs": [
    {
     "name": "stdout",
     "output_type": "stream",
     "text": [
      "a = 1 b = 2 c = 3 args = ('a', 'b') kw = {'city': 99}\n"
     ]
    }
   ],
   "source": [
    "f1(1, 2, 3, 'a', 'b', city=99)"
   ]
  },
  {
   "cell_type": "code",
   "execution_count": 153,
   "id": "194fc237-009b-446a-a71a-3fb654da5a2e",
   "metadata": {
    "execution": {
     "iopub.execute_input": "2022-04-04T13:05:54.470686Z",
     "iopub.status.busy": "2022-04-04T13:05:54.470169Z",
     "iopub.status.idle": "2022-04-04T13:05:54.477756Z",
     "shell.execute_reply": "2022-04-04T13:05:54.476882Z",
     "shell.execute_reply.started": "2022-04-04T13:05:54.470652Z"
    },
    "tags": []
   },
   "outputs": [
    {
     "name": "stdout",
     "output_type": "stream",
     "text": [
      "a = 1 b = 2 c = 4 d = 99 kw = {'ext': None}\n"
     ]
    }
   ],
   "source": [
    "f2(1, 2, 4, d=99, ext=None)"
   ]
  },
  {
   "cell_type": "code",
   "execution_count": 148,
   "id": "b8ad9f16-1f98-444c-88dd-c5cd82a6f6f4",
   "metadata": {
    "execution": {
     "iopub.execute_input": "2022-04-04T13:03:18.934697Z",
     "iopub.status.busy": "2022-04-04T13:03:18.933945Z",
     "iopub.status.idle": "2022-04-04T13:03:18.948155Z",
     "shell.execute_reply": "2022-04-04T13:03:18.946973Z",
     "shell.execute_reply.started": "2022-04-04T13:03:18.934657Z"
    },
    "tags": []
   },
   "outputs": [
    {
     "name": "stdout",
     "output_type": "stream",
     "text": [
      "a = 1 b = 2 c = 3 args = (4,) kw = {'d': 99, 'x': '#'}\n"
     ]
    }
   ],
   "source": [
    "# 可以直接组成tuple进行输出\n",
    "args = (1, 2, 3, 4)\n",
    "kw = {'d': 99, 'x': '#'}\n",
    "f1(*args, **kw)"
   ]
  },
  {
   "cell_type": "markdown",
   "id": "c9c2c9f5-1e63-4a95-b985-09bb85f87e79",
   "metadata": {},
   "source": [
    "### 递归函数"
   ]
  },
  {
   "cell_type": "markdown",
   "id": "2195a845-a54d-4a82-9b03-02b4973f85f7",
   "metadata": {},
   "source": [
    "* 使用递归函数优点是逻辑简单清晰，缺点是可能导致栈溢出\n",
    "* 可以通过**尾递归优化**防止栈溢出，尾递归是指，在函数返回的时候，调用自身本身，并且，return语句不能包含表达式\n",
    "* `Python`标准的解释器没有针对尾递归做优化，任何递归函数都存在栈溢出的问题"
   ]
  },
  {
   "cell_type": "code",
   "execution_count": 160,
   "id": "77b0ebfa-cb6a-4965-add4-08a37d0cd1da",
   "metadata": {
    "execution": {
     "iopub.execute_input": "2022-04-04T13:17:18.972125Z",
     "iopub.status.busy": "2022-04-04T13:17:18.971595Z",
     "iopub.status.idle": "2022-04-04T13:17:18.990183Z",
     "shell.execute_reply": "2022-04-04T13:17:18.989010Z",
     "shell.execute_reply.started": "2022-04-04T13:17:18.972076Z"
    },
    "tags": []
   },
   "outputs": [
    {
     "data": {
      "text/plain": [
       "3628800"
      ]
     },
     "execution_count": 160,
     "metadata": {},
     "output_type": "execute_result"
    }
   ],
   "source": [
    "# 简单递归函数\n",
    "def fact(n):\n",
    "    if n == 1:\n",
    "        return 1\n",
    "    else:\n",
    "        return n*fact(n-1)\n",
    "fact(10)"
   ]
  },
  {
   "cell_type": "code",
   "execution_count": 165,
   "id": "64760040-dd97-4bf4-a9da-9d7c8d0f9ebd",
   "metadata": {
    "execution": {
     "iopub.execute_input": "2022-04-04T13:18:01.161768Z",
     "iopub.status.busy": "2022-04-04T13:18:01.161299Z",
     "iopub.status.idle": "2022-04-04T13:18:01.171398Z",
     "shell.execute_reply": "2022-04-04T13:18:01.170270Z",
     "shell.execute_reply.started": "2022-04-04T13:18:01.161723Z"
    },
    "tags": []
   },
   "outputs": [
    {
     "data": {
      "text/plain": [
       "3628800"
      ]
     },
     "execution_count": 165,
     "metadata": {},
     "output_type": "execute_result"
    }
   ],
   "source": [
    "# 尾递归优化\n",
    "def fact(n):\n",
    "    return fact_iter(n, 1)\n",
    "\n",
    "def fact_iter(num, product):\n",
    "    if num == 1:\n",
    "        return product\n",
    "    return fact_iter(num - 1, num * product)\n",
    "fact(10)"
   ]
  },
  {
   "cell_type": "markdown",
   "id": "aa1ce68c-214d-4058-93ae-c7d6c0ddff23",
   "metadata": {},
   "source": [
    "## 函数高级特性"
   ]
  },
  {
   "cell_type": "markdown",
   "id": "2dfc9789-84ff-4474-baa6-8149ad2bfa1e",
   "metadata": {},
   "source": [
    "* 这一部分主要用来简化Python书写"
   ]
  },
  {
   "cell_type": "markdown",
   "id": "7389af9f-6da0-4b1d-aad8-d7dee56752c4",
   "metadata": {},
   "source": [
    "### 切片 "
   ]
  },
  {
   "cell_type": "markdown",
   "id": "eb11484f-198b-4573-bf6d-471802183451",
   "metadata": {},
   "source": [
    "* 字符串、列表以及元组都可以进行切片操作\n",
    "* 最后一个元素索引为`-1`"
   ]
  },
  {
   "cell_type": "code",
   "execution_count": 168,
   "id": "765a6709-82fe-44da-a56a-41bf290ab9cd",
   "metadata": {
    "execution": {
     "iopub.execute_input": "2022-04-04T13:24:08.886347Z",
     "iopub.status.busy": "2022-04-04T13:24:08.885864Z",
     "iopub.status.idle": "2022-04-04T13:24:08.894598Z",
     "shell.execute_reply": "2022-04-04T13:24:08.893447Z",
     "shell.execute_reply.started": "2022-04-04T13:24:08.886307Z"
    },
    "tags": []
   },
   "outputs": [
    {
     "data": {
      "text/plain": [
       "['Michael']"
      ]
     },
     "execution_count": 168,
     "metadata": {},
     "output_type": "execute_result"
    }
   ],
   "source": [
    "L = ['Michael', 'Sarah', 'Tracy', 'Bob', 'Jack']\n",
    "L[0:1]"
   ]
  },
  {
   "cell_type": "code",
   "execution_count": 170,
   "id": "c78c62ec-771e-4416-895e-3360eaf1e64c",
   "metadata": {
    "execution": {
     "iopub.execute_input": "2022-04-04T13:24:38.040099Z",
     "iopub.status.busy": "2022-04-04T13:24:38.039630Z",
     "iopub.status.idle": "2022-04-04T13:24:38.050517Z",
     "shell.execute_reply": "2022-04-04T13:24:38.049591Z",
     "shell.execute_reply.started": "2022-04-04T13:24:38.040062Z"
    },
    "tags": []
   },
   "outputs": [
    {
     "data": {
      "text/plain": [
       "['Michael', 'Sarah', 'Tracy', 'Bob', 'Jack']"
      ]
     },
     "execution_count": 170,
     "metadata": {},
     "output_type": "execute_result"
    }
   ],
   "source": [
    "L[:] # 开辟存储空间，复制列表L"
   ]
  },
  {
   "cell_type": "code",
   "execution_count": 173,
   "id": "e8d7ca6a-4614-4e74-808b-0b7384852a1e",
   "metadata": {
    "execution": {
     "iopub.execute_input": "2022-04-04T13:25:08.798180Z",
     "iopub.status.busy": "2022-04-04T13:25:08.797022Z",
     "iopub.status.idle": "2022-04-04T13:25:08.809419Z",
     "shell.execute_reply": "2022-04-04T13:25:08.808399Z",
     "shell.execute_reply.started": "2022-04-04T13:25:08.798077Z"
    },
    "tags": []
   },
   "outputs": [
    {
     "data": {
      "text/plain": [
       "['Michael', 'Tracy']"
      ]
     },
     "execution_count": 173,
     "metadata": {},
     "output_type": "execute_result"
    }
   ],
   "source": [
    "L[0:4:2]"
   ]
  },
  {
   "cell_type": "markdown",
   "id": "e87ac204-21ca-4598-87b3-4b91f79ec5d4",
   "metadata": {},
   "source": [
    "### 迭代"
   ]
  },
  {
   "cell_type": "markdown",
   "id": "ab22530a-e45e-40b2-b679-de3e2173f446",
   "metadata": {},
   "source": [
    "* Python中的字符串、列表、元组和字典都可以进行迭代\n",
    "* 使用`Iterable`判断是否是可迭代对象\n",
    "* `dict`默认迭代`key`，使用`d.values()`迭代值，`d.items()`同时迭代`key`和`value`"
   ]
  },
  {
   "cell_type": "code",
   "execution_count": 177,
   "id": "e357bd75-eeee-4208-b3c1-7c09507d625e",
   "metadata": {
    "execution": {
     "iopub.execute_input": "2022-04-04T13:28:14.695113Z",
     "iopub.status.busy": "2022-04-04T13:28:14.694119Z",
     "iopub.status.idle": "2022-04-04T13:28:14.709480Z",
     "shell.execute_reply": "2022-04-04T13:28:14.707962Z",
     "shell.execute_reply.started": "2022-04-04T13:28:14.695036Z"
    },
    "tags": []
   },
   "outputs": [
    {
     "data": {
      "text/plain": [
       "True"
      ]
     },
     "execution_count": 177,
     "metadata": {},
     "output_type": "execute_result"
    }
   ],
   "source": [
    "# 判断字符串对象是否是迭代对象\n",
    "from collections.abc import Iterable\n",
    "isinstance('abc', Iterable)"
   ]
  },
  {
   "cell_type": "markdown",
   "id": "46763863-db5b-4b90-abb5-8a81f013f817",
   "metadata": {},
   "source": [
    "### 列表生成式"
   ]
  },
  {
   "cell_type": "markdown",
   "id": "11837245-f168-4b0a-8a92-c4290590f2a4",
   "metadata": {},
   "source": [
    "* 使用列表生成式可以生成简洁的代码\n",
    "* 注意包含条件选择的列表生成式"
   ]
  },
  {
   "cell_type": "code",
   "execution_count": 180,
   "id": "5ef2aa0c-6edc-493e-85ee-c52f83c94821",
   "metadata": {
    "execution": {
     "iopub.execute_input": "2022-04-04T13:34:11.263725Z",
     "iopub.status.busy": "2022-04-04T13:34:11.263162Z",
     "iopub.status.idle": "2022-04-04T13:34:11.270792Z",
     "shell.execute_reply": "2022-04-04T13:34:11.269335Z",
     "shell.execute_reply.started": "2022-04-04T13:34:11.263687Z"
    },
    "tags": []
   },
   "outputs": [
    {
     "data": {
      "text/plain": [
       "[2, 4, 6, 8, 10]"
      ]
     },
     "execution_count": 180,
     "metadata": {},
     "output_type": "execute_result"
    }
   ],
   "source": [
    "# 筛选偶数\n",
    "[x for x in range(1, 11) if x % 2 == 0]"
   ]
  },
  {
   "cell_type": "code",
   "execution_count": 181,
   "id": "3db5f671-9cd0-49c6-9a25-10a23fc829bf",
   "metadata": {
    "execution": {
     "iopub.execute_input": "2022-04-04T13:34:30.226648Z",
     "iopub.status.busy": "2022-04-04T13:34:30.226156Z",
     "iopub.status.idle": "2022-04-04T13:34:30.239999Z",
     "shell.execute_reply": "2022-04-04T13:34:30.238611Z",
     "shell.execute_reply.started": "2022-04-04T13:34:30.226608Z"
    },
    "tags": []
   },
   "outputs": [
    {
     "data": {
      "text/plain": [
       "[-1, 2, -3, 4, -5, 6, -7, 8, -9, 10]"
      ]
     },
     "execution_count": 181,
     "metadata": {},
     "output_type": "execute_result"
    }
   ],
   "source": [
    "# 包含if...else...的列表生成式\n",
    "[x if x % 2 == 0 else -x for x in range(1, 11)]"
   ]
  },
  {
   "cell_type": "markdown",
   "id": "93d8fed9-416e-4e0e-805d-cfb4106ba5c2",
   "metadata": {},
   "source": [
    "### 生成器"
   ]
  },
  {
   "cell_type": "markdown",
   "id": "e9889dfa-1162-4298-a5b7-41ba6473eb03",
   "metadata": {},
   "source": [
    "* 可以简单通过将列表的`[]`替换为`()`创建一个`generator`\n",
    "* `generator`保存的是算法，可以选取固定元素\n",
    "* 调用`generator`函数会创建一个`generator`对象，多次调用`generator`函数会创建多个相互独立的`generator`，正确写法是创建一个`generator`对象**多次调用**\n",
    "* 普通函数在执行的时候遇到`return`语句或者最后一行语句返回，而`generator`是从`yield`语句处继续执行\n",
    "* 执行完毕若继续循环输出会返回一个`StopIteration`错误"
   ]
  },
  {
   "cell_type": "code",
   "execution_count": 209,
   "id": "1ec1426f-1b03-4e6c-bee3-38ce7b3043cb",
   "metadata": {
    "execution": {
     "iopub.execute_input": "2022-04-04T13:53:23.072554Z",
     "iopub.status.busy": "2022-04-04T13:53:23.072090Z",
     "iopub.status.idle": "2022-04-04T13:53:23.077619Z",
     "shell.execute_reply": "2022-04-04T13:53:23.076686Z",
     "shell.execute_reply.started": "2022-04-04T13:53:23.072495Z"
    },
    "tags": []
   },
   "outputs": [],
   "source": [
    "# 创建给生成器\n",
    "f = (x for x in range(10))\n",
    "# next(f)"
   ]
  },
  {
   "cell_type": "code",
   "execution_count": 210,
   "id": "d76026ba-5a30-44f2-9b80-92faad340d4c",
   "metadata": {
    "execution": {
     "iopub.execute_input": "2022-04-04T13:53:24.624903Z",
     "iopub.status.busy": "2022-04-04T13:53:24.624338Z",
     "iopub.status.idle": "2022-04-04T13:53:24.633155Z",
     "shell.execute_reply": "2022-04-04T13:53:24.629941Z",
     "shell.execute_reply.started": "2022-04-04T13:53:24.624860Z"
    },
    "tags": []
   },
   "outputs": [
    {
     "name": "stdout",
     "output_type": "stream",
     "text": [
      "0\n",
      "1\n",
      "2\n",
      "3\n",
      "4\n",
      "5\n",
      "6\n",
      "7\n",
      "8\n",
      "9\n"
     ]
    }
   ],
   "source": [
    "# 使用循环对生成器进行输出\n",
    "for n in f:\n",
    "    print(n)"
   ]
  },
  {
   "cell_type": "code",
   "execution_count": 201,
   "id": "f770b013-a0b6-47ed-95f4-deaaea6dc000",
   "metadata": {
    "execution": {
     "iopub.execute_input": "2022-04-04T13:50:32.137486Z",
     "iopub.status.busy": "2022-04-04T13:50:32.136018Z",
     "iopub.status.idle": "2022-04-04T13:50:32.143440Z",
     "shell.execute_reply": "2022-04-04T13:50:32.142313Z",
     "shell.execute_reply.started": "2022-04-04T13:50:32.137320Z"
    }
   },
   "outputs": [],
   "source": [
    "# 斐波那契数列普通函数\n",
    "def fib(max):\n",
    "    n, a, b = 0, 0, 1\n",
    "    while n < max:\n",
    "        print(b)\n",
    "        a, b = b, a + b\n",
    "        n = n + 1\n",
    "    return 'done'"
   ]
  },
  {
   "cell_type": "code",
   "execution_count": 202,
   "id": "52d632c6-282a-40b8-abc6-5e31f2cdafdb",
   "metadata": {
    "execution": {
     "iopub.execute_input": "2022-04-04T13:50:36.794697Z",
     "iopub.status.busy": "2022-04-04T13:50:36.793351Z",
     "iopub.status.idle": "2022-04-04T13:50:36.805680Z",
     "shell.execute_reply": "2022-04-04T13:50:36.803959Z",
     "shell.execute_reply.started": "2022-04-04T13:50:36.794604Z"
    },
    "tags": []
   },
   "outputs": [
    {
     "name": "stdout",
     "output_type": "stream",
     "text": [
      "1\n",
      "1\n",
      "2\n",
      "3\n",
      "5\n"
     ]
    },
    {
     "data": {
      "text/plain": [
       "'done'"
      ]
     },
     "execution_count": 202,
     "metadata": {},
     "output_type": "execute_result"
    }
   ],
   "source": [
    "fib(5)"
   ]
  },
  {
   "cell_type": "code",
   "execution_count": 207,
   "id": "09483352-929b-4b27-9e75-34694d1170af",
   "metadata": {
    "execution": {
     "iopub.execute_input": "2022-04-04T13:52:35.864762Z",
     "iopub.status.busy": "2022-04-04T13:52:35.864280Z",
     "iopub.status.idle": "2022-04-04T13:52:35.872268Z",
     "shell.execute_reply": "2022-04-04T13:52:35.871193Z",
     "shell.execute_reply.started": "2022-04-04T13:52:35.864726Z"
    },
    "tags": []
   },
   "outputs": [
    {
     "name": "stdout",
     "output_type": "stream",
     "text": [
      "1\n",
      "1\n",
      "2\n",
      "3\n",
      "5\n",
      "8\n"
     ]
    }
   ],
   "source": [
    "# 斐波那契数列迭代器方式书写\n",
    "def g_fib(max):\n",
    "    n, a, b = 0, 0, 1\n",
    "    while n < max:\n",
    "        yield b\n",
    "        a, b = b, a + b\n",
    "        n = n + 1\n",
    "    return 'done'\n",
    "f = g_fib(6)\n",
    "for n in f:\n",
    "    print(n)"
   ]
  },
  {
   "cell_type": "markdown",
   "id": "e705e2d8-0792-427d-a3ad-25cd61d0a624",
   "metadata": {
    "execution": {
     "iopub.execute_input": "2022-04-04T13:20:23.516736Z",
     "iopub.status.busy": "2022-04-04T13:20:23.516394Z",
     "iopub.status.idle": "2022-04-04T13:20:23.533603Z",
     "shell.execute_reply": "2022-04-04T13:20:23.532586Z",
     "shell.execute_reply.started": "2022-04-04T13:20:23.516706Z"
    }
   },
   "source": [
    "### 迭代器"
   ]
  },
  {
   "cell_type": "markdown",
   "id": "26aaf886-40cc-40fd-88ca-9653e2a6c5ee",
   "metadata": {},
   "source": [
    "1. 可用于`for`循环的数据类型\n",
    "    * generator类型，包含生成器和带yield的generator function \n",
    "    * 集合数据类型，如list、tuple、dict、set、str\n",
    "2. 凡是可作用于`for`循环的对象都是`Iterable`类型\n",
    "3. 凡是可作用与`next()`都是`Iterator`类型，表示一个惰性计算的序列\n",
    "4. 使用`iter()`函数可以将`Iterable`变为`Iterator`\n",
    "5. `Python`的`for`循环本质上就是通过不断调用`next()`函数实现的"
   ]
  },
  {
   "cell_type": "code",
   "execution_count": 211,
   "id": "e604e0ea-eac4-4f34-bc64-80995572314a",
   "metadata": {
    "execution": {
     "iopub.execute_input": "2022-04-04T14:03:47.251364Z",
     "iopub.status.busy": "2022-04-04T14:03:47.250506Z",
     "iopub.status.idle": "2022-04-04T14:03:47.261619Z",
     "shell.execute_reply": "2022-04-04T14:03:47.260409Z",
     "shell.execute_reply.started": "2022-04-04T14:03:47.251326Z"
    }
   },
   "outputs": [],
   "source": [
    "for x in [1, 2, 3, 4, 5]:\n",
    "    pass"
   ]
  },
  {
   "cell_type": "code",
   "execution_count": 212,
   "id": "8d67202d-17b0-4c8f-abad-bb1b275275f9",
   "metadata": {
    "execution": {
     "iopub.execute_input": "2022-04-04T14:03:52.982865Z",
     "iopub.status.busy": "2022-04-04T14:03:52.982438Z",
     "iopub.status.idle": "2022-04-04T14:03:52.993006Z",
     "shell.execute_reply": "2022-04-04T14:03:52.991981Z",
     "shell.execute_reply.started": "2022-04-04T14:03:52.982831Z"
    },
    "tags": []
   },
   "outputs": [],
   "source": [
    "# 首先获得Iterator对象:\n",
    "it = iter([1, 2, 3, 4, 5])\n",
    "# 循环:\n",
    "while True:\n",
    "    try:\n",
    "        # 获得下一个值:\n",
    "        x = next(it)\n",
    "    except StopIteration:\n",
    "        # 遇到StopIteration就退出循环\n",
    "        break"
   ]
  },
  {
   "cell_type": "code",
   "execution_count": null,
   "id": "55b457c9-d7bb-4839-bf3d-8a061da58a4a",
   "metadata": {},
   "outputs": [],
   "source": []
  },
  {
   "cell_type": "markdown",
   "id": "2a9fe6ba-b295-42a7-acf2-c96bd15e3e34",
   "metadata": {
    "tags": []
   },
   "source": [
    "## 函数式编程"
   ]
  },
  {
   "cell_type": "markdown",
   "id": "56713ba3-ac61-4bfb-a25f-5694e4a2e573",
   "metadata": {},
   "source": [
    "* 函数式编程特点就是允许把函数本身作为一个参数传入另一个函数，还允许返回一个函数"
   ]
  },
  {
   "cell_type": "markdown",
   "id": "5e1b64f6-0e34-4eba-bb53-00e127ac429b",
   "metadata": {},
   "source": [
    "### 高阶函数"
   ]
  },
  {
   "cell_type": "markdown",
   "id": "8d7a7f70-0320-4c99-8430-8a72af5c144f",
   "metadata": {},
   "source": [
    "* 将函数作为参数进行传入的成为高阶函数\n",
    "* 函数名本身就是一个变量，而函数可以接受变量"
   ]
  },
  {
   "cell_type": "code",
   "execution_count": null,
   "id": "d63e71a0-5bde-41c0-9cfa-b87414b30927",
   "metadata": {},
   "outputs": [
    {
     "data": {
      "text/plain": [
       "1"
      ]
     },
     "execution_count": 215,
     "metadata": {},
     "output_type": "execute_result"
    }
   ],
   "source": [
    "# 函数名作为变量\n",
    "f = abs\n",
    "f(-1)"
   ]
  },
  {
   "cell_type": "code",
   "execution_count": null,
   "id": "b7a0d9f6-4236-4b2a-874d-32e3c1aa4762",
   "metadata": {},
   "outputs": [
    {
     "data": {
      "text/plain": [
       "7"
      ]
     },
     "execution_count": 217,
     "metadata": {},
     "output_type": "execute_result"
    }
   ],
   "source": [
    "# 一个简单的高阶函数\n",
    "def add(a, b, f):\n",
    "    return f(a) + f(b)\n",
    "add(-3, -4, abs)"
   ]
  },
  {
   "cell_type": "markdown",
   "id": "bce36109-55af-4c9f-a5c7-f771ec222c18",
   "metadata": {},
   "source": [
    "#### map函数"
   ]
  },
  {
   "cell_type": "markdown",
   "id": "ed3c1aab-4eac-42a2-bff3-5c448ab60425",
   "metadata": {},
   "source": [
    "* 对于map/reduce的理解可以参考Google发表的的[MapReduce: Simplified Data Processing on Large Clusters](https://research.google/pubs/pub62/)\n",
    "* `map()`函数接受两个参数，一个是`函数`，一个是`Iterable`\n",
    "* `map`将传入的函数依次作用到序列的每个元素，再将结果作为`Iterator`返回"
   ]
  },
  {
   "cell_type": "code",
   "execution_count": null,
   "id": "bde61c2e-e453-41d2-944b-5cae5b1c238b",
   "metadata": {},
   "outputs": [
    {
     "data": {
      "text/plain": [
       "[1, 4, 9, 16]"
      ]
     },
     "execution_count": 222,
     "metadata": {},
     "output_type": "execute_result"
    }
   ],
   "source": [
    "# 一个简单的map函数运用\n",
    "def f(x):\n",
    "    return x*x\n",
    "li = map(f, [1, 2, 3, 4]) \n",
    "# Iterator是一个惰性序列，需要通过list()转为一个序列输出\n",
    "list(li)"
   ]
  },
  {
   "cell_type": "code",
   "execution_count": null,
   "id": "960b1bd5-7c54-4592-863b-5d29cc5aaf7a",
   "metadata": {},
   "outputs": [
    {
     "data": {
      "text/plain": [
       "['1', '2', '3', '4', '5', '7']"
      ]
     },
     "execution_count": 223,
     "metadata": {},
     "output_type": "execute_result"
    }
   ],
   "source": [
    "# 一个int2str直观的例子\n",
    "li = [1, 2, 3, 4, 5, 7]\n",
    "new_li = map(str, li)\n",
    "list(new_li)"
   ]
  },
  {
   "cell_type": "markdown",
   "id": "2be51c78-3156-4c61-a855-e9542301ced8",
   "metadata": {},
   "source": [
    "#### reduce函数"
   ]
  },
  {
   "cell_type": "markdown",
   "id": "e1e12746-d7ca-4d0c-93f5-02277d7e7c8c",
   "metadata": {},
   "source": [
    "* `reduce`将函数作用在一个序列上，这个函数必须**接收两个参数**\n",
    "* 效果就是：$reduce(f, [x1, x2, x3, x4]) = f(f(f(x1, x2), x3), x4)$"
   ]
  },
  {
   "cell_type": "code",
   "execution_count": null,
   "id": "9628cd5d-aa42-490f-b8fc-49fd0cd9deea",
   "metadata": {},
   "outputs": [
    {
     "data": {
      "text/plain": [
       "25"
      ]
     },
     "execution_count": 224,
     "metadata": {},
     "output_type": "execute_result"
    }
   ],
   "source": [
    "from functools import reduce\n",
    "# 一个对序列求和的简单例子\n",
    "def add(a, b):\n",
    "    return a+b\n",
    "\n",
    "reduce(add, [1, 3, 5, 7, 9])"
   ]
  },
  {
   "cell_type": "code",
   "execution_count": null,
   "id": "c21457be-c05a-41d3-a71c-47d2ed29d07a",
   "metadata": {},
   "outputs": [
    {
     "data": {
      "text/plain": [
       "124"
      ]
     },
     "execution_count": 225,
     "metadata": {},
     "output_type": "execute_result"
    }
   ],
   "source": [
    "# 组合map和reduce函数写一个str2int函数\n",
    "from functools import reduce\n",
    "\n",
    "DIGITS = {'0': 0, '1': 1, '2': 2, '3': 3, '4': 4, '5': 5, '6': 6, '7': 7, '8': 8, '9': 9}\n",
    "\n",
    "def str2int(s):\n",
    "    def fn(x, y):\n",
    "        return x * 10 + y\n",
    "    def char2num(s):\n",
    "        return DIGITS[s]\n",
    "    return reduce(fn, map(char2num, s))\n",
    "str2int('124')"
   ]
  },
  {
   "cell_type": "markdown",
   "id": "d1853523-1f9c-4f5c-86b9-8db789956cb0",
   "metadata": {},
   "source": [
    "#### filter函数"
   ]
  },
  {
   "cell_type": "markdown",
   "id": "dc008d91-f944-486c-8008-8a18d3d7c7c8",
   "metadata": {},
   "source": [
    "* 类似`map()`函数一样也是接收两个参数，根据返回值是`true`还是`false`决定是否保留\n",
    "* `filter`函数返回的也是也惰性序列，因此只有在返回filter()结果的时候，才会真正筛选并每次返回一个筛出的元素"
   ]
  },
  {
   "cell_type": "code",
   "execution_count": null,
   "id": "614cfd0e-a03a-468d-8a3a-80e48e0ebf13",
   "metadata": {},
   "outputs": [
    {
     "data": {
      "text/plain": [
       "[4, 8]"
      ]
     },
     "execution_count": 230,
     "metadata": {},
     "output_type": "execute_result"
    }
   ],
   "source": [
    "# 返回偶数序列\n",
    "def even(n):\n",
    "    return n%2==0\n",
    "li = [1, 3, 4, 5, 8]\n",
    "r = filter(even, li)\n",
    "list(r)"
   ]
  },
  {
   "cell_type": "code",
   "execution_count": null,
   "id": "0cab51cb-f019-4cb2-abe6-f222179549ac",
   "metadata": {},
   "outputs": [
    {
     "name": "stdout",
     "output_type": "stream",
     "text": [
      "测试成功!\n"
     ]
    }
   ],
   "source": [
    "def is_palindrome(n):\n",
    "    str_A = str(n)\n",
    "    str_B = str_A[::-1]\n",
    "    return str_A == str_B\n",
    "if list(filter(is_palindrome, range(1, 200))) == [1, 2, 3, 4, 5, 6, 7, 8, 9, 11, 22, 33, 44, 55, 66, 77, 88, 99, 101, 111, 121, 131, 141, 151, 161, 171, 181, 191]:\n",
    "    print('测试成功!')\n",
    "else:\n",
    "    print('测试失败!')\n"
   ]
  },
  {
   "cell_type": "markdown",
   "id": "287da27b-2158-4bdb-a672-60c976aa416c",
   "metadata": {},
   "source": [
    "#### sorted函数"
   ]
  },
  {
   "cell_type": "markdown",
   "id": "6c231d7c-8772-4db7-a910-0e23159d5631",
   "metadata": {},
   "source": [
    "* `Python`内置的`sorted()`函数可以对`list`进行排序\n",
    "* 添加`key`函数相当于将`key`函数作用在每个元素之上再进行比较，返回原始元素的排序\n",
    "* 使用`reverse=True`可以实现反向排序\n"
   ]
  },
  {
   "cell_type": "code",
   "execution_count": null,
   "id": "5a27f956-bb61-4331-8c15-fca6c11291cc",
   "metadata": {},
   "outputs": [
    {
     "name": "stdout",
     "output_type": "stream",
     "text": [
      "[('Adam', 92), ('Bart', 66), ('Bob', 75), ('Lisa', 88)]\n"
     ]
    }
   ],
   "source": [
    "L = [('Bob', 75), ('Adam', 92), ('Bart', 66), ('Lisa', 88)]\n",
    "\n",
    "# 按照名称排序\n",
    "def by_name(t):\n",
    "    return str.lower(t[0])\n",
    "L2 = sorted(L, key=by_name)\n",
    "print(L2)\n"
   ]
  },
  {
   "cell_type": "code",
   "execution_count": null,
   "id": "2ed54d45-85ce-4e9e-b6ae-291e2b3b7898",
   "metadata": {},
   "outputs": [
    {
     "name": "stdout",
     "output_type": "stream",
     "text": [
      "[('Adam', 92), ('Lisa', 88), ('Bob', 75), ('Bart', 66)]\n"
     ]
    }
   ],
   "source": [
    "# 按照成绩排序\n",
    "def by_score(t):\n",
    "    return -t[1]\n",
    "L2 = sorted(L, key=by_score)\n",
    "print(L2)"
   ]
  },
  {
   "cell_type": "markdown",
   "id": "653edff3-13dc-4a39-a7ff-057393a575c1",
   "metadata": {},
   "source": [
    "### 返回函数"
   ]
  },
  {
   "cell_type": "markdown",
   "id": "7bd1e35b-b25e-4e6c-a129-c7c81e3db2ee",
   "metadata": {},
   "source": [
    "* 一个函数可以返回一个计算结果，也可以**返回函数**\n",
    "* **闭包（Closure）**在一个外函数中定义了一个内函数，内函数里运用了外函数的临时变量，并且外函数的返回值是内函数的引用，这样就构成了一个闭包\n",
    "* 可以在内部函数添加`nonlocal`声明，解释器便会将外部函数变量看作内函数的局部变量"
   ]
  },
  {
   "cell_type": "code",
   "execution_count": null,
   "id": "c866e387-3908-42ff-bafb-2be5889bf0ef",
   "metadata": {},
   "outputs": [
    {
     "data": {
      "text/plain": [
       "6"
      ]
     },
     "execution_count": 243,
     "metadata": {},
     "output_type": "execute_result"
    }
   ],
   "source": [
    "# 一个简单的例子\n",
    "# 每次调用都会返回一个新的函数，f1()和f2()调用结果互不影响\n",
    "def lazy_sum(*args):\n",
    "    def sum():\n",
    "        ax = 0\n",
    "        for n in args:\n",
    "            ax = ax + n\n",
    "        return ax\n",
    "    return sum\n",
    "f = lazy_sum(1, 2, 3)\n",
    "f()"
   ]
  },
  {
   "cell_type": "code",
   "execution_count": null,
   "id": "4a7ba9e4-6b47-48f0-a105-fa37a21ded5b",
   "metadata": {},
   "outputs": [
    {
     "name": "stdout",
     "output_type": "stream",
     "text": [
      "1\n"
     ]
    }
   ],
   "source": [
    "# 仅读取x的值:\n",
    "def inc():\n",
    "    x = 0\n",
    "    def fn():        \n",
    "        return x + 1\n",
    "    return fn\n",
    "\n",
    "f = inc()\n",
    "print(f()) "
   ]
  },
  {
   "cell_type": "code",
   "execution_count": null,
   "id": "6a3715b5-a659-4d2f-9705-32902a3c95df",
   "metadata": {},
   "outputs": [
    {
     "name": "stdout",
     "output_type": "stream",
     "text": [
      "1\n"
     ]
    }
   ],
   "source": [
    "def inc():\n",
    "    x = 0\n",
    "    def fn():\n",
    "        nonlocal x # 使得x为内函数局部变量\n",
    "        x = x + 1\n",
    "        return x\n",
    "    return fn\n",
    "\n",
    "f = inc()\n",
    "print(f()) "
   ]
  },
  {
   "cell_type": "markdown",
   "id": "3c22ce1c-304c-449a-a4d5-4938070cf414",
   "metadata": {},
   "source": [
    "### 匿名函数"
   ]
  },
  {
   "cell_type": "markdown",
   "id": "716781c9-1368-4ff9-af52-d34149597a49",
   "metadata": {},
   "source": [
    "* `Python`中使用关键字`lambda`定义匿名函数，其只能有一个表达式，不用写`return`\n",
    "* 匿名函数可以赋值给一个变量，在通过利用变量调用该函数\n",
    "* 匿名函数也可以作为返回值返回"
   ]
  },
  {
   "cell_type": "code",
   "execution_count": null,
   "id": "6a662fb7-7f71-49d4-a83e-f2a6f29bd16e",
   "metadata": {},
   "outputs": [
    {
     "data": {
      "text/plain": [
       "[1, 4, 16, 25]"
      ]
     },
     "execution_count": 251,
     "metadata": {},
     "output_type": "execute_result"
    }
   ],
   "source": [
    "# 之前对map函数的利用\n",
    "list(map(lambda x: x*x, [1,2,4,5]))"
   ]
  },
  {
   "cell_type": "code",
   "execution_count": null,
   "id": "e5fc1b5f-6aa1-46c5-b13f-382610c8685e",
   "metadata": {},
   "outputs": [
    {
     "data": {
      "text/plain": [
       "25"
      ]
     },
     "execution_count": 256,
     "metadata": {},
     "output_type": "execute_result"
    }
   ],
   "source": [
    "# 可以赋值给一个变量\n",
    "f = lambda x: x*x\n",
    "f(5)"
   ]
  },
  {
   "cell_type": "code",
   "execution_count": null,
   "id": "e727a9b4-ae7b-44ce-b24f-896b919de2a7",
   "metadata": {},
   "outputs": [
    {
     "data": {
      "text/plain": [
       "<function __main__.build.<locals>.<lambda>()>"
      ]
     },
     "execution_count": 255,
     "metadata": {},
     "output_type": "execute_result"
    }
   ],
   "source": [
    "# 作为一个函数返回\n",
    "def build(x, y):\n",
    "    return lambda: x * x + y * y\n",
    "build(2,3)"
   ]
  },
  {
   "cell_type": "markdown",
   "id": "015fba98-532d-459f-86cf-57af16db33b8",
   "metadata": {},
   "source": [
    "### 装饰器"
   ]
  },
  {
   "cell_type": "markdown",
   "id": "b829c0f3-9dee-4233-a518-46dc8fdae7f1",
   "metadata": {},
   "source": [
    "* 代码运行期间能动态增加功能的方式，称之为**装饰器**\n",
    "* `decorator`可以增强函数的功能，定义起来虽然有点复杂，但使用起来非常灵活和方便"
   ]
  },
  {
   "cell_type": "code",
   "execution_count": null,
   "id": "b258c67f-e65a-473f-819f-de0884657568",
   "metadata": {},
   "outputs": [
    {
     "name": "stdout",
     "output_type": "stream",
     "text": [
      "call now():\n",
      "2015-3-25\n",
      "wrapper\n"
     ]
    }
   ],
   "source": [
    "def log(func):\n",
    "    def wrapper(*args, **kw):\n",
    "        print('call %s():' % func.__name__)\n",
    "        return func(*args, **kw)\n",
    "    return wrapper\n",
    "\n",
    "@log\n",
    "def now():\n",
    "    print('2015-3-25')\n",
    "    \n",
    "now()\n",
    "# 当我们打印now函数的名称时候发现已经改变，因此需要修改这种写法\n",
    "print(now.__name__)"
   ]
  },
  {
   "cell_type": "code",
   "execution_count": null,
   "id": "35ff3acb-693b-484f-96ee-a8dd55e18f01",
   "metadata": {},
   "outputs": [
    {
     "name": "stdout",
     "output_type": "stream",
     "text": [
      "call now():\n",
      "2015-3-25\n",
      "now\n"
     ]
    }
   ],
   "source": [
    "import functools\n",
    "\n",
    "def log(func):\n",
    "    @functools.wraps(func)  # 添加本行语句保持now函数属性未发生修改\n",
    "    def wrapper(*args, **kw):\n",
    "        print('call %s():' % func.__name__)\n",
    "        return func(*args, **kw)\n",
    "    return wrapper\n",
    "\n",
    "@log\n",
    "def now():\n",
    "    print('2015-3-25')\n",
    "now()\n",
    "\n",
    "print(now.__name__)"
   ]
  },
  {
   "cell_type": "markdown",
   "id": "acbf5413-33db-4900-b657-e74909f76ed9",
   "metadata": {},
   "source": [
    "### 偏函数"
   ]
  },
  {
   "cell_type": "markdown",
   "id": "c7d41c23-9435-4a62-9267-fa6c02f0ffc7",
   "metadata": {},
   "source": [
    "* 使用functools.parti`将函数的某些参数固定，返回一个新函数，使得调用更加简单\n"
   ]
  },
  {
   "cell_type": "code",
   "execution_count": null,
   "id": "bc59fe55-8dbb-41a7-b173-1a36cbeb6694",
   "metadata": {},
   "outputs": [
    {
     "data": {
      "text/plain": [
       "2"
      ]
     },
     "execution_count": 277,
     "metadata": {},
     "output_type": "execute_result"
    }
   ],
   "source": [
    "# 固定int()函数中base=2这个关键字参数\n",
    "in2 = functools.partial(int, base=2)\n",
    "in2('10')"
   ]
  },
  {
   "cell_type": "code",
   "execution_count": 283,
   "id": "0ae2b6c9-77f8-4041-a95c-efc568560903",
   "metadata": {
    "execution": {
     "iopub.execute_input": "2022-04-05T08:31:41.920039Z",
     "iopub.status.busy": "2022-04-05T08:31:41.919121Z",
     "iopub.status.idle": "2022-04-05T08:31:41.927533Z",
     "shell.execute_reply": "2022-04-05T08:31:41.926381Z",
     "shell.execute_reply.started": "2022-04-05T08:31:41.919945Z"
    },
    "tags": []
   },
   "outputs": [
    {
     "data": {
      "text/plain": [
       "10"
      ]
     },
     "execution_count": 283,
     "metadata": {},
     "output_type": "execute_result"
    }
   ],
   "source": [
    "# 将10作为*args输入参数左边\n",
    "max2 = functools.partial(max, 10)\n",
    "max2(1,2,3)"
   ]
  },
  {
   "cell_type": "markdown",
   "id": "750ebf24-a6b6-4cb6-be85-c6699b09ef38",
   "metadata": {},
   "source": [
    "## 模块"
   ]
  },
  {
   "cell_type": "markdown",
   "id": "4ae57a09-0572-4bb1-944a-ae606e0852e4",
   "metadata": {
    "execution": {
     "iopub.execute_input": "2022-04-05T08:52:50.487902Z",
     "iopub.status.busy": "2022-04-05T08:52:50.487134Z",
     "iopub.status.idle": "2022-04-05T08:52:50.494755Z",
     "shell.execute_reply": "2022-04-05T08:52:50.493235Z",
     "shell.execute_reply.started": "2022-04-05T08:52:50.487865Z"
    },
    "tags": []
   },
   "source": [
    "* 将函数分组存放并设置相互调用构成的文件称之为模块\n",
    "* 相同名称的函数和变量可以分别存在在不同模块\n",
    "* 每一个模块文件夹内都需要有一个`__init__.py`文件，可以有多级目录，如下"
   ]
  },
  {
   "cell_type": "markdown",
   "id": "bcf1f342-bc0d-449a-8672-c5d57dc2cd6a",
   "metadata": {},
   "source": [
    "mycompany  \n",
    "├── web  \n",
    "│   ├── __init__.py  \n",
    "│   ├── www.py  \n",
    "│   └── utils.py  \n",
    "├── __init__.py  \n",
    "├── abc.py  \n",
    "└── utils.py  "
   ]
  },
  {
   "cell_type": "markdown",
   "id": "75ac7933-03b6-444b-8df3-5af39e77e08a",
   "metadata": {},
   "source": [
    "### 创建自定义模块"
   ]
  },
  {
   "cell_type": "markdown",
   "id": "c783e8e1-a9f7-4259-8a74-46307a5d742c",
   "metadata": {},
   "source": [
    "* 创建自定义模块命名为`hello.py`如下所示，使用`__xxx__`和`_xxx`是特殊变量，属于private变量\n",
    "* 添加`__name__=='__main__'`是为了保证当次文件`被import`时不执行`main`部分，而确保`main`部分只在测试的时候执行"
   ]
  },
  {
   "cell_type": "code",
   "execution_count": 290,
   "id": "27f9b746-76d7-4ac9-84b0-1150eff61be7",
   "metadata": {
    "execution": {
     "iopub.execute_input": "2022-04-05T09:14:59.450337Z",
     "iopub.status.busy": "2022-04-05T09:14:59.450094Z",
     "iopub.status.idle": "2022-04-05T09:14:59.459821Z",
     "shell.execute_reply": "2022-04-05T09:14:59.456584Z",
     "shell.execute_reply.started": "2022-04-05T09:14:59.450312Z"
    },
    "tags": []
   },
   "outputs": [
    {
     "name": "stdout",
     "output_type": "stream",
     "text": [
      "['/home/jupyter_code', '/home/miniconda3/envs/py39/lib/python39.zip', '/home/miniconda3/envs/py39/lib/python3.9', '/home/miniconda3/envs/py39/lib/python3.9/lib-dynload', '', '/home/miniconda3/envs/py39/lib/python3.9/site-packages']\n",
      "hello tsh\n"
     ]
    }
   ],
   "source": [
    "#!/usr/bin/env python3\n",
    "# -*- coding: utf-8 -*-\n",
    "\n",
    "\"\"\" add some comments \"\"\"\n",
    "\n",
    "__author__ = 'Michael Liao'\n",
    "\n",
    "import sys\n",
    "\n",
    "def hello(name='tsh'):\n",
    "    print(sys.path)\n",
    "    print('hello %s' %name)\n",
    "\n",
    "if __name__=='__main__':\n",
    "    hello()"
   ]
  },
  {
   "cell_type": "markdown",
   "id": "54749696-b192-4bb4-b293-766e9a9214f2",
   "metadata": {
    "execution": {
     "iopub.execute_input": "2022-04-05T09:08:50.330754Z",
     "iopub.status.busy": "2022-04-05T09:08:50.330296Z",
     "iopub.status.idle": "2022-04-05T09:08:50.337563Z",
     "shell.execute_reply": "2022-04-05T09:08:50.336781Z",
     "shell.execute_reply.started": "2022-04-05T09:08:50.330718Z"
    },
    "tags": []
   },
   "source": [
    "### 模块加载路径"
   ]
  },
  {
   "cell_type": "markdown",
   "id": "db604ed9-fe0c-49c3-99fd-1cc4f1011272",
   "metadata": {},
   "source": [
    "* 当使用`import module`时候`Python`解释器会在对应路径去搜寻有无对应模块\n",
    "* 搜索路径存放在`sys`下的`path`中\n",
    "* 添加自己搜索目录可以修改`sys.path`或者设置环境变量`PATHONPATH`"
   ]
  },
  {
   "cell_type": "code",
   "execution_count": 293,
   "id": "19af0be8-c1c2-4eeb-8206-6af4c0965f9d",
   "metadata": {
    "execution": {
     "iopub.execute_input": "2022-04-05T09:23:53.448734Z",
     "iopub.status.busy": "2022-04-05T09:23:53.446737Z",
     "iopub.status.idle": "2022-04-05T09:23:53.458981Z",
     "shell.execute_reply": "2022-04-05T09:23:53.457539Z",
     "shell.execute_reply.started": "2022-04-05T09:23:53.448567Z"
    },
    "tags": []
   },
   "outputs": [
    {
     "data": {
      "text/plain": [
       "['/home/jupyter_code',\n",
       " '/home/miniconda3/envs/py39/lib/python39.zip',\n",
       " '/home/miniconda3/envs/py39/lib/python3.9',\n",
       " '/home/miniconda3/envs/py39/lib/python3.9/lib-dynload',\n",
       " '',\n",
       " '/home/miniconda3/envs/py39/lib/python3.9/site-packages']"
      ]
     },
     "execution_count": 293,
     "metadata": {},
     "output_type": "execute_result"
    }
   ],
   "source": [
    "# 打印安装包路径\n",
    "import sys\n",
    "sys.path"
   ]
  },
  {
   "cell_type": "markdown",
   "id": "7f28f3ab-b914-4cea-abf9-541c00907cb8",
   "metadata": {
    "tags": []
   },
   "source": [
    "1. 直接修改sys.path  \n",
    "> import sys  \n",
    "> sys.path.append('module path')  \n",
    "2. 设置环境变量PYTHONPATH，该环境变量的内容会被自动添加到模块搜索路径中。设置方式与设置Path环境变量类似。注意只需要添加你自己的搜索路径，Python自己本身的搜索路径不受影响。"
   ]
  },
  {
   "cell_type": "markdown",
   "id": "7e73bbb4-903f-4129-be88-3814fb454f5d",
   "metadata": {
    "execution": {
     "iopub.execute_input": "2022-03-31T09:37:31.509189Z",
     "iopub.status.busy": "2022-03-31T09:37:31.509189Z",
     "iopub.status.idle": "2022-03-31T09:37:31.522154Z",
     "shell.execute_reply": "2022-03-31T09:37:31.522154Z",
     "shell.execute_reply.started": "2022-03-31T09:37:31.509189Z"
    },
    "tags": []
   },
   "source": [
    "## 面向对象编程"
   ]
  },
  {
   "cell_type": "markdown",
   "id": "f9b246fa-6c67-487f-985e-b0df1e7091d3",
   "metadata": {},
   "source": [
    "### 类和实例"
   ]
  },
  {
   "cell_type": "markdown",
   "id": "9d40b06a-f321-448e-9aa0-8a458e78705c",
   "metadata": {
    "execution": {
     "iopub.execute_input": "2022-04-05T08:48:43.317722Z",
     "iopub.status.busy": "2022-04-05T08:48:43.316531Z",
     "iopub.status.idle": "2022-04-05T08:48:43.324784Z",
     "shell.execute_reply": "2022-04-05T08:48:43.323871Z",
     "shell.execute_reply.started": "2022-04-05T08:48:43.317662Z"
    },
    "tags": []
   },
   "source": [
    "* 两个重要概念**类class**以及**实例instance**\n",
    "* 使用`class`创建对象模板，定义属性和方法\n",
    "* 定义的方法可以直接访问实例数据\n",
    "* `Python`允许对实例绑定任何数据"
   ]
  },
  {
   "cell_type": "code",
   "execution_count": 13,
   "id": "0eb9be47-45a7-40eb-a40b-175c6f6dddf9",
   "metadata": {
    "execution": {
     "iopub.execute_input": "2022-03-10T08:16:02.599606Z",
     "iopub.status.busy": "2022-03-10T08:16:02.599606Z",
     "iopub.status.idle": "2022-03-10T08:16:02.607585Z",
     "shell.execute_reply": "2022-03-10T08:16:02.607585Z",
     "shell.execute_reply.started": "2022-03-10T08:16:02.599606Z"
    },
    "tags": []
   },
   "outputs": [
    {
     "name": "stdout",
     "output_type": "stream",
     "text": [
      "18\n",
      "b\n",
      "female\n"
     ]
    }
   ],
   "source": [
    "## 定义一个类\n",
    "class Student:\n",
    "    def __init__(self, name, age):\n",
    "        self.name = name\n",
    "        self.age = age\n",
    "        \n",
    "    def get_grade(self, score):\n",
    "        if score > 90:\n",
    "            return 'a'\n",
    "        else:\n",
    "            return 'b'\n",
    "\n",
    "xiaomei = Student(\"xiaomei\", 18)\n",
    "print(xiaomei.age)\n",
    "print(xiaomei.get_grade(85))  \n",
    "xiaomei.sex = 'female'  # 添加动态属性\n",
    "print(xiaomei.sex)"
   ]
  },
  {
   "cell_type": "code",
   "execution_count": 14,
   "id": "45007758-fba5-4d52-826f-300cf0af6a8b",
   "metadata": {
    "execution": {
     "iopub.execute_input": "2022-03-10T08:16:04.485591Z",
     "iopub.status.busy": "2022-03-10T08:16:04.485591Z",
     "iopub.status.idle": "2022-03-10T08:16:04.502544Z",
     "shell.execute_reply": "2022-03-10T08:16:04.501548Z",
     "shell.execute_reply.started": "2022-03-10T08:16:04.485591Z"
    },
    "tags": []
   },
   "outputs": [
    {
     "name": "stdout",
     "output_type": "stream",
     "text": [
      "['__class__', '__delattr__', '__dict__', '__dir__', '__doc__', '__eq__', '__format__', '__ge__', '__getattribute__', '__gt__', '__hash__', '__init__', '__init_subclass__', '__le__', '__lt__', '__module__', '__ne__', '__new__', '__reduce__', '__reduce_ex__', '__repr__', '__setattr__', '__sizeof__', '__str__', '__subclasshook__', '__weakref__', 'name']\n",
      "['__class__', '__delattr__', '__dict__', '__dir__', '__doc__', '__eq__', '__format__', '__ge__', '__getattribute__', '__gt__', '__hash__', '__init__', '__init_subclass__', '__le__', '__lt__', '__module__', '__ne__', '__new__', '__reduce__', '__reduce_ex__', '__repr__', '__setattr__', '__sizeof__', '__str__', '__subclasshook__', '__weakref__', 'name']\n"
     ]
    }
   ],
   "source": [
    "## Python3已经默认继承了object对象\n",
    "class Student(object):\n",
    "    \"\"\"不添加object\"\"\"\n",
    "    name = \"tsh\"\n",
    "    \n",
    "class Person():\n",
    "    \"\"\"添加object\"\"\"\n",
    "    name = \"yyy\"\n",
    "    \n",
    "if __name__ == '__main__':\n",
    "    x = Student()\n",
    "    print(dir(x))\n",
    "    \n",
    "    y = Person()\n",
    "    print(dir(y))\n",
    "    "
   ]
  },
  {
   "cell_type": "markdown",
   "id": "db549208-924b-4349-a942-862b735a4e4c",
   "metadata": {},
   "source": [
    "### 访问限制"
   ]
  },
  {
   "cell_type": "markdown",
   "id": "fdc97cee-6b6a-461f-925a-7519bf0022b3",
   "metadata": {},
   "source": [
    "* 通过给类内属性添加双下划线`__`可以使得类属性只有内部可以访问\n",
    "* 通过添加获取属性方法和修改属性方法完成对实例属性的修改\n",
    "* 可以通过`_Student__name`访问类内属性**（不建议这么做）**"
   ]
  },
  {
   "cell_type": "code",
   "execution_count": 25,
   "id": "b5abe416-f8ad-406d-ba19-4df860418349",
   "metadata": {
    "execution": {
     "iopub.execute_input": "2022-03-10T08:31:01.962739Z",
     "iopub.status.busy": "2022-03-10T08:31:01.962739Z",
     "iopub.status.idle": "2022-03-10T08:31:01.974706Z",
     "shell.execute_reply": "2022-03-10T08:31:01.974706Z",
     "shell.execute_reply.started": "2022-03-10T08:31:01.962739Z"
    },
    "tags": []
   },
   "outputs": [
    {
     "name": "stdout",
     "output_type": "stream",
     "text": [
      "xiaomei\n"
     ]
    }
   ],
   "source": [
    "## 定义一个类\n",
    "class Student:\n",
    "    def __init__(self, name, age):\n",
    "        self.__name = name\n",
    "        self.age = age\n",
    "        \n",
    "xiaomei = Student(\"xiaomei\", 18)\n",
    "print(xiaomei._Student__name)"
   ]
  },
  {
   "cell_type": "code",
   "execution_count": 300,
   "id": "a4fc40a7-d4dd-47d4-b33b-9d5d8ff9ae12",
   "metadata": {
    "execution": {
     "iopub.execute_input": "2022-04-05T09:39:23.052342Z",
     "iopub.status.busy": "2022-04-05T09:39:23.051732Z",
     "iopub.status.idle": "2022-04-05T09:39:23.057711Z",
     "shell.execute_reply": "2022-04-05T09:39:23.056975Z",
     "shell.execute_reply.started": "2022-04-05T09:39:23.052305Z"
    },
    "tags": []
   },
   "outputs": [],
   "source": [
    "class Student:\n",
    "    def __init__(self, name, gender):\n",
    "        self.name = name\n",
    "        self.__gender = gender\n",
    "    \n",
    "    def get_gender(self):\n",
    "        return self.__gender\n",
    "\n",
    "    def set_gender(self, new_gender):\n",
    "        self.__gender = new_gender"
   ]
  },
  {
   "cell_type": "code",
   "execution_count": 301,
   "id": "cb586088-3967-4a0a-85f8-0996e75cb525",
   "metadata": {
    "execution": {
     "iopub.execute_input": "2022-04-05T09:39:23.712221Z",
     "iopub.status.busy": "2022-04-05T09:39:23.710821Z",
     "iopub.status.idle": "2022-04-05T09:39:23.721355Z",
     "shell.execute_reply": "2022-04-05T09:39:23.718972Z",
     "shell.execute_reply.started": "2022-04-05T09:39:23.712157Z"
    },
    "tags": []
   },
   "outputs": [
    {
     "name": "stdout",
     "output_type": "stream",
     "text": [
      "测试成功!\n"
     ]
    }
   ],
   "source": [
    "# 测试:\n",
    "bart = Student('Bart', 'male')\n",
    "if bart.get_gender() != 'male':\n",
    "    print('测试失败!')\n",
    "else:\n",
    "    bart.set_gender('female')\n",
    "    if bart.get_gender() != 'female':\n",
    "        print('测试失败!')\n",
    "    else:\n",
    "        print('测试成功!')"
   ]
  },
  {
   "cell_type": "markdown",
   "id": "8145bef4-01a6-4e2c-b599-11c22d21c160",
   "metadata": {
    "execution": {
     "iopub.execute_input": "2022-03-10T07:49:29.437743Z",
     "iopub.status.busy": "2022-03-10T07:49:29.437743Z",
     "iopub.status.idle": "2022-03-10T07:49:29.443726Z",
     "shell.execute_reply": "2022-03-10T07:49:29.442728Z",
     "shell.execute_reply.started": "2022-03-10T07:49:29.437743Z"
    },
    "tags": []
   },
   "source": [
    "### 继承和多态  \n",
    "* 通过继承子类可以获取父类的全部功能，但是子类的功能也可以进行修改\n",
    "* 多态理解：当我们想对它父类下的多个子类进行操作的时候，由于子类继承了父类的一部分功能，因此可以直接针对父类进行函数功能的设计，再后期实现传入所有子类"
   ]
  },
  {
   "cell_type": "code",
   "execution_count": 304,
   "id": "b817089b-98df-405c-a72a-d103ac4d11e0",
   "metadata": {
    "execution": {
     "iopub.execute_input": "2022-04-05T09:44:19.741362Z",
     "iopub.status.busy": "2022-04-05T09:44:19.740394Z",
     "iopub.status.idle": "2022-04-05T09:44:19.782404Z",
     "shell.execute_reply": "2022-04-05T09:44:19.780743Z",
     "shell.execute_reply.started": "2022-04-05T09:44:19.741292Z"
    },
    "tags": []
   },
   "outputs": [
    {
     "name": "stdout",
     "output_type": "stream",
     "text": [
      "animal is running\n",
      "animal is running\n",
      "animal is running\n",
      "animal is running\n",
      "cat is running\n",
      "cat is running\n",
      "Car is running\n",
      "Car is running\n"
     ]
    },
    {
     "ename": "AttributeError",
     "evalue": "'Stone' object has no attribute 'run'",
     "output_type": "error",
     "traceback": [
      "\u001b[0;31m---------------------------------------------------------------------------\u001b[0m",
      "\u001b[0;31mAttributeError\u001b[0m                            Traceback (most recent call last)",
      "Input \u001b[0;32mIn [304]\u001b[0m, in \u001b[0;36m<cell line: 27>\u001b[0;34m()\u001b[0m\n\u001b[1;32m     25\u001b[0m run_twice(Cat())\n\u001b[1;32m     26\u001b[0m run_twice(Car())\n\u001b[0;32m---> 27\u001b[0m \u001b[43mrun_twice\u001b[49m\u001b[43m(\u001b[49m\u001b[43mStone\u001b[49m\u001b[43m(\u001b[49m\u001b[43m)\u001b[49m\u001b[43m)\u001b[49m\n",
      "Input \u001b[0;32mIn [304]\u001b[0m, in \u001b[0;36mrun_twice\u001b[0;34m(animal)\u001b[0m\n\u001b[1;32m     19\u001b[0m \u001b[38;5;28;01mdef\u001b[39;00m \u001b[38;5;21mrun_twice\u001b[39m(animal): \u001b[38;5;66;03m# Stone类没有继承Animal类，没有run方法  \u001b[39;00m\n\u001b[0;32m---> 20\u001b[0m     \u001b[43manimal\u001b[49m\u001b[38;5;241;43m.\u001b[39;49m\u001b[43mrun\u001b[49m()\n\u001b[1;32m     21\u001b[0m     animal\u001b[38;5;241m.\u001b[39mrun()\n",
      "\u001b[0;31mAttributeError\u001b[0m: 'Stone' object has no attribute 'run'"
     ]
    }
   ],
   "source": [
    "class Animal:    \n",
    "    def run(slef):\n",
    "        print(\"animal is running\")\n",
    "\n",
    "class Dog(Animal): # Dog类继承Animal类，没有run方法（默认添加了run方法） \n",
    "    pass\n",
    "        \n",
    "class Cat(Animal): # Cat类继承Animal类，有run方法 \n",
    "    def run(slef):\n",
    "        print(\"cat is running\")\n",
    "        \n",
    "class Car(object): # Car类没有继承Animal类，有run方法  \n",
    "    def run(slef):\n",
    "        print(\"Car is running\")\n",
    "        \n",
    "class Stone(object):\n",
    "    pass\n",
    "\n",
    "def run_twice(animal): # Stone类没有继承Animal类，没有run方法  \n",
    "    animal.run()\n",
    "    animal.run()\n",
    "    \n",
    "run_twice(Animal())\n",
    "run_twice(Dog())\n",
    "run_twice(Cat())\n",
    "run_twice(Car())\n",
    "run_twice(Stone())"
   ]
  },
  {
   "cell_type": "code",
   "execution_count": 305,
   "id": "cc443fe2-16e8-4050-a180-07d85aab671e",
   "metadata": {
    "execution": {
     "iopub.execute_input": "2022-04-05T09:44:25.633658Z",
     "iopub.status.busy": "2022-04-05T09:44:25.632472Z",
     "iopub.status.idle": "2022-04-05T09:44:25.643232Z",
     "shell.execute_reply": "2022-04-05T09:44:25.642169Z",
     "shell.execute_reply.started": "2022-04-05T09:44:25.633574Z"
    },
    "tags": []
   },
   "outputs": [
    {
     "name": "stdout",
     "output_type": "stream",
     "text": [
      "True\n",
      "True\n"
     ]
    }
   ],
   "source": [
    "cat = Cat()\n",
    "print(isinstance(cat, Cat)) # 判断一个变量是否属于某一个类型\n",
    "print(isinstance(cat, Animal)) # cat这个实例既属于Cat类，有属于Animal类"
   ]
  },
  {
   "cell_type": "markdown",
   "id": "c8f109d3-8eae-41e6-ae54-13463c7ef98d",
   "metadata": {},
   "source": [
    "### 获取对象信息"
   ]
  },
  {
   "cell_type": "markdown",
   "id": "20e84e71-4a0b-42c5-aa91-9ab60a2d5242",
   "metadata": {},
   "source": [
    "* 使用type()函数判断，返回的是对应的ClassL类型"
   ]
  },
  {
   "cell_type": "code",
   "execution_count": 62,
   "id": "495cc449-3fed-462a-90ff-95ffa5441288",
   "metadata": {
    "execution": {
     "iopub.execute_input": "2022-03-10T09:13:37.410329Z",
     "iopub.status.busy": "2022-03-10T09:13:37.410329Z",
     "iopub.status.idle": "2022-03-10T09:13:37.428281Z",
     "shell.execute_reply": "2022-03-10T09:13:37.428281Z",
     "shell.execute_reply.started": "2022-03-10T09:13:37.410329Z"
    },
    "tags": []
   },
   "outputs": [
    {
     "data": {
      "text/plain": [
       "int"
      ]
     },
     "execution_count": 62,
     "metadata": {},
     "output_type": "execute_result"
    }
   ],
   "source": [
    "type(123) # 判断基本类型和"
   ]
  },
  {
   "cell_type": "code",
   "execution_count": 63,
   "id": "4f51a304-1765-40d5-87f5-e1f37966f48c",
   "metadata": {
    "execution": {
     "iopub.execute_input": "2022-03-10T09:13:52.330419Z",
     "iopub.status.busy": "2022-03-10T09:13:52.330419Z",
     "iopub.status.idle": "2022-03-10T09:13:52.335405Z",
     "shell.execute_reply": "2022-03-10T09:13:52.335405Z",
     "shell.execute_reply.started": "2022-03-10T09:13:52.330419Z"
    },
    "tags": []
   },
   "outputs": [
    {
     "data": {
      "text/plain": [
       "False"
      ]
     },
     "execution_count": 63,
     "metadata": {},
     "output_type": "execute_result"
    }
   ],
   "source": [
    "type('abc') == type(123)"
   ]
  },
  {
   "cell_type": "code",
   "execution_count": 66,
   "id": "18733c90-b0c3-4459-a0e5-a61557cdd85a",
   "metadata": {
    "execution": {
     "iopub.execute_input": "2022-03-10T09:15:49.444015Z",
     "iopub.status.busy": "2022-03-10T09:15:49.443016Z",
     "iopub.status.idle": "2022-03-10T09:15:49.459002Z",
     "shell.execute_reply": "2022-03-10T09:15:49.459002Z",
     "shell.execute_reply.started": "2022-03-10T09:15:49.444015Z"
    },
    "tags": []
   },
   "outputs": [
    {
     "name": "stdout",
     "output_type": "stream",
     "text": [
      "True\n",
      "True\n",
      "True\n",
      "True\n"
     ]
    }
   ],
   "source": [
    "## 判断一个函数是否是函数\n",
    "import types\n",
    "\n",
    "def fn():\n",
    "    pass\n",
    "\n",
    "print(type(fn)==types.FunctionType)\n",
    "print(type(abs)==types.BuiltinFunctionType)\n",
    "print(type(lambda x: x)==types.LambdaType)\n",
    "print(type((x for x in range(10)))==types.GeneratorType)\n"
   ]
  },
  {
   "cell_type": "markdown",
   "id": "45aa7fd3-c2ee-4f6d-ac4d-537f2f2104a4",
   "metadata": {},
   "source": [
    "* 使用type()判断的都能用使用isinstance()判断"
   ]
  },
  {
   "cell_type": "code",
   "execution_count": 68,
   "id": "a50206a1-fabb-427f-a601-f59e03e00e44",
   "metadata": {
    "execution": {
     "iopub.execute_input": "2022-03-10T09:17:08.711994Z",
     "iopub.status.busy": "2022-03-10T09:17:08.711994Z",
     "iopub.status.idle": "2022-03-10T09:17:08.723962Z",
     "shell.execute_reply": "2022-03-10T09:17:08.723962Z",
     "shell.execute_reply.started": "2022-03-10T09:17:08.711994Z"
    },
    "tags": []
   },
   "outputs": [
    {
     "data": {
      "text/plain": [
       "True"
      ]
     },
     "execution_count": 68,
     "metadata": {},
     "output_type": "execute_result"
    }
   ],
   "source": [
    "isinstance(cat, Animal)"
   ]
  },
  {
   "cell_type": "code",
   "execution_count": 70,
   "id": "429a1249-9951-41e0-9add-62070b3f4b5a",
   "metadata": {
    "execution": {
     "iopub.execute_input": "2022-03-10T09:17:57.264943Z",
     "iopub.status.busy": "2022-03-10T09:17:57.263947Z",
     "iopub.status.idle": "2022-03-10T09:17:57.272923Z",
     "shell.execute_reply": "2022-03-10T09:17:57.272923Z",
     "shell.execute_reply.started": "2022-03-10T09:17:57.264943Z"
    },
    "tags": []
   },
   "outputs": [
    {
     "data": {
      "text/plain": [
       "True"
      ]
     },
     "execution_count": 70,
     "metadata": {},
     "output_type": "execute_result"
    }
   ],
   "source": [
    "isinstance([1, 2, 3], (list, tuple)) # 判断视list还是tuple"
   ]
  },
  {
   "cell_type": "markdown",
   "id": "af624071-30f8-42dc-8e1b-e8077cb9d169",
   "metadata": {},
   "source": [
    "* 使用dir()"
   ]
  },
  {
   "cell_type": "code",
   "execution_count": 73,
   "id": "7848189b-d88f-4b24-8248-b166037a4946",
   "metadata": {
    "execution": {
     "iopub.execute_input": "2022-03-10T09:19:21.487143Z",
     "iopub.status.busy": "2022-03-10T09:19:21.487143Z",
     "iopub.status.idle": "2022-03-10T09:19:21.490135Z",
     "shell.execute_reply": "2022-03-10T09:19:21.490135Z",
     "shell.execute_reply.started": "2022-03-10T09:19:21.487143Z"
    },
    "tags": []
   },
   "outputs": [
    {
     "name": "stdout",
     "output_type": "stream",
     "text": [
      "['__add__', '__class__', '__contains__', '__delattr__', '__dir__', '__doc__', '__eq__', '__format__', '__ge__', '__getattribute__', '__getitem__', '__getnewargs__', '__gt__', '__hash__', '__init__', '__init_subclass__', '__iter__', '__le__', '__len__', '__lt__', '__mod__', '__mul__', '__ne__', '__new__', '__reduce__', '__reduce_ex__', '__repr__', '__rmod__', '__rmul__', '__setattr__', '__sizeof__', '__str__', '__subclasshook__', 'capitalize', 'casefold', 'center', 'count', 'encode', 'endswith', 'expandtabs', 'find', 'format', 'format_map', 'index', 'isalnum', 'isalpha', 'isascii', 'isdecimal', 'isdigit', 'isidentifier', 'islower', 'isnumeric', 'isprintable', 'isspace', 'istitle', 'isupper', 'join', 'ljust', 'lower', 'lstrip', 'maketrans', 'partition', 'replace', 'rfind', 'rindex', 'rjust', 'rpartition', 'rsplit', 'rstrip', 'split', 'splitlines', 'startswith', 'strip', 'swapcase', 'title', 'translate', 'upper', 'zfill']\n"
     ]
    }
   ],
   "source": [
    "## 获得str对象的所有属性和方法\n",
    "print(dir('123'))"
   ]
  },
  {
   "cell_type": "code",
   "execution_count": 79,
   "id": "d69cdda2-5ae4-42be-a6be-8396e6fc0173",
   "metadata": {
    "execution": {
     "iopub.execute_input": "2022-03-10T09:22:17.218562Z",
     "iopub.status.busy": "2022-03-10T09:22:17.218562Z",
     "iopub.status.idle": "2022-03-10T09:22:17.226541Z",
     "shell.execute_reply": "2022-03-10T09:22:17.226541Z",
     "shell.execute_reply.started": "2022-03-10T09:22:17.218562Z"
    },
    "tags": []
   },
   "outputs": [
    {
     "data": {
      "text/plain": [
       "True"
      ]
     },
     "execution_count": 79,
     "metadata": {},
     "output_type": "execute_result"
    }
   ],
   "source": [
    "len('123') == '123'.__len__()"
   ]
  },
  {
   "cell_type": "code",
   "execution_count": 311,
   "id": "80b1110c-6e70-4f46-b175-ea89eb1162a9",
   "metadata": {
    "execution": {
     "iopub.execute_input": "2022-04-05T09:48:04.064362Z",
     "iopub.status.busy": "2022-04-05T09:48:04.063596Z",
     "iopub.status.idle": "2022-04-05T09:48:04.071595Z",
     "shell.execute_reply": "2022-04-05T09:48:04.070635Z",
     "shell.execute_reply.started": "2022-04-05T09:48:04.064270Z"
    },
    "tags": []
   },
   "outputs": [
    {
     "data": {
      "text/plain": [
       "100"
      ]
     },
     "execution_count": 311,
     "metadata": {},
     "output_type": "execute_result"
    }
   ],
   "source": [
    "# 让自己的类存在len(object)方法\n",
    "class MyDog(object):\n",
    "    def __len__(self):\n",
    "         return 100\n",
    "\n",
    "dog = MyDog()\n",
    "len(dog)"
   ]
  },
  {
   "cell_type": "markdown",
   "id": "78422320-dcd7-4cbc-8ce5-4c6ebb5fe20a",
   "metadata": {},
   "source": [
    "* 配合getattr()、setattr()以及hasattr()可以直接操作一个对象状态"
   ]
  },
  {
   "cell_type": "code",
   "execution_count": 92,
   "id": "eecad6d8-d56b-4f8b-b473-d0d9b6f1db35",
   "metadata": {
    "execution": {
     "iopub.execute_input": "2022-03-10T09:42:44.608839Z",
     "iopub.status.busy": "2022-03-10T09:42:44.608839Z",
     "iopub.status.idle": "2022-03-10T09:42:44.618812Z",
     "shell.execute_reply": "2022-03-10T09:42:44.618812Z",
     "shell.execute_reply.started": "2022-03-10T09:42:44.608839Z"
    },
    "tags": []
   },
   "outputs": [
    {
     "name": "stdout",
     "output_type": "stream",
     "text": [
      "True\n",
      "None\n",
      "19\n",
      "404\n"
     ]
    }
   ],
   "source": [
    "class MyObject(object):\n",
    "    def __init__(self):\n",
    "        self.x = 9\n",
    "    def power(self):\n",
    "        return self.x * self.x\n",
    "\n",
    "obj = MyObject()\n",
    "print(hasattr(obj, 'x')) # 有属性'x'吗？\n",
    "print(setattr(obj, 'y', 19)) # 设置'y'属性为19\n",
    "print(getattr(obj, 'y')) # 获取y属性\n",
    "print(getattr(obj, 'z', 404)) # z属性不存在返回默认值得404"
   ]
  },
  {
   "cell_type": "code",
   "execution_count": 93,
   "id": "9c94a6ba-3795-4f66-ba85-5a725e8ac45c",
   "metadata": {
    "execution": {
     "iopub.execute_input": "2022-03-10T09:42:45.372795Z",
     "iopub.status.busy": "2022-03-10T09:42:45.371798Z",
     "iopub.status.idle": "2022-03-10T09:42:45.375787Z",
     "shell.execute_reply": "2022-03-10T09:42:45.375787Z",
     "shell.execute_reply.started": "2022-03-10T09:42:45.372795Z"
    },
    "tags": []
   },
   "outputs": [
    {
     "name": "stdout",
     "output_type": "stream",
     "text": [
      "['__class__', '__delattr__', '__dict__', '__dir__', '__doc__', '__eq__', '__format__', '__ge__', '__getattribute__', '__gt__', '__hash__', '__init__', '__init_subclass__', '__le__', '__lt__', '__module__', '__ne__', '__new__', '__reduce__', '__reduce_ex__', '__repr__', '__setattr__', '__sizeof__', '__str__', '__subclasshook__', '__weakref__', 'power', 'x', 'y']\n"
     ]
    }
   ],
   "source": [
    "print(dir(obj))"
   ]
  },
  {
   "cell_type": "markdown",
   "id": "c9f2c566-0d62-4169-9fba-44aadafbd9c6",
   "metadata": {},
   "source": [
    "### 实例属性和类属性"
   ]
  },
  {
   "cell_type": "markdown",
   "id": "5b91edd4-9dd8-40c2-95ed-44ee2727612e",
   "metadata": {},
   "source": [
    "从下面的例子可以看出，千万**不要对实例属性和类属性使用相同的名字**，因为相同名称的实例属性将屏蔽掉类属性，但是当你删除实例属性后，再使用相同的名称，访问到的将是类属性"
   ]
  },
  {
   "cell_type": "code",
   "execution_count": 91,
   "id": "f83c5dab-4392-45a5-b545-c01305e3a839",
   "metadata": {
    "execution": {
     "iopub.execute_input": "2022-03-10T09:41:22.482468Z",
     "iopub.status.busy": "2022-03-10T09:41:22.482468Z",
     "iopub.status.idle": "2022-03-10T09:41:22.492441Z",
     "shell.execute_reply": "2022-03-10T09:41:22.492441Z",
     "shell.execute_reply.started": "2022-03-10T09:41:22.482468Z"
    },
    "tags": []
   },
   "outputs": [
    {
     "name": "stdout",
     "output_type": "stream",
     "text": [
      "Student\n",
      "Student\n",
      "Michael\n",
      "Student\n",
      "Student\n"
     ]
    }
   ],
   "source": [
    "# 直接定义类的属性\n",
    "class Student:\n",
    "    name = 'Student'\n",
    "\n",
    "s = Student()\n",
    "print(s.name) # 打印name属性，因为实例并没有name属性，所以会继续查找class的name属性\n",
    "print(Student.name) # 打印类的name属性\n",
    "s.name = 'Michael' # 给实例绑定name属性\n",
    "print(s.name) # 由于实例属性优先级比类属性高，因此，它会屏蔽掉类的name属性\n",
    "print(Student.name) # 但是类属性并未消失，用Student.name仍然可以访问\n",
    "del s.name # 如果删除实例的name属性\n",
    "print(s.name) # 再次调用s.name，由于实例的name属性没有找到，类的name属性就显示出来了"
   ]
  },
  {
   "cell_type": "markdown",
   "id": "1e57cd49-3a02-45c9-9297-17600e5cc71a",
   "metadata": {},
   "source": [
    "## 面向对象高级编程"
   ]
  },
  {
   "cell_type": "markdown",
   "id": "bc491f77-989d-480b-bd8b-70c42d8c35c4",
   "metadata": {},
   "source": [
    "### 使用__slots__"
   ]
  },
  {
   "cell_type": "markdown",
   "id": "bf240171-6083-4842-bfaa-bbc6dcfb323d",
   "metadata": {},
   "source": [
    "* 实例绑定的方法对另一个实例是不起作用的，只有与类直接绑定\n",
    "* 使用`__slots__`可以对实例的属性添加限制\n",
    "* `__slots__`定义的属性仅对当前的实例起作用，对**继承子类**不起作用"
   ]
  },
  {
   "cell_type": "code",
   "execution_count": 315,
   "id": "03590a68-b7c1-4ebf-8b45-d3242c236627",
   "metadata": {
    "execution": {
     "iopub.execute_input": "2022-04-05T11:28:11.033637Z",
     "iopub.status.busy": "2022-04-05T11:28:11.033285Z",
     "iopub.status.idle": "2022-04-05T11:28:11.039050Z",
     "shell.execute_reply": "2022-04-05T11:28:11.037991Z",
     "shell.execute_reply.started": "2022-04-05T11:28:11.033606Z"
    },
    "tags": []
   },
   "outputs": [],
   "source": [
    "# 创建一个实例\n",
    "class Student():\n",
    "    pass\n",
    "\n",
    "s = Student() \n",
    "# 给实例绑定一个属性\n",
    "s.name = 'Bob'"
   ]
  },
  {
   "cell_type": "code",
   "execution_count": 318,
   "id": "5907ac0d-54fc-46ec-94ce-b29f541dea86",
   "metadata": {
    "execution": {
     "iopub.execute_input": "2022-04-05T11:28:16.881968Z",
     "iopub.status.busy": "2022-04-05T11:28:16.881392Z",
     "iopub.status.idle": "2022-04-05T11:28:16.895637Z",
     "shell.execute_reply": "2022-04-05T11:28:16.894896Z",
     "shell.execute_reply.started": "2022-04-05T11:28:16.881886Z"
    },
    "tags": []
   },
   "outputs": [
    {
     "data": {
      "text/plain": [
       "25"
      ]
     },
     "execution_count": 318,
     "metadata": {},
     "output_type": "execute_result"
    }
   ],
   "source": [
    "# 给实例添加一个方法\n",
    "def set_age(self, age):\n",
    "    self.age = age\n",
    "    \n",
    "from types import MethodType\n",
    "s.set_age = MethodType(set_age, s)\n",
    "s.set_age(25)\n",
    "s.age"
   ]
  },
  {
   "cell_type": "code",
   "execution_count": 319,
   "id": "7b6412fd-50b6-41cb-b15e-cb526aedd83c",
   "metadata": {
    "execution": {
     "iopub.execute_input": "2022-04-05T11:30:24.570098Z",
     "iopub.status.busy": "2022-04-05T11:30:24.569489Z",
     "iopub.status.idle": "2022-04-05T11:30:24.596779Z",
     "shell.execute_reply": "2022-04-05T11:30:24.593385Z",
     "shell.execute_reply.started": "2022-04-05T11:30:24.570061Z"
    },
    "tags": []
   },
   "outputs": [
    {
     "ename": "AttributeError",
     "evalue": "'Student' object has no attribute 'score'",
     "output_type": "error",
     "traceback": [
      "\u001b[0;31m---------------------------------------------------------------------------\u001b[0m",
      "\u001b[0;31mAttributeError\u001b[0m                            Traceback (most recent call last)",
      "Input \u001b[0;32mIn [319]\u001b[0m, in \u001b[0;36m<cell line: 6>\u001b[0;34m()\u001b[0m\n\u001b[1;32m      3\u001b[0m     \u001b[38;5;18m__slots__\u001b[39m \u001b[38;5;241m=\u001b[39m (\u001b[38;5;124m'\u001b[39m\u001b[38;5;124mname\u001b[39m\u001b[38;5;124m'\u001b[39m, \u001b[38;5;124m'\u001b[39m\u001b[38;5;124mage\u001b[39m\u001b[38;5;124m'\u001b[39m) \u001b[38;5;66;03m# 用tuple定义允许绑定的属性名称\u001b[39;00m\n\u001b[1;32m      5\u001b[0m s \u001b[38;5;241m=\u001b[39m Student()\n\u001b[0;32m----> 6\u001b[0m s\u001b[38;5;241m.\u001b[39mscore \u001b[38;5;241m=\u001b[39m \u001b[38;5;241m99\u001b[39m\n",
      "\u001b[0;31mAttributeError\u001b[0m: 'Student' object has no attribute 'score'"
     ]
    }
   ],
   "source": [
    "# 使用__slots__限制属性\n",
    "class Student(object):\n",
    "    __slots__ = ('name', 'age') # 用tuple定义允许绑定的属性名称\n",
    "\n",
    "s = Student()\n",
    "s.score = 99"
   ]
  },
  {
   "cell_type": "markdown",
   "id": "1490397e-0d08-4307-9f4d-aee8e0f7c78c",
   "metadata": {},
   "source": [
    "### 使用@property"
   ]
  },
  {
   "cell_type": "markdown",
   "id": "df14944d-66eb-4ff5-845c-477c70fd482d",
   "metadata": {},
   "source": [
    "* 在绑定属性中，如果直接把属性暴露出去，无法对参数进行检查\n",
    "* `Python`内置的`@property`负责把一个方法变成属性调用\n",
    "* 当不添加`setter`方法的时候，定义的属性就是一个**只读属性**\n",
    "* 要特别注意：属性的方法名不要和实例变量重名"
   ]
  },
  {
   "cell_type": "code",
   "execution_count": 329,
   "id": "a73ba89b-2e03-442d-a575-6309396f5e75",
   "metadata": {
    "execution": {
     "iopub.execute_input": "2022-04-05T11:53:05.819540Z",
     "iopub.status.busy": "2022-04-05T11:53:05.818665Z",
     "iopub.status.idle": "2022-04-05T11:53:05.829181Z",
     "shell.execute_reply": "2022-04-05T11:53:05.828143Z",
     "shell.execute_reply.started": "2022-04-05T11:53:05.819488Z"
    },
    "tags": []
   },
   "outputs": [],
   "source": [
    "# 一般类添加属性\n",
    "class Student(object):\n",
    "\n",
    "    def get_score(self):\n",
    "         return self._score\n",
    "\n",
    "    def set_score(self, value):\n",
    "        if not isinstance(value, int):\n",
    "            raise ValueError('score must be an integer!')\n",
    "        if value < 0 or value > 100:\n",
    "            raise ValueError('score must between 0 ~ 100!')\n",
    "        self._score = value"
   ]
  },
  {
   "cell_type": "code",
   "execution_count": 330,
   "id": "895488eb-9271-40b5-95ab-cdfa141fbdcd",
   "metadata": {
    "execution": {
     "iopub.execute_input": "2022-04-05T11:53:24.380606Z",
     "iopub.status.busy": "2022-04-05T11:53:24.380133Z",
     "iopub.status.idle": "2022-04-05T11:53:24.388802Z",
     "shell.execute_reply": "2022-04-05T11:53:24.387864Z",
     "shell.execute_reply.started": "2022-04-05T11:53:24.380573Z"
    },
    "tags": []
   },
   "outputs": [],
   "source": [
    "# 带有@property的类\n",
    "class Student(object):\n",
    "\n",
    "    @property\n",
    "    def score(self):\n",
    "        return self._score\n",
    "\n",
    "    @score.setter\n",
    "    def score(self, value):\n",
    "        if not isinstance(value, int):\n",
    "            raise ValueError('score must be an integer!')\n",
    "        if value < 0 or value > 100:\n",
    "            raise ValueError('score must between 0 ~ 100!')\n",
    "        self._score = value"
   ]
  },
  {
   "cell_type": "code",
   "execution_count": 331,
   "id": "6923428d-c7bb-49a8-94cd-62da0638c35d",
   "metadata": {
    "execution": {
     "iopub.execute_input": "2022-04-05T11:53:29.819198Z",
     "iopub.status.busy": "2022-04-05T11:53:29.818456Z",
     "iopub.status.idle": "2022-04-05T11:53:29.831959Z",
     "shell.execute_reply": "2022-04-05T11:53:29.830394Z",
     "shell.execute_reply.started": "2022-04-05T11:53:29.819135Z"
    },
    "tags": []
   },
   "outputs": [],
   "source": [
    "# Python练习的一个例子\n",
    "class Screen(object):\n",
    "    \n",
    "    @property\n",
    "    def width(self):\n",
    "        return self.__width\n",
    "    \n",
    "    @width.setter\n",
    "    def width(self, value):\n",
    "        self.__width = value\n",
    "    \n",
    "    @property\n",
    "    def height(self):\n",
    "        return self.__height\n",
    "    \n",
    "    @height.setter\n",
    "    def height(self, value):\n",
    "        self.__height = value\n",
    "        \n",
    "    @property\n",
    "    def resolution(self):\n",
    "        return self.width*self.height\n",
    "        "
   ]
  },
  {
   "cell_type": "code",
   "execution_count": 332,
   "id": "faa56096-566c-4fec-8884-c82243710a43",
   "metadata": {
    "execution": {
     "iopub.execute_input": "2022-04-05T11:53:31.277100Z",
     "iopub.status.busy": "2022-04-05T11:53:31.276725Z",
     "iopub.status.idle": "2022-04-05T11:53:31.283457Z",
     "shell.execute_reply": "2022-04-05T11:53:31.282515Z",
     "shell.execute_reply.started": "2022-04-05T11:53:31.277069Z"
    },
    "tags": []
   },
   "outputs": [
    {
     "name": "stdout",
     "output_type": "stream",
     "text": [
      "resolution = 786432\n",
      "测试通过!\n"
     ]
    }
   ],
   "source": [
    "# 测试:\n",
    "s = Screen()\n",
    "s.width = 1024\n",
    "s.height = 768\n",
    "print('resolution =', s.resolution)\n",
    "if s.resolution == 786432:\n",
    "    print('测试通过!')\n",
    "else:\n",
    "    print('测试失败!')"
   ]
  },
  {
   "cell_type": "markdown",
   "id": "44d3f044-4bd0-47e2-a1b4-153f0be2f6db",
   "metadata": {},
   "source": [
    "### 多重继承"
   ]
  },
  {
   "cell_type": "markdown",
   "id": "7d38b9db-7826-4bb0-9ee3-8dae7c8032a4",
   "metadata": {},
   "source": [
    "* 通过多重集成，一个子类就可以获得多个父类的所有功能\n",
    "* 在设计继承关系的过程中，主线都是单一继承下来的，可以同时混入多个类，利用`MixIn`实现多继承\n",
    "* 只允许单一继承的语言（如Java）不能使用MixIn的设计"
   ]
  },
  {
   "cell_type": "code",
   "execution_count": 336,
   "id": "7f544c01-7375-4044-883b-20310047cad5",
   "metadata": {
    "execution": {
     "iopub.execute_input": "2022-04-05T12:01:24.877148Z",
     "iopub.status.busy": "2022-04-05T12:01:24.876164Z",
     "iopub.status.idle": "2022-04-05T12:01:24.886853Z",
     "shell.execute_reply": "2022-04-05T12:01:24.885454Z",
     "shell.execute_reply.started": "2022-04-05T12:01:24.876990Z"
    },
    "tags": []
   },
   "outputs": [],
   "source": [
    "# 定义一些类\n",
    "class Animal(object):\n",
    "    pass\n",
    "\n",
    "# 大类:\n",
    "class Mammal(Animal):\n",
    "    pass\n",
    "\n",
    "class Bird(Animal):\n",
    "    pass\n",
    "\n",
    "# 各种动物:\n",
    "class Dog(Mammal):\n",
    "    pass\n",
    "\n",
    "class Bat(Mammal):\n",
    "    pass\n",
    "\n",
    "class Parrot(Bird):\n",
    "    pass\n",
    "\n",
    "class Ostrich(Bird):\n",
    "    pass"
   ]
  },
  {
   "cell_type": "code",
   "execution_count": 339,
   "id": "2325a6b1-587e-4aae-83a5-23d449a3005a",
   "metadata": {
    "execution": {
     "iopub.execute_input": "2022-04-05T12:04:47.610248Z",
     "iopub.status.busy": "2022-04-05T12:04:47.607837Z",
     "iopub.status.idle": "2022-04-05T12:04:47.617992Z",
     "shell.execute_reply": "2022-04-05T12:04:47.616259Z",
     "shell.execute_reply.started": "2022-04-05T12:04:47.610161Z"
    },
    "tags": []
   },
   "outputs": [],
   "source": [
    "# 定义更小的类\n",
    "class RunnableMixIn(object):\n",
    "    def run(self):\n",
    "        print('Running...')\n",
    "\n",
    "class FlyableMixIn(object):\n",
    "    def fly(self):\n",
    "        print('Flying...')"
   ]
  },
  {
   "cell_type": "code",
   "execution_count": 341,
   "id": "94b8d518-3e6b-470b-b1ab-79e586f8889f",
   "metadata": {
    "execution": {
     "iopub.execute_input": "2022-04-05T12:04:59.961182Z",
     "iopub.status.busy": "2022-04-05T12:04:59.960666Z",
     "iopub.status.idle": "2022-04-05T12:04:59.965880Z",
     "shell.execute_reply": "2022-04-05T12:04:59.965168Z",
     "shell.execute_reply.started": "2022-04-05T12:04:59.961126Z"
    },
    "tags": []
   },
   "outputs": [],
   "source": [
    "class Dog(Mammal, RunnableMixIn):\n",
    "    pass"
   ]
  },
  {
   "cell_type": "markdown",
   "id": "1f96a6e1-1c4b-4799-83f6-660f69dfd7f9",
   "metadata": {},
   "source": [
    "### 定制类"
   ]
  },
  {
   "cell_type": "markdown",
   "id": "2fb7b8f5-6f15-4a5c-a490-ba49f5e27358",
   "metadata": {},
   "source": [
    "* `Python`中的`class`允许定义许多定制方法，可以十分方便生成特定的类\n",
    "* 更多定制方法可以参考[Python官方文档](https://docs.python.org/3.9/reference/datamodel.html#special-method-names)\n",
    "* `__call__()`还可以定义参数，这就使得创建的对象和函数的边界十分模糊，因此我们可以用`callable()`函数判断一个对象是否能被调用"
   ]
  },
  {
   "cell_type": "code",
   "execution_count": 349,
   "id": "f7cbb370-dc72-402b-b0c8-981b5f732940",
   "metadata": {
    "execution": {
     "iopub.execute_input": "2022-04-06T07:00:07.312733Z",
     "iopub.status.busy": "2022-04-06T07:00:07.311667Z",
     "iopub.status.idle": "2022-04-06T07:00:07.320554Z",
     "shell.execute_reply": "2022-04-06T07:00:07.319184Z",
     "shell.execute_reply.started": "2022-04-06T07:00:07.312660Z"
    },
    "tags": []
   },
   "outputs": [
    {
     "data": {
      "text/plain": [
       "Student object (name=Michael)"
      ]
     },
     "execution_count": 349,
     "metadata": {},
     "output_type": "execute_result"
    }
   ],
   "source": [
    "# 定义__str__方法，可以返回包含实例属性的字符串\n",
    "class Student(object):\n",
    "    def __init__(self, name):\n",
    "        self.name = name\n",
    "    def __str__(self):\n",
    "        return 'Student object (name=%s)' % self.name\n",
    "    __repr__ = __str__ # 确保不使用print也可以使用\n",
    "\n",
    "s = Student('Michael')\n",
    "s"
   ]
  },
  {
   "cell_type": "code",
   "execution_count": 351,
   "id": "268e385f-3914-4ec9-be02-31d3bd19c6ba",
   "metadata": {
    "execution": {
     "iopub.execute_input": "2022-04-06T07:01:45.660200Z",
     "iopub.status.busy": "2022-04-06T07:01:45.659239Z",
     "iopub.status.idle": "2022-04-06T07:01:45.668412Z",
     "shell.execute_reply": "2022-04-06T07:01:45.667667Z",
     "shell.execute_reply.started": "2022-04-06T07:01:45.660145Z"
    },
    "tags": []
   },
   "outputs": [
    {
     "name": "stdout",
     "output_type": "stream",
     "text": [
      "1\n",
      "1\n",
      "2\n",
      "3\n",
      "5\n",
      "8\n"
     ]
    }
   ],
   "source": [
    "# 添加__iter__方法返回一个可迭代对象\n",
    "class Fib(object):\n",
    "    def __init__(self):\n",
    "        self.a, self.b = 0, 1 # 初始化两个计数器a，b\n",
    "\n",
    "    def __iter__(self):\n",
    "        return self # 实例本身就是迭代对象，故返回自己\n",
    "\n",
    "    def __next__(self):\n",
    "        self.a, self.b = self.b, self.a + self.b # 计算下一个值\n",
    "        if self.a > 10: # 退出循环的条件\n",
    "            raise StopIteration()\n",
    "        return self.a # 返回下一个值\n",
    "\n",
    "for n in Fib():\n",
    "    print(n)"
   ]
  },
  {
   "cell_type": "code",
   "execution_count": 353,
   "id": "9d792c23-4466-4bd3-ad7f-84cbad06bcfb",
   "metadata": {
    "execution": {
     "iopub.execute_input": "2022-04-06T07:06:11.618324Z",
     "iopub.status.busy": "2022-04-06T07:06:11.616771Z",
     "iopub.status.idle": "2022-04-06T07:06:11.629302Z",
     "shell.execute_reply": "2022-04-06T07:06:11.626694Z",
     "shell.execute_reply.started": "2022-04-06T07:06:11.618244Z"
    },
    "tags": []
   },
   "outputs": [
    {
     "data": {
      "text/plain": [
       "3"
      ]
     },
     "execution_count": 353,
     "metadata": {},
     "output_type": "execute_result"
    }
   ],
   "source": [
    "# 添加__getitem__方法，确保可以类似list一样索引\n",
    "class Fib(object):\n",
    "    def __getitem__(self, n):\n",
    "        a, b = 1, 1\n",
    "        for x in range(n):\n",
    "            a, b = b, a + b\n",
    "        return a\n",
    "    \n",
    "f = Fib()\n",
    "f[3]"
   ]
  },
  {
   "cell_type": "code",
   "execution_count": 357,
   "id": "86a268ed-5e31-4fe9-9f65-6c5b908f0fde",
   "metadata": {
    "execution": {
     "iopub.execute_input": "2022-04-06T07:22:08.575584Z",
     "iopub.status.busy": "2022-04-06T07:22:08.574906Z",
     "iopub.status.idle": "2022-04-06T07:22:08.585628Z",
     "shell.execute_reply": "2022-04-06T07:22:08.583887Z",
     "shell.execute_reply.started": "2022-04-06T07:22:08.575548Z"
    },
    "tags": []
   },
   "outputs": [
    {
     "data": {
      "text/plain": [
       "25"
      ]
     },
     "execution_count": 357,
     "metadata": {},
     "output_type": "execute_result"
    }
   ],
   "source": [
    "# 添加__getattr__方法，返回不存在的属性值\n",
    "class Student(object):\n",
    "\n",
    "    def __getattr__(self, attr):\n",
    "        if attr=='age':\n",
    "            return lambda: 25\n",
    "        raise AttributeError('\\'Student\\' object has no attribute \\'%s\\'' % attr)\n",
    "\n",
    "s = Student()\n",
    "s.age()"
   ]
  },
  {
   "cell_type": "code",
   "execution_count": 358,
   "id": "46babda2-504f-4196-b7de-327760ff2e61",
   "metadata": {
    "execution": {
     "iopub.execute_input": "2022-04-06T07:25:19.489513Z",
     "iopub.status.busy": "2022-04-06T07:25:19.488609Z",
     "iopub.status.idle": "2022-04-06T07:25:19.501023Z",
     "shell.execute_reply": "2022-04-06T07:25:19.500008Z",
     "shell.execute_reply.started": "2022-04-06T07:25:19.489447Z"
    },
    "tags": []
   },
   "outputs": [
    {
     "name": "stdout",
     "output_type": "stream",
     "text": [
      "My name is Bob.\n"
     ]
    }
   ],
   "source": [
    "# 添加__call__，调用实例自身方法\n",
    "class Student():\n",
    "    def __init__(self, name):\n",
    "        self.name = name\n",
    "    \n",
    "    def __call__(self):\n",
    "        print('My name is %s.' % self.name)\n",
    "\n",
    "s = Student('Bob')\n",
    "s()"
   ]
  },
  {
   "cell_type": "markdown",
   "id": "867c5d76-5ac3-4304-bb7c-2080d9f8e87a",
   "metadata": {},
   "source": [
    "### 使用枚举类"
   ]
  },
  {
   "cell_type": "markdown",
   "id": "bb78d4c1-ffc2-4af2-a085-4443ef0611d2",
   "metadata": {},
   "source": [
    "* 可以通过**大写变量**来定义整数常量，优点是简单，缺点就是只有`int`类型，仍是变量\n",
    "* `Enum`可以把一组相关常量定义在一个`class`中，且`class`不可变，成员可以直接比较\n",
    "* 使用`Enum`提供模块，它定义了一个`class`类型，每个常量都是`class`的唯一实例"
   ]
  },
  {
   "cell_type": "code",
   "execution_count": 361,
   "id": "86e56b59-718b-4e8a-83fc-31eadd2f7b12",
   "metadata": {
    "execution": {
     "iopub.execute_input": "2022-04-06T08:03:09.530512Z",
     "iopub.status.busy": "2022-04-06T08:03:09.529118Z",
     "iopub.status.idle": "2022-04-06T08:03:09.551058Z",
     "shell.execute_reply": "2022-04-06T08:03:09.546380Z",
     "shell.execute_reply.started": "2022-04-06T08:03:09.530379Z"
    },
    "tags": []
   },
   "outputs": [
    {
     "name": "stdout",
     "output_type": "stream",
     "text": [
      "Jan => Month.Jan , 1\n",
      "Feb => Month.Feb , 2\n",
      "Mar => Month.Mar , 3\n",
      "Apr => Month.Apr , 4\n",
      "May => Month.May , 5\n",
      "Jun => Month.Jun , 6\n",
      "Jul => Month.Jul , 7\n",
      "Aug => Month.Aug , 8\n",
      "Sep => Month.Sep , 9\n",
      "Oct => Month.Oct , 10\n",
      "Nov => Month.Nov , 11\n",
      "Dec => Month.Dec , 12\n"
     ]
    }
   ],
   "source": [
    "# 使用Enum来实现枚举常量功能\n",
    "from enum import Enum\n",
    "\n",
    "Month = Enum('Month', ('Jan', 'Feb', 'Mar', 'Apr', 'May', \n",
    "                       'Jun', 'Jul', 'Aug', 'Sep', 'Oct', 'Nov', 'Dec'))\n",
    "\n",
    "for name, member in Month.__members__.items():\n",
    "    print(name, '=>', member, ',', member.value)"
   ]
  },
  {
   "cell_type": "code",
   "execution_count": 362,
   "id": "b26e214b-5d6d-4d95-a0bb-2ba3f0ef5494",
   "metadata": {
    "execution": {
     "iopub.execute_input": "2022-04-06T08:04:10.587142Z",
     "iopub.status.busy": "2022-04-06T08:04:10.586060Z",
     "iopub.status.idle": "2022-04-06T08:04:10.592826Z",
     "shell.execute_reply": "2022-04-06T08:04:10.591899Z",
     "shell.execute_reply.started": "2022-04-06T08:04:10.587097Z"
    }
   },
   "outputs": [],
   "source": [
    "# 从Enum自定义类，@unique装饰器可以帮助我们检查保证没有重复值\n",
    "from enum import Enum, unique\n",
    "\n",
    "@unique\n",
    "class Weekday(Enum):\n",
    "    Sun = 0 # Sun的value被设定为0\n",
    "    Mon = 1\n",
    "    Tue = 2\n",
    "    Wed = 3\n",
    "    Thu = 4\n",
    "    Fri = 5\n",
    "    Sat = 6"
   ]
  },
  {
   "cell_type": "code",
   "execution_count": 365,
   "id": "3bc86343-2ef5-4068-b300-b56e820d556d",
   "metadata": {
    "execution": {
     "iopub.execute_input": "2022-04-06T08:04:52.440988Z",
     "iopub.status.busy": "2022-04-06T08:04:52.440299Z",
     "iopub.status.idle": "2022-04-06T08:04:52.448547Z",
     "shell.execute_reply": "2022-04-06T08:04:52.447580Z",
     "shell.execute_reply.started": "2022-04-06T08:04:52.440878Z"
    },
    "tags": []
   },
   "outputs": [
    {
     "data": {
      "text/plain": [
       "2"
      ]
     },
     "execution_count": 365,
     "metadata": {},
     "output_type": "execute_result"
    }
   ],
   "source": [
    "# 访问自定义枚举类型\n",
    "Weekday.Tue.value"
   ]
  },
  {
   "cell_type": "code",
   "execution_count": 373,
   "id": "bfc49f19-2e6a-4e3c-be95-b6090fec898a",
   "metadata": {
    "execution": {
     "iopub.execute_input": "2022-04-06T08:09:15.647961Z",
     "iopub.status.busy": "2022-04-06T08:09:15.646907Z",
     "iopub.status.idle": "2022-04-06T08:09:15.658431Z",
     "shell.execute_reply": "2022-04-06T08:09:15.657037Z",
     "shell.execute_reply.started": "2022-04-06T08:09:15.647900Z"
    },
    "tags": []
   },
   "outputs": [
    {
     "data": {
      "text/plain": [
       "<Weekday.Mon: 1>"
      ]
     },
     "execution_count": 373,
     "metadata": {},
     "output_type": "execute_result"
    }
   ],
   "source": [
    "Weekday.Mon"
   ]
  },
  {
   "cell_type": "code",
   "execution_count": 368,
   "id": "1f661ddd-b338-4f8b-97d2-f50e6fe30f04",
   "metadata": {
    "execution": {
     "iopub.execute_input": "2022-04-06T08:05:44.655762Z",
     "iopub.status.busy": "2022-04-06T08:05:44.654488Z",
     "iopub.status.idle": "2022-04-06T08:05:44.662379Z",
     "shell.execute_reply": "2022-04-06T08:05:44.661103Z",
     "shell.execute_reply.started": "2022-04-06T08:05:44.655690Z"
    }
   },
   "outputs": [
    {
     "data": {
      "text/plain": [
       "<Weekday.Mon: 1>"
      ]
     },
     "execution_count": 368,
     "metadata": {},
     "output_type": "execute_result"
    }
   ],
   "source": [
    "Weekday['Mon']"
   ]
  },
  {
   "cell_type": "code",
   "execution_count": 371,
   "id": "991b87bf-f9e2-4c01-887a-0fd585647467",
   "metadata": {
    "execution": {
     "iopub.execute_input": "2022-04-06T08:06:19.471538Z",
     "iopub.status.busy": "2022-04-06T08:06:19.470356Z",
     "iopub.status.idle": "2022-04-06T08:06:19.478845Z",
     "shell.execute_reply": "2022-04-06T08:06:19.477532Z",
     "shell.execute_reply.started": "2022-04-06T08:06:19.471449Z"
    },
    "tags": []
   },
   "outputs": [
    {
     "data": {
      "text/plain": [
       "'Mon'"
      ]
     },
     "execution_count": 371,
     "metadata": {},
     "output_type": "execute_result"
    }
   ],
   "source": [
    "Weekday(1).name"
   ]
  },
  {
   "cell_type": "markdown",
   "id": "0c43f15e-0fdc-423f-90cf-2f3c7af322a4",
   "metadata": {},
   "source": [
    "### 使用元类"
   ]
  },
  {
   "cell_type": "markdown",
   "id": "5275021a-5971-40e2-afa7-fdf4d6ee9a33",
   "metadata": {},
   "source": [
    "* 使用`type()`可以动态创建一个类，第一个参数是`class`名称，第二个参数是所要继承的类，第三个是`class`方法与函数的绑定\n",
    "* 使用`Metaclass`创建元类，可以把类看成是`metaclass`创建出来的*实例*\n",
    "* 先定义`metaclass`，就可以创建类，最后创建实例"
   ]
  },
  {
   "cell_type": "code",
   "execution_count": 378,
   "id": "bf076364-2db6-44a2-af79-070b217466ad",
   "metadata": {
    "execution": {
     "iopub.execute_input": "2022-04-06T08:19:10.482148Z",
     "iopub.status.busy": "2022-04-06T08:19:10.481500Z",
     "iopub.status.idle": "2022-04-06T08:19:10.493884Z",
     "shell.execute_reply": "2022-04-06T08:19:10.492926Z",
     "shell.execute_reply.started": "2022-04-06T08:19:10.482101Z"
    },
    "tags": []
   },
   "outputs": [
    {
     "name": "stdout",
     "output_type": "stream",
     "text": [
      "HELLO, world \n"
     ]
    }
   ],
   "source": [
    "# 使用type()动态创建一个类\n",
    "def fn(self, name='world'):\n",
    "    print('HELLO, %s ' %name)\n",
    "\n",
    "Hello = type('Hello', (object,), dict(hello=fn))\n",
    "h = Hello()\n",
    "h.hello()"
   ]
  },
  {
   "cell_type": "markdown",
   "id": "f0535e59-e7b1-4cb6-8484-57491d13c35d",
   "metadata": {},
   "source": [
    "## 错误、处理和测试"
   ]
  },
  {
   "cell_type": "markdown",
   "id": "910bc138-8e97-4fcb-ba18-f029f02e2fe3",
   "metadata": {},
   "source": [
    "1. 常见错误类型\n",
    "    * 程序编写过程中造成的错误称为BUG\n",
    "    * 用户输入造成的错误\n",
    "    * 无法在程序运行过程中预测的错误，例如：磁盘爆满或是网络掉线等\n",
    "2. **调试**：跟踪程序执行，查看变量值的过程\n",
    "3. **测试**：编写案例对程序进行测试也很重要\n",
    "4. 点击查看[Python内置错误类型及其集成关系](https://docs.python.org/3.8/library/exceptions.html#exception-hierarchy)"
   ]
  },
  {
   "cell_type": "markdown",
   "id": "3a9e5bc3-6a76-442f-9b31-1ea1a6203b46",
   "metadata": {},
   "source": [
    "### 错误处理"
   ]
  },
  {
   "cell_type": "markdown",
   "id": "d6a0c338-2c03-4668-8836-8902d05d9d43",
   "metadata": {},
   "source": [
    "#### 内置错误捕获"
   ]
  },
  {
   "cell_type": "code",
   "execution_count": 408,
   "id": "6ce9fb16-5de7-4c91-bb0e-bdd9d0f8599b",
   "metadata": {
    "execution": {
     "iopub.execute_input": "2022-04-06T09:20:29.641562Z",
     "iopub.status.busy": "2022-04-06T09:20:29.641095Z",
     "iopub.status.idle": "2022-04-06T09:20:29.649714Z",
     "shell.execute_reply": "2022-04-06T09:20:29.648995Z",
     "shell.execute_reply.started": "2022-04-06T09:20:29.641533Z"
    },
    "tags": []
   },
   "outputs": [
    {
     "name": "stdout",
     "output_type": "stream",
     "text": [
      "try...\n",
      "ValueError: invalid literal for int() with base 10: 'a'\n",
      "finally...\n",
      "END\n"
     ]
    }
   ],
   "source": [
    "try:  # 先执行try部分\n",
    "    print('try...')\n",
    "    r = 10 / int('a')\n",
    "    print('result:', r)\n",
    "except ValueError as e:  # 多个except捕获不同错误类型，不写明类型的时候默认所有\n",
    "    print('ValueError:', e)\n",
    "except ZeroDivisionError as e:\n",
    "    print('ZeroDivisionError:', e)\n",
    "else: # 没有错误的时候执行这一部分\n",
    "    print('no errors')\n",
    "finally:  # 这部分始终被执行\n",
    "    print('finally...') \n",
    "print('END')"
   ]
  },
  {
   "cell_type": "code",
   "execution_count": 403,
   "id": "70ebcfe1-ef1f-4c1f-a0ab-babb75772b7d",
   "metadata": {
    "execution": {
     "iopub.execute_input": "2022-04-06T09:18:43.975103Z",
     "iopub.status.busy": "2022-04-06T09:18:43.974134Z",
     "iopub.status.idle": "2022-04-06T09:18:43.982657Z",
     "shell.execute_reply": "2022-04-06T09:18:43.981372Z",
     "shell.execute_reply.started": "2022-04-06T09:18:43.975060Z"
    },
    "tags": []
   },
   "outputs": [
    {
     "name": "stdout",
     "output_type": "stream",
     "text": [
      "ValueError\n"
     ]
    }
   ],
   "source": [
    "# UnicodeError是ValueError的一个子类，因此第二个except很难捕获到\n",
    "def foo(s):\n",
    "    return 10 / int(s)\n",
    "    \n",
    "try:\n",
    "    foo('a')\n",
    "except ValueError as e:\n",
    "    print('ValueError')\n",
    "except UnicodeError as e:\n",
    "    print('UnicodeError')"
   ]
  },
  {
   "cell_type": "markdown",
   "id": "10fc09d8-d658-4b9a-920e-586d61b72213",
   "metadata": {},
   "source": [
    "#### 调用栈"
   ]
  },
  {
   "cell_type": "markdown",
   "id": "2519748a-6c89-43f6-87f6-22aacca6dd96",
   "metadata": {},
   "source": [
    "* 如果错误没有被捕获到，Python解释器会一直往上抛，直到程序退出\n",
    "* 我们要根据抛出的错误信息，定位错误位置\n",
    "![](https://shaohan-yun.oss-cn-beijing.aliyuncs.com/my_blog/20220406173313.png)"
   ]
  },
  {
   "cell_type": "markdown",
   "id": "45b58b7f-3e01-4d02-adc1-21d09b80c1e9",
   "metadata": {},
   "source": [
    "#### 记录错误"
   ]
  },
  {
   "cell_type": "markdown",
   "id": "3de40fd1-db1c-44c5-a98b-bac1b2574f4f",
   "metadata": {},
   "source": [
    "* 同样是出错，但程序打印完错误信息后会继续执行，并正常退出\n",
    "* `logging`还可以把错误记录到日志文件，方便事后排查"
   ]
  },
  {
   "cell_type": "code",
   "execution_count": 409,
   "id": "07be6489-95bd-4d97-91b4-675c31205703",
   "metadata": {
    "execution": {
     "iopub.execute_input": "2022-04-06T09:37:04.962482Z",
     "iopub.status.busy": "2022-04-06T09:37:04.961478Z",
     "iopub.status.idle": "2022-04-06T09:37:04.970534Z",
     "shell.execute_reply": "2022-04-06T09:37:04.969738Z",
     "shell.execute_reply.started": "2022-04-06T09:37:04.962424Z"
    },
    "tags": []
   },
   "outputs": [
    {
     "name": "stderr",
     "output_type": "stream",
     "text": [
      "ERROR:root:division by zero\n",
      "Traceback (most recent call last):\n",
      "  File \"/tmp/ipykernel_31646/1371240815.py\", line 11, in main\n",
      "    bar('0')\n",
      "  File \"/tmp/ipykernel_31646/1371240815.py\", line 7, in bar\n",
      "    return foo(s) * 2\n",
      "  File \"/tmp/ipykernel_31646/1371240815.py\", line 4, in foo\n",
      "    return 10 / int(s)\n",
      "ZeroDivisionError: division by zero\n"
     ]
    },
    {
     "name": "stdout",
     "output_type": "stream",
     "text": [
      "END\n"
     ]
    }
   ],
   "source": [
    "import logging\n",
    "\n",
    "def foo(s):\n",
    "    return 10 / int(s)\n",
    "\n",
    "def bar(s):\n",
    "    return foo(s) * 2\n",
    "\n",
    "def main():\n",
    "    try:\n",
    "        bar('0')\n",
    "    except Exception as e:\n",
    "        logging.exception(e)\n",
    "\n",
    "main()\n",
    "print('END')"
   ]
  },
  {
   "cell_type": "markdown",
   "id": "f1c02a35-e88e-4ca8-9441-6f012b62517e",
   "metadata": {},
   "source": [
    "#### 抛出错误"
   ]
  },
  {
   "cell_type": "markdown",
   "id": "3b6c3131-96a6-4aae-b3ab-bb90329793d5",
   "metadata": {},
   "source": [
    "* 一个错误也是`class`类型，因此可根据继承关系自定义错误\n",
    "* 建议尽量使用`Python`内置错误类型"
   ]
  },
  {
   "cell_type": "code",
   "execution_count": 410,
   "id": "2e69a7b5-f35b-47fd-bcde-9e3e38f07e0a",
   "metadata": {
    "execution": {
     "iopub.execute_input": "2022-04-06T09:49:48.218558Z",
     "iopub.status.busy": "2022-04-06T09:49:48.217896Z",
     "iopub.status.idle": "2022-04-06T09:49:48.257784Z",
     "shell.execute_reply": "2022-04-06T09:49:48.256558Z",
     "shell.execute_reply.started": "2022-04-06T09:49:48.218515Z"
    },
    "tags": []
   },
   "outputs": [
    {
     "ename": "FooError",
     "evalue": "invalid value: 0",
     "output_type": "error",
     "traceback": [
      "\u001b[0;31m---------------------------------------------------------------------------\u001b[0m",
      "\u001b[0;31mFooError\u001b[0m                                  Traceback (most recent call last)",
      "Input \u001b[0;32mIn [410]\u001b[0m, in \u001b[0;36m<cell line: 11>\u001b[0;34m()\u001b[0m\n\u001b[1;32m      8\u001b[0m         \u001b[38;5;28;01mraise\u001b[39;00m FooError(\u001b[38;5;124m'\u001b[39m\u001b[38;5;124minvalid value: \u001b[39m\u001b[38;5;132;01m%s\u001b[39;00m\u001b[38;5;124m'\u001b[39m \u001b[38;5;241m%\u001b[39m s)\n\u001b[1;32m      9\u001b[0m     \u001b[38;5;28;01mreturn\u001b[39;00m \u001b[38;5;241m10\u001b[39m \u001b[38;5;241m/\u001b[39m n\n\u001b[0;32m---> 11\u001b[0m \u001b[43mfoo\u001b[49m\u001b[43m(\u001b[49m\u001b[38;5;124;43m'\u001b[39;49m\u001b[38;5;124;43m0\u001b[39;49m\u001b[38;5;124;43m'\u001b[39;49m\u001b[43m)\u001b[49m\n",
      "Input \u001b[0;32mIn [410]\u001b[0m, in \u001b[0;36mfoo\u001b[0;34m(s)\u001b[0m\n\u001b[1;32m      6\u001b[0m n \u001b[38;5;241m=\u001b[39m \u001b[38;5;28mint\u001b[39m(s)\n\u001b[1;32m      7\u001b[0m \u001b[38;5;28;01mif\u001b[39;00m n\u001b[38;5;241m==\u001b[39m\u001b[38;5;241m0\u001b[39m:\n\u001b[0;32m----> 8\u001b[0m     \u001b[38;5;28;01mraise\u001b[39;00m FooError(\u001b[38;5;124m'\u001b[39m\u001b[38;5;124minvalid value: \u001b[39m\u001b[38;5;132;01m%s\u001b[39;00m\u001b[38;5;124m'\u001b[39m \u001b[38;5;241m%\u001b[39m s)\n\u001b[1;32m      9\u001b[0m \u001b[38;5;28;01mreturn\u001b[39;00m \u001b[38;5;241m10\u001b[39m \u001b[38;5;241m/\u001b[39m n\n",
      "\u001b[0;31mFooError\u001b[0m: invalid value: 0"
     ]
    }
   ],
   "source": [
    "# 自定义错误类型\n",
    "class FooError(ValueError):\n",
    "    pass\n",
    "\n",
    "def foo(s):\n",
    "    n = int(s)\n",
    "    if n==0:\n",
    "        raise FooError('invalid value: %s' % s)\n",
    "    return 10 / n\n",
    "\n",
    "foo('0')"
   ]
  },
  {
   "cell_type": "code",
   "execution_count": 419,
   "id": "0f0b6102-9afb-4d17-bdae-2fe9e9b5daae",
   "metadata": {
    "execution": {
     "iopub.execute_input": "2022-04-06T12:30:11.332689Z",
     "iopub.status.busy": "2022-04-06T12:30:11.332334Z",
     "iopub.status.idle": "2022-04-06T12:30:11.389177Z",
     "shell.execute_reply": "2022-04-06T12:30:11.387800Z",
     "shell.execute_reply.started": "2022-04-06T12:30:11.332660Z"
    },
    "tags": []
   },
   "outputs": [
    {
     "name": "stdout",
     "output_type": "stream",
     "text": [
      "ValueError!\n"
     ]
    },
    {
     "ename": "ValueError",
     "evalue": "invalid value: 0",
     "output_type": "error",
     "traceback": [
      "\u001b[0;31m---------------------------------------------------------------------------\u001b[0m",
      "\u001b[0;31mValueError\u001b[0m                                Traceback (most recent call last)",
      "Input \u001b[0;32mIn [419]\u001b[0m, in \u001b[0;36m<cell line: 19>\u001b[0;34m()\u001b[0m\n\u001b[1;32m     16\u001b[0m         \u001b[38;5;28mprint\u001b[39m(\u001b[38;5;124m'\u001b[39m\u001b[38;5;124mValueError!\u001b[39m\u001b[38;5;124m'\u001b[39m)\n\u001b[1;32m     17\u001b[0m         \u001b[38;5;28;01mraise\u001b[39;00m\n\u001b[0;32m---> 19\u001b[0m \u001b[43mbar\u001b[49m\u001b[43m(\u001b[49m\u001b[43m)\u001b[49m\n",
      "Input \u001b[0;32mIn [419]\u001b[0m, in \u001b[0;36mbar\u001b[0;34m()\u001b[0m\n\u001b[1;32m     12\u001b[0m \u001b[38;5;28;01mdef\u001b[39;00m \u001b[38;5;21mbar\u001b[39m():\n\u001b[1;32m     13\u001b[0m     \u001b[38;5;28;01mtry\u001b[39;00m:\n\u001b[0;32m---> 14\u001b[0m         \u001b[43mfoo\u001b[49m\u001b[43m(\u001b[49m\u001b[38;5;124;43m'\u001b[39;49m\u001b[38;5;124;43m0\u001b[39;49m\u001b[38;5;124;43m'\u001b[39;49m\u001b[43m)\u001b[49m\n\u001b[1;32m     15\u001b[0m     \u001b[38;5;28;01mexcept\u001b[39;00m \u001b[38;5;167;01mValueError\u001b[39;00m \u001b[38;5;28;01mas\u001b[39;00m e:\n\u001b[1;32m     16\u001b[0m         \u001b[38;5;28mprint\u001b[39m(\u001b[38;5;124m'\u001b[39m\u001b[38;5;124mValueError!\u001b[39m\u001b[38;5;124m'\u001b[39m)\n",
      "Input \u001b[0;32mIn [419]\u001b[0m, in \u001b[0;36mfoo\u001b[0;34m(s)\u001b[0m\n\u001b[1;32m      7\u001b[0m n \u001b[38;5;241m=\u001b[39m \u001b[38;5;28mint\u001b[39m(s)\n\u001b[1;32m      8\u001b[0m \u001b[38;5;28;01mif\u001b[39;00m n\u001b[38;5;241m==\u001b[39m\u001b[38;5;241m0\u001b[39m:\n\u001b[0;32m----> 9\u001b[0m     \u001b[38;5;28;01mraise\u001b[39;00m \u001b[38;5;167;01mValueError\u001b[39;00m(\u001b[38;5;124m'\u001b[39m\u001b[38;5;124minvalid value: \u001b[39m\u001b[38;5;132;01m%s\u001b[39;00m\u001b[38;5;124m'\u001b[39m \u001b[38;5;241m%\u001b[39m s)\n\u001b[1;32m     10\u001b[0m \u001b[38;5;28;01mreturn\u001b[39;00m \u001b[38;5;241m10\u001b[39m \u001b[38;5;241m/\u001b[39m n\n",
      "\u001b[0;31mValueError\u001b[0m: invalid value: 0"
     ]
    }
   ],
   "source": [
    "\"\"\"\n",
    "在这里，程序先捕捉到自定错误ValueError，但在bar()中又抛出这个错误，这里捕获这个错误的目的\n",
    "只是记录一下错误，便于后续追踪，由于当前函数不知道如何处理此类错误，所以又将这个错误抛出到\n",
    "当前，所以，最恰当的方式是继续往上抛，让顶层调用者去处理\n",
    "\"\"\"\n",
    "def foo(s):\n",
    "    n = int(s)\n",
    "    if n==0:\n",
    "        raise ValueError('invalid value: %s' % s)\n",
    "    return 10 / n\n",
    "\n",
    "def bar():\n",
    "    try:\n",
    "        foo('0')\n",
    "    except ValueError as e:\n",
    "        print('ValueError!')\n",
    "        raise\n",
    "\n",
    "bar()"
   ]
  },
  {
   "cell_type": "markdown",
   "id": "174831c1-f29b-45d4-ac1b-fed721901343",
   "metadata": {},
   "source": [
    "### 调试"
   ]
  },
  {
   "cell_type": "markdown",
   "id": "c636a304-8d61-4b02-8e8f-16e244add6fc",
   "metadata": {},
   "source": [
    "1. 使用`print()`把有问题的变量打印出来观察\n",
    "2. 使用用断言`assert()`，在这类可以通过运行`python -O err.py`可以关闭`assert`（这里命令注意是英文大写字母O）\n",
    "3. 使用`logging`模块（比较推荐）"
   ]
  },
  {
   "cell_type": "code",
   "execution_count": 420,
   "id": "e80858be-97cd-4f30-883c-a2f95863dbf2",
   "metadata": {
    "execution": {
     "iopub.execute_input": "2022-04-06T12:31:45.183503Z",
     "iopub.status.busy": "2022-04-06T12:31:45.182501Z",
     "iopub.status.idle": "2022-04-06T12:31:45.231452Z",
     "shell.execute_reply": "2022-04-06T12:31:45.228574Z",
     "shell.execute_reply.started": "2022-04-06T12:31:45.183450Z"
    },
    "tags": []
   },
   "outputs": [
    {
     "ename": "AssertionError",
     "evalue": "n is zero!",
     "output_type": "error",
     "traceback": [
      "\u001b[0;31m---------------------------------------------------------------------------\u001b[0m",
      "\u001b[0;31mAssertionError\u001b[0m                            Traceback (most recent call last)",
      "Input \u001b[0;32mIn [420]\u001b[0m, in \u001b[0;36m<cell line: 10>\u001b[0;34m()\u001b[0m\n\u001b[1;32m      8\u001b[0m \u001b[38;5;28;01mdef\u001b[39;00m \u001b[38;5;21mmain\u001b[39m():\n\u001b[1;32m      9\u001b[0m     foo(\u001b[38;5;124m'\u001b[39m\u001b[38;5;124m0\u001b[39m\u001b[38;5;124m'\u001b[39m)\n\u001b[0;32m---> 10\u001b[0m \u001b[43mmain\u001b[49m\u001b[43m(\u001b[49m\u001b[43m)\u001b[49m\n",
      "Input \u001b[0;32mIn [420]\u001b[0m, in \u001b[0;36mmain\u001b[0;34m()\u001b[0m\n\u001b[1;32m      8\u001b[0m \u001b[38;5;28;01mdef\u001b[39;00m \u001b[38;5;21mmain\u001b[39m():\n\u001b[0;32m----> 9\u001b[0m     \u001b[43mfoo\u001b[49m\u001b[43m(\u001b[49m\u001b[38;5;124;43m'\u001b[39;49m\u001b[38;5;124;43m0\u001b[39;49m\u001b[38;5;124;43m'\u001b[39;49m\u001b[43m)\u001b[49m\n",
      "Input \u001b[0;32mIn [420]\u001b[0m, in \u001b[0;36mfoo\u001b[0;34m(s)\u001b[0m\n\u001b[1;32m      3\u001b[0m \u001b[38;5;28;01mdef\u001b[39;00m \u001b[38;5;21mfoo\u001b[39m(s):\n\u001b[1;32m      4\u001b[0m     n \u001b[38;5;241m=\u001b[39m \u001b[38;5;28mint\u001b[39m(s)\n\u001b[0;32m----> 5\u001b[0m     \u001b[38;5;28;01massert\u001b[39;00m n \u001b[38;5;241m!=\u001b[39m \u001b[38;5;241m0\u001b[39m, \u001b[38;5;124m'\u001b[39m\u001b[38;5;124mn is zero!\u001b[39m\u001b[38;5;124m'\u001b[39m\n\u001b[1;32m      6\u001b[0m     \u001b[38;5;28;01mreturn\u001b[39;00m \u001b[38;5;241m10\u001b[39m \u001b[38;5;241m/\u001b[39m n\n",
      "\u001b[0;31mAssertionError\u001b[0m: n is zero!"
     ]
    }
   ],
   "source": [
    "## 当表达式n!=0为false时候，后面代码抛出AssertionError: n is zero!\n",
    "## 使用Python -0 err.py可以关闭assert\n",
    "def foo(s):\n",
    "    n = int(s)\n",
    "    assert n != 0, 'n is zero!'\n",
    "    return 10 / n\n",
    "\n",
    "def main():\n",
    "    foo('0')\n",
    "main()"
   ]
  },
  {
   "cell_type": "markdown",
   "id": "7f4051b7-4eac-45eb-a1bb-6ccaff0064f5",
   "metadata": {},
   "source": [
    "![](https://shaohan-yun.oss-cn-beijing.aliyuncs.com/my_blog/20220406203710.png)"
   ]
  },
  {
   "cell_type": "code",
   "execution_count": 31,
   "id": "850e2e40-4642-4191-a6be-69df5a3ca2eb",
   "metadata": {
    "execution": {
     "iopub.execute_input": "2022-03-14T14:37:23.057627Z",
     "iopub.status.busy": "2022-03-14T14:37:23.056631Z",
     "iopub.status.idle": "2022-03-14T14:37:23.072588Z",
     "shell.execute_reply": "2022-03-14T14:37:23.072588Z",
     "shell.execute_reply.started": "2022-03-14T14:37:23.057627Z"
    },
    "tags": []
   },
   "outputs": [
    {
     "ename": "ZeroDivisionError",
     "evalue": "division by zero",
     "output_type": "error",
     "traceback": [
      "\u001b[1;31m---------------------------------------------------------------------------\u001b[0m",
      "\u001b[1;31mZeroDivisionError\u001b[0m                         Traceback (most recent call last)",
      "\u001b[1;32mC:\\Users\\SHAOHA~1\\AppData\\Local\\Temp/ipykernel_26832/2604544736.py\u001b[0m in \u001b[0;36m<module>\u001b[1;34m\u001b[0m\n\u001b[0;32m      5\u001b[0m \u001b[0mn\u001b[0m \u001b[1;33m=\u001b[0m \u001b[0mint\u001b[0m\u001b[1;33m(\u001b[0m\u001b[0ms\u001b[0m\u001b[1;33m)\u001b[0m\u001b[1;33m\u001b[0m\u001b[1;33m\u001b[0m\u001b[0m\n\u001b[0;32m      6\u001b[0m \u001b[0mlogging\u001b[0m\u001b[1;33m.\u001b[0m\u001b[0minfo\u001b[0m\u001b[1;33m(\u001b[0m\u001b[1;34m'n = %d'\u001b[0m \u001b[1;33m%\u001b[0m \u001b[0mn\u001b[0m\u001b[1;33m)\u001b[0m\u001b[1;33m\u001b[0m\u001b[1;33m\u001b[0m\u001b[0m\n\u001b[1;32m----> 7\u001b[1;33m \u001b[0mprint\u001b[0m\u001b[1;33m(\u001b[0m\u001b[1;36m10\u001b[0m \u001b[1;33m/\u001b[0m \u001b[0mn\u001b[0m\u001b[1;33m)\u001b[0m\u001b[1;33m\u001b[0m\u001b[1;33m\u001b[0m\u001b[0m\n\u001b[0m",
      "\u001b[1;31mZeroDivisionError\u001b[0m: division by zero"
     ]
    }
   ],
   "source": [
    "import logging\n",
    "\n",
    "logging.basicConfig(level=logging.error)\n",
    "s = '0'\n",
    "n = int(s)\n",
    "logging.info('n = %d' % n)\n",
    "print(10 / n)"
   ]
  },
  {
   "cell_type": "markdown",
   "id": "7e06c587-801c-4bb4-9eaf-962034da0123",
   "metadata": {
    "tags": []
   },
   "source": [
    "### 单元测试"
   ]
  },
  {
   "cell_type": "markdown",
   "id": "577d0ae4-04ee-40a3-b598-cab9661115d2",
   "metadata": {},
   "source": [
    "* **单元测试**是用来对一个模块、一个函数或者一个类来进行正确性检验的测试工作 \n",
    "* **单元测试**不通过，程序不一定没Bug，不通过则必定有Bug\n",
    "* **单元测试**的测试用例要覆盖常用的输入组合、边界条件和异常"
   ]
  },
  {
   "cell_type": "code",
   "execution_count": 427,
   "id": "89da8211-fe37-452b-bbf2-8f940bb2e5cd",
   "metadata": {
    "execution": {
     "iopub.execute_input": "2022-04-06T12:54:11.956861Z",
     "iopub.status.busy": "2022-04-06T12:54:11.955745Z",
     "iopub.status.idle": "2022-04-06T12:54:11.968670Z",
     "shell.execute_reply": "2022-04-06T12:54:11.966608Z",
     "shell.execute_reply.started": "2022-04-06T12:54:11.956799Z"
    },
    "tags": []
   },
   "outputs": [],
   "source": [
    "# 定义一个dict类\n",
    "class Dict(dict):\n",
    "\n",
    "    def __init__(self, **kw):\n",
    "        super().__init__(**kw)\n",
    "\n",
    "    def __getattr__(self, key):\n",
    "        try:\n",
    "            return self[key]\n",
    "        except KeyError:\n",
    "            raise AttributeError(r\"'Dict' object has no attribute '%s'\" % key)\n",
    "\n",
    "    def __setattr__(self, key, value):\n",
    "        self[key] = value"
   ]
  },
  {
   "cell_type": "markdown",
   "id": "7aa8b8a7-d203-4e12-8efc-334cbabe6bc2",
   "metadata": {},
   "source": [
    "1. 编写单元测试时，我们需要编写一个测试类，从`unittest.TestCase`继承\n",
    "2. 以`test`开头的方法就是测试方法，不以`test`开头的不是，测试的时候不会被执行\n",
    "3. 对每一类测试都需要编写一个`test_xxx()`方法\n",
    "4. 最常用的断言是`assertEqual()`\n",
    "5. 运行单元测试常见有两种方法\n",
    "6. 使用`setUp()`和`tearDown()`，这两个方法会在分别调用每个测试方法时执行\n",
    "![](https://shaohan-yun.oss-cn-beijing.aliyuncs.com/my_blog/20220406205929.png)"
   ]
  },
  {
   "cell_type": "code",
   "execution_count": 429,
   "id": "fec7000e-45fc-41e2-908e-02130752a82d",
   "metadata": {
    "execution": {
     "iopub.execute_input": "2022-04-06T12:55:02.110865Z",
     "iopub.status.busy": "2022-04-06T12:55:02.109848Z",
     "iopub.status.idle": "2022-04-06T12:55:02.121983Z",
     "shell.execute_reply": "2022-04-06T12:55:02.120504Z",
     "shell.execute_reply.started": "2022-04-06T12:55:02.110799Z"
    },
    "tags": []
   },
   "outputs": [],
   "source": [
    "# 引入Python自带的unittest模块测试\n",
    "import unittest\n",
    "# from mydict import Dict\n",
    "\n",
    "class TestDict(unittest.TestCase):\n",
    "\n",
    "    def test_init(self):\n",
    "        d = Dict(a=1, b='test')\n",
    "        self.assertEqual(d.a, 1)\n",
    "        self.assertEqual(d.b, 'test')\n",
    "        self.assertTrue(isinstance(d, dict))\n",
    "\n",
    "    def test_key(self):\n",
    "        d = Dict()\n",
    "        d['key'] = 'value'\n",
    "        self.assertEqual(d.key, 'value')\n",
    "\n",
    "    def test_attr(self):\n",
    "        d = Dict()\n",
    "        d.key = 'value'\n",
    "        self.assertTrue('key' in d)\n",
    "        self.assertEqual(d['key'], 'value')\n",
    "\n",
    "    def test_keyerror(self):\n",
    "        d = Dict()\n",
    "        with self.assertRaises(KeyError):\n",
    "            value = d['empty']\n",
    "\n",
    "    def test_attrerror(self):\n",
    "        d = Dict()\n",
    "        with self.assertRaises(AttributeError):\n",
    "            value = d.empty"
   ]
  },
  {
   "cell_type": "markdown",
   "id": "31506057-4ff7-4924-8ecd-664ec5910537",
   "metadata": {},
   "source": [
    "#### 文档测试"
   ]
  },
  {
   "cell_type": "markdown",
   "id": "9b4cb561-83f1-4d03-b326-8ec32acd1262",
   "metadata": {},
   "source": [
    "* `Python`中的文档测试（doctest）模块可以直接提取注释中的代码并执行测试\n",
    "* `doctest`严格按照`Python`交互式命令行的输入和输出来判断测试结果是否正确。只有测试异常的时候，可以用...表示中间一大段烦人的输出\n",
    "* 通过添加下列单元格中的最后三行，可以保证这个模块在被导入的时候不执行`main`部分"
   ]
  },
  {
   "cell_type": "raw",
   "id": "9648b2c6-5d78-44c3-8577-a9e7f8d5b15d",
   "metadata": {
    "execution": {
     "iopub.execute_input": "2022-04-06T13:14:31.122787Z",
     "iopub.status.busy": "2022-04-06T13:14:31.121614Z",
     "iopub.status.idle": "2022-04-06T13:14:31.130062Z",
     "shell.execute_reply": "2022-04-06T13:14:31.127800Z",
     "shell.execute_reply.started": "2022-04-06T13:14:31.122747Z"
    },
    "tags": []
   },
   "source": [
    "# 本段程序保存为dict.py文件，整个程序的运行使用python dict.py\n",
    "class Dict(dict):\n",
    "    '''\n",
    "    Simple dict but also support access as x.y style.\n",
    "\n",
    "    >>> d1 = Dict()\n",
    "    >>> d1['x'] = 100\n",
    "    >>> d1.x\n",
    "    100\n",
    "    >>> d1.y = 200\n",
    "    >>> d1['y']\n",
    "    200\n",
    "    >>> d2 = Dict(a=1, b=2, c='3')\n",
    "    >>> d2.c\n",
    "    '3'\n",
    "    >>> d2['empty']\n",
    "    Traceback (most recent call last):\n",
    "        ...\n",
    "    KeyError: 'empty'\n",
    "    >>> d2.empty\n",
    "    Traceback (most recent call last):\n",
    "        ...\n",
    "    AttributeError: 'Dict' object has no attribute 'empty'\n",
    "    '''\n",
    "    def __init__(self, **kw):\n",
    "        super(Dict, self).__init__(**kw)\n",
    "\n",
    "    def __getattr__(self, key):\n",
    "        try:\n",
    "            return self[key]\n",
    "        except KeyError:\n",
    "            raise AttributeError(r\"'Dict' object has no attribute '%s'\" % key)\n",
    "\n",
    "    def __setattr__(self, key, value):\n",
    "        self[key] = value\n",
    "\n",
    "if __name__=='__main__':\n",
    "    import doctest\n",
    "    doctest.testmod()"
   ]
  },
  {
   "cell_type": "markdown",
   "id": "c66b8448-aa25-4f16-9487-2c4b46075117",
   "metadata": {},
   "source": [
    "## IO编程"
   ]
  },
  {
   "cell_type": "markdown",
   "id": "55983ddc-9786-4b5e-9aad-85f74481b4b2",
   "metadata": {},
   "source": [
    "* 由于数据是在内存中驻留，这里的`IO`指的是数据的输入和输出\n",
    "* 由于CPU和内存的速度远远高于外设，所以在`IO`编程中存在同步和异步问题，两者的区别在于是否等待`IO`执行的结果\n",
    "* **异步**效率高，编程模型复杂，**同步**则相反"
   ]
  },
  {
   "cell_type": "markdown",
   "id": "4f83316f-6114-4abe-bd61-4fac1ce601ca",
   "metadata": {},
   "source": [
    "### 文件读写"
   ]
  },
  {
   "cell_type": "markdown",
   "id": "fbba2573-1cc6-48e9-adba-41d6e671776e",
   "metadata": {},
   "source": [
    "#### 读文件"
   ]
  },
  {
   "cell_type": "markdown",
   "id": "6a6e0b69-7655-4c78-b755-d40d14acf62d",
   "metadata": {},
   "source": [
    "1. Python内置了open()函数用于读写文件，默认`UTF-8`编码的文本文件，读取方法可分为：\n",
    "    * 文件很小，一次性读取`read()`最方便\n",
    "    * 不确定文件大小，反复调用`read(size)`比较可靠\n",
    "    * 如果是配置文件，调用`readlines()`一次性读取所有内容并返回`list`最方便\n",
    "2. 读取二进制文件如视频、图片等可以以`'rb'`模式打开\n",
    "3. 文件采用其他编码，可以给`open`函数传入`encoding='gbk'`等参数\n",
    "4. 遇到`UnicodeDecodeError`，因为在文本文件中可能夹杂了非法编码的字符。遇到这种情况，`open()`函数还接收一个`errors='ignore'`参数，表示忽略"
   ]
  },
  {
   "cell_type": "code",
   "execution_count": 448,
   "id": "c1077ab7-b046-4190-8f3d-36d2eaa69cdc",
   "metadata": {
    "execution": {
     "iopub.execute_input": "2022-04-06T13:54:47.117250Z",
     "iopub.status.busy": "2022-04-06T13:54:47.116781Z",
     "iopub.status.idle": "2022-04-06T13:54:47.126060Z",
     "shell.execute_reply": "2022-04-06T13:54:47.124563Z",
     "shell.execute_reply.started": "2022-04-06T13:54:47.117200Z"
    },
    "tags": []
   },
   "outputs": [
    {
     "name": "stdout",
     "output_type": "stream",
     "text": [
      "123\n",
      "456\n",
      "ABC\n"
     ]
    }
   ],
   "source": [
    "# 一次性读取\n",
    "with open('test_IO.txt', 'r') as f:\n",
    "    print(f.read())"
   ]
  },
  {
   "cell_type": "code",
   "execution_count": 449,
   "id": "2b6f60e5-75d2-4496-93cd-13db8a8c8bf1",
   "metadata": {
    "execution": {
     "iopub.execute_input": "2022-04-06T13:54:48.220397Z",
     "iopub.status.busy": "2022-04-06T13:54:48.219305Z",
     "iopub.status.idle": "2022-04-06T13:54:48.231128Z",
     "shell.execute_reply": "2022-04-06T13:54:48.229674Z",
     "shell.execute_reply.started": "2022-04-06T13:54:48.220310Z"
    },
    "tags": []
   },
   "outputs": [
    {
     "name": "stdout",
     "output_type": "stream",
     "text": [
      "12\n",
      "3\n",
      "\n",
      "45\n",
      "6\n",
      "\n",
      "AB\n",
      "C\n",
      "\n",
      "\n",
      "\n",
      "\n"
     ]
    }
   ],
   "source": [
    "# 每次读取两个字节\n",
    "with open('test_IO.txt', 'r') as f:\n",
    "    for n in range(10):\n",
    "        print(f.read(2))  "
   ]
  },
  {
   "cell_type": "code",
   "execution_count": 450,
   "id": "2107c3f1-5e8b-49b8-aa30-f2ac1d7b1770",
   "metadata": {
    "execution": {
     "iopub.execute_input": "2022-04-06T13:54:50.356350Z",
     "iopub.status.busy": "2022-04-06T13:54:50.355714Z",
     "iopub.status.idle": "2022-04-06T13:54:50.362967Z",
     "shell.execute_reply": "2022-04-06T13:54:50.362021Z",
     "shell.execute_reply.started": "2022-04-06T13:54:50.356311Z"
    },
    "tags": []
   },
   "outputs": [
    {
     "name": "stdout",
     "output_type": "stream",
     "text": [
      "123\n",
      "456\n",
      "ABC\n"
     ]
    }
   ],
   "source": [
    "# 逐行读取\n",
    "with open('test_IO.txt', 'r') as f:\n",
    "    for line in f.readlines():\n",
    "        print(line.strip()) # 把末尾的'\\n'删掉"
   ]
  },
  {
   "cell_type": "markdown",
   "id": "fb23f3c1-2ba7-4c69-aab1-bb09406ca3df",
   "metadata": {},
   "source": [
    "#### 写文件"
   ]
  },
  {
   "cell_type": "markdown",
   "id": "60b56827-f6af-4677-88a1-cf86165d4286",
   "metadata": {},
   "source": [
    "* 使用'w'或'wb'写入文本或者二进制文件，'a'可以追加模式写入"
   ]
  },
  {
   "cell_type": "code",
   "execution_count": 452,
   "id": "40388478-95d2-48e2-8415-a250c697b050",
   "metadata": {
    "execution": {
     "iopub.execute_input": "2022-04-06T13:55:41.876958Z",
     "iopub.status.busy": "2022-04-06T13:55:41.876476Z",
     "iopub.status.idle": "2022-04-06T13:55:41.883316Z",
     "shell.execute_reply": "2022-04-06T13:55:41.882181Z",
     "shell.execute_reply.started": "2022-04-06T13:55:41.876866Z"
    },
    "tags": []
   },
   "outputs": [],
   "source": [
    "with open('test_IO.txt', 'a') as f:\n",
    "    f.write('Hello, world!') # 主要原文件文件最后一行是否换行"
   ]
  },
  {
   "cell_type": "markdown",
   "id": "0642fea6-497d-4d73-8abd-40e5e3a5e85d",
   "metadata": {},
   "source": [
    "### StringIO和BytesIO"
   ]
  },
  {
   "cell_type": "markdown",
   "id": "6bb17fa0-e083-4bbd-9e65-d84b7e4a1449",
   "metadata": {},
   "source": [
    "* 实现对内存中str和二进制数据的读写"
   ]
  },
  {
   "cell_type": "code",
   "execution_count": 457,
   "id": "2bacc94d-fdcf-412c-8661-a90599a9aede",
   "metadata": {
    "execution": {
     "iopub.execute_input": "2022-04-06T14:08:35.662166Z",
     "iopub.status.busy": "2022-04-06T14:08:35.661577Z",
     "iopub.status.idle": "2022-04-06T14:08:35.676984Z",
     "shell.execute_reply": "2022-04-06T14:08:35.674433Z",
     "shell.execute_reply.started": "2022-04-06T14:08:35.662088Z"
    },
    "tags": []
   },
   "outputs": [
    {
     "name": "stdout",
     "output_type": "stream",
     "text": [
      "hello,\n",
      "world\n"
     ]
    }
   ],
   "source": [
    "# 在内存中初始化f，并使用文件类似操作进行读取\n",
    "from io import StringIO\n",
    "f = StringIO('hello,\\nworld')\n",
    "while True:\n",
    "    s = f.readline()\n",
    "    if s == '':\n",
    "        break\n",
    "    print(s.strip())"
   ]
  },
  {
   "cell_type": "code",
   "execution_count": 458,
   "id": "dbc8563c-a3ce-4f31-ae54-2e2f5cc49e1a",
   "metadata": {
    "execution": {
     "iopub.execute_input": "2022-04-06T14:09:20.437674Z",
     "iopub.status.busy": "2022-04-06T14:09:20.437050Z",
     "iopub.status.idle": "2022-04-06T14:09:20.447518Z",
     "shell.execute_reply": "2022-04-06T14:09:20.446287Z",
     "shell.execute_reply.started": "2022-04-06T14:09:20.437585Z"
    },
    "tags": []
   },
   "outputs": [
    {
     "name": "stdout",
     "output_type": "stream",
     "text": [
      "b'\\xe4\\xb8\\xad\\xe6\\x96\\x87'\n"
     ]
    }
   ],
   "source": [
    "# 内存中写入BytestIO\n",
    "from io import BytesIO\n",
    "\n",
    "f = BytesIO()\n",
    "f.write('中文'.encode('utf-8')) \n",
    "print(f.getvalue())"
   ]
  },
  {
   "cell_type": "code",
   "execution_count": 459,
   "id": "bb8b7275-8a1d-4cb4-82e7-98974fe5a144",
   "metadata": {
    "execution": {
     "iopub.execute_input": "2022-04-06T14:09:57.874321Z",
     "iopub.status.busy": "2022-04-06T14:09:57.873539Z",
     "iopub.status.idle": "2022-04-06T14:09:57.887301Z",
     "shell.execute_reply": "2022-04-06T14:09:57.886275Z",
     "shell.execute_reply.started": "2022-04-06T14:09:57.874246Z"
    },
    "tags": []
   },
   "outputs": [
    {
     "data": {
      "text/plain": [
       "b'\\xe4\\xb8\\xad\\xe6\\x96\\x87'"
      ]
     },
     "execution_count": 459,
     "metadata": {},
     "output_type": "execute_result"
    }
   ],
   "source": [
    "# 初始化二进制数据流，并读取\n",
    "f = BytesIO(b'\\xe4\\xb8\\xad\\xe6\\x96\\x87')\n",
    "f.read()"
   ]
  },
  {
   "cell_type": "markdown",
   "id": "07dbd12a-eb23-4532-800f-a05633321fa4",
   "metadata": {},
   "source": [
    "### 操作文件和目录"
   ]
  },
  {
   "cell_type": "markdown",
   "id": "dfbdc843-d525-4276-b59d-44ceb2f2914f",
   "metadata": {},
   "source": [
    "* 通过使用`os`模块我们可以对文件和目录等进行操作\n",
    "* `os.name`结果为`nt`则为`windows`系统，非`windows`系统可以用`os.uname()`获取更详细信息\n",
    "* `os.environ`可以获取所有环境变量，`os.environ.get('key')`可以获取某个环境变量的值，例如`'path'`\n",
    "* 利用`os`和`os.path`对目录和文件进行操作\n",
    "* 对路径进行拼接或分割时，不要直接操作字符串，可以通过`os.path.join()`函数和`os.path.split()`函数进行操作\n",
    "* `shutil`模块提供了`copyfile()`可以看作是对`os`模块的补充\n"
   ]
  },
  {
   "cell_type": "code",
   "execution_count": 472,
   "id": "c5691bd3-7328-427a-87d0-b3201374ea22",
   "metadata": {
    "execution": {
     "iopub.execute_input": "2022-04-07T00:53:53.580570Z",
     "iopub.status.busy": "2022-04-07T00:53:53.580141Z",
     "iopub.status.idle": "2022-04-07T00:53:53.589317Z",
     "shell.execute_reply": "2022-04-07T00:53:53.587658Z",
     "shell.execute_reply.started": "2022-04-07T00:53:53.580521Z"
    },
    "tags": []
   },
   "outputs": [
    {
     "data": {
      "text/plain": [
       "'/home/jupyter_code'"
      ]
     },
     "execution_count": 472,
     "metadata": {},
     "output_type": "execute_result"
    }
   ],
   "source": [
    "# 查看当前目录的绝对路径\n",
    "os.path.abspath('.')"
   ]
  },
  {
   "cell_type": "code",
   "execution_count": 473,
   "id": "c6909a0a-a4df-4b86-bc28-255b1f34624f",
   "metadata": {
    "execution": {
     "iopub.execute_input": "2022-04-07T01:03:39.997033Z",
     "iopub.status.busy": "2022-04-07T01:03:39.996042Z",
     "iopub.status.idle": "2022-04-07T01:03:40.005883Z",
     "shell.execute_reply": "2022-04-07T01:03:40.001151Z",
     "shell.execute_reply.started": "2022-04-07T01:03:39.996906Z"
    }
   },
   "outputs": [],
   "source": [
    "# 创建一个test目录\n",
    "os.mkdir('/home/jupyter_code/testdir')"
   ]
  },
  {
   "cell_type": "code",
   "execution_count": 475,
   "id": "9374cec1-1e25-439a-a031-dddf056d9a7a",
   "metadata": {
    "execution": {
     "iopub.execute_input": "2022-04-07T01:04:17.312517Z",
     "iopub.status.busy": "2022-04-07T01:04:17.311462Z",
     "iopub.status.idle": "2022-04-07T01:04:17.318520Z",
     "shell.execute_reply": "2022-04-07T01:04:17.317129Z",
     "shell.execute_reply.started": "2022-04-07T01:04:17.312450Z"
    },
    "tags": []
   },
   "outputs": [],
   "source": [
    "# 删除一个目录\n",
    "os.rmdir('/home/jupyter_code/testdir')"
   ]
  },
  {
   "cell_type": "code",
   "execution_count": 476,
   "id": "f2354b81-007b-4888-a3c0-2bdbed8760ee",
   "metadata": {
    "execution": {
     "iopub.execute_input": "2022-04-07T01:05:26.359327Z",
     "iopub.status.busy": "2022-04-07T01:05:26.358661Z",
     "iopub.status.idle": "2022-04-07T01:05:26.367708Z",
     "shell.execute_reply": "2022-04-07T01:05:26.366446Z",
     "shell.execute_reply.started": "2022-04-07T01:05:26.359283Z"
    }
   },
   "outputs": [
    {
     "data": {
      "text/plain": [
       "'/home/jupyter_code/testdier'"
      ]
     },
     "execution_count": 476,
     "metadata": {},
     "output_type": "execute_result"
    }
   ],
   "source": [
    "# 拼接路径\n",
    "os.path.join('/home/jupyter_code','testdier')"
   ]
  },
  {
   "cell_type": "code",
   "execution_count": 478,
   "id": "7d994287-7963-419d-9298-6e08afa5b264",
   "metadata": {
    "execution": {
     "iopub.execute_input": "2022-04-07T01:06:00.854894Z",
     "iopub.status.busy": "2022-04-07T01:06:00.853970Z",
     "iopub.status.idle": "2022-04-07T01:06:00.861948Z",
     "shell.execute_reply": "2022-04-07T01:06:00.861047Z",
     "shell.execute_reply.started": "2022-04-07T01:06:00.854839Z"
    },
    "tags": []
   },
   "outputs": [
    {
     "data": {
      "text/plain": [
       "('/home/jupyter_code', 'maren.ipynb')"
      ]
     },
     "execution_count": 478,
     "metadata": {},
     "output_type": "execute_result"
    }
   ],
   "source": [
    "# 拆分路径\n",
    "os.path.split('/home/jupyter_code/maren.ipynb')"
   ]
  },
  {
   "cell_type": "code",
   "execution_count": 481,
   "id": "62788221-268d-435d-aa1d-fc8bffe322ec",
   "metadata": {
    "execution": {
     "iopub.execute_input": "2022-04-07T01:06:38.247798Z",
     "iopub.status.busy": "2022-04-07T01:06:38.247373Z",
     "iopub.status.idle": "2022-04-07T01:06:38.256167Z",
     "shell.execute_reply": "2022-04-07T01:06:38.255428Z",
     "shell.execute_reply.started": "2022-04-07T01:06:38.247766Z"
    },
    "tags": []
   },
   "outputs": [
    {
     "data": {
      "text/plain": [
       "('/home/jupyter_code/maren', '.ipynb')"
      ]
     },
     "execution_count": 481,
     "metadata": {},
     "output_type": "execute_result"
    }
   ],
   "source": [
    "# 拆分拓展名\n",
    "os.path.splitext('/home/jupyter_code/maren.ipynb')"
   ]
  },
  {
   "cell_type": "code",
   "execution_count": 483,
   "id": "3b8ccc64-d4d4-4dd0-a943-0d6ec820a2cc",
   "metadata": {
    "execution": {
     "iopub.execute_input": "2022-04-07T01:09:35.964778Z",
     "iopub.status.busy": "2022-04-07T01:09:35.964211Z",
     "iopub.status.idle": "2022-04-07T01:09:35.977331Z",
     "shell.execute_reply": "2022-04-07T01:09:35.976026Z",
     "shell.execute_reply.started": "2022-04-07T01:09:35.964725Z"
    },
    "tags": []
   },
   "outputs": [
    {
     "data": {
      "text/plain": [
       "['WZRY', '.ipynb_checkpoints', 'Blog_draft', 'Wandb']"
      ]
     },
     "execution_count": 483,
     "metadata": {},
     "output_type": "execute_result"
    }
   ],
   "source": [
    "# 列出所有目录\n",
    "[x for x in os.listdir('.') if os.path.isdir(x)]"
   ]
  },
  {
   "cell_type": "code",
   "execution_count": 486,
   "id": "341b710e-1508-4874-9815-861a1980a66a",
   "metadata": {
    "execution": {
     "iopub.execute_input": "2022-04-07T01:11:16.400048Z",
     "iopub.status.busy": "2022-04-07T01:11:16.399615Z",
     "iopub.status.idle": "2022-04-07T01:11:16.407941Z",
     "shell.execute_reply": "2022-04-07T01:11:16.406969Z",
     "shell.execute_reply.started": "2022-04-07T01:11:16.399990Z"
    },
    "tags": []
   },
   "outputs": [
    {
     "data": {
      "text/plain": [
       "['test_IO.txt']"
      ]
     },
     "execution_count": 486,
     "metadata": {},
     "output_type": "execute_result"
    }
   ],
   "source": [
    "# 列出所有txt文件\n",
    "[x for x in os.listdir('.') if os.path.splitext(x)[1] == '.txt']"
   ]
  },
  {
   "cell_type": "markdown",
   "id": "77081a9a-a131-475e-b363-020dc90248cc",
   "metadata": {},
   "source": [
    "### 序列化"
   ]
  },
  {
   "cell_type": "markdown",
   "id": "ec6bd7a8-e2ef-42f9-8481-7dd7ff6756c5",
   "metadata": {},
   "source": [
    "* 将内存中的变量变为可存或传输的过程称为**序列化**\n",
    "* 使用`pickle`可以保存不是很重的数据，这是由于其只能用于`Python`并且不同的`Python`可以不兼容\n",
    "* 对于比较重要的内存中的变量一般保存为`JSON`格式，在各种语言之间比较通用\n",
    "* 注意观察代码中`dumps`和`dump`的区别\n",
    "* 因为通常`class`的实例都有一个`__dict__`属性，它就是一个`dict`，用来存储实例变量"
   ]
  },
  {
   "cell_type": "code",
   "execution_count": 492,
   "id": "071533a5-4244-4c67-acd6-0b16f2b305f4",
   "metadata": {
    "execution": {
     "iopub.execute_input": "2022-04-07T01:24:34.504996Z",
     "iopub.status.busy": "2022-04-07T01:24:34.503677Z",
     "iopub.status.idle": "2022-04-07T01:24:34.513903Z",
     "shell.execute_reply": "2022-04-07T01:24:34.512864Z",
     "shell.execute_reply.started": "2022-04-07T01:24:34.504727Z"
    },
    "tags": []
   },
   "outputs": [],
   "source": [
    "d = {'name':'Vob',\n",
    "    'age':12,\n",
    "    'score':90}\n",
    "import pickle\n",
    "# 将变量d写入txt文件\n",
    "with open('d.txt','wb') as f:\n",
    "    pickle.dump(d, f)\n",
    "\n",
    "# 将变量从磁盘读入到内存\n",
    "with open('d.txt', 'rb') as f:\n",
    "    pickle.load(f)"
   ]
  },
  {
   "cell_type": "code",
   "execution_count": 498,
   "id": "028a0088-1ef3-418c-bd57-3e676f98702b",
   "metadata": {
    "execution": {
     "iopub.execute_input": "2022-04-07T01:38:41.105545Z",
     "iopub.status.busy": "2022-04-07T01:38:41.105139Z",
     "iopub.status.idle": "2022-04-07T01:38:41.114472Z",
     "shell.execute_reply": "2022-04-07T01:38:41.113577Z",
     "shell.execute_reply.started": "2022-04-07T01:38:41.105487Z"
    },
    "tags": []
   },
   "outputs": [
    {
     "data": {
      "text/plain": [
       "'{\"name\": \"tsh\", \"age\": 24, \"job\": \"student\"}'"
      ]
     },
     "execution_count": 498,
     "metadata": {},
     "output_type": "execute_result"
    }
   ],
   "source": [
    "import json\n",
    "\n",
    "# 使用json将序列化为字符串\n",
    "my_dict = dict(name='tsh', age=24, job='student')\n",
    "json.dumps(my_dict)"
   ]
  },
  {
   "cell_type": "code",
   "execution_count": 499,
   "id": "c69df351-4e95-49de-88b6-3b11e1141546",
   "metadata": {
    "execution": {
     "iopub.execute_input": "2022-04-07T01:39:06.319286Z",
     "iopub.status.busy": "2022-04-07T01:39:06.318789Z",
     "iopub.status.idle": "2022-04-07T01:39:06.331324Z",
     "shell.execute_reply": "2022-04-07T01:39:06.329826Z",
     "shell.execute_reply.started": "2022-04-07T01:39:06.319253Z"
    },
    "tags": []
   },
   "outputs": [],
   "source": [
    "# 将变量my_dict保存为json文件\n",
    "with open('my_dict.json', 'w') as f:\n",
    "    json.dump(my_dict, f, indent=4)"
   ]
  },
  {
   "cell_type": "code",
   "execution_count": 502,
   "id": "8174a998-df9d-4165-845b-44f4020e1489",
   "metadata": {
    "execution": {
     "iopub.execute_input": "2022-04-07T01:40:23.632342Z",
     "iopub.status.busy": "2022-04-07T01:40:23.631539Z",
     "iopub.status.idle": "2022-04-07T01:40:23.642082Z",
     "shell.execute_reply": "2022-04-07T01:40:23.640758Z",
     "shell.execute_reply.started": "2022-04-07T01:40:23.632292Z"
    },
    "tags": []
   },
   "outputs": [],
   "source": [
    "# 将JSON文件保存为变量读入到内存中\n",
    "with open('my_dict.json','r') as f:\n",
    "    data = json.load(f)"
   ]
  },
  {
   "cell_type": "code",
   "execution_count": 513,
   "id": "8c2daf18-4152-4165-a963-30da81705676",
   "metadata": {
    "execution": {
     "iopub.execute_input": "2022-04-07T01:45:43.362307Z",
     "iopub.status.busy": "2022-04-07T01:45:43.361327Z",
     "iopub.status.idle": "2022-04-07T01:45:43.376765Z",
     "shell.execute_reply": "2022-04-07T01:45:43.375781Z",
     "shell.execute_reply.started": "2022-04-07T01:45:43.362263Z"
    },
    "tags": []
   },
   "outputs": [
    {
     "name": "stdout",
     "output_type": "stream",
     "text": [
      "{\"name\": \"Bob\", \"age\": 20, \"score\": 88}\n"
     ]
    }
   ],
   "source": [
    "# 使用__dict__序列化实例\n",
    "import json\n",
    "\n",
    "class Student(object):\n",
    "    def __init__(self, name, age, score):\n",
    "        self.name = name\n",
    "        self.age = age\n",
    "        self.score = score\n",
    "\n",
    "s = Student('Bob', 20, 88)\n",
    "print(json.dumps(s, default=lambda obj: obj.__dict__))"
   ]
  },
  {
   "cell_type": "code",
   "execution_count": 514,
   "id": "85a327c1-2b29-414b-8b7e-498f11cc961e",
   "metadata": {
    "execution": {
     "iopub.execute_input": "2022-04-07T01:47:37.058891Z",
     "iopub.status.busy": "2022-04-07T01:47:37.057779Z",
     "iopub.status.idle": "2022-04-07T01:47:37.066212Z",
     "shell.execute_reply": "2022-04-07T01:47:37.064965Z",
     "shell.execute_reply.started": "2022-04-07T01:47:37.058797Z"
    }
   },
   "outputs": [
    {
     "name": "stdout",
     "output_type": "stream",
     "text": [
      "<__main__.Student object at 0x7f4e1133d730>\n"
     ]
    }
   ],
   "source": [
    "# 反序列化实例\n",
    "def dict2student(d):\n",
    "    return Student(d['name'], d['age'], d['score'])\n",
    "\n",
    "json_str = '{\"age\": 20, \"score\": 88, \"name\": \"Bob\"}'\n",
    "print(json.loads(json_str, object_hook=dict2student))"
   ]
  },
  {
   "cell_type": "markdown",
   "id": "6ff4e2b5-9cf9-448b-b073-0b4a82130282",
   "metadata": {},
   "source": [
    "## 多进程与多线程"
   ]
  },
  {
   "cell_type": "markdown",
   "id": "56d5d050-66e4-426e-b2ba-db8a2931611f",
   "metadata": {},
   "source": [
    "单个`py`文件执行一般都是单个进程，单个线程，要解决多任务实现方式：  \n",
    "* 多进程模式  \n",
    "* 多线程模式  \n",
    "* 多进程+多线程"
   ]
  },
  {
   "cell_type": "markdown",
   "id": "ddb95f9f-85c8-4025-b9f1-7db369340529",
   "metadata": {},
   "source": [
    "### 多进程 "
   ]
  },
  {
   "cell_type": "markdown",
   "id": "4ba1f085-ca40-495f-a6cb-a31b661e1422",
   "metadata": {},
   "source": [
    "* 操作系统自动把当前进程（称为父进程）复制了一份（称为子进程）\n",
    "* `Unix/Linux`提供`fork()`系统调用\n",
    "* 要实现跨平台的多进程，可以使用`multiprocessing`模块\n",
    "* 可以使用`Pool`启动大量子进程\n",
    "* 进程间通信是通过`Queue`、`Pipes`等实现的"
   ]
  },
  {
   "cell_type": "raw",
   "id": "de7b9bdd-a511-4eba-94fb-44195c85de48",
   "metadata": {
    "execution": {
     "iopub.execute_input": "2022-04-07T02:16:42.954772Z",
     "iopub.status.busy": "2022-04-07T02:16:42.954409Z",
     "iopub.status.idle": "2022-04-07T02:16:43.011462Z",
     "shell.execute_reply": "2022-04-07T02:16:43.006062Z",
     "shell.execute_reply.started": "2022-04-07T02:16:42.954741Z"
    },
    "tags": []
   },
   "source": [
    "import os\n",
    "\n",
    "print('Process (%s) start...' % os.getpid())\n",
    "# Only works on Unix/Linux/Mac:\n",
    "pid = os.fork()\n",
    "print('*'*10)\n",
    "if pid == 0:\n",
    "    print('I am child process (%s) and my parent is %s.' % (os.getpid(), os.getppid()))\n",
    "else:\n",
    "    print('I (%s) just created a child process (%s).' % (os.getpid(), pid))\n",
    "\n",
    "\"\"\"outputs\n",
    "Process (31646) start...\n",
    "**********\n",
    "I (31646) just created a child process (12118).\n",
    "**********\n",
    "I am child process (12118) and my parent is 31646.\n",
    "\"\"\""
   ]
  },
  {
   "cell_type": "code",
   "execution_count": 519,
   "id": "dcd01bf7-fa48-469b-987f-faf19fb89d34",
   "metadata": {
    "execution": {
     "iopub.execute_input": "2022-04-07T02:16:05.146040Z",
     "iopub.status.busy": "2022-04-07T02:16:05.145589Z",
     "iopub.status.idle": "2022-04-07T02:16:05.293447Z",
     "shell.execute_reply": "2022-04-07T02:16:05.288223Z",
     "shell.execute_reply.started": "2022-04-07T02:16:05.145970Z"
    },
    "tags": []
   },
   "outputs": [
    {
     "name": "stdout",
     "output_type": "stream",
     "text": [
      "Parent process 31646.\n",
      "Child process will start.\n",
      "Run child process test (12113)...\n",
      "Child process end.\n"
     ]
    }
   ],
   "source": [
    "# 下面的例子演示了启动一个子进程并等待其结束\n",
    "from multiprocessing import Process\n",
    "import os\n",
    "\n",
    "# 子进程要执行的代码\n",
    "def run_proc(name):\n",
    "    print('Run child process %s (%s)...' % (name, os.getpid()))\n",
    "\n",
    "if __name__=='__main__':\n",
    "    print('Parent process %s.' % os.getpid())\n",
    "    p = Process(target=run_proc, args=('test',))\n",
    "    print('Child process will start.')\n",
    "    p.start()\n",
    "    p.join() # 等待子进程结束后再继续往下运行，通常用于进程间的同步\n",
    "    print('Child process end.')"
   ]
  },
  {
   "cell_type": "code",
   "execution_count": 528,
   "id": "d0bd3b34-ec6e-421b-90db-0199445d6e5d",
   "metadata": {
    "execution": {
     "iopub.execute_input": "2022-04-07T02:27:51.627215Z",
     "iopub.status.busy": "2022-04-07T02:27:51.626531Z",
     "iopub.status.idle": "2022-04-07T02:27:54.072820Z",
     "shell.execute_reply": "2022-04-07T02:27:54.071158Z",
     "shell.execute_reply.started": "2022-04-07T02:27:51.627117Z"
    },
    "tags": []
   },
   "outputs": [
    {
     "name": "stdout",
     "output_type": "stream",
     "text": [
      "Parent process 31646.\n",
      "Waiting for all subprocesses done...\n",
      "hello\n",
      "Run task 2 (12821)...Run task 3 (12822)...Run task 0 (12819)...Run task 1 (12820)...\n",
      "\n",
      "\n",
      "\n",
      "Task 2 runs 0.01 seconds.\n",
      "Run task 4 (12821)...\n",
      "Task 0 runs 0.83 seconds.\n",
      "Task 3 runs 1.35 seconds.\n",
      "Task 4 runs 1.30 seconds.\n",
      "Task 1 runs 1.92 seconds.\n",
      "All subprocesses done.\n"
     ]
    }
   ],
   "source": [
    "from multiprocessing import Pool\n",
    "import os, time, random\n",
    "\n",
    "def long_time_task(name):\n",
    "    print('Run task %s (%s)...' % (name, os.getpid()))\n",
    "    start = time.time()\n",
    "    time.sleep(random.random() * 3)\n",
    "    end = time.time()\n",
    "    print('Task %s runs %0.2f seconds.' % (name, (end - start)))\n",
    "\n",
    "if __name__=='__main__':\n",
    "    print('Parent process %s.' % os.getpid())\n",
    "    p = Pool(4)\n",
    "    for i in range(5):\n",
    "        p.apply_async(long_time_task, args=(i,))\n",
    "    print('Waiting for all subprocesses done...')\n",
    "    p.close() # 调用close()之后就不能继续添加新的Process\n",
    "    print('hello')\n",
    "    p.join() # Pool对象调用join()方法会等待所有子进程执行完毕\n",
    "    print('All subprocesses done.')"
   ]
  },
  {
   "cell_type": "code",
   "execution_count": 533,
   "id": "8fba020f-f73f-4575-af3a-a909893a1060",
   "metadata": {
    "execution": {
     "iopub.execute_input": "2022-04-07T02:37:26.934533Z",
     "iopub.status.busy": "2022-04-07T02:37:26.934277Z",
     "iopub.status.idle": "2022-04-07T02:37:27.215303Z",
     "shell.execute_reply": "2022-04-07T02:37:27.214101Z",
     "shell.execute_reply.started": "2022-04-07T02:37:26.934512Z"
    },
    "tags": []
   },
   "outputs": [
    {
     "name": "stdout",
     "output_type": "stream",
     "text": [
      "$ nslookup www.python.org\n",
      "Server:\t\t100.100.2.136\n",
      "Address:\t100.100.2.136#53\n",
      "\n",
      "Non-authoritative answer:\n",
      "www.python.org\tcanonical name = dualstack.python.map.fastly.net.\n",
      "Name:\tdualstack.python.map.fastly.net\n",
      "Address: 151.101.108.223\n",
      "Name:\tdualstack.python.map.fastly.net\n",
      "Address: 2a04:4e42:11::223\n",
      "\n",
      "Exit code: 0\n",
      "31646\n"
     ]
    }
   ],
   "source": [
    "# Python代码中运行命令nslookup www.python.org，和命令行运行效果类似\n",
    "import subprocess\n",
    "\n",
    "print('$ nslookup www.python.org')\n",
    "r = subprocess.call(['nslookup', 'www.python.org'])\n",
    "print('Exit code:', r)\n",
    "print(os.getpid())"
   ]
  },
  {
   "cell_type": "code",
   "execution_count": 536,
   "id": "f8e64629-4d56-4ee7-b454-a700161c0f7d",
   "metadata": {
    "execution": {
     "iopub.execute_input": "2022-04-07T02:38:26.581651Z",
     "iopub.status.busy": "2022-04-07T02:38:26.581102Z",
     "iopub.status.idle": "2022-04-07T02:38:26.903106Z",
     "shell.execute_reply": "2022-04-07T02:38:26.863100Z",
     "shell.execute_reply.started": "2022-04-07T02:38:26.581593Z"
    },
    "tags": []
   },
   "outputs": [
    {
     "name": "stdout",
     "output_type": "stream",
     "text": [
      "$ nslookup\n",
      "Server:\t\t100.100.2.136\n",
      "Address:\t100.100.2.136#53\n",
      "\n",
      "Non-authoritative answer:\n",
      "python.org\tmail exchanger = 50 mail.python.org.\n",
      "\n",
      "Authoritative answers can be found from:\n",
      "\n",
      "\n",
      "Exit code: 0\n"
     ]
    }
   ],
   "source": [
    "# 带有子进程输入的可以使用communicate()方法\n",
    "import subprocess\n",
    "\n",
    "print('$ nslookup')\n",
    "p = subprocess.Popen(['nslookup'], stdin=subprocess.PIPE, stdout=subprocess.PIPE, stderr=subprocess.PIPE)\n",
    "output, err = p.communicate(b'set q=mx\\npython.org\\nexit\\n')\n",
    "print(output.decode('utf-8'))\n",
    "print('Exit code:', p.returncode)"
   ]
  },
  {
   "cell_type": "code",
   "execution_count": 541,
   "id": "91e54177-b6e4-41cb-8853-8ccbc7edf91b",
   "metadata": {
    "execution": {
     "iopub.execute_input": "2022-04-07T03:06:43.001647Z",
     "iopub.status.busy": "2022-04-07T03:06:43.001190Z",
     "iopub.status.idle": "2022-04-07T03:06:45.157826Z",
     "shell.execute_reply": "2022-04-07T03:06:45.156171Z",
     "shell.execute_reply.started": "2022-04-07T03:06:43.001611Z"
    },
    "tags": []
   },
   "outputs": [
    {
     "name": "stdout",
     "output_type": "stream",
     "text": [
      "Process to write: 13074Process to read: 13075\n",
      "\n",
      "Put A to queue...\n",
      "Get A from queue.\n",
      "Put B to queue...\n",
      "Get B from queue.\n",
      "Put C to queue...\n",
      "Get C from queue.\n"
     ]
    }
   ],
   "source": [
    "# 实现进程之间的通信\n",
    "# 以Queue为例，在父进程中创建两个子进程，一个往Queue里写数据，一个从Queue里读数据\n",
    "from multiprocessing import Process, Queue\n",
    "import os, time, random\n",
    "\n",
    "# 写数据进程执行的代码:\n",
    "def write(q):\n",
    "    print('Process to write: %s' % os.getpid())\n",
    "    for value in ['A', 'B', 'C']:\n",
    "        print('Put %s to queue...' % value)\n",
    "        q.put(value)\n",
    "        time.sleep(random.random())\n",
    "\n",
    "# 读数据进程执行的代码:\n",
    "def read(q):\n",
    "    print('Process to read: %s' % os.getpid())\n",
    "    while True:\n",
    "        value = q.get(True)\n",
    "        print('Get %s from queue.' % value)\n",
    "\n",
    "if __name__=='__main__':\n",
    "    # 父进程创建Queue，并传给各个子进程：\n",
    "    q = Queue()\n",
    "    pw = Process(target=write, args=(q,))\n",
    "    pr = Process(target=read, args=(q,))\n",
    "    # 启动子进程pw，写入:\n",
    "    pw.start()\n",
    "    # 启动子进程pr，读取:\n",
    "    pr.start()\n",
    "    # 等待pw结束:\n",
    "    pw.join()\n",
    "    # pr进程里是死循环，无法等待其结束，只能强行终止:\n",
    "    pr.terminate()"
   ]
  },
  {
   "cell_type": "markdown",
   "id": "40f39f32-d64e-45f3-9e39-bcab0c25b5d8",
   "metadata": {},
   "source": [
    "### 多线程"
   ]
  },
  {
   "cell_type": "markdown",
   "id": "e7612f51-2a19-421b-8b48-49d4e8553eac",
   "metadata": {},
   "source": [
    "* 多线程编程，模型复杂，容易发生冲突，必须用锁加以隔离，同时，又要小心死锁的发生\n",
    "* `Python`解释器由于设计时有`GIL`全局锁，导致了多线程无法利用多核。多线程的并发在`Python`中就是一个美丽的梦"
   ]
  },
  {
   "cell_type": "markdown",
   "id": "9211eaa5-d4b1-490c-afce-34657f0df2f2",
   "metadata": {},
   "source": [
    "#### 基础知识"
   ]
  },
  {
   "cell_type": "markdown",
   "id": "2409c00a-7d74-488d-967c-054f25c187da",
   "metadata": {},
   "source": [
    "* 进程是由多个线程组成，一个进程至少有一个线程\n",
    "* 线程是操作系统直接支持的执行单元，使用`threading`高级模块实现多线程\n",
    "* 启动一个线程就是把一个函数传入并创建`Thread`实例，然后调用`start()`开始执行\n",
    "* `Python`进程默认会启动一个线程，该线程成为主线程，名称是`MainThread`，子线程名字在创建时候确定"
   ]
  },
  {
   "cell_type": "code",
   "execution_count": 547,
   "id": "5fc2df27-e8d9-4359-abb4-53e6580ae176",
   "metadata": {
    "execution": {
     "iopub.execute_input": "2022-04-07T07:15:14.387039Z",
     "iopub.status.busy": "2022-04-07T07:15:14.386429Z",
     "iopub.status.idle": "2022-04-07T07:15:19.483317Z",
     "shell.execute_reply": "2022-04-07T07:15:19.482119Z",
     "shell.execute_reply.started": "2022-04-07T07:15:14.386960Z"
    },
    "tags": []
   },
   "outputs": [
    {
     "name": "stdout",
     "output_type": "stream",
     "text": [
      "thread MainThread is running\n",
      "Thread ThreadLoop is running...\n",
      "thread ThreadLoop >>> 1\n",
      "thread ThreadLoop >>> 2\n",
      "thread ThreadLoop >>> 3\n",
      "thread ThreadLoop >>> 4\n",
      "thread ThreadLoop >>> 5\n",
      "Thread ThreadLoop ended\n",
      "thread MainThread ended.\n"
     ]
    }
   ],
   "source": [
    "# 一个简单多线程实例\n",
    "import time, threading\n",
    "\n",
    "def loop():\n",
    "    print('Thread %s is running...' % threading.current_thread().name)\n",
    "    n = 0\n",
    "    while n < 5:\n",
    "        n = n + 1\n",
    "        print('thread %s >>> %s' % (threading.current_thread().name, n))\n",
    "        time.sleep(1)\n",
    "    print('Thread %s ended' % threading.current_thread().name)\n",
    "    \n",
    "print('thread %s is running' % threading.current_thread().name)\n",
    "t = threading.Thread(target=loop, name='ThreadLoop')\n",
    "t.start()\n",
    "t.join()\n",
    "print('thread %s ended.' % threading.current_thread().name)"
   ]
  },
  {
   "cell_type": "markdown",
   "id": "2d721e2f-458d-4669-96fd-47592e3469e7",
   "metadata": {},
   "source": [
    "#### Lock"
   ]
  },
  {
   "cell_type": "markdown",
   "id": "60ff5930-418b-423f-94f1-b8f3bf27abcd",
   "metadata": {},
   "source": [
    "多线程和多进程最大的不同在于，多进程中，同一个变量，各自有一份拷贝存在于每个进程中，互不影响，而多线程中，**所有变量都由所有线程共享**，所以，任何一个变量都可以被任何一个线程修改，因此，线程之间共享数据最大的危险在于多个线程同时改一个变量，把内容给改乱。  \n",
    "锁的好处：  \n",
    "* 确保了某段关键代码只能由一个线程从头到尾完整地执行，\n",
    "锁的坏处：\n",
    "* 阻止多线程并发执行，包含锁的某段代码实际上只能以**单线程模式执行**，效率就大大地下降\n",
    "* 其次，由于可以存在多个锁，不同的线程持有不同的锁，并试图获取对方持有的锁时，可能会造成死锁，导致多个线程全部挂起，既不能执行，也无法结束，只能靠操作系统强制终止   \n",
    "\n",
    "可以添加`threading.lock()`给进程上锁，保证该只有进程执行在**单独执行**之后再执行其他"
   ]
  },
  {
   "cell_type": "code",
   "execution_count": 551,
   "id": "6ade1fbb-a4c9-419f-9837-de7d961f6c76",
   "metadata": {
    "execution": {
     "iopub.execute_input": "2022-04-07T07:43:18.333287Z",
     "iopub.status.busy": "2022-04-07T07:43:18.332816Z",
     "iopub.status.idle": "2022-04-07T07:43:20.497368Z",
     "shell.execute_reply": "2022-04-07T07:43:20.485998Z",
     "shell.execute_reply.started": "2022-04-07T07:43:18.333240Z"
    },
    "tags": []
   },
   "outputs": [
    {
     "name": "stdout",
     "output_type": "stream",
     "text": [
      "-13\n"
     ]
    }
   ],
   "source": [
    "# 在这个实例中，理论结果应该为0，由于t1和t2交替执行，导致内容混乱\n",
    "\n",
    "import time, threading\n",
    "\n",
    "# 假定这是你的银行存款:\n",
    "balance = 0\n",
    "\n",
    "def change_it(n):\n",
    "    # 先存后取，结果应该为0:\n",
    "    global balance\n",
    "    balance = balance + n\n",
    "    balance = balance - n\n",
    "\n",
    "def run_thread(n):\n",
    "    for i in range(2000000):\n",
    "        change_it(n)\n",
    "\n",
    "t1 = threading.Thread(target=run_thread, args=(5,))\n",
    "t2 = threading.Thread(target=run_thread, args=(8,))\n",
    "t1.start()\n",
    "t2.start()\n",
    "t1.join()\n",
    "t2.join()\n",
    "print(balance)"
   ]
  },
  {
   "cell_type": "code",
   "execution_count": 552,
   "id": "eb78a788-afc1-4a0e-9fc7-19add0fa6ab5",
   "metadata": {
    "execution": {
     "iopub.execute_input": "2022-04-07T07:43:29.190662Z",
     "iopub.status.busy": "2022-04-07T07:43:29.190105Z",
     "iopub.status.idle": "2022-04-07T07:43:29.570753Z",
     "shell.execute_reply": "2022-04-07T07:43:29.561583Z",
     "shell.execute_reply.started": "2022-04-07T07:43:29.190598Z"
    },
    "tags": []
   },
   "outputs": [
    {
     "name": "stdout",
     "output_type": "stream",
     "text": [
      "0\n"
     ]
    }
   ],
   "source": [
    "# 添加锁的多进程\n",
    "\n",
    "import time, threading\n",
    "\n",
    "# 假定这是你的银行存款:\n",
    "balance = 0\n",
    "lock = threading.Lock()\n",
    "\n",
    "def change_it(n):\n",
    "    # 先存后取，结果应该为0:\n",
    "    global balance\n",
    "    balance = balance + n\n",
    "    balance = balance - n\n",
    "\n",
    "# def run_thread(n):\n",
    "#     for i in range(2000000):\n",
    "#         change_it(n)\n",
    "def run_thread(n):\n",
    "    for i in range(100000):\n",
    "        # 先要获取锁:\n",
    "        lock.acquire()\n",
    "        try:\n",
    "            # 放心地改吧:\n",
    "            change_it(n)\n",
    "        finally:\n",
    "            # 改完了一定要释放锁:\n",
    "            lock.release()\n",
    "\n",
    "t1 = threading.Thread(target=run_thread, args=(5,))\n",
    "t2 = threading.Thread(target=run_thread, args=(8,))\n",
    "t1.start()\n",
    "t2.start()\n",
    "t1.join()\n",
    "t2.join()\n",
    "print(balance)"
   ]
  },
  {
   "cell_type": "code",
   "execution_count": 553,
   "id": "ecb31d90-b4b1-4166-902e-fb78ac22a4a3",
   "metadata": {
    "execution": {
     "iopub.execute_input": "2022-04-07T07:44:15.562237Z",
     "iopub.status.busy": "2022-04-07T07:44:15.561703Z",
     "iopub.status.idle": "2022-04-07T07:44:15.580524Z",
     "shell.execute_reply": "2022-04-07T07:44:15.579142Z",
     "shell.execute_reply.started": "2022-04-07T07:44:15.562202Z"
    },
    "tags": []
   },
   "outputs": [
    {
     "data": {
      "text/plain": [
       "2"
      ]
     },
     "execution_count": 553,
     "metadata": {},
     "output_type": "execute_result"
    }
   ],
   "source": [
    "import threading, multiprocessing\n",
    "\n",
    "multiprocessing.cpu_count()"
   ]
  },
  {
   "cell_type": "markdown",
   "id": "14d961ec-aca9-4c05-a30d-c37d4dc32060",
   "metadata": {},
   "source": [
    "#### 多核CPU"
   ]
  },
  {
   "cell_type": "markdown",
   "id": "c89a9bb1-eac3-4a0c-b2e0-7bd8bf3bcbe8",
   "metadata": {},
   "source": [
    "Python的线程虽然是真正的线程，但解释器执行代码时，有一个`GIL`锁：`Global Interpreter Lock`，任何`Python`线程执行前，必须先获得`GIL`锁，然后，每执行100条字节码，解释器就自动释放`GIL`锁，让别的线程有机会执行。这个`GIL`全局锁实际上把所有线程的执行代码都给上了锁，所以，多线程在`Python`中只能交替执行，即使`100`个线程跑在`100`核`CPU`上，也只能用到**1个核**.\n",
    "\n",
    "`Python`虽然不能利用多线程实现多核任务，但可以通过多进程实现多核任务。**多个Python进程**有各自独立的GIL锁，互不影响。"
   ]
  },
  {
   "cell_type": "markdown",
   "id": "cc4bd398-afe4-400c-9196-ffdc26b0d73b",
   "metadata": {},
   "source": [
    "### ThreadLocal"
   ]
  },
  {
   "cell_type": "markdown",
   "id": "8bb6126c-5256-4627-ab83-6bb619dae6e5",
   "metadata": {},
   "source": [
    "* 使用`ThreadLocal`解决了一个进程中各个参数互相传递的问题\n",
    "* `ThreadLocal`可以看作是构造了一个全局变量，但是它在每个进程中的相同属性有不同属性值"
   ]
  },
  {
   "cell_type": "code",
   "execution_count": 555,
   "id": "0d96c27f-d469-4c32-98cd-714080a83e34",
   "metadata": {
    "execution": {
     "iopub.execute_input": "2022-04-07T08:08:12.374569Z",
     "iopub.status.busy": "2022-04-07T08:08:12.374242Z",
     "iopub.status.idle": "2022-04-07T08:08:12.516112Z",
     "shell.execute_reply": "2022-04-07T08:08:12.493004Z",
     "shell.execute_reply.started": "2022-04-07T08:08:12.374540Z"
    },
    "tags": []
   },
   "outputs": [
    {
     "name": "stdout",
     "output_type": "stream",
     "text": [
      "Hello, Alice (in Thread-A)\n",
      "Hello, Bob (in Thread-B)\n"
     ]
    }
   ],
   "source": [
    "import threading\n",
    "    \n",
    "# 创建全局ThreadLocal对象:\n",
    "local_school = threading.local()\n",
    "\n",
    "def process_student():\n",
    "    # 获取当前线程关联的student:\n",
    "    std = local_school.student\n",
    "    print('Hello, %s (in %s)' % (std, threading.current_thread().name))\n",
    "\n",
    "def process_thread(name):\n",
    "    # 绑定ThreadLocal的student:\n",
    "    local_school.student = name\n",
    "    process_student()\n",
    "\n",
    "t1 = threading.Thread(target= process_thread, args=('Alice',), name='Thread-A')\n",
    "t2 = threading.Thread(target= process_thread, args=('Bob',), name='Thread-B')\n",
    "t1.start()\n",
    "t2.start()\n",
    "t1.join()\n",
    "t2.join()"
   ]
  },
  {
   "cell_type": "markdown",
   "id": "33b67ad1-b441-40b8-972f-abacfbc06a18",
   "metadata": {},
   "source": [
    "### 进程 vs 线程"
   ]
  },
  {
   "cell_type": "markdown",
   "id": "a7b1ecee-e2f3-480e-9bef-fd561812adaf",
   "metadata": {},
   "source": [
    "1. 要实现多任务，通常设计`Master-Worker`模式，`Master`负责分配任务，`Worker`负责执行任务\n",
    "2. 多进程模式\n",
    "    *  稳定性高，因为一个子进程崩溃了，不会影响主进程和其他子进程，（当然主进程挂了所有进程就全挂了，但是`Master`进程只负责分配任务，挂掉的概率低）\n",
    "    * 缺点是创建进程的代价大，在`Unix/Linux`系统下，用`fork`调用还行，在`Windows`下创建进程开销巨大。另外，操作系统能同时运行的进程数也是有限的，在内存和`CPU`的限制下，如果有几千个进程同时运行，操作系统连调度都会成问题。      \n",
    "3. 多线程模式\n",
    "    * 在`Windows`下，多线程的效率比多进程要高\n",
    "    * 缺点就是任何一个线程挂掉都可能直接造成整个进程崩溃，因为所有线程共享进程的内存\n",
    "4. 线程切换\n",
    "    * 虽然切换很快，但也需要消耗资源时间\n",
    "    * 多个任务一旦多到一定程度，就会消耗系统所有资源，导致效率急剧下降\n",
    "5. 任务类型\n",
    "    * 计算密集型任务：主要消耗CPU资源，因此，代码运行效率至关重要，最好用C语言写\n",
    "    * IO密集型：涉及到网络、磁盘IO的任务都是IO密集型任务，这类任务的特点是CPU消耗很少，任务的大部分时间都在等待IO操作完成（因为IO的速度远远低于CPU和内存的速度），最合适的就是脚本语言\n",
    "6. 异步IO：\n",
    "    * 现代操作系统对IO操作已经做了巨大的改进，如果充分利用操作系统提供的异步IO支持，就可以用单进程单线程模型来执行多任务，这种全新的模型称为事件驱动模型\n",
    "    * 对应到`Python`语言，单线程的异步编程模型称为**协程**，有了协程的支持，就可以基于事件驱动编写高效的多任务程序。"
   ]
  },
  {
   "cell_type": "markdown",
   "id": "13c90bee-4b3b-4c13-a64c-29b0b9b13167",
   "metadata": {},
   "source": [
    "### 分布式进程"
   ]
  },
  {
   "cell_type": "markdown",
   "id": "bab97972-4ad9-400c-b000-0e029b7b3e50",
   "metadata": {},
   "source": [
    "* Thread和Process**优选Process**，因为`Process`更加稳定，并且可以分布到多个机器，而Thread最多只能分布到同一台机器的多个CPU\n",
    "* Python中`multiprocessing`模块不但支持多进程，其中`managers`子模块还支持把多进程分布到多台机器上\n",
    "* 详细实例可以查看[分布式进程](https://www.liaoxuefeng.com/wiki/1016959663602400/1017631559645600#0)"
   ]
  },
  {
   "cell_type": "markdown",
   "id": "7af8ecbc-0932-4108-b315-afbc4faabf70",
   "metadata": {},
   "source": [
    "## 正则表达式"
   ]
  },
  {
   "cell_type": "markdown",
   "id": "6634240f-33e4-4d0f-99b5-9356dd358333",
   "metadata": {},
   "source": [
    "* 正则表达式是对字符串处理的一种有力工具，关于正则表达式学习可以参考[这里](https://github.com/ziishaned/learn-regex/blob/master/translations/README-cn.md)\n",
    "* 由于Python字符串本身需要转义，在构造正则表达式的时候建议使用`r'str'`方式\n",
    "* Python在使用正则表达式的过程中，首先编译正则表达式，再进行匹配，若一条正则表达式用很多次，可以用`re.compile(r're')`提前定义\n",
    "* 正则匹配默认是贪婪匹配，也就是匹配尽可能多的字符，例如`\\d+`表示匹配至少一个数字，此时Python运行过程中将匹配更多数字，使用`\\d+?`将转为非贪婪模式\n",
    "* 使用`re.finditer`生成一个可迭代对象，可以配合`re.sub`使用\n",
    "* 使用`re.sub`对匹配字符串进行替换"
   ]
  },
  {
   "cell_type": "code",
   "execution_count": 590,
   "id": "62c773f3-172e-43fc-ab1d-f88fade4ff75",
   "metadata": {
    "execution": {
     "iopub.execute_input": "2022-04-07T09:43:35.852866Z",
     "iopub.status.busy": "2022-04-07T09:43:35.852489Z",
     "iopub.status.idle": "2022-04-07T09:43:35.911654Z",
     "shell.execute_reply": "2022-04-07T09:43:35.910089Z",
     "shell.execute_reply.started": "2022-04-07T09:43:35.852831Z"
    },
    "tags": []
   },
   "outputs": [
    {
     "data": {
      "text/plain": [
       "<re.Match object; span=(0, 2), match='12'>"
      ]
     },
     "execution_count": 590,
     "metadata": {},
     "output_type": "execute_result"
    }
   ],
   "source": [
    "# 简单示例\n",
    "import re\n",
    "\n",
    "re.match(r'\\d+', '12jlfj12')"
   ]
  },
  {
   "cell_type": "markdown",
   "id": "ea376f47-31ab-4e04-9d2b-703ed6f4dbe4",
   "metadata": {},
   "source": [
    "在进行匹配的过程中可以使用`|`符号选择多种正则表达模式：\n",
    "* `re.I` 忽略大小写  \n",
    "* `re.M` 多行匹配（匹配多行的^和\\$）\n",
    "* `re.S` 使得`.`匹配换行符在内的任意字符（正常模式中`.`不包括换行符）  \n",
    "* `re.X` 为了增加可读性，忽略空格和 # 后面的注释"
   ]
  },
  {
   "cell_type": "code",
   "execution_count": 591,
   "id": "3fc94167-23ce-4a88-9346-b4371dab211c",
   "metadata": {
    "execution": {
     "iopub.execute_input": "2022-04-07T09:43:37.747314Z",
     "iopub.status.busy": "2022-04-07T09:43:37.746635Z",
     "iopub.status.idle": "2022-04-07T09:43:37.768810Z",
     "shell.execute_reply": "2022-04-07T09:43:37.766200Z",
     "shell.execute_reply.started": "2022-04-07T09:43:37.747241Z"
    },
    "tags": []
   },
   "outputs": [
    {
     "name": "stdout",
     "output_type": "stream",
     "text": [
      "using match functiong:\n",
      "None\n",
      "using search functiong:\n",
      "<re.Match object; span=(0, 3), match='123'>\n",
      "using findout functiong:\n",
      "['123', '22', '123', '4']\n"
     ]
    }
   ],
   "source": [
    "# 多次调用表达式示例\n",
    "import re\n",
    "\n",
    "# 构建编译正则表达式\n",
    "pattern = re.compile(r'\\d+')\n",
    "\n",
    "# 使用match匹配，从头开始匹配，不符合正则表达式则直接返回None\n",
    "print('using match functiong:')\n",
    "m = pattern.match('f22one123twothereefour4') #从头匹配输出\n",
    "print(m)\n",
    "\n",
    "# 使用search匹配，全局匹配，返回第一个\n",
    "print('using search functiong:')\n",
    "m = pattern.match('123f22one123twothereefour4') #从头匹配输出\n",
    "print(m)\n",
    "\n",
    "# 使用findout匹配，返回符合正则表达式的所有子字符串列表\n",
    "print('using findout functiong:')\n",
    "m = pattern.findall('123f22one123twothereefour4') #从头匹配输出\n",
    "print(m)"
   ]
  },
  {
   "cell_type": "code",
   "execution_count": 604,
   "id": "c2fd6fdc-2276-4a6c-8681-0a6ce5e3d9bf",
   "metadata": {
    "execution": {
     "iopub.execute_input": "2022-04-07T11:48:50.185704Z",
     "iopub.status.busy": "2022-04-07T11:48:50.185398Z",
     "iopub.status.idle": "2022-04-07T11:48:50.211434Z",
     "shell.execute_reply": "2022-04-07T11:48:50.202641Z",
     "shell.execute_reply.started": "2022-04-07T11:48:50.185676Z"
    },
    "tags": []
   },
   "outputs": [
    {
     "name": "stdout",
     "output_type": "stream",
     "text": [
      "['a', 'b', 'b', 'c', 'fsd', '', 'fsd']\n",
      "['a', 'b', 'b', 'c', 'fsd', 'fsd']\n"
     ]
    }
   ],
   "source": [
    "# 切分字符串实例\n",
    "\n",
    "# 正常字符串切分实例（无法识别连续空格）\n",
    "n_str = 'a b b c fsd  fsd'.split(' ')\n",
    "print(n_str)\n",
    "\n",
    "# 正则表达式分割字符串（可以识别多个空格）\n",
    "re_str = re.split(r'\\s+', 'a b b c fsd  fsd')\n",
    "print(re_str)"
   ]
  },
  {
   "cell_type": "code",
   "execution_count": 631,
   "id": "a80e2d32-dedc-4860-aa89-57798776ca61",
   "metadata": {
    "execution": {
     "iopub.execute_input": "2022-04-07T12:08:12.532742Z",
     "iopub.status.busy": "2022-04-07T12:08:12.532256Z",
     "iopub.status.idle": "2022-04-07T12:08:12.606230Z",
     "shell.execute_reply": "2022-04-07T12:08:12.567125Z",
     "shell.execute_reply.started": "2022-04-07T12:08:12.532692Z"
    },
    "tags": []
   },
   "outputs": [
    {
     "name": "stdout",
     "output_type": "stream",
     "text": [
      "('Hello', 'World')\n",
      "Hello\n"
     ]
    }
   ],
   "source": [
    "# 对匹配项分组抽取\n",
    "import re\n",
    "\n",
    "pattern = re.compile(r'([a-z]+) ([a-z]+)',re.I|re.M)\n",
    "m = pattern.match(\"Hello World Wide Web!\")\n",
    "print(m.groups())   # 返回整个匹配到的字符串\n",
    "print(m.group(1))   # 返回第一个匹配项的第一个分组"
   ]
  },
  {
   "cell_type": "code",
   "execution_count": 636,
   "id": "5d31ca7d-db71-4da0-a029-30c11920da63",
   "metadata": {
    "execution": {
     "iopub.execute_input": "2022-04-07T12:14:04.492136Z",
     "iopub.status.busy": "2022-04-07T12:14:04.480615Z",
     "iopub.status.idle": "2022-04-07T12:14:04.514978Z",
     "shell.execute_reply": "2022-04-07T12:14:04.513992Z",
     "shell.execute_reply.started": "2022-04-07T12:14:04.492086Z"
    },
    "tags": []
   },
   "outputs": [
    {
     "name": "stdout",
     "output_type": "stream",
     "text": [
      "('12300', '')\n",
      "('123', '00')\n"
     ]
    }
   ],
   "source": [
    "import re\n",
    "\n",
    "# 默认贪婪模式匹配\n",
    "print(re.match('(\\d+)(0*)$', '12300').groups())\n",
    "\n",
    "# 非贪婪模式\n",
    "print(re.match('(\\d+?)(0*)$', '12300').groups())"
   ]
  },
  {
   "cell_type": "code",
   "execution_count": 715,
   "id": "5e283d5d-9d7b-48c9-a543-e8f8443c2495",
   "metadata": {
    "execution": {
     "iopub.execute_input": "2022-04-07T13:04:53.337900Z",
     "iopub.status.busy": "2022-04-07T13:04:53.337506Z",
     "iopub.status.idle": "2022-04-07T13:04:53.357885Z",
     "shell.execute_reply": "2022-04-07T13:04:53.355198Z",
     "shell.execute_reply.started": "2022-04-07T13:04:53.337868Z"
    }
   },
   "outputs": [
    {
     "name": "stdout",
     "output_type": "stream",
     "text": [
      "07-16: carefully\n",
      "40-47: quickly\n"
     ]
    }
   ],
   "source": [
    "# 生成一个可迭代对象\n",
    "text = \"He was carefully disguised but captured quickly by police.\"\n",
    "for m in re.finditer(r\"\\w+ly\\b\", text):\n",
    "    print('%02d-%02d: %s' % (m.start(), m.end(), m.group(0)))"
   ]
  },
  {
   "cell_type": "code",
   "execution_count": 718,
   "id": "cf804d3c-cf9d-43a4-8854-5e10e8e6d023",
   "metadata": {
    "execution": {
     "iopub.execute_input": "2022-04-07T13:06:29.294613Z",
     "iopub.status.busy": "2022-04-07T13:06:29.294209Z",
     "iopub.status.idle": "2022-04-07T13:06:29.332559Z",
     "shell.execute_reply": "2022-04-07T13:06:29.330161Z",
     "shell.execute_reply.started": "2022-04-07T13:06:29.294556Z"
    },
    "tags": []
   },
   "outputs": [
    {
     "name": "stdout",
     "output_type": "stream",
     "text": [
      "Baked Beans & Spam\n",
      "pro**gram+files\n"
     ]
    }
   ],
   "source": [
    "# 对匹配字符串进行替换\n",
    "\n",
    "# Method 1:\n",
    "r1 = re.sub(r'\\sAND\\s', ' & ', 'Baked Beans And Spam', flags=re.IGNORECASE)\n",
    "print(r1)\n",
    "\n",
    "# Method 2:\n",
    "def dashrepl(matchobj): # 对匹配对象进行附加操作\n",
    "    if matchobj.group(0) == '-': return '+'\n",
    "    else: return '*'\n",
    "r2 = re.sub('-{1,2}', dashrepl, 'pro----gram-files')\n",
    "print(r2)\n"
   ]
  },
  {
   "cell_type": "markdown",
   "id": "37c6b4f6-77bb-4c5b-9f55-0dcfbc481bdc",
   "metadata": {},
   "source": [
    "## 电子邮件"
   ]
  },
  {
   "cell_type": "markdown",
   "id": "2732e959-a06a-4e5b-94d2-19b3160348d0",
   "metadata": {},
   "source": [
    "* **MUA**：Mail User Agent——邮件用户代理\n",
    "* **MTA**：Mail Transfer Agent——邮件传输代理\n",
    "* **MDA**：Mail Delivery Agent——邮件投递代理\n",
    "* **一封电子邮件的旅程**：  \n",
    "    发件人 -> MUA -> MTA -> MTA -> 若干个MTA -> MDA <- MUA <- 收件人\n",
    "* **发邮件时**，MUA和MTA使用的协议就是SMTP：Simple Mail Transfer Protocol，后面的MTA到另一个MTA也是用SMTP协议。\n",
    "* **收邮件时**，MUA和MDA使用的协议有两种：POP：Post Office Protocol，目前版本是3，俗称POP3；IMAP：Internet Message Access Protocol，目前版本是4，优点是不但能取邮件，还可以直接操作MDA上存储的邮件，比如从收件箱移到垃圾箱，等等"
   ]
  },
  {
   "cell_type": "raw",
   "id": "f0186fae-bbc0-4914-91ee-d38b5f7cf4e8",
   "metadata": {},
   "source": [
    "# 协议  服务器         SSL    非 SSL\n",
    "# SMTP smtp.163.com   465    25\n",
    "# IMAP imap.163.com   993    143\n",
    "# POP3 pop.163.com    995    110\n",
    "# -------------------------------\n",
    "# SMTP smtp.qq.com    465/587\n",
    "# IMAP imap.qq.com    993\n",
    "# POP3 pop.qq.com     995\n",
    "# -------------------------------\n",
    "# SMTP smtp.gmail.com 465(SSL)/587(TLS/STARTTLS)\n",
    "# IMAP imap.gmail.com 993\n",
    "# POP3 pop.gmail.com  995\n",
    "# -------------------------------\n",
    "# 163/qq: password 为授权码\n",
    "# gmail: password 为邮箱密码"
   ]
  },
  {
   "cell_type": "markdown",
   "id": "3084eab2-8105-4827-9037-7171f7540e1b",
   "metadata": {},
   "source": [
    "### SMTP发送邮件"
   ]
  },
  {
   "cell_type": "markdown",
   "id": "b47cde20-f42b-4496-8ca1-eaac6a436185",
   "metadata": {},
   "source": [
    "* Python内置模快`smtplib`(发送邮件)以及`email`(构造邮件)"
   ]
  },
  {
   "cell_type": "markdown",
   "id": "35f75db8-369b-43d8-83ea-23990b7063fa",
   "metadata": {},
   "source": [
    "#### 简单示例"
   ]
  },
  {
   "cell_type": "code",
   "execution_count": 16,
   "id": "64e0d371-27ec-4022-9ef7-2f5f3a2d552e",
   "metadata": {
    "execution": {
     "iopub.execute_input": "2022-04-30T07:52:33.543102Z",
     "iopub.status.busy": "2022-04-30T07:52:33.543102Z",
     "iopub.status.idle": "2022-04-30T07:52:33.558062Z",
     "shell.execute_reply": "2022-04-30T07:52:33.558062Z",
     "shell.execute_reply.started": "2022-04-30T07:52:33.543102Z"
    },
    "tags": []
   },
   "outputs": [],
   "source": [
    "# 构造一个纯文本邮件\n",
    "from email.mime.text import MIMEText\n",
    "msg = MIMEText('hello, send by tsh', 'plain', 'utf-8')"
   ]
  },
  {
   "cell_type": "code",
   "execution_count": 17,
   "id": "708a0e6b-ffc5-40d6-8552-dc7ae1f18c9d",
   "metadata": {
    "execution": {
     "iopub.execute_input": "2022-04-30T07:52:35.176999Z",
     "iopub.status.busy": "2022-04-30T07:52:35.176999Z",
     "iopub.status.idle": "2022-04-30T07:52:36.214643Z",
     "shell.execute_reply": "2022-04-30T07:52:36.214643Z",
     "shell.execute_reply.started": "2022-04-30T07:52:35.176999Z"
    },
    "tags": []
   },
   "outputs": [
    {
     "name": "stderr",
     "output_type": "stream",
     "text": [
      "send: 'ehlo [222.28.39.219]\\r\\n'\n",
      "reply: b'250-newxmesmtplogicsvrszc8.qq.com\\r\\n'\n",
      "reply: b'250-PIPELINING\\r\\n'\n",
      "reply: b'250-SIZE 73400320\\r\\n'\n",
      "reply: b'250-STARTTLS\\r\\n'\n",
      "reply: b'250-AUTH LOGIN PLAIN XOAUTH XOAUTH2\\r\\n'\n",
      "reply: b'250-AUTH=LOGIN\\r\\n'\n",
      "reply: b'250-MAILCOMPRESS\\r\\n'\n",
      "reply: b'250 8BITMIME\\r\\n'\n",
      "reply: retcode (250); Msg: b'newxmesmtplogicsvrszc8.qq.com\\nPIPELINING\\nSIZE 73400320\\nSTARTTLS\\nAUTH LOGIN PLAIN XOAUTH XOAUTH2\\nAUTH=LOGIN\\nMAILCOMPRESS\\n8BITMIME'\n",
      "send: 'AUTH PLAIN ADExODU3MjUyNzBAcXEuY29tAGFpbmlhandlb3Z4ZGhpZmM=\\r\\n'\n",
      "reply: b'235 Authentication successful\\r\\n'\n",
      "reply: retcode (235); Msg: b'Authentication successful'\n",
      "send: 'mail FROM:<1185725270@qq.com> size=125\\r\\n'\n",
      "reply: b'250 OK\\r\\n'\n",
      "reply: retcode (250); Msg: b'OK'\n",
      "send: 'rcpt TO:<xt_shaohan@163.com>\\r\\n'\n",
      "reply: b'250 OK\\r\\n'\n",
      "reply: retcode (250); Msg: b'OK'\n",
      "send: 'data\\r\\n'\n",
      "reply: b'354 End data with <CR><LF>.<CR><LF>.\\r\\n'\n",
      "reply: retcode (354); Msg: b'End data with <CR><LF>.<CR><LF>.'\n",
      "data: (354, b'End data with <CR><LF>.<CR><LF>.')\n",
      "send: b'Content-Type: text/plain; charset=\"utf-8\"\\r\\nMIME-Version: 1.0\\r\\nContent-Transfer-Encoding: base64\\r\\n\\r\\naGVsbG8sIHNlbmQgYnkgdHNo\\r\\n.\\r\\n'\n",
      "reply: b'250 OK: queued as.\\r\\n'\n",
      "reply: retcode (250); Msg: b'OK: queued as.'\n",
      "data: (250, b'OK: queued as.')\n",
      "send: 'quit\\r\\n'\n",
      "reply: b'221 Bye.\\r\\n'\n",
      "reply: retcode (221); Msg: b'Bye.'\n"
     ]
    },
    {
     "data": {
      "text/plain": [
       "(221, b'Bye.')"
      ]
     },
     "execution_count": 17,
     "metadata": {},
     "output_type": "execute_result"
    }
   ],
   "source": [
    "# 通过SMTP发送\n",
    "\n",
    "# 输入Email地址和口令\n",
    "from_addr = '1185725270@qq.com'\n",
    "password = 'ainiajweovxdhifc'\n",
    "# 输入收件人地址\n",
    "to_addr = 'xt_shaohan@163.com'\n",
    "# 输入SMTP服务器地址\n",
    "smtp_server = 'smtp.qq.com'\n",
    "\n",
    "import smtplib\n",
    "server = smtplib.SMTP(smtp_server, 25) # SMTP协议默认端口是25\n",
    "server.set_debuglevel(1)\n",
    "server.login(from_addr, password)\n",
    "server.sendmail(from_addr, [to_addr], msg.as_string())\n",
    "server.quit()"
   ]
  },
  {
   "cell_type": "markdown",
   "id": "d7832f6d-2989-4629-904a-627611ee1f03",
   "metadata": {},
   "source": [
    "#### 完整示例"
   ]
  },
  {
   "cell_type": "markdown",
   "id": "b648706d-f492-47ec-925c-98ab5d5897ad",
   "metadata": {},
   "source": [
    "上一个邮件示例发送存在的问题\n",
    "* 邮件没有主题\n",
    "* 收件人的信息不友好"
   ]
  },
  {
   "cell_type": "code",
   "execution_count": 158,
   "id": "6f1cf89b-9050-44b7-b0cd-d17b1be9d3fa",
   "metadata": {
    "execution": {
     "iopub.execute_input": "2022-05-02T10:04:57.361457Z",
     "iopub.status.busy": "2022-05-02T10:04:57.361457Z",
     "iopub.status.idle": "2022-05-02T10:04:58.378736Z",
     "shell.execute_reply": "2022-05-02T10:04:58.378736Z",
     "shell.execute_reply.started": "2022-05-02T10:04:57.361457Z"
    },
    "tags": []
   },
   "outputs": [
    {
     "name": "stderr",
     "output_type": "stream",
     "text": [
      "send: 'ehlo [222.28.39.219]\\r\\n'\n",
      "reply: b'250-newxmesmtplogicsvrszc10.qq.com\\r\\n'\n",
      "reply: b'250-PIPELINING\\r\\n'\n",
      "reply: b'250-SIZE 73400320\\r\\n'\n",
      "reply: b'250-STARTTLS\\r\\n'\n",
      "reply: b'250-AUTH LOGIN PLAIN XOAUTH XOAUTH2\\r\\n'\n",
      "reply: b'250-AUTH=LOGIN\\r\\n'\n",
      "reply: b'250-MAILCOMPRESS\\r\\n'\n",
      "reply: b'250 8BITMIME\\r\\n'\n",
      "reply: retcode (250); Msg: b'newxmesmtplogicsvrszc10.qq.com\\nPIPELINING\\nSIZE 73400320\\nSTARTTLS\\nAUTH LOGIN PLAIN XOAUTH XOAUTH2\\nAUTH=LOGIN\\nMAILCOMPRESS\\n8BITMIME'\n",
      "send: 'AUTH PLAIN ADExODU3MjUyNzBAcXEuY29tAGFpbmlhandlb3Z4ZGhpZmM=\\r\\n'\n",
      "reply: b'235 Authentication successful\\r\\n'\n",
      "reply: retcode (235); Msg: b'Authentication successful'\n",
      "send: 'mail FROM:<1185725270@qq.com> size=337\\r\\n'\n",
      "reply: b'250 OK\\r\\n'\n",
      "reply: retcode (250); Msg: b'OK'\n",
      "send: 'rcpt TO:<shaohan.tian@hotmail.com>\\r\\n'\n",
      "reply: b'250 OK\\r\\n'\n",
      "reply: retcode (250); Msg: b'OK'\n",
      "send: 'data\\r\\n'\n",
      "reply: b'354 End data with <CR><LF>.<CR><LF>.\\r\\n'\n",
      "reply: retcode (354); Msg: b'End data with <CR><LF>.<CR><LF>.'\n",
      "data: (354, b'End data with <CR><LF>.<CR><LF>.')\n",
      "send: b'Content-Type: text/plain; charset=\"utf-8\"\\r\\nMIME-Version: 1.0\\r\\nContent-Transfer-Encoding: base64\\r\\nFrom: =?utf-8?b?55Sw5bCR5pmXUVFtYWls?= <1185725270@qq.com>\\r\\nTo: =?utf-8?b?55Sw5bCR5pmX?= <shaohan.tian@hotmail.com>\\r\\nSubject: =?utf-8?b?5p2l6IeqU01UUOeahOmXruWAmeKApuKApg==?=\\r\\n\\r\\naGVsbG8sIHNlbmQgYnkgUHl0aG9uLi4udGhpcyBpcyBzZWNvbmRhIGVtYWls\\r\\n.\\r\\n'\n",
      "reply: b'250 OK: queued as.\\r\\n'\n",
      "reply: retcode (250); Msg: b'OK: queued as.'\n",
      "data: (250, b'OK: queued as.')\n",
      "send: 'quit\\r\\n'\n",
      "reply: b'221 Bye.\\r\\n'\n",
      "reply: retcode (221); Msg: b'Bye.'\n"
     ]
    },
    {
     "data": {
      "text/plain": [
       "(221, b'Bye.')"
      ]
     },
     "execution_count": 158,
     "metadata": {},
     "output_type": "execute_result"
    }
   ],
   "source": [
    "from email import encoders\n",
    "from email.header import Header\n",
    "from email.mime.text import MIMEText\n",
    "from email.utils import parseaddr, formataddr\n",
    "\n",
    "import smtplib\n",
    "    \n",
    "def _format_addr(s):\n",
    "    name, addr = parseaddr(s)\n",
    "    return formataddr((Header(name, 'utf-8').encode(), addr))\n",
    "\n",
    "# 输入Email地址和口令\n",
    "from_addr = '1185725270@qq.com'\n",
    "password = 'ainiajweovxdhifc'\n",
    "# 输入收件人地址\n",
    "to_addr = 'shaohan.tian@hotmail.com'\n",
    "# 输入SMTP服务器地址\n",
    "smtp_server = 'smtp.qq.com'\n",
    "\n",
    "# # 输入Email地址和口令\n",
    "# from_addr = 'xt_shaohan@163.com'\n",
    "# password = 'MGIUKTXPIYYPRGCR'\n",
    "# # 输入收件人地址\n",
    "# to_addr = 'shaohan.tian@hotmail.com'\n",
    "# # 输入SMTP服务器地址\n",
    "# smtp_server = 'smtp.163.com'\n",
    "\n",
    "msg = MIMEText('hello, send by Python...this is seconda email', 'plain', 'utf-8')\n",
    "msg['From'] = _format_addr('田少晗QQmail <%s>' % from_addr)\n",
    "msg['To'] = _format_addr('田少晗 <%s>' % to_addr)\n",
    "msg['Subject'] = Header('来自SMTP的问候……', 'utf-8').encode()\n",
    "    \n",
    "server = smtplib.SMTP(smtp_server, 587)\n",
    "server.set_debuglevel(1)\n",
    "server.login(from_addr, password)\n",
    "server.sendmail(from_addr, to_addr, msg.as_string())\n",
    "server.quit()"
   ]
  },
  {
   "cell_type": "markdown",
   "id": "de690bbc-39c7-4812-a71c-b9c820b45704",
   "metadata": {},
   "source": [
    "#### 发送HTML邮件"
   ]
  },
  {
   "cell_type": "code",
   "execution_count": 7,
   "id": "fed32361-41fb-400f-8b70-1be2829fbc61",
   "metadata": {
    "execution": {
     "iopub.execute_input": "2022-04-30T02:16:28.364417Z",
     "iopub.status.busy": "2022-04-30T02:16:28.364417Z",
     "iopub.status.idle": "2022-04-30T02:16:28.378380Z",
     "shell.execute_reply": "2022-04-30T02:16:28.377384Z",
     "shell.execute_reply.started": "2022-04-30T02:16:28.364417Z"
    }
   },
   "outputs": [],
   "source": [
    "msg = MIMEText('<html><body><h1>Hello</h1>' +\n",
    "    '<p>send by <a href=\"http://www.python.org\">Python</a>...</p>' +\n",
    "    '</body></html>', 'html', 'utf-8')"
   ]
  },
  {
   "cell_type": "markdown",
   "id": "b0939495-89bf-4ec2-abbe-152d34be73ec",
   "metadata": {},
   "source": [
    "#### 发送附件"
   ]
  },
  {
   "cell_type": "code",
   "execution_count": 12,
   "id": "04bd86e3-0cbb-4489-b7f6-14fa0f8fd855",
   "metadata": {
    "execution": {
     "iopub.execute_input": "2022-04-30T02:57:05.078600Z",
     "iopub.status.busy": "2022-04-30T02:57:05.078600Z",
     "iopub.status.idle": "2022-04-30T02:57:07.949376Z",
     "shell.execute_reply": "2022-04-30T02:57:07.949376Z",
     "shell.execute_reply.started": "2022-04-30T02:57:05.078600Z"
    },
    "tags": []
   },
   "outputs": [
    {
     "name": "stdout",
     "output_type": "stream",
     "text": [
      "Your email send sucessful!\n"
     ]
    },
    {
     "data": {
      "text/plain": [
       "(221, b'Bye.')"
      ]
     },
     "execution_count": 12,
     "metadata": {},
     "output_type": "execute_result"
    }
   ],
   "source": [
    "from email import encoders\n",
    "from email.header import Header\n",
    "from email.mime.text import MIMEText\n",
    "from email.utils import parseaddr, formataddr\n",
    "from email.mime.multipart import MIMEMultipart, MIMEBase\n",
    "\n",
    "import smtplib\n",
    "    \n",
    "def _format_addr(s):\n",
    "    name, addr = parseaddr(s)\n",
    "    return formataddr((Header(name, 'utf-8').encode(), addr))\n",
    "\n",
    "# 输入Email地址和口令\n",
    "from_addr = '1185725270@qq.com'\n",
    "password = 'ainiajweovxdhifc'\n",
    "# 输入收件人地址\n",
    "to_addr = 'xt_shaohan@163.com'\n",
    "# 输入SMTP服务器地址\n",
    "smtp_server = 'smtp.qq.com'\n",
    "\n",
    "# 邮件对象:\n",
    "msg = MIMEMultipart()\n",
    "msg['From'] = _format_addr('Python爱好者 <%s>' % from_addr)\n",
    "msg['To'] = _format_addr('管理员 <%s>' % to_addr)\n",
    "msg['Subject'] = Header('来自SMTP的问候……', 'utf-8').encode()\n",
    "\n",
    "# 邮件正文是MIMEText:\n",
    "msg.attach(MIMEText('send with file...', 'plain', 'utf-8'))\n",
    "\n",
    "# 发送附件图片\n",
    "with open(r'D:\\360yun\\360yun\\code\\code_others\\jiang_ML\\model.png', 'rb') as f:\n",
    "    att1 = MIMEText(f.read(), 'base64', 'utf-8')\n",
    "    att1[\"Content-Type\"] = 'application/octet-stream'\n",
    "    att1[\"Content-Disposition\"] = 'attachment; filename=\"model.png\"'\n",
    "    msg.attach(att1)\n",
    "    \n",
    "# 发送EXCEL附件\n",
    "with open(r'D:\\360yun\\360yun\\code\\code_research\\tsh_NLP\\re_result_train.xlsx', 'rb') as f:\n",
    "    att2 = MIMEText(f.read(), 'base64', 'utf-8')\n",
    "    att2[\"Content-Type\"] = 'application/octet-stream'\n",
    "    att2[\"Content-Disposition\"] = 'attachment; filename=\"test.xlsx\"'\n",
    "    msg.attach(att2)\n",
    "# # 添加附件就是加上一个MIMEBase，从本地读取一个图片:\n",
    "# with open(r'D:\\360yun\\360yun\\code\\code_others\\jiang_ML\\model.png', 'rb') as f:\n",
    "#     # 设置附件的MIME和文件名，这里是png类型:\n",
    "#     mime = MIMEBase('image', 'png', filename='test.png')\n",
    "#     # 加上必要的头信息:\n",
    "#     mime.add_header('Content-Disposition', 'attachment', filename='test.png')\n",
    "#     mime.add_header('Content-ID', '<0>')\n",
    "#     mime.add_header('X-Attachment-Id', '0')\n",
    "#     # 把附件的内容读进来:\n",
    "#     mime.set_payload(f.read())\n",
    "#     # 用Base64编码:\n",
    "#     encoders.encode_base64(mime)\n",
    "#     # 添加到MIMEMultipart:\n",
    "#     msg.attach(mime)\n",
    "\n",
    "server = smtplib.SMTP(smtp_server, 25)\n",
    "# server.set_debuglevel(1)\n",
    "server.login(from_addr, password)\n",
    "server.sendmail(from_addr, [to_addr], msg.as_string())\n",
    "print('Your email send sucessful!')\n",
    "server.quit()"
   ]
  },
  {
   "cell_type": "markdown",
   "id": "a2d29c6b-8f30-4652-9634-e403c1b1a0a5",
   "metadata": {},
   "source": [
    "#### 图片在正文"
   ]
  },
  {
   "cell_type": "markdown",
   "id": "c20621ae-11d8-4dee-a6fb-14aeaef6cd8d",
   "metadata": {},
   "source": [
    "大部分服务商都会屏蔽带有外链的图片，需要以附件的形式附送，然后添加到正文中，通过`src=cid:0`就可以引用，不同图片可以依次编号进行引用"
   ]
  },
  {
   "cell_type": "code",
   "execution_count": 13,
   "id": "18d1ddb8-4ebf-4e38-b06f-6b4172cef678",
   "metadata": {
    "execution": {
     "iopub.execute_input": "2022-04-30T03:04:05.180847Z",
     "iopub.status.busy": "2022-04-30T03:04:05.179850Z",
     "iopub.status.idle": "2022-04-30T03:04:08.346378Z",
     "shell.execute_reply": "2022-04-30T03:04:08.346378Z",
     "shell.execute_reply.started": "2022-04-30T03:04:05.180847Z"
    },
    "tags": []
   },
   "outputs": [
    {
     "name": "stdout",
     "output_type": "stream",
     "text": [
      "Your email send sucessful!\n"
     ]
    },
    {
     "data": {
      "text/plain": [
       "(221, b'Bye.')"
      ]
     },
     "execution_count": 13,
     "metadata": {},
     "output_type": "execute_result"
    }
   ],
   "source": [
    "from email import encoders\n",
    "from email.header import Header\n",
    "from email.mime.text import MIMEText\n",
    "from email.utils import parseaddr, formataddr\n",
    "from email.mime.multipart import MIMEMultipart, MIMEBase\n",
    "\n",
    "import smtplib\n",
    "    \n",
    "def _format_addr(s):\n",
    "    name, addr = parseaddr(s)\n",
    "    return formataddr((Header(name, 'utf-8').encode(), addr))\n",
    "\n",
    "# 输入Email地址和口令\n",
    "from_addr = '1185725270@qq.com'\n",
    "password = 'ainiajweovxdhifc'\n",
    "# 输入收件人地址\n",
    "to_addr = 'xt_shaohan@163.com'\n",
    "# 输入SMTP服务器地址\n",
    "smtp_server = 'smtp.qq.com'\n",
    "\n",
    "# 邮件对象:\n",
    "msg = MIMEMultipart()\n",
    "msg['From'] = _format_addr('Python爱好者 <%s>' % from_addr)\n",
    "msg['To'] = _format_addr('管理员 <%s>' % to_addr)\n",
    "msg['Subject'] = Header('来自SMTP的问候……', 'utf-8').encode()\n",
    "\n",
    "# 邮件正文HTML格式:\n",
    "msg.attach(MIMEText('<html><body><h1>Hello</h1>' +\n",
    "    '<p><img src=\"cid:0\"></p>' +\n",
    "    '</body></html>', 'html', 'utf-8'))\n",
    "\n",
    "# 发送附件图片\n",
    "with open(r'D:\\360yun\\360yun\\code\\code_others\\jiang_ML\\model.png', 'rb') as f:\n",
    "    att1 = MIMEText(f.read(), 'base64', 'utf-8')\n",
    "    att1[\"Content-Type\"] = 'application/octet-stream'\n",
    "    att1[\"Content-Disposition\"] = 'attachment; filename=\"model.png\"'\n",
    "    att1['Content-ID'] =  '<0>'\n",
    "    att1[\"X-Attachment-Id\"] = '0'\n",
    "    msg.attach(att1)\n",
    "\n",
    "server = smtplib.SMTP(smtp_server, 25)\n",
    "# server.set_debuglevel(1)\n",
    "server.login(from_addr, password)\n",
    "server.sendmail(from_addr, [to_addr], msg.as_string())\n",
    "print('Your email send sucessful!')\n",
    "server.quit()"
   ]
  },
  {
   "cell_type": "markdown",
   "id": "fe73d6c1-b4c8-4ea3-a96e-1550c31caaa2",
   "metadata": {},
   "source": [
    "#### 兼容txt和html"
   ]
  },
  {
   "cell_type": "raw",
   "id": "67307e95-7e4d-4c1f-8e4e-0a99eeb3cd3e",
   "metadata": {},
   "source": [
    "# 如果收件人无法查看HTML格式的邮件，就可以自动降级查看纯文本邮件\n",
    "msg = MIMEMultipart('alternative')\n",
    "msg['From'] = ...\n",
    "msg['To'] = ...\n",
    "msg['Subject'] = ...\n",
    "\n",
    "msg.attach(MIMEText('hello', 'plain', 'utf-8'))\n",
    "msg.attach(MIMEText('<html><body><h1>Hello</h1></body></html>', 'html', 'utf-8'))\n",
    "# 正常发送msg对象..."
   ]
  },
  {
   "cell_type": "markdown",
   "id": "40c17850-e719-445e-a662-54e854897f4c",
   "metadata": {},
   "source": [
    "#### 加密SMTP"
   ]
  },
  {
   "cell_type": "raw",
   "id": "882bd03c-58fd-466b-a9cd-c4c55c851152",
   "metadata": {},
   "source": [
    "# 使用gmail发送\n",
    "smtp_server = 'smtp.gmail.com'\n",
    "smtp_port = 587\n",
    "server = smtplib.SMTP(smtp_server, smtp_port)\n",
    "server.starttls() # 进行加密传输\n",
    "# 剩下的代码和前面的一模一样:\n",
    "server.set_debuglevel(1)"
   ]
  },
  {
   "cell_type": "markdown",
   "id": "0e23ec20-5e7d-4313-ac48-cf488bbe7901",
   "metadata": {},
   "source": [
    "### POP3收取邮件"
   ]
  },
  {
   "cell_type": "markdown",
   "id": "7c5b0d8a-406a-4bb4-a627-b884694862bf",
   "metadata": {},
   "source": [
    "SMTP用于发送邮件，如果要收取邮件呢？\n",
    "\n",
    "收取邮件就是编写一个**MUA**作为客户端，从**MDA**把邮件获取到用户的电脑或者手机上。收取邮件最常用的协议是**POP**协议，目前版本号是3，俗称**POP3**。\n",
    "\n",
    "Python内置一个poplib模块，实现了POP3协议，可以直接用来收邮件。\n",
    "\n",
    "注意到POP3协议收取的不是一个已经可以阅读的邮件本身，而是邮件的原始文本，这和SMTP协议很像，SMTP发送的也是经过编码后的一大段文本。\n",
    "\n",
    "要把POP3收取的文本变成可以阅读的邮件，还需要用`email`模块提供的各种类来解析原始文本，变成可阅读的邮件对象。\n",
    "\n",
    "所以，收取邮件分两步：\n",
    "\n",
    "第一步：用`poplib`把邮件的原始文本下载到本地；\n",
    "\n",
    "第二部：用`email`解析原始文本，还原为邮件对象。"
   ]
  },
  {
   "cell_type": "markdown",
   "id": "07ae0459-2fa0-4400-bbb6-17f3860fe2f1",
   "metadata": {},
   "source": [
    "#### POP3下载邮件"
   ]
  },
  {
   "cell_type": "code",
   "execution_count": 34,
   "id": "2bee026c-942e-4d76-9be1-ad56253b2469",
   "metadata": {
    "execution": {
     "iopub.execute_input": "2022-04-30T03:31:37.011194Z",
     "iopub.status.busy": "2022-04-30T03:31:37.010197Z",
     "iopub.status.idle": "2022-04-30T03:31:37.089983Z",
     "shell.execute_reply": "2022-04-30T03:31:37.089983Z",
     "shell.execute_reply.started": "2022-04-30T03:31:37.011194Z"
    },
    "tags": []
   },
   "outputs": [
    {
     "name": "stdout",
     "output_type": "stream",
     "text": [
      "+OK Welcome to coremail Mail Pop3 Server (163coms[10774b260cc7a37d26d71b52404dcf5cs])\n",
      "*cmd* 'USER xt_shaohan@163.com'\n",
      "*cmd* 'PASS MGIUKTXPIYYPRGCR'\n",
      "*cmd* 'STAT'\n",
      "*stat* [b'+OK', b'1', b'2420']\n",
      "Messages: 1. Size: 2420\n",
      "*cmd* 'LIST'\n",
      "[b'1 2420']\n",
      "*cmd* 'RETR 1'\n",
      "*cmd* 'QUIT'\n"
     ]
    },
    {
     "data": {
      "text/plain": [
       "b'+OK core mail'"
      ]
     },
     "execution_count": 34,
     "metadata": {},
     "output_type": "execute_result"
    }
   ],
   "source": [
    "from email.parser import Parser\n",
    "from email.header import decode_header\n",
    "from email.utils import parseaddr\n",
    "\n",
    "import poplib\n",
    "# 输入邮件地址, 口令和POP3服务器地址:\n",
    "email = 'xt_shaohan@163.com'\n",
    "password = 'MGIUKTXPIYYPRGCR'\n",
    "pop3_server = 'pop.163.com'\n",
    "\n",
    "# 连接到POP3服务器:\n",
    "server = poplib.POP3(pop3_server)\n",
    "# 可以打开或关闭调试信息:\n",
    "server.set_debuglevel(1)\n",
    "# 可选:打印POP3服务器的欢迎文字:\n",
    "print(server.getwelcome().decode('utf-8'))\n",
    "\n",
    "# 身份认证:\n",
    "server.user(email)\n",
    "server.pass_(password)\n",
    "\n",
    "# stat()返回邮件数量和占用空间:\n",
    "print('Messages: %s. Size: %s' % server.stat())\n",
    "# list()返回所有邮件的编号:\n",
    "resp, mails, octets = server.list()\n",
    "# 可以查看返回的列表类似[b'1 82923', b'2 2184', ...]\n",
    "print(mails)\n",
    "\n",
    "# 获取最新一封邮件, 注意索引号从1开始:\n",
    "index = len(mails)\n",
    "resp, lines, octets = server.retr(index)\n",
    "\n",
    "# lines存储了邮件的原始文本的每一行,\n",
    "# 可以获得整个邮件的原始文本:\n",
    "msg_content = b'\\r\\n'.join(lines).decode('utf-8')\n",
    "# 稍后解析出邮件:\n",
    "msg = Parser().parsestr(msg_content)\n",
    "\n",
    "# 可以根据邮件索引号直接从服务器删除邮件:\n",
    "# server.dele(index)\n",
    "# 关闭连接:\n",
    "server.quit()"
   ]
  },
  {
   "cell_type": "markdown",
   "id": "de583266-8768-4e11-a85c-a820d30b16a8",
   "metadata": {},
   "source": [
    "#### 解析邮件"
   ]
  },
  {
   "cell_type": "code",
   "execution_count": 31,
   "id": "7d6348eb-1bdc-4d52-a598-8ef7f2bae7bb",
   "metadata": {
    "execution": {
     "iopub.execute_input": "2022-04-30T03:31:12.997257Z",
     "iopub.status.busy": "2022-04-30T03:31:12.997257Z",
     "iopub.status.idle": "2022-04-30T03:31:13.017203Z",
     "shell.execute_reply": "2022-04-30T03:31:13.017203Z",
     "shell.execute_reply.started": "2022-04-30T03:31:12.997257Z"
    },
    "tags": []
   },
   "outputs": [],
   "source": [
    "msg = Parser().parsestr(msg_content)\n",
    "\n",
    "# indent用于缩进显示:\n",
    "def print_info(msg, indent=0):\n",
    "    if indent == 0:\n",
    "        for header in ['From', 'To', 'Subject']:\n",
    "            value = msg.get(header, '')\n",
    "            if value:\n",
    "                if header=='Subject':\n",
    "                    value = decode_str(value)\n",
    "                else:\n",
    "                    hdr, addr = parseaddr(value)\n",
    "                    name = decode_str(hdr)\n",
    "                    value = u'%s <%s>' % (name, addr)\n",
    "            print('%s%s: %s' % ('  ' * indent, header, value))\n",
    "    if (msg.is_multipart()):\n",
    "        parts = msg.get_payload()\n",
    "        for n, part in enumerate(parts):\n",
    "            print('%spart %s' % ('  ' * indent, n))\n",
    "            print('%s--------------------' % ('  ' * indent))\n",
    "            print_info(part, indent + 1)\n",
    "    else:\n",
    "        content_type = msg.get_content_type()\n",
    "        if content_type=='text/plain' or content_type=='text/html':\n",
    "            content = msg.get_payload(decode=True)\n",
    "            charset = guess_charset(msg)\n",
    "            if charset:\n",
    "                content = content.decode(charset)\n",
    "            print('%sText: %s' % ('  ' * indent, content + '...'))\n",
    "        else:\n",
    "            print('%sAttachment: %s' % ('  ' * indent, content_type))"
   ]
  },
  {
   "cell_type": "code",
   "execution_count": 27,
   "id": "c7a5a98a-4b99-42f5-b793-0b98e5ca9969",
   "metadata": {
    "execution": {
     "iopub.execute_input": "2022-04-30T03:30:15.293453Z",
     "iopub.status.busy": "2022-04-30T03:30:15.293453Z",
     "iopub.status.idle": "2022-04-30T03:30:15.309410Z",
     "shell.execute_reply": "2022-04-30T03:30:15.309410Z",
     "shell.execute_reply.started": "2022-04-30T03:30:15.293453Z"
    },
    "tags": []
   },
   "outputs": [],
   "source": [
    "def decode_str(s):\n",
    "    value, charset = decode_header(s)[0]\n",
    "    if charset:\n",
    "        value = value.decode(charset)\n",
    "    return value"
   ]
  },
  {
   "cell_type": "code",
   "execution_count": 28,
   "id": "5da49e09-143c-494c-a609-d898786a0a4b",
   "metadata": {
    "execution": {
     "iopub.execute_input": "2022-04-30T03:30:16.607936Z",
     "iopub.status.busy": "2022-04-30T03:30:16.606939Z",
     "iopub.status.idle": "2022-04-30T03:30:16.619903Z",
     "shell.execute_reply": "2022-04-30T03:30:16.619903Z",
     "shell.execute_reply.started": "2022-04-30T03:30:16.607936Z"
    },
    "tags": []
   },
   "outputs": [],
   "source": [
    "def guess_charset(msg):\n",
    "    charset = msg.get_charset()\n",
    "    if charset is None:\n",
    "        content_type = msg.get('Content-Type', '').lower()\n",
    "        pos = content_type.find('charset=')\n",
    "        if pos >= 0:\n",
    "            charset = content_type[pos + 8:].strip()\n",
    "    return charset"
   ]
  },
  {
   "cell_type": "code",
   "execution_count": 30,
   "id": "9a2d8a39-b1b9-41fa-9868-27d60a0931d1",
   "metadata": {
    "execution": {
     "iopub.execute_input": "2022-04-30T03:30:36.130615Z",
     "iopub.status.busy": "2022-04-30T03:30:36.129617Z",
     "iopub.status.idle": "2022-04-30T03:30:36.136598Z",
     "shell.execute_reply": "2022-04-30T03:30:36.136598Z",
     "shell.execute_reply.started": "2022-04-30T03:30:36.130615Z"
    },
    "tags": []
   },
   "outputs": [
    {
     "name": "stdout",
     "output_type": "stream",
     "text": [
      "From: t_shaohan <t_shaohan@163.com>\n",
      "To: xt_shaohan@163.com <xt_shaohan@163.com>\n",
      "Subject: ceshi\n",
      "part 0\n",
      "--------------------\n",
      "  Text: 后方可是否合适附近都是了积分书法家龙卷风\n",
      "\n",
      "\n",
      "| |\n",
      "t_shaohan\n",
      "|\n",
      "|\n",
      "t_shaohan@163.com\n",
      "|\n",
      "签名由网易邮箱大师定制...\n",
      "part 1\n",
      "--------------------\n",
      "  Text: <html>\n",
      "<head>\n",
      "    <meta http-equiv=\"Content-Type\" content=\"text/html; charset=UTF-8\">\n",
      "</head>\n",
      "<body>\n",
      "<style>\n",
      "    font{\n",
      "        line-height: 1.6;\n",
      "    }\n",
      "    ul,ol{\n",
      "        padding-left: 20px;\n",
      "        list-style-position: inside;\n",
      "    }\n",
      "</style>\n",
      "<div style=\"font-family:微软雅黑,Verdana,&quot;Microsoft Yahei&quot;,SimSun,sans-serif;font-size:14px; line-height:1.6;\">\n",
      "    <div></div><div>\n",
      "    <div>后方可是否合适附近都是了积分书法家龙卷风</div>\n",
      "    <div>\n",
      "        <span>\n",
      "            <br>\n",
      "        </span>\n",
      "    </div>\n",
      "    <div id=\"ntes-pcmac-signature\" style=\"font-family:'微软雅黑'\">\n",
      "     \n",
      "    <div style=\"font-size:14px; padding: 0;  margin:0;line-height:14px;\">\n",
      "        <div style=\"padding-bottom:6px;margin-bottom:10px;border-bottom:1px solid #e6e6e6;display:inline-block;\">\n",
      "                    <a href=\"https://maas.mail.163.com/dashi-web-extend/html/proSignature.html?ftlId=1&amp;name=t_shaohan&amp;uid=t_shaohan%40163.com&amp;iconUrl=https%3A%2F%2Fmail-online.nosdn.127.net%2Fsm6c2d99b34afb60100375ee8a3886d64b.jpg&amp;items=%5B%22t_shaohan%40163.com%22%5D\" style=\"display:block;background:#fff; max-width: 400px; _width: 400px;padding:15px 0 10px 0;text-decoration: none; outline:none;-webkit-tap-highlight-color:transparent;-webkit-text-size-adjust:none !important;text-size-adjust:none !important;\"><table cellpadding=\"0\" style=\"width: 100%; max-width: 100%; table-layout: fixed; border-collapse: collapse;color: #9b9ea1;font-size: 14px;line-height:1.3;-webkit-text-size-adjust:none !important;text-size-adjust:none !important;\"><tbody style=\"font-family: 'PingFang SC', 'Hiragino Sans GB','WenQuanYi Micro Hei', 'Microsoft Yahei', '微软雅黑', verdana !important; word-wrap:break-word; word-break:break-all;-webkit-text-size-adjust:none !important;text-size-adjust:none !important;\"><tr class=\"firstRow\"><td width=\"38\" style=\"padding:0; box-sizing: border-box; width: 38px;\"><img width=\"38\" height=\"38\" style=\"vertical-align:middle; width: 38px; height: 38px; border-radius:50%;\" src=\"https://mail-online.nosdn.127.net/sm6c2d99b34afb60100375ee8a3886d64b.jpg\"></td><td style=\"padding: 0 0 0 10px; color: #31353b;\"><div style=\"font-size: 16px;font-weight:bold; width:100%; white-space: nowrap; overflow:hidden;text-overflow: ellipsis;\">t_shaohan</div></td></tr><tr width=\"100%\" style=\"font-size: 14px !important; width: 100%;\"><td colspan=\"2\" style=\"padding:10px 0 0 0; font-size:14px !important; width: 100%;\"><div style=\"width: 100%;font-size: 14px !important;word-wrap:break-word;word-break:break-all;\">t_shaohan@163.com</div></td></tr></tbody></table></a>\n",
      "        </div>\n",
      "    </div>\n",
      "    <div style=\"font-size:12px;color:#b5b9bd;line-height:18px;\">\n",
      "        <span>签名由</span><a style=\"text-decoration: none;color:#4196ff;padding:0 5px;\" href=\"https://mail.163.com/dashi/dlpro.html?from=mail81\">网易邮箱大师</a><span>定制</span>\n",
      "    </div>\n",
      " </div>\n",
      "</div><!--😀-->\n",
      "</div>\n",
      "</body>\n",
      "</html>...\n"
     ]
    }
   ],
   "source": [
    "print_info(msg, indent=0)"
   ]
  },
  {
   "cell_type": "markdown",
   "id": "28ee75c7-d3bf-463d-8e5c-1cdc7e05929c",
   "metadata": {},
   "source": [
    "### IMAP收取管理邮件"
   ]
  },
  {
   "cell_type": "markdown",
   "id": "8a92bf02-295c-4bfb-a61e-a34e24ac2292",
   "metadata": {},
   "source": [
    "* 使用Python内置库`imaplib`可以参考[这里](https://coderzcolumn.com/tutorials/python/imaplib-simple-guide-to-manage-mailboxes-using-python)\n",
    "* 这里我使用第三方库`imap-tools`进行操作，网易邮箱需要使用内置库，可以参考[github主页](https://github.com/ikvk/imap_tools#guide)"
   ]
  },
  {
   "cell_type": "markdown",
   "id": "43f066a9-3af3-4f7e-b048-b01a271f4ed8",
   "metadata": {},
   "source": [
    "#### 基础操作"
   ]
  },
  {
   "cell_type": "code",
   "execution_count": 2,
   "id": "dbb864b1-db81-48e8-a13d-774ed1d380bd",
   "metadata": {
    "execution": {
     "iopub.execute_input": "2022-05-02T13:33:50.455378Z",
     "iopub.status.busy": "2022-05-02T13:33:50.455378Z",
     "iopub.status.idle": "2022-05-02T13:33:56.816365Z",
     "shell.execute_reply": "2022-05-02T13:33:56.816365Z",
     "shell.execute_reply.started": "2022-05-02T13:33:50.455378Z"
    },
    "tags": []
   },
   "outputs": [
    {
     "name": "stdout",
     "output_type": "stream",
     "text": [
      "<class 'imap_tools.message.MailMessage'>\n",
      "************\n",
      "msg.uid      -> 69\n",
      "msg.date     -> 2022-05-01 13:11:42+00:00\n",
      "msg.flags    -> ('\\\\Seen',)\n",
      "msg.date_str -> Sun, 01 May 2022 13:11:42 GMT\n",
      "msg.subject  -> 您的电子邮件地址现已成为以下帐号的辅助邮箱： shaohan.tian.cn@gmail.com\n",
      "msg.from_    -> no-reply@accounts.google.com\n",
      "msg.to       -> ('shaohan.tian@hotmail.com',)\n",
      "msg.text     -> 这是发送给 shaohan.tian.cn@gmail.com 的安全提醒的副本。 \n",
      "shaohan.tian@hotmail.com 是该帐号的辅助邮箱。\n",
      "如果不认识此帐号，请移除\n",
      "<https://accounts.google.com/AccountDisavow?adt=AOX8kioVUfFQoeKsYkX_JniZx1fdEzZKXDvHMSBobhkqrd6kAphR3XA9uzJcHZ7PrwVb4f8&rfn=2&anexp=-verified--nret-fa>\n",
      "您的电子邮件地址。\n",
      "[image: Google]\n",
      "您的电子邮件地址已被验证为辅助邮箱\n",
      "shaohan.tian.cn@gmail.com 现已将您的电子邮件地址用作其辅助邮箱。如果不认识此 \n",
      "帐号，您可从中移除您的电子邮件地址。\n",
      "移除电子邮件地址\n",
      "<https://accounts.google.com/AccountDisavow?adt=AOX8kioVUfFQoeKsYkX_JniZx1fdEzZKXDvHMSBobhkqrd6kAphR3XA9uzJcHZ7PrwVb4f8&rfn=2&anexp=-verified--nret-fa>\n",
      "您也可以访问以下网址查看安全性活动：\n",
      "https://myaccount.google.com/notifications\n",
      "我们向您发送这封电子邮件，目的是让您了解关于您的 Google 帐号和服务的重大变 \n",
      "化。\n",
      "© 2022 Google LLC, 1600 Amphitheatre Parkway, Mountain View, CA 94043, USA\n",
      "\n",
      "msg.size     -> 18825\n",
      "len(msg.text or msg.html) -> 720\n",
      "************\n",
      "\n"
     ]
    }
   ],
   "source": [
    "from imap_tools import MailBox, AND, MailBoxTls, MailBoxUnencrypted\n",
    "\n",
    "# 输入邮件地址, 口令和POP3服务器地址:\n",
    "# email = '1185725270@qq.com'\n",
    "# password = 'ubaadytmiokrjfdd'\n",
    "# imap_server = 'imap.qq.com'\n",
    "\n",
    "email = 'shaohan.tian@hotmail.com'\n",
    "password = 'tsh980509'\n",
    "imap_server = 'outlook.office365.com'\n",
    "\n",
    "## 使用163邮箱需要修改imap-tools模块\n",
    "\n",
    "# Get date, subject and body len of all emails from INBOX folder\n",
    "with MailBox(imap_server).login(email, password, initial_folder='Inbox') as mailbox:\n",
    "    for msg in mailbox.fetch():\n",
    "        print(type(msg))\n",
    "        print(f'''************\n",
    "msg.uid      -> {msg.uid}\n",
    "msg.date     -> {msg.date}\n",
    "msg.flags    -> {msg.flags}\n",
    "msg.date_str -> {msg.date_str}\n",
    "msg.subject  -> {msg.subject}\n",
    "msg.from_    -> {msg.from_}\n",
    "msg.to       -> {msg.to}\n",
    "msg.text     -> {msg.text}\n",
    "msg.size     -> {msg.size}\n",
    "len(msg.text or msg.html) -> {len(msg.text or msg.html)}\n",
    "************\n",
    "''')"
   ]
  },
  {
   "cell_type": "markdown",
   "id": "2b862b48-ac7f-4ddd-a77c-ebcf7179093c",
   "metadata": {},
   "source": [
    "#### 邮件解析"
   ]
  },
  {
   "cell_type": "raw",
   "id": "3a06779e-28bd-4a83-bffa-548e83cde243",
   "metadata": {
    "execution": {
     "iopub.execute_input": "2022-04-30T08:28:32.510561Z",
     "iopub.status.busy": "2022-04-30T08:28:32.509563Z",
     "iopub.status.idle": "2022-04-30T08:28:33.590674Z",
     "shell.execute_reply": "2022-04-30T08:28:33.590674Z",
     "shell.execute_reply.started": "2022-04-30T08:28:32.510561Z"
    },
    "tags": []
   },
   "source": [
    "for msg in mailbox.fetch():  # generator: imap_tools.MailMessage\n",
    "    msg.uid          # str | None: '123'\n",
    "    msg.subject      # str: 'some subject 你 привет'\n",
    "    msg.from_        # str: 'Bartölke@ya.ru'\n",
    "    msg.to           # tuple: ('iam@goo.ru', 'friend@ya.ru', )\n",
    "    msg.cc           # tuple: ('cc@mail.ru', )\n",
    "    msg.bcc          # tuple: ('bcc@mail.ru', )\n",
    "    msg.reply_to     # tuple: ('reply_to@mail.ru', )\n",
    "    msg.date         # datetime.datetime: 1900-1-1 for unparsed, may be naive or with tzinfo\n",
    "    msg.date_str     # str: original date - 'Tue, 03 Jan 2017 22:26:59 +0500'\n",
    "    msg.text         # str: 'Hello 你 Привет'\n",
    "    msg.html         # str: '<b>Hello 你 Привет</b>'\n",
    "    msg.flags        # tuple: ('\\\\Seen', '\\\\Flagged', 'ENCRYPTED')\n",
    "    msg.headers      # dict: {'received': ('from 1.m.ru', 'from 2.m.ru'), 'anti-virus': ('Clean',)}\n",
    "    msg.size_rfc822  # int: 20664 bytes - size info from server (*useful with headers_only arg)\n",
    "    msg.size         # int: 20377 bytes - size of received message\n",
    "\n",
    "    for att in msg.attachments:  # list: imap_tools.MailAttachment\n",
    "        att.filename             # str: 'cat.jpg'\n",
    "        att.payload              # bytes: b'\\xff\\xd8\\xff\\xe0\\'\n",
    "        att.content_id           # str: 'part45.06020801.00060008@mail.ru'\n",
    "        att.content_type         # str: 'image/jpeg'\n",
    "        att.content_disposition  # str: 'inline'\n",
    "        att.part                 # email.message.Message: original object\n",
    "        att.size                 # int: 17361 bytes\n",
    "\n",
    "    msg.obj              # email.message.Message: original object\n",
    "    msg.from_values      # imap_tools.EmailAddress | None\n",
    "    msg.to_values        # tuple: (imap_tools.EmailAddress,)\n",
    "    msg.cc_values        # tuple: (imap_tools.EmailAddress,)\n",
    "    msg.bcc_values       # tuple: (imap_tools.EmailAddress,)\n",
    "    msg.reply_to_values  # tuple: (imap_tools.EmailAddress,)\n",
    "    # EmailAddress(name='Ya', email='im@ya.ru')  # \"full\" property = 'Ya <im@ya.ru>'"
   ]
  },
  {
   "cell_type": "markdown",
   "id": "cf236467-9fa8-46a1-98c2-7ea56c3c8259",
   "metadata": {},
   "source": [
    "#### 邮件查询"
   ]
  },
  {
   "cell_type": "code",
   "execution_count": 143,
   "id": "c08ab04a-9904-47ee-b738-346fcee9d785",
   "metadata": {
    "execution": {
     "iopub.execute_input": "2022-05-02T09:30:50.923487Z",
     "iopub.status.busy": "2022-05-02T09:30:50.923487Z",
     "iopub.status.idle": "2022-05-02T09:30:57.343316Z",
     "shell.execute_reply": "2022-05-02T09:30:57.343316Z",
     "shell.execute_reply.started": "2022-05-02T09:30:50.923487Z"
    },
    "tags": []
   },
   "outputs": [
    {
     "name": "stdout",
     "output_type": "stream",
     "text": [
      "2022-05-01 20:40:38+08:00 欢迎使用你的新 Outlook.com 帐户\n",
      "2022-05-01 13:11:01+00:00 电子邮件验证码： 750843\n",
      "2022-05-01 13:11:42+00:00 您的电子邮件地址现已成为以下帐号的辅助邮箱： shaohan.tian.cn@gmail.com\n"
     ]
    }
   ],
   "source": [
    "# 这里有三种方法可以查询，例如查询主题为SMTP的邮件\n",
    "from imap_tools import AND\n",
    "\n",
    "with MailBox(imap_server).login(email, password) as mailbox:\n",
    "    mail_criteria = mailbox.fetch(AND(text='google'))  # query, the str-like object\n",
    "    for mail in mail_criteria:\n",
    "        print(mail.date, mail.subject)\n",
    "\n",
    "# mailbox.fetch('TEXT \"hello\"')          # str\n",
    "# mailbox.fetch(b'TEXT \"\\xd1\\x8f\"')      # bytes, *charset arg is ignored"
   ]
  },
  {
   "cell_type": "raw",
   "id": "f40ba6b1-2323-4ee8-ae85-d82e2cbf16d7",
   "metadata": {},
   "source": [
    "from imap_tools import A, AND, OR, NOT\n",
    "# AND\n",
    "A(text='hello', new=True)  # '(TEXT \"hello\" NEW)'\n",
    "# OR\n",
    "OR(text='hello', date=datetime.date(2000, 3, 15))  # '(OR TEXT \"hello\" ON 15-Mar-2000)'\n",
    "# NOT\n",
    "NOT(text='hello', new=True)  # 'NOT (TEXT \"hello\" NEW)'\n",
    "# complex\n",
    "A(OR(from_='from@ya.ru', text='\"the text\"'), NOT(OR(A(answered=False), A(new=True))), to='to@ya.ru')\n",
    "# python note: you can't do: A(text='two', NOT(subject='one'))\n",
    "A(NOT(subject='one'), text='two')  # use kwargs after logic classes (args)"
   ]
  },
  {
   "cell_type": "markdown",
   "id": "cfa24df8-a4ad-4c54-81aa-9adb27edade0",
   "metadata": {},
   "source": [
    "#### 文件夹操作"
   ]
  },
  {
   "cell_type": "code",
   "execution_count": 167,
   "id": "ed485152-37a2-4af5-bfa0-2e4cff299e4d",
   "metadata": {
    "execution": {
     "iopub.execute_input": "2022-05-02T10:22:41.277551Z",
     "iopub.status.busy": "2022-05-02T10:22:41.277551Z",
     "iopub.status.idle": "2022-05-02T10:22:43.728993Z",
     "shell.execute_reply": "2022-05-02T10:22:43.728993Z",
     "shell.execute_reply.started": "2022-05-02T10:22:41.277551Z"
    },
    "tags": []
   },
   "outputs": [
    {
     "name": "stdout",
     "output_type": "stream",
     "text": [
      "FolderInfo(name='Archive', delim='/', flags=('\\\\Marked', '\\\\HasNoChildren'))\n",
      "FolderInfo(name='Deleted', delim='/', flags=('\\\\Marked', '\\\\HasNoChildren', '\\\\Trash'))\n",
      "FolderInfo(name='Drafts', delim='/', flags=('\\\\Marked', '\\\\HasNoChildren', '\\\\Drafts'))\n",
      "FolderInfo(name='IMAP_TEST', delim='/', flags=('\\\\HasNoChildren',))\n",
      "FolderInfo(name='Inbox', delim='/', flags=('\\\\Marked', '\\\\HasNoChildren'))\n",
      "FolderInfo(name='Junk', delim='/', flags=('\\\\Marked', '\\\\HasNoChildren', '\\\\Junk'))\n",
      "FolderInfo(name='Notes', delim='/', flags=('\\\\Marked', '\\\\HasNoChildren'))\n",
      "FolderInfo(name='Outbox', delim='/', flags=('\\\\HasNoChildren',))\n",
      "FolderInfo(name='Sent', delim='/', flags=('\\\\Marked', '\\\\HasNoChildren', '\\\\Sent'))\n",
      "{'MESSAGES': 2, 'RECENT': 2, 'UIDNEXT': 42, 'UIDVALIDITY': 19, 'UNSEEN': 0}\n"
     ]
    }
   ],
   "source": [
    "from imap_tools import MailBox, AND\n",
    "\n",
    "email = 'shaohan.tian@hotmail.com'\n",
    "password = 'tsh980509'\n",
    "imap_server = 'outlook.office365.com'\n",
    "\n",
    "with MailBox(imap_server).login(email, password) as mailbox:\n",
    "    # LIST: get all subfolders of the specified folder (root by default)\n",
    "    for f in mailbox.folder.list():\n",
    "        print(f)  # FolderInfo(name='INBOX|cats', delim='|', flags=('\\\\Unmarked', '\\\\HasChildren'))\n",
    "    # # GET: get selected folder\n",
    "    # current_folder = mailbox.folder.get()\n",
    "\n",
    "    # # CREATE: create new folder\n",
    "    # mailbox.folder.create('INBOX|folder1')\n",
    "\n",
    "    # # EXISTS: check is folder exists (shortcut for list)\n",
    "    # is_exists = mailbox.folder.exists('INBOX|folder1')\n",
    "\n",
    "    # # RENAME: set new name to folder\n",
    "    # mailbox.folder.rename('folder1', 'folder4')\n",
    "\n",
    "    # # SUBSCRIBE: subscribe/unsubscribe to folder\n",
    "    # mailbox.folder.subscribe('INBOX|папка два', True)\n",
    "\n",
    "    # # DELETE: delete folder\n",
    "    # mailbox.folder.delete('folder4')\n",
    "    \n",
    "    # STATUS: get folder status info\n",
    "    stat = mailbox.folder.status('Notes')\n",
    "    print(stat)  # {'MESSAGES': 41, 'RECENT': 0, 'UIDNEXT': 11996, 'UIDVALIDITY': 1, 'UNSEEN': 5}"
   ]
  },
  {
   "cell_type": "markdown",
   "id": "b06b2fa9-90df-4092-b8da-525d87f143a8",
   "metadata": {},
   "source": [
    "#### 邮件相关操作"
   ]
  },
  {
   "cell_type": "code",
   "execution_count": 172,
   "id": "e813df16-2c54-47b2-b78b-653c18ecb90e",
   "metadata": {
    "execution": {
     "iopub.execute_input": "2022-05-02T10:28:19.314411Z",
     "iopub.status.busy": "2022-05-02T10:28:19.314411Z",
     "iopub.status.idle": "2022-05-02T10:28:21.267190Z",
     "shell.execute_reply": "2022-05-02T10:28:21.267190Z",
     "shell.execute_reply.started": "2022-05-02T10:28:19.314411Z"
    },
    "tags": []
   },
   "outputs": [],
   "source": [
    "from imap_tools import MailBox, AND, MailBoxTls, MailBoxUnencrypted\n",
    "import  imap_tools\n",
    "\n",
    "email = 'shaohan.tian@hotmail.com'\n",
    "password = 'tsh980509'\n",
    "imap_server = 'outlook.office365.com'\n",
    "\n",
    "# Get date, subject and body len of all emails from INBOX folder\n",
    "with MailBox(imap_server).login(email, password, initial_folder='IMAP_TEST') as mailbox:\n",
    "    pass\n",
    "    \n",
    "    # # COPY all messages from current folder to Junk\n",
    "    # mailbox.copy(mailbox.uids(), 'IMAP_TEST')\n",
    "    \n",
    "    # MOVE messages with uid in 5,10 from current folder to INBOX/folder2\n",
    "    # mailbox.move('5, 10', 'IMAP_TEST')\n",
    "    \n",
    "    # # DELETE messages with 'cat' word in its html from current folder\n",
    "    # mailbox.delete([msg.uid for msg in mailbox.fetch() if 'cat' in msg.html])\n",
    "    \n",
    "    # # FLAG unseen messages in current folder as \\Seen, \\Flagged and TAG1\n",
    "    # flags = (imap_tools.MailMessageFlags.SEEN, imap_tools.MailMessageFlags.FLAGGED, 'TAG1')\n",
    "    # mailbox.flag(mailbox.uids(AND(seen=False)), flags, True)\n",
    "    \n",
    "    # # APPEND: add message to mailbox directly, to INBOX folder with \\Seen flag and now date\n",
    "    # with open('text.txt', 'rb') as f:\n",
    "    #     msg = imap_tools.MailMessage.from_bytes(f.read())  # *or use bytes instead MailMessage\n",
    "    # mailbox.append(msg, 'INBOX', dt=None, flag_set=[imap_tools.MailMessageFlags.SEEN])"
   ]
  },
  {
   "cell_type": "code",
   "execution_count": null,
   "id": "957a177c-8f40-40e2-9c74-492357f43f4e",
   "metadata": {},
   "outputs": [],
   "source": []
  },
  {
   "cell_type": "code",
   "execution_count": null,
   "id": "bdd3a137-0ff6-4f20-8ad8-ee0674b8c125",
   "metadata": {},
   "outputs": [],
   "source": []
  },
  {
   "cell_type": "code",
   "execution_count": null,
   "id": "fdb8190a-4a4d-4d31-ba38-3d1c550aa716",
   "metadata": {
    "tags": []
   },
   "outputs": [],
   "source": []
  },
  {
   "cell_type": "code",
   "execution_count": null,
   "id": "65143237-0fd2-4106-9baa-8642185310e6",
   "metadata": {},
   "outputs": [],
   "source": []
  },
  {
   "cell_type": "code",
   "execution_count": null,
   "id": "0d1c1ac4-05f3-4457-80aa-a765ae62a572",
   "metadata": {},
   "outputs": [],
   "source": []
  },
  {
   "cell_type": "code",
   "execution_count": null,
   "id": "af356e66-3577-4a88-b799-4c4b66280827",
   "metadata": {},
   "outputs": [],
   "source": []
  },
  {
   "cell_type": "code",
   "execution_count": null,
   "id": "3151ce01-c4cb-45d6-a91c-4b747b6cc5d9",
   "metadata": {},
   "outputs": [],
   "source": [
    "\n"
   ]
  },
  {
   "cell_type": "code",
   "execution_count": null,
   "id": "64d2bc33-3492-4de2-97fc-1c1a22245319",
   "metadata": {},
   "outputs": [],
   "source": []
  },
  {
   "cell_type": "code",
   "execution_count": null,
   "id": "29b705db-5550-4f50-bfd7-c176aa6d4a3a",
   "metadata": {},
   "outputs": [],
   "source": []
  },
  {
   "cell_type": "code",
   "execution_count": null,
   "id": "3f8805d1-2650-4b91-9b8e-cfe51bef8f4b",
   "metadata": {},
   "outputs": [],
   "source": []
  },
  {
   "cell_type": "code",
   "execution_count": null,
   "id": "931cafa0-a235-4943-9d30-616d3cdfa1af",
   "metadata": {},
   "outputs": [],
   "source": []
  },
  {
   "cell_type": "code",
   "execution_count": null,
   "id": "bc2dc6a7-e5c5-4430-a51c-26861461b306",
   "metadata": {},
   "outputs": [],
   "source": []
  },
  {
   "cell_type": "code",
   "execution_count": null,
   "id": "aaa107fb-b6d0-45c6-894b-e8c0ea5a7a65",
   "metadata": {},
   "outputs": [],
   "source": []
  }
 ],
 "metadata": {
  "kernelspec": {
   "display_name": "Python 3 (ipykernel)",
   "language": "python",
   "name": "python3"
  },
  "language_info": {
   "codemirror_mode": {
    "name": "ipython",
    "version": 3
   },
   "file_extension": ".py",
   "mimetype": "text/x-python",
   "name": "python",
   "nbconvert_exporter": "python",
   "pygments_lexer": "ipython3",
   "version": "3.7.13"
  },
  "toc-autonumbering": true,
  "toc-showcode": false,
  "toc-showmarkdowntxt": false,
  "toc-showtags": false
 },
 "nbformat": 4,
 "nbformat_minor": 5
}
