{
 "cells": [
  {
   "cell_type": "code",
   "execution_count": null,
   "id": "573e9124-6f36-44c7-b645-afa2d6086e9f",
   "metadata": {},
   "outputs": [],
   "source": []
  },
  {
   "cell_type": "code",
   "execution_count": null,
   "id": "56890bed-ecaf-416a-8ba4-5d1dde0b8c98",
   "metadata": {},
   "outputs": [],
   "source": []
  },
  {
   "cell_type": "code",
   "execution_count": 1,
   "id": "87e1b4c3-5708-43ef-a39f-c6b9791a98be",
   "metadata": {
    "execution": {
     "iopub.execute_input": "2022-11-17T13:56:03.787909Z",
     "iopub.status.busy": "2022-11-17T13:56:03.787909Z",
     "iopub.status.idle": "2022-11-17T13:56:04.098385Z",
     "shell.execute_reply": "2022-11-17T13:56:04.098385Z",
     "shell.execute_reply.started": "2022-11-17T13:56:03.787909Z"
    }
   },
   "outputs": [
    {
     "name": "stderr",
     "output_type": "stream",
     "text": [
      "C:\\Users\\shaohan.tian\\scoop\\apps\\miniconda3\\current\\envs\\pytorch\\lib\\site-packages\\tqdm\\auto.py:22: TqdmWarning: IProgress not found. Please update jupyter and ipywidgets. See https://ipywidgets.readthedocs.io/en/stable/user_install.html\n",
      "  from .autonotebook import tqdm as notebook_tqdm\n"
     ]
    }
   ],
   "source": [
    "import transformers"
   ]
  },
  {
   "cell_type": "code",
   "execution_count": null,
   "id": "8f07641f-c245-40a6-b44a-cb537cdb9908",
   "metadata": {},
   "outputs": [],
   "source": []
  }
 ],
 "metadata": {
  "kernelspec": {
   "display_name": "pytorch",
   "language": "python",
   "name": "pytorch"
  },
  "language_info": {
   "codemirror_mode": {
    "name": "ipython",
    "version": 3
   },
   "file_extension": ".py",
   "mimetype": "text/x-python",
   "name": "python",
   "nbconvert_exporter": "python",
   "pygments_lexer": "ipython3",
   "version": "3.9.12"
  }
 },
 "nbformat": 4,
 "nbformat_minor": 5
}
