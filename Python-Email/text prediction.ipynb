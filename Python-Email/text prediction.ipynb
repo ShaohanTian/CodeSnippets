{
 "cells": [
  {
   "cell_type": "code",
   "execution_count": 31,
   "id": "0dcac98a-0d81-45a7-9cdb-0a1c65ad56fe",
   "metadata": {
    "execution": {
     "iopub.execute_input": "2022-05-03T06:27:11.589820Z",
     "iopub.status.busy": "2022-05-03T06:27:11.589820Z",
     "iopub.status.idle": "2022-05-03T06:27:11.594807Z",
     "shell.execute_reply": "2022-05-03T06:27:11.594807Z",
     "shell.execute_reply.started": "2022-05-03T06:27:11.589820Z"
    },
    "tags": []
   },
   "outputs": [],
   "source": [
    "%matplotlib inline\n",
    "\n",
    "import numpy as np\n",
    "import warnings\n",
    "import matplotlib.pyplot as plt\n",
    "\n",
    "warnings.filterwarnings('ignore')\n",
    "np.random.seed(123)"
   ]
  },
  {
   "cell_type": "code",
   "execution_count": 32,
   "id": "a699af59-2b8b-4ebf-ae7b-38ed23a151f2",
   "metadata": {
    "execution": {
     "iopub.execute_input": "2022-05-03T06:27:11.604780Z",
     "iopub.status.busy": "2022-05-03T06:27:11.604780Z",
     "iopub.status.idle": "2022-05-03T06:27:13.867404Z",
     "shell.execute_reply": "2022-05-03T06:27:13.867157Z",
     "shell.execute_reply.started": "2022-05-03T06:27:11.604780Z"
    },
    "tags": []
   },
   "outputs": [
    {
     "data": {
      "text/html": [
       "<div>\n",
       "<style scoped>\n",
       "    .dataframe tbody tr th:only-of-type {\n",
       "        vertical-align: middle;\n",
       "    }\n",
       "\n",
       "    .dataframe tbody tr th {\n",
       "        vertical-align: top;\n",
       "    }\n",
       "\n",
       "    .dataframe thead th {\n",
       "        text-align: right;\n",
       "    }\n",
       "</style>\n",
       "<table border=\"1\" class=\"dataframe\">\n",
       "  <thead>\n",
       "    <tr style=\"text-align: right;\">\n",
       "      <th></th>\n",
       "      <th>sentence</th>\n",
       "      <th>label</th>\n",
       "    </tr>\n",
       "  </thead>\n",
       "  <tbody>\n",
       "    <tr>\n",
       "      <th>43787</th>\n",
       "      <td>very pleasing at its best moments</td>\n",
       "      <td>1</td>\n",
       "    </tr>\n",
       "    <tr>\n",
       "      <th>16159</th>\n",
       "      <td>, american chai is enough to make you put away...</td>\n",
       "      <td>0</td>\n",
       "    </tr>\n",
       "    <tr>\n",
       "      <th>59015</th>\n",
       "      <td>too much like an infomercial for ram dass 's l...</td>\n",
       "      <td>0</td>\n",
       "    </tr>\n",
       "    <tr>\n",
       "      <th>5108</th>\n",
       "      <td>a stirring visual sequence</td>\n",
       "      <td>1</td>\n",
       "    </tr>\n",
       "    <tr>\n",
       "      <th>67052</th>\n",
       "      <td>cool visual backmasking</td>\n",
       "      <td>1</td>\n",
       "    </tr>\n",
       "    <tr>\n",
       "      <th>35938</th>\n",
       "      <td>hard ground</td>\n",
       "      <td>0</td>\n",
       "    </tr>\n",
       "    <tr>\n",
       "      <th>49879</th>\n",
       "      <td>the striking , quietly vulnerable personality ...</td>\n",
       "      <td>1</td>\n",
       "    </tr>\n",
       "    <tr>\n",
       "      <th>51591</th>\n",
       "      <td>pan nalin 's exposition is beautiful and myste...</td>\n",
       "      <td>1</td>\n",
       "    </tr>\n",
       "    <tr>\n",
       "      <th>56780</th>\n",
       "      <td>wonderfully loopy</td>\n",
       "      <td>1</td>\n",
       "    </tr>\n",
       "    <tr>\n",
       "      <th>28518</th>\n",
       "      <td>most beautiful , evocative</td>\n",
       "      <td>1</td>\n",
       "    </tr>\n",
       "  </tbody>\n",
       "</table>\n",
       "</div>"
      ],
      "text/plain": [
       "                                                sentence  label\n",
       "43787                 very pleasing at its best moments       1\n",
       "16159  , american chai is enough to make you put away...      0\n",
       "59015  too much like an infomercial for ram dass 's l...      0\n",
       "5108                         a stirring visual sequence       1\n",
       "67052                           cool visual backmasking       1\n",
       "35938                                       hard ground       0\n",
       "49879  the striking , quietly vulnerable personality ...      1\n",
       "51591  pan nalin 's exposition is beautiful and myste...      1\n",
       "56780                                 wonderfully loopy       1\n",
       "28518                        most beautiful , evocative       1"
      ]
     },
     "execution_count": 32,
     "metadata": {},
     "output_type": "execute_result"
    }
   ],
   "source": [
    "from autogluon.core.utils.loaders import load_pd\n",
    "train_data = load_pd.load('https://autogluon-text.s3-accelerate.amazonaws.com/glue/sst/train.parquet')\n",
    "test_data = load_pd.load('https://autogluon-text.s3-accelerate.amazonaws.com/glue/sst/dev.parquet')\n",
    "subsample_size = 3000  # subsample data for faster demo, try setting this to larger values\n",
    "train_data = train_data.sample(n=subsample_size, random_state=0)\n",
    "train_data.head(10)"
   ]
  },
  {
   "cell_type": "code",
   "execution_count": 33,
   "id": "c550134d-28f9-4372-a0d1-d48738ef6084",
   "metadata": {
    "execution": {
     "iopub.execute_input": "2022-05-03T06:27:13.869151Z",
     "iopub.status.busy": "2022-05-03T06:27:13.869151Z",
     "iopub.status.idle": "2022-05-03T06:40:22.362111Z",
     "shell.execute_reply": "2022-05-03T06:40:22.362111Z",
     "shell.execute_reply.started": "2022-05-03T06:27:13.869151Z"
    },
    "tags": []
   },
   "outputs": [
    {
     "name": "stderr",
     "output_type": "stream",
     "text": [
      "Global seed set to 123\n",
      "Warning: path already exists! This predictor may overwrite an existing predictor! path=\"./ag_sst\"\n",
      "Using 16bit native Automatic Mixed Precision (AMP)\n",
      "GPU available: True, used: True\n",
      "TPU available: False, using: 0 TPU cores\n",
      "IPU available: False, using: 0 IPUs\n",
      "LOCAL_RANK: 0 - CUDA_VISIBLE_DEVICES: [0]\n",
      "\n",
      "  | Name              | Type                         | Params\n",
      "-------------------------------------------------------------------\n",
      "0 | model             | HFAutoModelForTextPrediction | 108 M \n",
      "1 | validation_metric | Accuracy                     | 0     \n",
      "2 | loss_func         | CrossEntropyLoss             | 0     \n",
      "-------------------------------------------------------------------\n",
      "108 M     Trainable params\n",
      "0         Non-trainable params\n",
      "108 M     Total params\n",
      "217.786   Total estimated model params size (MB)\n"
     ]
    },
    {
     "name": "stdout",
     "output_type": "stream",
     "text": [
      "                                                                                               "
     ]
    },
    {
     "name": "stderr",
     "output_type": "stream",
     "text": [
      "Global seed set to 123\n"
     ]
    },
    {
     "name": "stdout",
     "output_type": "stream",
     "text": [
      "Epoch 0:  36%|█████████▌                 | 156/439 [00:10<00:18, 14.96it/s, loss=0.658, v_num=]\n",
      "Validating: 0it [00:00, ?it/s]\u001b[A\n",
      "Validating:   0%|                                                       | 0/63 [00:00<?, ?it/s]\u001b[A\n",
      "Epoch 0:  36%|█████████▋                 | 158/439 [00:15<00:27, 10.17it/s, loss=0.658, v_num=]\u001b[A\n",
      "Epoch 0:  37%|█████████▉                 | 162/439 [00:15<00:26, 10.32it/s, loss=0.658, v_num=]\u001b[A\n",
      "Epoch 0:  38%|██████████▎                | 167/439 [00:15<00:25, 10.57it/s, loss=0.658, v_num=]\u001b[A\n",
      "Epoch 0:  40%|██████████▊                | 175/439 [00:15<00:24, 10.99it/s, loss=0.658, v_num=]\u001b[A\n",
      "Epoch 0:  42%|███████████▎               | 183/439 [00:16<00:22, 11.41it/s, loss=0.658, v_num=]\u001b[A\n",
      "Epoch 0:  44%|███████████▋               | 191/439 [00:16<00:20, 11.83it/s, loss=0.658, v_num=]\u001b[A\n",
      "Epoch 0:  45%|████████████▏              | 199/439 [00:16<00:19, 12.24it/s, loss=0.658, v_num=]\u001b[A\n",
      "Epoch 0:  47%|████████████▋              | 207/439 [00:16<00:18, 12.64it/s, loss=0.658, v_num=]\u001b[A\n",
      "Epoch 0:  49%|█████████████▏             | 215/439 [00:16<00:17, 13.04it/s, loss=0.658, v_num=]\u001b[A\n",
      "Epoch 0:  50%|█████████████▌             | 220/439 [00:16<00:16, 13.06it/s, loss=0.658, v_num=]\u001b[A\n",
      "                                                                                               \u001b[A"
     ]
    },
    {
     "name": "stderr",
     "output_type": "stream",
     "text": [
      "Epoch 0, global step 9: val_acc reached 0.66000 (best 0.66000), saving model to \"D:\\360yun\\360yun\\code\\code_myself\\code_mail\\ag_sst\\epoch=0-step=9.ckpt\" as top 3\n"
     ]
    },
    {
     "name": "stdout",
     "output_type": "stream",
     "text": [
      "Epoch 0:  86%|███████████████████████▏   | 376/439 [00:48<00:08,  7.72it/s, loss=0.444, v_num=]\n",
      "Validating: 0it [00:00, ?it/s]\u001b[A\n",
      "Validating:   0%|                                                       | 0/63 [00:00<?, ?it/s]\u001b[A\n",
      "Epoch 0:  86%|███████████████████████▏   | 378/439 [00:53<00:08,  7.05it/s, loss=0.444, v_num=]\u001b[A\n",
      "Epoch 0:  87%|███████████████████████▍   | 382/439 [00:53<00:08,  7.10it/s, loss=0.444, v_num=]\u001b[A\n",
      "Epoch 0:  88%|███████████████████████▋   | 386/439 [00:53<00:07,  7.15it/s, loss=0.444, v_num=]\u001b[A\n",
      "Epoch 0:  90%|████████████████████████▏  | 393/439 [00:54<00:06,  7.27it/s, loss=0.444, v_num=]\u001b[A\n",
      "Epoch 0:  91%|████████████████████████▌  | 400/439 [00:54<00:05,  7.38it/s, loss=0.444, v_num=]\u001b[A\n",
      "Epoch 0:  93%|█████████████████████████  | 407/439 [00:54<00:04,  7.50it/s, loss=0.444, v_num=]\u001b[A\n",
      "Epoch 0:  94%|█████████████████████████▍ | 414/439 [00:54<00:03,  7.61it/s, loss=0.444, v_num=]\u001b[A\n",
      "Epoch 0:  96%|█████████████████████████▉ | 421/439 [00:54<00:02,  7.72it/s, loss=0.444, v_num=]\u001b[A\n",
      "Epoch 0:  97%|██████████████████████████▎| 428/439 [00:54<00:01,  7.84it/s, loss=0.444, v_num=]\u001b[A\n",
      "Epoch 0:  99%|██████████████████████████▊| 435/439 [00:54<00:00,  7.95it/s, loss=0.444, v_num=]\u001b[A\n",
      "Epoch 0: 100%|███████████████████████████| 439/439 [00:55<00:00,  7.96it/s, loss=0.444, v_num=]\u001b[A\n",
      "                                                                                               \u001b[A"
     ]
    },
    {
     "name": "stderr",
     "output_type": "stream",
     "text": [
      "Epoch 0, global step 19: val_acc reached 0.83800 (best 0.83800), saving model to \"D:\\360yun\\360yun\\code\\code_myself\\code_mail\\ag_sst\\epoch=0-step=19.ckpt\" as top 3\n"
     ]
    },
    {
     "name": "stdout",
     "output_type": "stream",
     "text": [
      "Epoch 1:  36%|█████████▌                 | 156/439 [00:10<00:19, 14.46it/s, loss=0.373, v_num=]\n",
      "Validating: 0it [00:00, ?it/s]\u001b[A\n",
      "Validating:   0%|                                                       | 0/63 [00:00<?, ?it/s]\u001b[A\n",
      "Validating:   2%|▋                                              | 1/63 [00:04<05:08,  4.98s/it]\u001b[A\n",
      "Epoch 1:  36%|█████████▊                 | 160/439 [00:16<00:28,  9.92it/s, loss=0.373, v_num=]\u001b[A\n",
      "Epoch 1:  38%|██████████▎                | 167/439 [00:16<00:26, 10.28it/s, loss=0.373, v_num=]\u001b[A\n",
      "Epoch 1:  40%|██████████▋                | 174/439 [00:16<00:24, 10.65it/s, loss=0.373, v_num=]\u001b[A\n",
      "Epoch 1:  41%|███████████▏               | 181/439 [00:16<00:23, 11.00it/s, loss=0.373, v_num=]\u001b[A\n",
      "Epoch 1:  43%|███████████▌               | 188/439 [00:16<00:22, 11.36it/s, loss=0.373, v_num=]\u001b[A\n",
      "Epoch 1:  44%|███████████▉               | 195/439 [00:16<00:20, 11.70it/s, loss=0.373, v_num=]\u001b[A\n",
      "Epoch 1:  46%|████████████▍              | 202/439 [00:16<00:19, 12.05it/s, loss=0.373, v_num=]\u001b[A\n",
      "Epoch 1:  48%|████████████▊              | 209/439 [00:16<00:18, 12.39it/s, loss=0.373, v_num=]\u001b[A\n",
      "Epoch 1:  50%|█████████████▌             | 220/439 [00:17<00:17, 12.70it/s, loss=0.373, v_num=]\u001b[A\n",
      "                                                                                               \u001b[A"
     ]
    },
    {
     "name": "stderr",
     "output_type": "stream",
     "text": [
      "Epoch 1, global step 29: val_acc reached 0.87600 (best 0.87600), saving model to \"D:\\360yun\\360yun\\code\\code_myself\\code_mail\\ag_sst\\epoch=1-step=29.ckpt\" as top 3\n"
     ]
    },
    {
     "name": "stdout",
     "output_type": "stream",
     "text": [
      "Epoch 1:  86%|███████████████████████▏   | 376/439 [00:49<00:08,  7.61it/s, loss=0.167, v_num=]\n",
      "Validating: 0it [00:00, ?it/s]\u001b[A\n",
      "Validating:   0%|                                                       | 0/63 [00:00<?, ?it/s]\u001b[A\n",
      "Epoch 1:  87%|███████████████████████▎   | 380/439 [00:54<00:08,  6.97it/s, loss=0.167, v_num=]\u001b[A\n",
      "Epoch 1:  87%|███████████████████████▌   | 384/439 [00:54<00:07,  7.03it/s, loss=0.167, v_num=]\u001b[A\n",
      "Epoch 1:  89%|████████████████████████   | 391/439 [00:54<00:06,  7.15it/s, loss=0.167, v_num=]\u001b[A\n",
      "Epoch 1:  91%|████████████████████████▍  | 398/439 [00:54<00:05,  7.26it/s, loss=0.167, v_num=]\u001b[A\n",
      "Epoch 1:  92%|████████████████████████▉  | 405/439 [00:54<00:04,  7.37it/s, loss=0.167, v_num=]\u001b[A\n",
      "Epoch 1:  94%|█████████████████████████▎ | 412/439 [00:55<00:03,  7.49it/s, loss=0.167, v_num=]\u001b[A\n",
      "Epoch 1:  95%|█████████████████████████▊ | 419/439 [00:55<00:02,  7.60it/s, loss=0.167, v_num=]\u001b[A\n",
      "Epoch 1:  97%|██████████████████████████▏| 426/439 [00:55<00:01,  7.71it/s, loss=0.167, v_num=]\u001b[A\n",
      "Epoch 1:  99%|██████████████████████████▋| 433/439 [00:55<00:00,  7.82it/s, loss=0.167, v_num=]\u001b[A\n",
      "Epoch 1: 100%|███████████████████████████| 439/439 [00:55<00:00,  7.87it/s, loss=0.167, v_num=]\u001b[A\n",
      "                                                                                               \u001b[A"
     ]
    },
    {
     "name": "stderr",
     "output_type": "stream",
     "text": [
      "Epoch 1, global step 39: val_acc reached 0.89400 (best 0.89400), saving model to \"D:\\360yun\\360yun\\code\\code_myself\\code_mail\\ag_sst\\epoch=1-step=39.ckpt\" as top 3\n"
     ]
    },
    {
     "name": "stdout",
     "output_type": "stream",
     "text": [
      "Epoch 2:  36%|█████████▌                 | 156/439 [00:10<00:19, 14.62it/s, loss=0.194, v_num=]\n",
      "Validating: 0it [00:00, ?it/s]\u001b[A\n",
      "Validating:   0%|                                                       | 0/63 [00:00<?, ?it/s]\u001b[A\n",
      "Epoch 2:  36%|█████████▋                 | 158/439 [00:15<00:27, 10.17it/s, loss=0.194, v_num=]\u001b[A\n",
      "Epoch 2:  37%|█████████▉                 | 162/439 [00:15<00:26, 10.32it/s, loss=0.194, v_num=]\u001b[A\n",
      "Epoch 2:  38%|██████████▏                | 166/439 [00:15<00:25, 10.51it/s, loss=0.194, v_num=]\u001b[A\n",
      "Epoch 2:  39%|██████████▍                | 170/439 [00:15<00:25, 10.69it/s, loss=0.194, v_num=]\u001b[A\n",
      "Epoch 2:  40%|██████████▉                | 177/439 [00:16<00:23, 11.06it/s, loss=0.194, v_num=]\u001b[A\n",
      "Epoch 2:  42%|███████████▍               | 185/439 [00:16<00:22, 11.48it/s, loss=0.194, v_num=]\u001b[A\n",
      "Epoch 2:  44%|███████████▊               | 193/439 [00:16<00:20, 11.89it/s, loss=0.194, v_num=]\u001b[A\n",
      "Epoch 2:  46%|████████████▎              | 201/439 [00:16<00:19, 12.29it/s, loss=0.194, v_num=]\u001b[A\n",
      "Epoch 2:  48%|████████████▊              | 209/439 [00:16<00:18, 12.68it/s, loss=0.194, v_num=]\u001b[A\n",
      "Epoch 2:  49%|█████████████▎             | 217/439 [00:16<00:16, 13.07it/s, loss=0.194, v_num=]\u001b[A\n",
      "Epoch 2:  50%|█████████████▌             | 220/439 [00:16<00:16, 12.99it/s, loss=0.194, v_num=]\u001b[A\n",
      "                                                                                               \u001b[A"
     ]
    },
    {
     "name": "stderr",
     "output_type": "stream",
     "text": [
      "Epoch 2, global step 49: val_acc reached 0.90000 (best 0.90000), saving model to \"D:\\360yun\\360yun\\code\\code_myself\\code_mail\\ag_sst\\epoch=2-step=49.ckpt\" as top 3\n"
     ]
    },
    {
     "name": "stdout",
     "output_type": "stream",
     "text": [
      "Epoch 2:  86%|███████████████████████▏   | 376/439 [00:49<00:08,  7.63it/s, loss=0.339, v_num=]\n",
      "Validating: 0it [00:00, ?it/s]\u001b[A\n",
      "Validating:   0%|                                                       | 0/63 [00:00<?, ?it/s]\u001b[A\n",
      "Epoch 2:  86%|███████████████████████▏   | 378/439 [00:54<00:08,  6.94it/s, loss=0.339, v_num=]\u001b[A\n",
      "Epoch 2:  87%|███████████████████████▍   | 382/439 [00:54<00:08,  7.00it/s, loss=0.339, v_num=]\u001b[A\n",
      "Epoch 2:  88%|███████████████████████▋   | 386/439 [00:54<00:07,  7.05it/s, loss=0.339, v_num=]\u001b[A\n",
      "Epoch 2:  89%|████████████████████████   | 392/439 [00:54<00:06,  7.15it/s, loss=0.339, v_num=]\u001b[A\n",
      "Epoch 2:  91%|████████████████████████▌  | 399/439 [00:54<00:05,  7.26it/s, loss=0.339, v_num=]\u001b[A\n",
      "Epoch 2:  92%|████████████████████████▉  | 406/439 [00:55<00:04,  7.38it/s, loss=0.339, v_num=]\u001b[A\n",
      "Epoch 2:  94%|█████████████████████████▍ | 413/439 [00:55<00:03,  7.49it/s, loss=0.339, v_num=]\u001b[A\n",
      "Epoch 2:  96%|█████████████████████████▊ | 420/439 [00:55<00:02,  7.60it/s, loss=0.339, v_num=]\u001b[A\n",
      "Epoch 2:  97%|██████████████████████████▎| 427/439 [00:55<00:01,  7.71it/s, loss=0.339, v_num=]\u001b[A\n",
      "Epoch 2:  99%|██████████████████████████▋| 434/439 [00:55<00:00,  7.82it/s, loss=0.339, v_num=]\u001b[A\n",
      "Epoch 2: 100%|███████████████████████████| 439/439 [00:55<00:00,  7.85it/s, loss=0.339, v_num=]\u001b[A\n",
      "                                                                                               \u001b[A"
     ]
    },
    {
     "name": "stderr",
     "output_type": "stream",
     "text": [
      "Epoch 2, global step 59: val_acc reached 0.89400 (best 0.90000), saving model to \"D:\\360yun\\360yun\\code\\code_myself\\code_mail\\ag_sst\\epoch=2-step=59.ckpt\" as top 3\n"
     ]
    },
    {
     "name": "stdout",
     "output_type": "stream",
     "text": [
      "Epoch 3:  36%|█████████▋                 | 157/439 [00:11<00:20, 14.03it/s, loss=0.243, v_num=]\n",
      "Validating: 0it [00:00, ?it/s]\u001b[A\n",
      "Validating:   0%|                                                       | 0/63 [00:00<?, ?it/s]\u001b[A\n",
      "Validating:   2%|▋                                              | 1/63 [00:05<05:12,  5.04s/it]\u001b[A\n",
      "Epoch 3:  37%|█████████▉                 | 161/439 [00:16<00:28,  9.82it/s, loss=0.243, v_num=]\u001b[A\n",
      "Epoch 3:  38%|██████████▏                | 165/439 [00:16<00:27,  9.94it/s, loss=0.243, v_num=]\u001b[A\n",
      "Epoch 3:  39%|██████████▌                | 172/439 [00:16<00:25, 10.30it/s, loss=0.243, v_num=]\u001b[A\n",
      "Epoch 3:  41%|███████████                | 179/439 [00:16<00:24, 10.64it/s, loss=0.243, v_num=]\u001b[A\n",
      "Epoch 3:  42%|███████████▍               | 186/439 [00:16<00:23, 10.98it/s, loss=0.243, v_num=]\u001b[A\n",
      "Epoch 3:  44%|███████████▊               | 193/439 [00:17<00:21, 11.32it/s, loss=0.243, v_num=]\u001b[A\n",
      "Epoch 3:  46%|████████████▎              | 200/439 [00:17<00:20, 11.66it/s, loss=0.243, v_num=]\u001b[A\n",
      "Epoch 3:  47%|████████████▋              | 207/439 [00:17<00:19, 11.99it/s, loss=0.243, v_num=]\u001b[A\n",
      "Epoch 3:  49%|█████████████▏             | 214/439 [00:17<00:18, 12.33it/s, loss=0.243, v_num=]\u001b[A\n",
      "Epoch 3:  50%|█████████████▌             | 220/439 [00:17<00:17, 12.41it/s, loss=0.243, v_num=]\u001b[A\n",
      "                                                                                               \u001b[A"
     ]
    },
    {
     "name": "stderr",
     "output_type": "stream",
     "text": [
      "Epoch 3, global step 69: val_acc was not in top 3\n"
     ]
    },
    {
     "name": "stdout",
     "output_type": "stream",
     "text": [
      "Epoch 3:  86%|███████████████████████▏   | 376/439 [00:37<00:06, 10.13it/s, loss=0.214, v_num=]\n",
      "Validating: 0it [00:00, ?it/s]\u001b[A\n",
      "Validating:   0%|                                                       | 0/63 [00:00<?, ?it/s]\u001b[A\n",
      "Epoch 3:  86%|███████████████████████▏   | 378/439 [00:42<00:06,  8.89it/s, loss=0.214, v_num=]\u001b[A\n",
      "Epoch 3:  87%|███████████████████████▍   | 382/439 [00:42<00:06,  8.96it/s, loss=0.214, v_num=]\u001b[A\n",
      "Epoch 3:  89%|███████████████████████▉   | 389/439 [00:42<00:05,  9.10it/s, loss=0.214, v_num=]\u001b[A\n",
      "Epoch 3:  90%|████████████████████████▎  | 396/439 [00:42<00:04,  9.24it/s, loss=0.214, v_num=]\u001b[A\n",
      "Epoch 3:  92%|████████████████████████▊  | 403/439 [00:42<00:03,  9.38it/s, loss=0.214, v_num=]\u001b[A\n",
      "Epoch 3:  93%|█████████████████████████▏ | 410/439 [00:43<00:03,  9.52it/s, loss=0.214, v_num=]\u001b[A\n",
      "Epoch 3:  95%|█████████████████████████▋ | 417/439 [00:43<00:02,  9.66it/s, loss=0.214, v_num=]\u001b[A\n",
      "Epoch 3:  97%|██████████████████████████ | 424/439 [00:43<00:01,  9.80it/s, loss=0.214, v_num=]\u001b[A\n",
      "Epoch 3:  98%|██████████████████████████▌| 431/439 [00:43<00:00,  9.93it/s, loss=0.214, v_num=]\u001b[A\n",
      "Epoch 3: 100%|███████████████████████████| 439/439 [00:43<00:00, 10.01it/s, loss=0.214, v_num=]\u001b[A\n",
      "                                                                                               \u001b[A"
     ]
    },
    {
     "name": "stderr",
     "output_type": "stream",
     "text": [
      "Epoch 3, global step 79: val_acc reached 0.90600 (best 0.90600), saving model to \"D:\\360yun\\360yun\\code\\code_myself\\code_mail\\ag_sst\\epoch=3-step=79.ckpt\" as top 3\n"
     ]
    },
    {
     "name": "stdout",
     "output_type": "stream",
     "text": [
      "Epoch 4:  36%|██████████                  | 157/439 [00:11<00:19, 14.23it/s, loss=0.29, v_num=]\n",
      "Validating: 0it [00:00, ?it/s]\u001b[A\n",
      "Validating:   0%|                                                       | 0/63 [00:00<?, ?it/s]\u001b[A\n",
      "Validating:   2%|▋                                              | 1/63 [00:05<05:10,  5.01s/it]\u001b[A\n",
      "Epoch 4:  37%|██████████▎                 | 161/439 [00:16<00:27,  9.95it/s, loss=0.29, v_num=]\u001b[A\n",
      "Epoch 4:  38%|██████████▌                 | 165/439 [00:16<00:27, 10.12it/s, loss=0.29, v_num=]\u001b[A\n",
      "Epoch 4:  39%|██████████▉                 | 172/439 [00:16<00:25, 10.47it/s, loss=0.29, v_num=]\u001b[A\n",
      "Epoch 4:  41%|███████████▍                | 179/439 [00:16<00:24, 10.82it/s, loss=0.29, v_num=]\u001b[A\n",
      "Epoch 4:  42%|███████████▊                | 186/439 [00:16<00:22, 11.16it/s, loss=0.29, v_num=]\u001b[A\n",
      "Epoch 4:  44%|████████████▎               | 193/439 [00:16<00:21, 11.49it/s, loss=0.29, v_num=]\u001b[A\n",
      "Epoch 4:  46%|████████████▊               | 200/439 [00:16<00:20, 11.82it/s, loss=0.29, v_num=]\u001b[A\n",
      "Epoch 4:  47%|█████████████▏              | 207/439 [00:17<00:19, 12.16it/s, loss=0.29, v_num=]\u001b[A\n",
      "Validating:  81%|█████████████████████████████████████▏        | 51/63 [00:06<00:00, 36.14it/s]\u001b[A\n",
      "Epoch 4:  49%|█████████████▋              | 214/439 [00:17<00:18, 12.48it/s, loss=0.29, v_num=]\u001b[A\n",
      "Epoch 4:  50%|██████████████              | 220/439 [00:17<00:17, 12.53it/s, loss=0.29, v_num=]\u001b[A\n",
      "                                                                                               \u001b[A"
     ]
    },
    {
     "name": "stderr",
     "output_type": "stream",
     "text": [
      "Epoch 4, global step 89: val_acc reached 0.91400 (best 0.91400), saving model to \"D:\\360yun\\360yun\\code\\code_myself\\code_mail\\ag_sst\\epoch=4-step=89.ckpt\" as top 3\n"
     ]
    },
    {
     "name": "stdout",
     "output_type": "stream",
     "text": [
      "Epoch 4:  86%|███████████████████████▏   | 376/439 [00:48<00:08,  7.68it/s, loss=0.112, v_num=]\n",
      "Validating: 0it [00:00, ?it/s]\u001b[A\n",
      "Validating:   0%|                                                       | 0/63 [00:00<?, ?it/s]\u001b[A\n",
      "Epoch 4:  86%|███████████████████████▏   | 378/439 [00:53<00:08,  7.01it/s, loss=0.112, v_num=]\u001b[A\n",
      "Epoch 4:  87%|███████████████████████▍   | 382/439 [00:54<00:08,  7.06it/s, loss=0.112, v_num=]\u001b[A\n",
      "Epoch 4:  88%|███████████████████████▊   | 388/439 [00:54<00:07,  7.16it/s, loss=0.112, v_num=]\u001b[A\n",
      "Epoch 4:  90%|████████████████████████▎  | 396/439 [00:54<00:05,  7.29it/s, loss=0.112, v_num=]\u001b[A\n",
      "Epoch 4:  92%|████████████████████████▊  | 404/439 [00:54<00:04,  7.42it/s, loss=0.112, v_num=]\u001b[A\n",
      "Epoch 4:  94%|█████████████████████████▎ | 412/439 [00:54<00:03,  7.55it/s, loss=0.112, v_num=]\u001b[A\n",
      "Epoch 4:  96%|█████████████████████████▊ | 420/439 [00:54<00:02,  7.68it/s, loss=0.112, v_num=]\u001b[A\n",
      "Epoch 4:  97%|██████████████████████████▎| 428/439 [00:54<00:01,  7.81it/s, loss=0.112, v_num=]\u001b[A\n",
      "Epoch 4:  99%|██████████████████████████▊| 436/439 [00:54<00:00,  7.94it/s, loss=0.112, v_num=]\u001b[A\n",
      "Epoch 4: 100%|███████████████████████████| 439/439 [00:55<00:00,  7.95it/s, loss=0.112, v_num=]\u001b[A\n",
      "                                                                                               \u001b[A"
     ]
    },
    {
     "name": "stderr",
     "output_type": "stream",
     "text": [
      "Epoch 4, global step 99: val_acc reached 0.91400 (best 0.91400), saving model to \"D:\\360yun\\360yun\\code\\code_myself\\code_mail\\ag_sst\\epoch=4-step=99.ckpt\" as top 3\n"
     ]
    },
    {
     "name": "stdout",
     "output_type": "stream",
     "text": [
      "Epoch 5:  36%|█████████▋                 | 157/439 [00:10<00:19, 14.55it/s, loss=0.135, v_num=]\n",
      "Validating: 0it [00:00, ?it/s]\u001b[A\n",
      "Validating:   0%|                                                       | 0/63 [00:00<?, ?it/s]\u001b[A\n",
      "Validating:   2%|▋                                              | 1/63 [00:05<05:21,  5.19s/it]\u001b[A\n",
      "Epoch 5:  37%|█████████▉                 | 161/439 [00:16<00:27,  9.98it/s, loss=0.135, v_num=]\u001b[A\n",
      "Epoch 5:  38%|██████████▎                | 168/439 [00:16<00:26, 10.35it/s, loss=0.135, v_num=]\u001b[A\n",
      "Epoch 5:  40%|██████████▊                | 175/439 [00:16<00:24, 10.71it/s, loss=0.135, v_num=]\u001b[A\n",
      "Epoch 5:  41%|███████████▏               | 182/439 [00:16<00:23, 11.07it/s, loss=0.135, v_num=]\u001b[A\n",
      "Epoch 5:  43%|███████████▌               | 189/439 [00:16<00:21, 11.42it/s, loss=0.135, v_num=]\u001b[A\n",
      "Epoch 5:  45%|████████████               | 196/439 [00:16<00:20, 11.77it/s, loss=0.135, v_num=]\u001b[A\n",
      "Epoch 5:  46%|████████████▍              | 203/439 [00:16<00:19, 12.10it/s, loss=0.135, v_num=]\u001b[A\n",
      "Epoch 5:  48%|████████████▉              | 210/439 [00:16<00:18, 12.44it/s, loss=0.135, v_num=]\u001b[A\n",
      "Epoch 5:  50%|█████████████▌             | 220/439 [00:17<00:17, 12.67it/s, loss=0.135, v_num=]\u001b[A\n",
      "                                                                                               \u001b[A"
     ]
    },
    {
     "name": "stderr",
     "output_type": "stream",
     "text": [
      "Epoch 5, global step 109: val_acc reached 0.91800 (best 0.91800), saving model to \"D:\\360yun\\360yun\\code\\code_myself\\code_mail\\ag_sst\\epoch=5-step=109.ckpt\" as top 3\n"
     ]
    },
    {
     "name": "stdout",
     "output_type": "stream",
     "text": [
      "Epoch 5:  86%|███████████████████████▏   | 376/439 [00:49<00:08,  7.53it/s, loss=0.108, v_num=]\n",
      "Validating: 0it [00:00, ?it/s]\u001b[A\n",
      "Validating:   0%|                                                       | 0/63 [00:00<?, ?it/s]\u001b[A\n",
      "Epoch 5:  86%|███████████████████████▏   | 378/439 [00:55<00:08,  6.87it/s, loss=0.108, v_num=]\u001b[A\n",
      "Epoch 5:  87%|███████████████████████▍   | 382/439 [00:55<00:08,  6.92it/s, loss=0.108, v_num=]\u001b[A\n",
      "Epoch 5:  88%|███████████████████████▋   | 386/439 [00:55<00:07,  6.98it/s, loss=0.108, v_num=]\u001b[A\n",
      "Epoch 5:  90%|████████████████████████▏  | 393/439 [00:55<00:06,  7.09it/s, loss=0.108, v_num=]\u001b[A\n",
      "Epoch 5:  91%|████████████████████████▌  | 400/439 [00:55<00:05,  7.21it/s, loss=0.108, v_num=]\u001b[A\n",
      "Epoch 5:  93%|█████████████████████████  | 407/439 [00:55<00:04,  7.32it/s, loss=0.108, v_num=]\u001b[A\n",
      "Epoch 5:  94%|█████████████████████████▍ | 414/439 [00:55<00:03,  7.43it/s, loss=0.108, v_num=]\u001b[A\n",
      "Epoch 5:  96%|█████████████████████████▉ | 421/439 [00:55<00:02,  7.54it/s, loss=0.108, v_num=]\u001b[A\n",
      "Epoch 5:  97%|██████████████████████████▎| 428/439 [00:55<00:01,  7.65it/s, loss=0.108, v_num=]\u001b[A\n",
      "Epoch 5:  99%|██████████████████████████▊| 435/439 [00:56<00:00,  7.76it/s, loss=0.108, v_num=]\u001b[A\n",
      "Epoch 5: 100%|███████████████████████████| 439/439 [00:56<00:00,  7.77it/s, loss=0.108, v_num=]\u001b[A\n",
      "                                                                                               \u001b[A"
     ]
    },
    {
     "name": "stderr",
     "output_type": "stream",
     "text": [
      "Epoch 5, global step 119: val_acc was not in top 3\n"
     ]
    },
    {
     "name": "stdout",
     "output_type": "stream",
     "text": [
      "Epoch 6:  36%|█████████▋                 | 157/439 [00:10<00:19, 14.71it/s, loss=0.201, v_num=]\n",
      "Validating: 0it [00:00, ?it/s]\u001b[A\n",
      "Validating:   0%|                                                       | 0/63 [00:00<?, ?it/s]\u001b[A\n",
      "Validating:   2%|▋                                              | 1/63 [00:04<05:02,  4.88s/it]\u001b[A\n",
      "Epoch 6:  37%|█████████▉                 | 161/439 [00:15<00:27, 10.27it/s, loss=0.201, v_num=]\u001b[A\n",
      "Epoch 6:  38%|██████████▏                | 165/439 [00:15<00:26, 10.45it/s, loss=0.201, v_num=]\u001b[A\n",
      "Epoch 6:  38%|██████████▍                | 169/439 [00:15<00:25, 10.63it/s, loss=0.201, v_num=]\u001b[A\n",
      "Epoch 6:  40%|██████████▊                | 176/439 [00:15<00:23, 11.00it/s, loss=0.201, v_num=]\u001b[A\n",
      "Epoch 6:  42%|███████████▎               | 184/439 [00:16<00:22, 11.42it/s, loss=0.201, v_num=]\u001b[A\n",
      "Epoch 6:  44%|███████████▊               | 192/439 [00:16<00:20, 11.83it/s, loss=0.201, v_num=]\u001b[A\n",
      "Epoch 6:  46%|████████████▎              | 200/439 [00:16<00:19, 12.24it/s, loss=0.201, v_num=]\u001b[A\n",
      "Epoch 6:  47%|████████████▊              | 208/439 [00:16<00:18, 12.64it/s, loss=0.201, v_num=]\u001b[A\n",
      "Epoch 6:  49%|█████████████▎             | 216/439 [00:16<00:17, 13.03it/s, loss=0.201, v_num=]\u001b[A\n",
      "Epoch 6:  50%|█████████████▌             | 220/439 [00:16<00:16, 13.01it/s, loss=0.201, v_num=]\u001b[A\n",
      "                                                                                               \u001b[A"
     ]
    },
    {
     "name": "stderr",
     "output_type": "stream",
     "text": [
      "Epoch 6, global step 129: val_acc was not in top 3\n"
     ]
    },
    {
     "name": "stdout",
     "output_type": "stream",
     "text": [
      "Epoch 6:  86%|███████████████████████▏   | 376/439 [00:35<00:05, 10.53it/s, loss=0.131, v_num=]\n",
      "Validating: 0it [00:00, ?it/s]\u001b[A\n",
      "Validating:   0%|                                                       | 0/63 [00:00<?, ?it/s]\u001b[A\n",
      "Epoch 6:  86%|███████████████████████▎   | 379/439 [00:40<00:06,  9.29it/s, loss=0.131, v_num=]\u001b[A\n",
      "Epoch 6:  87%|███████████████████████▌   | 383/439 [00:40<00:05,  9.36it/s, loss=0.131, v_num=]\u001b[A\n",
      "Epoch 6:  88%|███████████████████████▊   | 387/439 [00:41<00:05,  9.43it/s, loss=0.131, v_num=]\u001b[A\n",
      "Epoch 6:  89%|████████████████████████   | 392/439 [00:41<00:04,  9.53it/s, loss=0.131, v_num=]\u001b[A\n",
      "Epoch 6:  91%|████████████████████████▌  | 399/439 [00:41<00:04,  9.68it/s, loss=0.131, v_num=]\u001b[A\n",
      "Epoch 6:  92%|████████████████████████▉  | 406/439 [00:41<00:03,  9.82it/s, loss=0.131, v_num=]\u001b[A\n",
      "Epoch 6:  94%|█████████████████████████▍ | 413/439 [00:41<00:02,  9.96it/s, loss=0.131, v_num=]\u001b[A\n",
      "Epoch 6:  96%|█████████████████████████▊ | 420/439 [00:41<00:01, 10.11it/s, loss=0.131, v_num=]\u001b[A\n",
      "Epoch 6:  97%|██████████████████████████▎| 427/439 [00:41<00:01, 10.25it/s, loss=0.131, v_num=]\u001b[A\n",
      "Epoch 6:  99%|██████████████████████████▋| 434/439 [00:41<00:00, 10.39it/s, loss=0.131, v_num=]\u001b[A\n",
      "Epoch 6: 100%|███████████████████████████| 439/439 [00:42<00:00, 10.41it/s, loss=0.131, v_num=]\u001b[A\n",
      "                                                                                               \u001b[A"
     ]
    },
    {
     "name": "stderr",
     "output_type": "stream",
     "text": [
      "Epoch 6, global step 139: val_acc was not in top 3\n"
     ]
    },
    {
     "name": "stdout",
     "output_type": "stream",
     "text": [
      "Epoch 7:  36%|█████████▌                 | 156/439 [00:10<00:19, 14.31it/s, loss=0.194, v_num=]\n",
      "Validating: 0it [00:00, ?it/s]\u001b[A\n",
      "Validating:   0%|                                                       | 0/63 [00:00<?, ?it/s]\u001b[A\n",
      "Validating:   2%|▋                                              | 1/63 [00:05<05:21,  5.19s/it]\u001b[A\n",
      "Validating:   3%|█▍                                             | 2/63 [00:05<02:13,  2.20s/it]\u001b[A\n",
      "Epoch 7:  37%|█████████▉                 | 161/439 [00:16<00:28,  9.85it/s, loss=0.194, v_num=]\u001b[A\n",
      "Epoch 7:  38%|██████████▎                | 168/439 [00:16<00:26, 10.21it/s, loss=0.194, v_num=]\u001b[A\n",
      "Epoch 7:  40%|██████████▊                | 175/439 [00:16<00:24, 10.56it/s, loss=0.194, v_num=]\u001b[A\n",
      "Epoch 7:  41%|███████████▏               | 182/439 [00:16<00:23, 10.91it/s, loss=0.194, v_num=]\u001b[A\n",
      "Epoch 7:  43%|███████████▌               | 189/439 [00:16<00:22, 11.26it/s, loss=0.194, v_num=]\u001b[A\n",
      "Epoch 7:  45%|████████████               | 196/439 [00:16<00:20, 11.60it/s, loss=0.194, v_num=]\u001b[A\n",
      "Epoch 7:  46%|████████████▍              | 203/439 [00:17<00:19, 11.94it/s, loss=0.194, v_num=]\u001b[A\n",
      "Epoch 7:  48%|████████████▉              | 210/439 [00:17<00:18, 12.27it/s, loss=0.194, v_num=]\u001b[A\n",
      "Epoch 7:  50%|█████████████▌             | 220/439 [00:17<00:17, 12.53it/s, loss=0.194, v_num=]\u001b[A\n",
      "                                                                                               \u001b[A"
     ]
    },
    {
     "name": "stderr",
     "output_type": "stream",
     "text": [
      "Epoch 7, global step 149: val_acc reached 0.91800 (best 0.91800), saving model to \"D:\\360yun\\360yun\\code\\code_myself\\code_mail\\ag_sst\\epoch=7-step=149.ckpt\" as top 3\n"
     ]
    },
    {
     "name": "stdout",
     "output_type": "stream",
     "text": [
      "Epoch 7:  86%|███████████████████████▏   | 376/439 [00:49<00:08,  7.62it/s, loss=0.112, v_num=]\n",
      "Validating: 0it [00:00, ?it/s]\u001b[A\n",
      "Validating:   0%|                                                       | 0/63 [00:00<?, ?it/s]\u001b[A\n",
      "Epoch 7:  87%|███████████████████████▎   | 380/439 [00:54<00:08,  7.00it/s, loss=0.112, v_num=]\u001b[A\n",
      "Validating:   6%|██▉                                            | 4/63 [00:04<00:56,  1.05it/s]\u001b[A\n",
      "Epoch 7:  87%|███████████████████████▌   | 384/439 [00:54<00:07,  7.05it/s, loss=0.112, v_num=]\u001b[A\n",
      "Epoch 7:  89%|████████████████████████   | 391/439 [00:54<00:06,  7.17it/s, loss=0.112, v_num=]\u001b[A\n",
      "Epoch 7:  91%|████████████████████████▍  | 398/439 [00:54<00:05,  7.28it/s, loss=0.112, v_num=]\u001b[A\n",
      "Epoch 7:  92%|████████████████████████▉  | 405/439 [00:54<00:04,  7.39it/s, loss=0.112, v_num=]\u001b[A\n",
      "Epoch 7:  94%|█████████████████████████▎ | 412/439 [00:54<00:03,  7.51it/s, loss=0.112, v_num=]\u001b[A\n",
      "Epoch 7:  96%|█████████████████████████▊ | 420/439 [00:54<00:02,  7.64it/s, loss=0.112, v_num=]\u001b[A\n",
      "Epoch 7:  97%|██████████████████████████▎| 428/439 [00:55<00:01,  7.77it/s, loss=0.112, v_num=]\u001b[A\n",
      "Epoch 7: 100%|███████████████████████████| 439/439 [00:55<00:00,  7.89it/s, loss=0.112, v_num=]\u001b[A\n",
      "                                                                                               \u001b[A"
     ]
    },
    {
     "name": "stderr",
     "output_type": "stream",
     "text": [
      "Epoch 7, global step 159: val_acc reached 0.91800 (best 0.91800), saving model to \"D:\\360yun\\360yun\\code\\code_myself\\code_mail\\ag_sst\\epoch=7-step=159.ckpt\" as top 3\n"
     ]
    },
    {
     "name": "stdout",
     "output_type": "stream",
     "text": [
      "Epoch 8:  36%|█████████▌                 | 156/439 [00:10<00:19, 14.34it/s, loss=0.172, v_num=]\n",
      "Validating: 0it [00:00, ?it/s]\u001b[A\n",
      "Validating:   0%|                                                       | 0/63 [00:00<?, ?it/s]\u001b[A\n",
      "Epoch 8:  36%|█████████▋                 | 158/439 [00:15<00:28,  9.93it/s, loss=0.172, v_num=]\u001b[A\n",
      "Epoch 8:  37%|█████████▉                 | 162/439 [00:16<00:27, 10.08it/s, loss=0.172, v_num=]\u001b[A\n",
      "Epoch 8:  38%|██████████▎                | 168/439 [00:16<00:26, 10.38it/s, loss=0.172, v_num=]\u001b[A\n",
      "Epoch 8:  40%|██████████▊                | 175/439 [00:16<00:24, 10.74it/s, loss=0.172, v_num=]\u001b[A\n",
      "Epoch 8:  41%|███████████▏               | 182/439 [00:16<00:23, 11.10it/s, loss=0.172, v_num=]\u001b[A\n",
      "Epoch 8:  43%|███████████▌               | 189/439 [00:16<00:21, 11.45it/s, loss=0.172, v_num=]\u001b[A\n",
      "Epoch 8:  45%|████████████               | 196/439 [00:16<00:20, 11.80it/s, loss=0.172, v_num=]\u001b[A\n",
      "Epoch 8:  46%|████████████▍              | 203/439 [00:16<00:19, 12.15it/s, loss=0.172, v_num=]\u001b[A\n",
      "Epoch 8:  48%|████████████▉              | 210/439 [00:16<00:18, 12.49it/s, loss=0.172, v_num=]\u001b[A\n",
      "Epoch 8:  50%|█████████████▌             | 220/439 [00:17<00:17, 12.74it/s, loss=0.172, v_num=]\u001b[A\n",
      "                                                                                               \u001b[A"
     ]
    },
    {
     "name": "stderr",
     "output_type": "stream",
     "text": [
      "Epoch 8, global step 169: val_acc was not in top 3\n"
     ]
    },
    {
     "name": "stdout",
     "output_type": "stream",
     "text": [
      "Epoch 8:  86%|███████████████████████▏   | 376/439 [00:35<00:06, 10.47it/s, loss=0.147, v_num=]\n",
      "Validating: 0it [00:00, ?it/s]\u001b[A\n",
      "Validating:   0%|                                                       | 0/63 [00:00<?, ?it/s]\u001b[A\n",
      "Epoch 8:  86%|███████████████████████▏   | 378/439 [00:41<00:06,  9.17it/s, loss=0.147, v_num=]\u001b[A\n",
      "Epoch 8:  87%|███████████████████████▍   | 382/439 [00:41<00:06,  9.23it/s, loss=0.147, v_num=]\u001b[A\n",
      "Epoch 8:  89%|███████████████████████▉   | 389/439 [00:41<00:05,  9.37it/s, loss=0.147, v_num=]\u001b[A\n",
      "Epoch 8:  90%|████████████████████████▎  | 396/439 [00:41<00:04,  9.52it/s, loss=0.147, v_num=]\u001b[A\n",
      "Epoch 8:  92%|████████████████████████▊  | 403/439 [00:41<00:03,  9.66it/s, loss=0.147, v_num=]\u001b[A\n",
      "Epoch 8:  93%|█████████████████████████▏ | 410/439 [00:41<00:02,  9.80it/s, loss=0.147, v_num=]\u001b[A\n",
      "Epoch 8:  95%|█████████████████████████▋ | 417/439 [00:41<00:02,  9.94it/s, loss=0.147, v_num=]\u001b[A\n",
      "Epoch 8:  97%|██████████████████████████ | 424/439 [00:42<00:01, 10.08it/s, loss=0.147, v_num=]\u001b[A\n",
      "Epoch 8:  98%|██████████████████████████▌| 431/439 [00:42<00:00, 10.22it/s, loss=0.147, v_num=]\u001b[A\n",
      "Epoch 8: 100%|███████████████████████████| 439/439 [00:42<00:00, 10.28it/s, loss=0.147, v_num=]\u001b[A\n",
      "                                                                                               \u001b[A"
     ]
    },
    {
     "name": "stderr",
     "output_type": "stream",
     "text": [
      "Epoch 8, global step 179: val_acc was not in top 3\n"
     ]
    },
    {
     "name": "stdout",
     "output_type": "stream",
     "text": [
      "Epoch 9:  36%|█████████▌                 | 156/439 [00:10<00:19, 14.42it/s, loss=0.138, v_num=]\n",
      "Validating: 0it [00:00, ?it/s]\u001b[A\n",
      "Validating:   0%|                                                       | 0/63 [00:00<?, ?it/s]\u001b[A\n",
      "Validating:   2%|▋                                              | 1/63 [00:05<05:27,  5.27s/it]\u001b[A\n",
      "Epoch 9:  37%|█████████▉                 | 161/439 [00:16<00:28,  9.91it/s, loss=0.138, v_num=]\u001b[A\n",
      "Validating:  11%|█████▏                                         | 7/63 [00:05<00:26,  2.11it/s]\u001b[A\n",
      "Epoch 9:  38%|██████████▎                | 168/439 [00:16<00:26, 10.22it/s, loss=0.138, v_num=]\u001b[A\n",
      "Epoch 9:  40%|██████████▊                | 175/439 [00:16<00:24, 10.57it/s, loss=0.138, v_num=]\u001b[A\n",
      "Epoch 9:  41%|███████████▏               | 182/439 [00:16<00:23, 10.92it/s, loss=0.138, v_num=]\u001b[A\n",
      "Epoch 9:  43%|███████████▌               | 189/439 [00:16<00:22, 11.27it/s, loss=0.138, v_num=]\u001b[A\n",
      "Epoch 9:  45%|████████████               | 196/439 [00:16<00:20, 11.61it/s, loss=0.138, v_num=]\u001b[A\n",
      "Epoch 9:  46%|████████████▍              | 203/439 [00:16<00:19, 11.95it/s, loss=0.138, v_num=]\u001b[A\n",
      "Epoch 9:  48%|████████████▉              | 210/439 [00:17<00:18, 12.29it/s, loss=0.138, v_num=]\u001b[A\n",
      "Epoch 9:  50%|█████████████▌             | 220/439 [00:17<00:17, 12.55it/s, loss=0.138, v_num=]\u001b[A\n",
      "                                                                                               \u001b[A"
     ]
    },
    {
     "name": "stderr",
     "output_type": "stream",
     "text": [
      "Epoch 9, global step 189: val_acc reached 0.92000 (best 0.92000), saving model to \"D:\\360yun\\360yun\\code\\code_myself\\code_mail\\ag_sst\\epoch=9-step=189.ckpt\" as top 3\n"
     ]
    },
    {
     "name": "stdout",
     "output_type": "stream",
     "text": [
      "Epoch 9:  86%|███████████████████████▏   | 376/439 [00:48<00:08,  7.73it/s, loss=0.184, v_num=]\n",
      "Validating: 0it [00:00, ?it/s]\u001b[A\n",
      "Validating:   0%|                                                       | 0/63 [00:00<?, ?it/s]\u001b[A\n",
      "Epoch 9:  86%|███████████████████████▏   | 378/439 [00:53<00:08,  7.04it/s, loss=0.184, v_num=]\u001b[A\n",
      "Epoch 9:  87%|███████████████████████▍   | 382/439 [00:53<00:08,  7.09it/s, loss=0.184, v_num=]\u001b[A\n",
      "Epoch 9:  89%|███████████████████████▉   | 389/439 [00:54<00:06,  7.20it/s, loss=0.184, v_num=]\u001b[A\n",
      "Epoch 9:  90%|████████████████████████▎  | 396/439 [00:54<00:05,  7.32it/s, loss=0.184, v_num=]\u001b[A\n",
      "Epoch 9:  92%|████████████████████████▊  | 403/439 [00:54<00:04,  7.43it/s, loss=0.184, v_num=]\u001b[A\n",
      "Epoch 9:  93%|█████████████████████████▏ | 410/439 [00:54<00:03,  7.55it/s, loss=0.184, v_num=]\u001b[A\n",
      "Epoch 9:  95%|█████████████████████████▋ | 417/439 [00:54<00:02,  7.66it/s, loss=0.184, v_num=]\u001b[A\n",
      "Epoch 9:  97%|██████████████████████████ | 424/439 [00:54<00:01,  7.78it/s, loss=0.184, v_num=]\u001b[A\n",
      "Epoch 9:  98%|██████████████████████████▌| 431/439 [00:54<00:01,  7.89it/s, loss=0.184, v_num=]\u001b[A\n",
      "Epoch 9: 100%|███████████████████████████| 439/439 [00:55<00:00,  7.97it/s, loss=0.184, v_num=]\u001b[A\n",
      "                                                                                               \u001b[A"
     ]
    },
    {
     "name": "stderr",
     "output_type": "stream",
     "text": [
      "Epoch 9, global step 199: val_acc reached 0.92200 (best 0.92200), saving model to \"D:\\360yun\\360yun\\code\\code_myself\\code_mail\\ag_sst\\epoch=9-step=199.ckpt\" as top 3\n"
     ]
    },
    {
     "name": "stdout",
     "output_type": "stream",
     "text": [
      "Epoch 9: 100%|███████████████████████████| 439/439 [01:22<00:00,  5.33it/s, loss=0.184, v_num=]"
     ]
    },
    {
     "name": "stderr",
     "output_type": "stream",
     "text": [
      "Saving latest checkpoint...\n"
     ]
    },
    {
     "name": "stdout",
     "output_type": "stream",
     "text": [
      "\n"
     ]
    },
    {
     "data": {
      "text/plain": [
       "<autogluon.text.text_prediction.predictor.TextPredictor at 0x297f0780760>"
      ]
     },
     "execution_count": 33,
     "metadata": {},
     "output_type": "execute_result"
    }
   ],
   "source": [
    "from autogluon.text import TextPredictor\n",
    "\n",
    "predictor = TextPredictor(label='label', eval_metric='acc', path='./ag_sst')\n",
    "predictor.fit(train_data, time_limit=6000)"
   ]
  },
  {
   "cell_type": "code",
   "execution_count": 34,
   "id": "636a9bd7-8eb9-4a1a-aae7-4c8abc63f462",
   "metadata": {
    "execution": {
     "iopub.execute_input": "2022-05-03T06:40:22.363108Z",
     "iopub.status.busy": "2022-05-03T06:40:22.363108Z",
     "iopub.status.idle": "2022-05-03T06:40:28.856333Z",
     "shell.execute_reply": "2022-05-03T06:40:28.856333Z",
     "shell.execute_reply.started": "2022-05-03T06:40:22.363108Z"
    },
    "tags": []
   },
   "outputs": [
    {
     "name": "stdout",
     "output_type": "stream",
     "text": [
      "Predicting: 100%|██████████████████████████████████████████████| 14/14 [00:05<00:00,  2.40it/s]\n",
      "{'acc': 0.9162844036697247}\n"
     ]
    }
   ],
   "source": [
    "test_score = predictor.evaluate(test_data)\n",
    "print(test_score)"
   ]
  },
  {
   "cell_type": "code",
   "execution_count": 35,
   "id": "78c36b1b-6ea0-475c-acd6-09fd08bcc469",
   "metadata": {
    "execution": {
     "iopub.execute_input": "2022-05-03T06:40:28.858323Z",
     "iopub.status.busy": "2022-05-03T06:40:28.857325Z",
     "iopub.status.idle": "2022-05-03T06:40:35.016688Z",
     "shell.execute_reply": "2022-05-03T06:40:35.016688Z",
     "shell.execute_reply.started": "2022-05-03T06:40:28.858323Z"
    }
   },
   "outputs": [
    {
     "name": "stdout",
     "output_type": "stream",
     "text": [
      "Predicting: 100%|██████████████████████████████████████████████| 14/14 [00:05<00:00,  2.48it/s]\n",
      "{'acc': 0.9162844036697247, 'f1': 0.9202185792349727}\n"
     ]
    }
   ],
   "source": [
    "test_score = predictor.evaluate(test_data, metrics=['acc', 'f1'])\n",
    "print(test_score)"
   ]
  },
  {
   "cell_type": "code",
   "execution_count": 36,
   "id": "6c3a26c2-fca4-4a48-b986-b30297d0a894",
   "metadata": {
    "execution": {
     "iopub.execute_input": "2022-05-03T06:40:35.017681Z",
     "iopub.status.busy": "2022-05-03T06:40:35.017681Z",
     "iopub.status.idle": "2022-05-03T06:40:40.563851Z",
     "shell.execute_reply": "2022-05-03T06:40:40.563851Z",
     "shell.execute_reply.started": "2022-05-03T06:40:35.017681Z"
    }
   },
   "outputs": [
    {
     "name": "stdout",
     "output_type": "stream",
     "text": [
      "Predicting: 100%|████████████████████████████████████████████████| 1/1 [00:05<00:00,  5.01s/it]\n",
      "\"Sentence\": it's a charming and often affecting journey. \"Predicted Sentiment\": 1\n",
      "\"Sentence\": It's slow, very, very, very slow. \"Predicted Sentiment\": 0\n"
     ]
    }
   ],
   "source": [
    "sentence1 = \"it's a charming and often affecting journey.\"\n",
    "sentence2 = \"It's slow, very, very, very slow.\"\n",
    "predictions = predictor.predict({'sentence': [sentence1, sentence2]})\n",
    "print('\"Sentence\":', sentence1, '\"Predicted Sentiment\":', predictions.iloc[0])\n",
    "print('\"Sentence\":', sentence2, '\"Predicted Sentiment\":', predictions.iloc[1])"
   ]
  },
  {
   "cell_type": "code",
   "execution_count": 37,
   "id": "044a8e11-27b0-42dc-928a-ad33cee0078f",
   "metadata": {
    "execution": {
     "iopub.execute_input": "2022-05-03T06:40:40.564844Z",
     "iopub.status.busy": "2022-05-03T06:40:40.564844Z",
     "iopub.status.idle": "2022-05-03T06:40:46.515375Z",
     "shell.execute_reply": "2022-05-03T06:40:46.515375Z",
     "shell.execute_reply.started": "2022-05-03T06:40:40.564844Z"
    }
   },
   "outputs": [
    {
     "name": "stdout",
     "output_type": "stream",
     "text": [
      "Predicting: 100%|████████████████████████████████████████████████| 1/1 [00:05<00:00,  5.13s/it]\n",
      "\"Sentence\": it's a charming and often affecting journey. \"Predicted Class-Probabilities\": 0    0.000104\n",
      "1    0.999897\n",
      "Name: 0, dtype: float32\n",
      "\"Sentence\": It's slow, very, very, very slow. \"Predicted Class-Probabilities\": 0    0.99988\n",
      "1    0.00012\n",
      "Name: 1, dtype: float32\n"
     ]
    }
   ],
   "source": [
    "probs = predictor.predict_proba({'sentence': [sentence1, sentence2]})\n",
    "print('\"Sentence\":', sentence1, '\"Predicted Class-Probabilities\":', probs.iloc[0])\n",
    "print('\"Sentence\":', sentence2, '\"Predicted Class-Probabilities\":', probs.iloc[1])"
   ]
  },
  {
   "cell_type": "code",
   "execution_count": 38,
   "id": "9507b4ab-b6f6-48d6-9e02-b2a0a005d8c8",
   "metadata": {
    "execution": {
     "iopub.execute_input": "2022-05-03T06:40:46.516367Z",
     "iopub.status.busy": "2022-05-03T06:40:46.516367Z",
     "iopub.status.idle": "2022-05-03T06:40:52.812957Z",
     "shell.execute_reply": "2022-05-03T06:40:52.812957Z",
     "shell.execute_reply.started": "2022-05-03T06:40:46.516367Z"
    }
   },
   "outputs": [
    {
     "name": "stdout",
     "output_type": "stream",
     "text": [
      "Predicting: 100%|██████████████████████████████████████████████| 14/14 [00:05<00:00,  2.42it/s]\n"
     ]
    },
    {
     "data": {
      "text/plain": [
       "0    1\n",
       "1    0\n",
       "2    1\n",
       "3    1\n",
       "4    0\n",
       "Name: label, dtype: int64"
      ]
     },
     "execution_count": 38,
     "metadata": {},
     "output_type": "execute_result"
    }
   ],
   "source": [
    "test_predictions = predictor.predict(test_data)\n",
    "test_predictions.head()"
   ]
  },
  {
   "cell_type": "code",
   "execution_count": 39,
   "id": "1ef75c3f-6a34-4905-9251-a5ffff49fb39",
   "metadata": {
    "execution": {
     "iopub.execute_input": "2022-05-03T06:40:52.813954Z",
     "iopub.status.busy": "2022-05-03T06:40:52.813954Z",
     "iopub.status.idle": "2022-05-03T06:40:59.083202Z",
     "shell.execute_reply": "2022-05-03T06:40:59.083202Z",
     "shell.execute_reply.started": "2022-05-03T06:40:52.813954Z"
    }
   },
   "outputs": [
    {
     "name": "stdout",
     "output_type": "stream",
     "text": [
      "Predicting: 100%|██████████████████████████████████████████████| 14/14 [00:05<00:00,  2.43it/s]\n",
      "[[-0.1392535   0.08815012  0.01928206 ...  0.38498858  0.1681119\n",
      "   0.44847673]\n",
      " [-0.6059766  -0.20008479  0.0070114  ... -0.2555946   0.25965\n",
      "  -0.5761148 ]\n",
      " [ 0.16903035  0.04753691  0.31473508 ...  0.22467089 -0.0417969\n",
      "   0.69084436]\n",
      " ...\n",
      " [-0.2357218   0.07390683  0.22107951 ...  0.05965815  0.18198822\n",
      "   0.27878785]\n",
      " [-0.62212497 -0.60595876 -0.35266557 ... -0.6582823   0.49993545\n",
      "  -0.5835137 ]\n",
      " [ 0.10291581  0.08650142  0.2646318  ...  0.3366552   0.02216547\n",
      "   0.29849938]]\n"
     ]
    }
   ],
   "source": [
    "embeddings = predictor.extract_embedding(test_data)\n",
    "print(embeddings)"
   ]
  },
  {
   "cell_type": "code",
   "execution_count": 40,
   "id": "7ce7a473-d2c3-43aa-81b8-d88efe506f70",
   "metadata": {
    "execution": {
     "iopub.execute_input": "2022-05-03T06:40:59.084199Z",
     "iopub.status.busy": "2022-05-03T06:40:59.084199Z",
     "iopub.status.idle": "2022-05-03T06:41:00.994090Z",
     "shell.execute_reply": "2022-05-03T06:41:00.994090Z",
     "shell.execute_reply.started": "2022-05-03T06:40:59.084199Z"
    }
   },
   "outputs": [
    {
     "data": {
      "text/plain": [
       "<matplotlib.legend.Legend at 0x297f0ec9fd0>"
      ]
     },
     "execution_count": 40,
     "metadata": {},
     "output_type": "execute_result"
    },
    {
     "data": {
      "image/png": "[encoded data removed]",
      "text/plain": [
       "<Figure size 432x288 with 1 Axes>"
      ]
     },
     "metadata": {
      "needs_background": "light"
     },
     "output_type": "display_data"
    }
   ],
   "source": [
    "from sklearn.manifold import TSNE\n",
    "X_embedded = TSNE(n_components=2, random_state=123).fit_transform(embeddings)\n",
    "for val, color in [(0, 'red'), (1, 'blue')]:\n",
    "    idx = (test_data['label'].to_numpy() == val).nonzero()\n",
    "    plt.scatter(X_embedded[idx, 0], X_embedded[idx, 1], c=color, label=f'label={val}')\n",
    "plt.legend(loc='best')"
   ]
  },
  {
   "cell_type": "code",
   "execution_count": null,
   "id": "3e74470f-c071-4e66-ba1e-a4a8f2e7dcdf",
   "metadata": {},
   "outputs": [],
   "source": []
  }
 ],
 "metadata": {
  "kernelspec": {
   "display_name": "automlgpu",
   "language": "python",
   "name": "automlgpu"
  },
  "language_info": {
   "codemirror_mode": {
    "name": "ipython",
    "version": 3
   },
   "file_extension": ".py",
   "mimetype": "text/x-python",
   "name": "python",
   "nbconvert_exporter": "python",
   "pygments_lexer": "ipython3",
   "version": "3.9.12"
  }
 },
 "nbformat": 4,
 "nbformat_minor": 5
}
