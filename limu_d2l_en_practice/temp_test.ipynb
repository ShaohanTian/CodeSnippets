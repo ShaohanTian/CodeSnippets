{
 "cells": [
  {
   "cell_type": "code",
   "execution_count": 10,
   "id": "4d81ba82-9645-45e9-8a3a-ee6c41f6bb93",
   "metadata": {
    "execution": {
     "iopub.execute_input": "2023-04-25T12:32:23.751966Z",
     "iopub.status.busy": "2023-04-25T12:32:23.751966Z",
     "iopub.status.idle": "2023-04-25T12:32:23.772327Z",
     "shell.execute_reply": "2023-04-25T12:32:23.770345Z",
     "shell.execute_reply.started": "2023-04-25T12:32:23.751966Z"
    },
    "tags": []
   },
   "outputs": [],
   "source": [
    "from nltk.tokenize import word_tokenize\n",
    "from nltk.corpus import stopwords\n",
    "import nltk\n",
    "# nltk.download('punkt')"
   ]
  },
  {
   "cell_type": "code",
   "execution_count": 11,
   "id": "1848106e-e132-47ad-84ae-72847d0a1465",
   "metadata": {
    "execution": {
     "iopub.execute_input": "2023-04-25T12:32:24.428728Z",
     "iopub.status.busy": "2023-04-25T12:32:24.427733Z",
     "iopub.status.idle": "2023-04-25T12:32:24.462191Z",
     "shell.execute_reply": "2023-04-25T12:32:24.460841Z",
     "shell.execute_reply.started": "2023-04-25T12:32:24.428728Z"
    },
    "tags": []
   },
   "outputs": [
    {
     "ename": "NameError",
     "evalue": "name 'text_rocess' is not defined",
     "output_type": "error",
     "traceback": [
      "\u001b[1;31m-------------------------------------------------------------\u001b[0m",
      "\u001b[1;31mNameError\u001b[0m                   Traceback (most recent call last)",
      "Cell \u001b[1;32mIn[11], line 9\u001b[0m\n\u001b[0;32m      7\u001b[0m     fitler_words \u001b[38;5;241m=\u001b[39m [word \u001b[38;5;28;01mfor\u001b[39;00m word \u001b[38;5;129;01min\u001b[39;00m word_list \u001b[38;5;28;01mif\u001b[39;00m word \u001b[38;5;129;01mnot\u001b[39;00m \u001b[38;5;129;01min\u001b[39;00m stop_words]\n\u001b[0;32m      8\u001b[0m     \u001b[38;5;28;01mreturn\u001b[39;00m fitler_words\n\u001b[1;32m----> 9\u001b[0m \u001b[43mtext_rocess\u001b[49m(\u001b[38;5;124m\"\u001b[39m\u001b[38;5;124mInfluence of austenitization temperature (tAUS =6min) on the former austenitic grain size, yield strength, tensile strength, and elongation to rupture of steel 22MnB5.\u001b[39m\u001b[38;5;124m\"\u001b[39m)\n",
      "\u001b[1;31mNameError\u001b[0m: name 'text_rocess' is not defined"
     ]
    }
   ],
   "source": [
    "stop_words = stopwords.words(\"english\")\n",
    "for w in ['!',',','.','?','-s','-ly','</s>','s','(',')']:\n",
    "        stop_words.append(w)\n",
    "\n",
    "def text_process(text):\n",
    "    word_list = word_tokenize(text.lower())\n",
    "    fitler_words = [word for word in word_list if word not in stop_words]\n",
    "    return fitler_words\n",
    "text_rocess(\"Influence of austenitization temperature (tAUS =6min) on the former austenitic grain size, yield strength, tensile strength, and elongation to rupture of steel 22MnB5.\")\n",
    "    "
   ]
  },
  {
   "cell_type": "code",
   "execution_count": null,
   "id": "219d4b1f-1fa6-4815-b160-224c952dd716",
   "metadata": {},
   "outputs": [],
   "source": []
  },
  {
   "cell_type": "code",
   "execution_count": 10,
   "id": "2d51ac88-24d1-4647-91ff-f11e6726c361",
   "metadata": {
    "execution": {
     "iopub.execute_input": "2023-04-25T02:11:37.189397Z",
     "iopub.status.busy": "2023-04-25T02:11:37.188417Z",
     "iopub.status.idle": "2023-04-25T02:11:37.203012Z",
     "shell.execute_reply": "2023-04-25T02:11:37.202012Z",
     "shell.execute_reply.started": "2023-04-25T02:11:37.189397Z"
    },
    "tags": []
   },
   "outputs": [],
   "source": [
    "ss = word_tokenize(\"\")"
   ]
  },
  {
   "cell_type": "code",
   "execution_count": 11,
   "id": "9a5b9d1c-4def-495f-9e03-09bebc1ad26d",
   "metadata": {
    "execution": {
     "iopub.execute_input": "2023-04-25T02:11:38.194599Z",
     "iopub.status.busy": "2023-04-25T02:11:38.194599Z",
     "iopub.status.idle": "2023-04-25T02:11:38.205634Z",
     "shell.execute_reply": "2023-04-25T02:11:38.204633Z",
     "shell.execute_reply.started": "2023-04-25T02:11:38.194599Z"
    },
    "tags": []
   },
   "outputs": [
    {
     "data": {
      "text/plain": [
       "[]"
      ]
     },
     "execution_count": 11,
     "metadata": {},
     "output_type": "execute_result"
    }
   ],
   "source": []
  },
  {
   "cell_type": "code",
   "execution_count": 8,
   "id": "e86c136d-d113-4b19-be46-0894f8be9871",
   "metadata": {
    "execution": {
     "iopub.execute_input": "2023-04-25T02:06:56.788032Z",
     "iopub.status.busy": "2023-04-25T02:06:56.788032Z",
     "iopub.status.idle": "2023-04-25T02:06:56.809007Z",
     "shell.execute_reply": "2023-04-25T02:06:56.808032Z",
     "shell.execute_reply.started": "2023-04-25T02:06:56.788032Z"
    },
    "tags": []
   },
   "outputs": [
    {
     "data": {
      "text/plain": [
       "False"
      ]
     },
     "execution_count": 8,
     "metadata": {},
     "output_type": "execute_result"
    }
   ],
   "source": [
    "['22MnB5','f'] in ss"
   ]
  }
 ],
 "metadata": {
  "kernelspec": {
   "display_name": "steel",
   "language": "python",
   "name": "steel"
  },
  "language_info": {
   "codemirror_mode": {
    "name": "ipython",
    "version": 3
   },
   "file_extension": ".py",
   "mimetype": "text/x-python",
   "name": "python",
   "nbconvert_exporter": "python",
   "pygments_lexer": "ipython3",
   "version": "3.9.15"
  }
 },
 "nbformat": 4,
 "nbformat_minor": 5
}
