{
 "cells": [
  {
   "cell_type": "markdown",
   "id": "1cf0d6af-9d04-4065-ae5c-e0f4a8bf5120",
   "metadata": {},
   "source": [
    "## Builder‘s Guide"
   ]
  },
  {
   "cell_type": "markdown",
   "id": "88da4cbf-5046-4caf-bc02-93554d2f2513",
   "metadata": {},
   "source": [
    "### Layers and Modules"
   ]
  },
  {
   "cell_type": "markdown",
   "id": "9abe389a-04bb-4e42-bc0c-73a57f5b215a",
   "metadata": {},
   "source": [
    "- Mulitple layers are combined into modules"
   ]
  },
  {
   "cell_type": "code",
   "execution_count": 8,
   "id": "ff9e30b8-8a3a-407c-b555-d8ca8beffaa9",
   "metadata": {
    "execution": {
     "iopub.execute_input": "2023-04-19T03:00:26.365982Z",
     "iopub.status.busy": "2023-04-19T03:00:26.365982Z",
     "iopub.status.idle": "2023-04-19T03:00:26.376952Z",
     "shell.execute_reply": "2023-04-19T03:00:26.376952Z",
     "shell.execute_reply.started": "2023-04-19T03:00:26.365982Z"
    },
    "tags": []
   },
   "outputs": [],
   "source": [
    "import torch\n",
    "from torch import nn\n",
    "from torch.nn import functional as F"
   ]
  },
  {
   "cell_type": "code",
   "execution_count": 9,
   "id": "f562e7dc-fd00-40c6-8c4c-748d62a31f23",
   "metadata": {
    "execution": {
     "iopub.execute_input": "2023-04-19T03:00:26.378947Z",
     "iopub.status.busy": "2023-04-19T03:00:26.377950Z",
     "iopub.status.idle": "2023-04-19T03:00:26.391912Z",
     "shell.execute_reply": "2023-04-19T03:00:26.391912Z",
     "shell.execute_reply.started": "2023-04-19T03:00:26.378947Z"
    },
    "tags": []
   },
   "outputs": [
    {
     "data": {
      "text/plain": [
       "torch.Size([2, 10])"
      ]
     },
     "execution_count": 9,
     "metadata": {},
     "output_type": "execute_result"
    }
   ],
   "source": [
    "net = nn.Sequential(nn.LazyLinear(256), nn.ReLU(), nn.LazyLinear(10))\n",
    "\n",
    "X = torch.rand((2, 10))\n",
    "net(X).shape"
   ]
  },
  {
   "cell_type": "markdown",
   "id": "2cf60cda-f49a-479e-878f-51e3d5504d99",
   "metadata": {},
   "source": [
    "#### A Custom Module"
   ]
  },
  {
   "cell_type": "code",
   "execution_count": 10,
   "id": "353262c2-ee95-4212-81e7-6323b7d35c2b",
   "metadata": {
    "execution": {
     "iopub.execute_input": "2023-04-19T03:00:26.392910Z",
     "iopub.status.busy": "2023-04-19T03:00:26.392910Z",
     "iopub.status.idle": "2023-04-19T03:00:26.408866Z",
     "shell.execute_reply": "2023-04-19T03:00:26.407870Z",
     "shell.execute_reply.started": "2023-04-19T03:00:26.392910Z"
    },
    "tags": []
   },
   "outputs": [
    {
     "data": {
      "text/plain": [
       "torch.Size([2, 10])"
      ]
     },
     "execution_count": 10,
     "metadata": {},
     "output_type": "execute_result"
    }
   ],
   "source": [
    "class MLP(nn.Module):\n",
    "    def __init__(self):\n",
    "        super().__init__()\n",
    "        self.hidden = nn.LazyLinear(256)\n",
    "        self.out = nn.LazyLinear(10)\n",
    "    def forward(self, X):\n",
    "        return self.out(F.relu(self.hidden(X)))\n",
    "net = MLP()\n",
    "net(X).shape"
   ]
  },
  {
   "cell_type": "markdown",
   "id": "0e3206b2-a8ea-4164-96d4-8435e0c883e7",
   "metadata": {},
   "source": [
    "#### The Sequential Module"
   ]
  },
  {
   "cell_type": "markdown",
   "id": "0fd5b937-8a4a-43a9-bf31-9a279ca4d7b3",
   "metadata": {},
   "source": [
    "- A method to append modules one by one to a list\n",
    "- A forward propagation method to pass an input through the chain of modules, in the same order as they were appended"
   ]
  },
  {
   "cell_type": "code",
   "execution_count": 198,
   "id": "7053070e-f8e7-42c7-93b9-1d1f11dff1e9",
   "metadata": {
    "execution": {
     "iopub.execute_input": "2023-04-19T04:58:42.476393Z",
     "iopub.status.busy": "2023-04-19T04:58:42.476393Z",
     "iopub.status.idle": "2023-04-19T04:58:42.494346Z",
     "shell.execute_reply": "2023-04-19T04:58:42.494346Z",
     "shell.execute_reply.started": "2023-04-19T04:58:42.476393Z"
    },
    "tags": []
   },
   "outputs": [],
   "source": [
    "# using \"childrne\" class to access added modules\n",
    "\n",
    "class MySequential(nn.Module):\n",
    "    def __init__(self, *args):\n",
    "        super().__init__()\n",
    "        for idx, moduels in enumerate(args):\n",
    "            self.add_module('l' + str(idx), moduels)\n",
    "    def forward(self, X):\n",
    "        for module in self.children():\n",
    "            X = module(X)\n",
    "        return X   "
   ]
  },
  {
   "cell_type": "code",
   "execution_count": 199,
   "id": "e48238ca-8d38-4a9d-99ce-0eab6c7ff4c3",
   "metadata": {
    "execution": {
     "iopub.execute_input": "2023-04-19T04:58:43.427979Z",
     "iopub.status.busy": "2023-04-19T04:58:43.426983Z",
     "iopub.status.idle": "2023-04-19T04:58:43.439975Z",
     "shell.execute_reply": "2023-04-19T04:58:43.439975Z",
     "shell.execute_reply.started": "2023-04-19T04:58:43.427979Z"
    },
    "tags": []
   },
   "outputs": [
    {
     "name": "stderr",
     "output_type": "stream",
     "text": [
      "C:\\Users\\shaohan.tian\\scoop\\apps\\miniconda3\\current\\envs\\d2l\\lib\\site-packages\\torch\\nn\\modules\\lazy.py:178: UserWarning: Lazy modules are a new feature under heavy development so changes to the API or functionality can happen at any moment.\n",
      "  warnings.warn('Lazy modules are a new feature under heavy development '\n"
     ]
    },
    {
     "data": {
      "text/plain": [
       "torch.Size([2, 10])"
      ]
     },
     "execution_count": 199,
     "metadata": {},
     "output_type": "execute_result"
    }
   ],
   "source": [
    "net = MySequential(nn.LazyLinear(256),nn.LazyLinear(256), nn.ReLU(), nn.LazyLinear(10))\n",
    "net(X).shape"
   ]
  },
  {
   "cell_type": "code",
   "execution_count": 200,
   "id": "d7bbffc6-571e-410f-b4ca-d1414218845a",
   "metadata": {
    "execution": {
     "iopub.execute_input": "2023-04-19T04:58:54.833586Z",
     "iopub.status.busy": "2023-04-19T04:58:54.833586Z",
     "iopub.status.idle": "2023-04-19T04:58:54.838573Z",
     "shell.execute_reply": "2023-04-19T04:58:54.838573Z",
     "shell.execute_reply.started": "2023-04-19T04:58:54.833586Z"
    }
   },
   "outputs": [
    {
     "data": {
      "text/plain": [
       "MySequential(\n",
       "  (l0): Linear(in_features=20, out_features=256, bias=True)\n",
       "  (l1): Linear(in_features=256, out_features=256, bias=True)\n",
       "  (l2): ReLU()\n",
       "  (l3): Linear(in_features=256, out_features=10, bias=True)\n",
       ")"
      ]
     },
     "execution_count": 200,
     "metadata": {},
     "output_type": "execute_result"
    }
   ],
   "source": [
    "net"
   ]
  },
  {
   "cell_type": "code",
   "execution_count": 201,
   "id": "5d66decc-ac4c-42cb-835a-8af7a0056014",
   "metadata": {
    "execution": {
     "iopub.execute_input": "2023-04-19T04:58:58.389394Z",
     "iopub.status.busy": "2023-04-19T04:58:58.388398Z",
     "iopub.status.idle": "2023-04-19T04:58:58.394381Z",
     "shell.execute_reply": "2023-04-19T04:58:58.394381Z",
     "shell.execute_reply.started": "2023-04-19T04:58:58.389394Z"
    },
    "tags": []
   },
   "outputs": [
    {
     "data": {
      "text/plain": [
       "Linear(in_features=20, out_features=256, bias=True)"
      ]
     },
     "execution_count": 201,
     "metadata": {},
     "output_type": "execute_result"
    }
   ],
   "source": [
    "net.l0"
   ]
  },
  {
   "cell_type": "markdown",
   "id": "20fd8358-dd85-483f-b1db-f011ef2fbae9",
   "metadata": {},
   "source": [
    "#### Executing Code in the Forward Propagation Method"
   ]
  },
  {
   "cell_type": "markdown",
   "id": "8d646d1e-2ecd-46fc-9706-3db9be9e7ac4",
   "metadata": {},
   "source": [
    "- Perform arbitrary matchmatical operations, not simpely relying on predifned NNs\n",
    "- sharing one linear layer and add some mathmatical operaitons"
   ]
  },
  {
   "cell_type": "code",
   "execution_count": 45,
   "id": "1fd6c1ca-b627-425a-b11f-fcbfd1b3ccf9",
   "metadata": {
    "execution": {
     "iopub.execute_input": "2023-04-19T03:09:25.111985Z",
     "iopub.status.busy": "2023-04-19T03:09:25.111985Z",
     "iopub.status.idle": "2023-04-19T03:09:25.124949Z",
     "shell.execute_reply": "2023-04-19T03:09:25.123952Z",
     "shell.execute_reply.started": "2023-04-19T03:09:25.111985Z"
    },
    "tags": []
   },
   "outputs": [],
   "source": [
    "class FixedHiddenMLP(nn.Module):\n",
    "    def __init__(self):\n",
    "        super().__init__()\n",
    "        # Random weight parameters that will not compute gradients and\n",
    "        # therefore keep constant during training\n",
    "        self.rand_weight = torch.rand((20, 20))\n",
    "        self.linear = nn.LazyLinear(20)\n",
    "    def forward(self, X):\n",
    "        X = self.linear(X)\n",
    "        X = F.relu(X @ self.rand_weight + 1)\n",
    "        # Reuse the fully connected layer. This is equivalent to sharing\n",
    "        # parameters with two fully connected layers\n",
    "        X = self.linear(X)\n",
    "        # Control flow\n",
    "        while X.abs().sum() > 1:\n",
    "            X /= 2\n",
    "        return X.sum()"
   ]
  },
  {
   "cell_type": "code",
   "execution_count": 81,
   "id": "1e80ce96-faa7-477d-bfba-8b8f64d2fe34",
   "metadata": {
    "execution": {
     "iopub.execute_input": "2023-04-19T03:25:32.896257Z",
     "iopub.status.busy": "2023-04-19T03:25:32.895259Z",
     "iopub.status.idle": "2023-04-19T03:25:32.903240Z",
     "shell.execute_reply": "2023-04-19T03:25:32.902242Z",
     "shell.execute_reply.started": "2023-04-19T03:25:32.896257Z"
    },
    "tags": []
   },
   "outputs": [
    {
     "name": "stderr",
     "output_type": "stream",
     "text": [
      "C:\\Users\\shaohan.tian\\scoop\\apps\\miniconda3\\current\\envs\\d2l\\lib\\site-packages\\torch\\nn\\modules\\lazy.py:178: UserWarning: Lazy modules are a new feature under heavy development so changes to the API or functionality can happen at any moment.\n",
      "  warnings.warn('Lazy modules are a new feature under heavy development '\n"
     ]
    },
    {
     "data": {
      "text/plain": [
       "tensor(0.2432, grad_fn=<SumBackward0>)"
      ]
     },
     "execution_count": 81,
     "metadata": {},
     "output_type": "execute_result"
    }
   ],
   "source": [
    "X = torch.arange(40.0).reshape(2, 20)\n",
    "net = FixedHiddenMLP()\n",
    "net(X)"
   ]
  },
  {
   "cell_type": "code",
   "execution_count": 83,
   "id": "d3274d85-5981-4ffc-bca6-d966f655651e",
   "metadata": {
    "execution": {
     "iopub.execute_input": "2023-04-19T03:25:37.866155Z",
     "iopub.status.busy": "2023-04-19T03:25:37.865158Z",
     "iopub.status.idle": "2023-04-19T03:25:37.884108Z",
     "shell.execute_reply": "2023-04-19T03:25:37.884108Z",
     "shell.execute_reply.started": "2023-04-19T03:25:37.866155Z"
    },
    "tags": []
   },
   "outputs": [
    {
     "data": {
      "text/plain": [
       "tensor(0.0621, grad_fn=<SumBackward0>)"
      ]
     },
     "execution_count": 83,
     "metadata": {},
     "output_type": "execute_result"
    }
   ],
   "source": [
    "# mixing various modules together\n",
    "class NestMlp(nn.Module):\n",
    "    def __init__(self):\n",
    "        super().__init__()\n",
    "        self.net = nn.Sequential(nn.LazyLinear(20), nn.ReLU(),\n",
    "                                nn.LazyLinear(50), nn.ReLU())\n",
    "        self.linear = nn.LazyLinear(60)\n",
    "    def forward(self, X):\n",
    "        return self.linear(self.net(X))\n",
    "    \n",
    "chimera = nn.Sequential(NestMlp(), nn.LazyLinear(20), FixedHiddenMLP())\n",
    "chimera(X)"
   ]
  },
  {
   "cell_type": "code",
   "execution_count": 202,
   "id": "4b025c74-3495-4923-9a7a-85490cf258eb",
   "metadata": {
    "execution": {
     "iopub.execute_input": "2023-04-19T05:03:57.509425Z",
     "iopub.status.busy": "2023-04-19T05:03:57.509425Z",
     "iopub.status.idle": "2023-04-19T05:03:57.526380Z",
     "shell.execute_reply": "2023-04-19T05:03:57.525381Z",
     "shell.execute_reply.started": "2023-04-19T05:03:57.509425Z"
    },
    "tags": []
   },
   "outputs": [
    {
     "data": {
      "text/plain": [
       "Sequential(\n",
       "  (0): NestMlp(\n",
       "    (net): Sequential(\n",
       "      (0): Linear(in_features=20, out_features=20, bias=True)\n",
       "      (1): ReLU()\n",
       "      (2): Linear(in_features=20, out_features=50, bias=True)\n",
       "      (3): ReLU()\n",
       "    )\n",
       "    (linear): Linear(in_features=50, out_features=60, bias=True)\n",
       "  )\n",
       "  (1): Linear(in_features=60, out_features=20, bias=True)\n",
       "  (2): FixedHiddenMLP(\n",
       "    (linear): Linear(in_features=20, out_features=20, bias=True)\n",
       "  )\n",
       ")"
      ]
     },
     "execution_count": 202,
     "metadata": {},
     "output_type": "execute_result"
    }
   ],
   "source": [
    "chimera"
   ]
  },
  {
   "cell_type": "markdown",
   "id": "d6988ef4-9518-4722-9943-3ed8067f2fd4",
   "metadata": {},
   "source": [
    "#### Summary"
   ]
  },
  {
   "cell_type": "markdown",
   "id": "cedc82ad-787b-4589-a69a-8575fbcc2909",
   "metadata": {},
   "source": [
    "- Layers are modules. Many layers can comprise a module. Many modules can comprise a module.  \n",
    "- A module can contain code. Modules take care of lots of housekeeping, including parameter initialization and backpropagation. Sequential concatenations of layers and modules are handled by the Sequential module"
   ]
  },
  {
   "cell_type": "markdown",
   "id": "5faf3518-4c96-4587-b2cb-711e6e389dc4",
   "metadata": {
    "execution": {
     "iopub.execute_input": "2023-04-19T05:42:19.267973Z",
     "iopub.status.busy": "2023-04-19T05:42:19.267973Z",
     "iopub.status.idle": "2023-04-19T05:42:19.278944Z",
     "shell.execute_reply": "2023-04-19T05:42:19.278944Z",
     "shell.execute_reply.started": "2023-04-19T05:42:19.267973Z"
    }
   },
   "source": [
    "#### Exerises"
   ]
  },
  {
   "cell_type": "markdown",
   "id": "8f97f456-c4fd-4b8d-9d1a-77a3b2ef02d7",
   "metadata": {},
   "source": [
    "1. What kinds of problems will occur if you change MySequential to store modules in a Python list?"
   ]
  },
  {
   "cell_type": "code",
   "execution_count": 260,
   "id": "9e4e83ab-d7a4-42af-af1b-6f044cbaa83e",
   "metadata": {
    "execution": {
     "iopub.execute_input": "2023-04-19T06:10:07.641813Z",
     "iopub.status.busy": "2023-04-19T06:10:07.640787Z",
     "iopub.status.idle": "2023-04-19T06:10:07.648766Z",
     "shell.execute_reply": "2023-04-19T06:10:07.648766Z",
     "shell.execute_reply.started": "2023-04-19T06:10:07.641813Z"
    },
    "tags": []
   },
   "outputs": [
    {
     "name": "stderr",
     "output_type": "stream",
     "text": [
      "C:\\Users\\shaohan.tian\\scoop\\apps\\miniconda3\\current\\envs\\d2l\\lib\\site-packages\\torch\\nn\\modules\\lazy.py:178: UserWarning: Lazy modules are a new feature under heavy development so changes to the API or functionality can happen at any moment.\n",
      "  warnings.warn('Lazy modules are a new feature under heavy development '\n"
     ]
    },
    {
     "data": {
      "text/plain": [
       "MySequentialExe()"
      ]
     },
     "execution_count": 260,
     "metadata": {},
     "output_type": "execute_result"
    }
   ],
   "source": [
    "class MySequentialExe(nn.Module):\n",
    "    def __init__(self, *args):\n",
    "        super().__init__()\n",
    "\n",
    "        self.layers = []\n",
    "        for idx, layer in enumerate(args): # convert module inputs to list\n",
    "            self.layers.append(layer)\n",
    "\n",
    "    def forward(self, X):\n",
    "        for block in self.layers:\n",
    "            X = block(X)\n",
    "        return X\n",
    "\n",
    "x = torch.rand(size=(2, 10))\n",
    "net = MySequentialExe(nn.LazyLinear(8), nn.LazyLinear(4), nn.LazyLinear(1))\n",
    "net"
   ]
  },
  {
   "cell_type": "code",
   "execution_count": 261,
   "id": "47ff6844-6cf9-49e0-99e8-caf381aa3a0a",
   "metadata": {
    "execution": {
     "iopub.execute_input": "2023-04-19T06:10:10.276611Z",
     "iopub.status.busy": "2023-04-19T06:10:10.275614Z",
     "iopub.status.idle": "2023-04-19T06:10:10.284590Z",
     "shell.execute_reply": "2023-04-19T06:10:10.284590Z",
     "shell.execute_reply.started": "2023-04-19T06:10:10.276611Z"
    },
    "tags": []
   },
   "outputs": [
    {
     "data": {
      "text/plain": [
       "tensor([[-0.4829],\n",
       "        [-0.4826]], grad_fn=<AddmmBackward0>)"
      ]
     },
     "execution_count": 261,
     "metadata": {},
     "output_type": "execute_result"
    }
   ],
   "source": [
    "net(x)"
   ]
  },
  {
   "cell_type": "code",
   "execution_count": 262,
   "id": "0b5601b7-d77e-4256-8c67-1fdd134ff9cf",
   "metadata": {
    "execution": {
     "iopub.execute_input": "2023-04-19T06:10:11.328910Z",
     "iopub.status.busy": "2023-04-19T06:10:11.328910Z",
     "iopub.status.idle": "2023-04-19T06:10:11.341847Z",
     "shell.execute_reply": "2023-04-19T06:10:11.341847Z",
     "shell.execute_reply.started": "2023-04-19T06:10:11.328910Z"
    },
    "tags": []
   },
   "outputs": [
    {
     "data": {
      "text/plain": [
       "OrderedDict()"
      ]
     },
     "execution_count": 262,
     "metadata": {},
     "output_type": "execute_result"
    }
   ],
   "source": [
    "net.state_dict()"
   ]
  },
  {
   "cell_type": "code",
   "execution_count": null,
   "id": "375e8b19-911d-4589-9548-77f2786811bc",
   "metadata": {},
   "outputs": [],
   "source": []
  },
  {
   "cell_type": "markdown",
   "id": "b0be287e-bada-40cc-b4ca-f18ca6ee97e2",
   "metadata": {},
   "source": [
    "2. Implement a module that takes two modules as an argument, say net1 and net2 and returns the concatenated output of both networks in the forward propagation. This is also called a **parallel module**."
   ]
  },
  {
   "cell_type": "code",
   "execution_count": null,
   "id": "6c3206b0-d8ce-4c9f-81b1-cf759b45baaa",
   "metadata": {},
   "outputs": [],
   "source": []
  },
  {
   "cell_type": "code",
   "execution_count": null,
   "id": "3c916995-74d7-4743-9c74-a2b5229b602c",
   "metadata": {},
   "outputs": [],
   "source": []
  },
  {
   "cell_type": "markdown",
   "id": "173ac718-c50a-4941-80ec-3c3b4b308fb7",
   "metadata": {},
   "source": [
    "3. Assume that you want to concatenate multiple instances of the same network. Implement a factory function that generates multiple instances of the same module and build a larger network from it."
   ]
  },
  {
   "cell_type": "code",
   "execution_count": null,
   "id": "e4139326-1b98-46d0-9d9f-41c85921b394",
   "metadata": {},
   "outputs": [],
   "source": []
  },
  {
   "cell_type": "code",
   "execution_count": null,
   "id": "6ba73d9e-fcb2-42a4-a098-5d2ad51b4cb0",
   "metadata": {},
   "outputs": [],
   "source": []
  },
  {
   "cell_type": "code",
   "execution_count": null,
   "id": "56fcfa03-1e39-4d10-9c14-858f2003b07f",
   "metadata": {},
   "outputs": [],
   "source": []
  },
  {
   "cell_type": "code",
   "execution_count": null,
   "id": "b8557da7-22c0-4424-a1ad-75b473279f84",
   "metadata": {},
   "outputs": [],
   "source": []
  },
  {
   "cell_type": "markdown",
   "id": "72a5c3bc-9fb0-4fc5-b02f-1eca295701df",
   "metadata": {},
   "source": [
    "### Parameter Management"
   ]
  },
  {
   "cell_type": "markdown",
   "id": "40276055-dac9-415c-be6b-b47a79c853d1",
   "metadata": {},
   "source": [
    "- Accessing parameters for debugging, diagnostic, and visualizations\n",
    "- Sharing parameters across different model components."
   ]
  },
  {
   "cell_type": "code",
   "execution_count": 203,
   "id": "42ae65d0-5aa0-41c7-9bfd-71e92c4cb92a",
   "metadata": {
    "execution": {
     "iopub.execute_input": "2023-04-19T05:08:05.245883Z",
     "iopub.status.busy": "2023-04-19T05:08:05.245883Z",
     "iopub.status.idle": "2023-04-19T05:08:05.253862Z",
     "shell.execute_reply": "2023-04-19T05:08:05.252864Z",
     "shell.execute_reply.started": "2023-04-19T05:08:05.245883Z"
    }
   },
   "outputs": [],
   "source": [
    "import torch\n",
    "from torch import nn"
   ]
  },
  {
   "cell_type": "code",
   "execution_count": 204,
   "id": "44b1bf5f-6aad-411d-85b3-8e4d1163a8d5",
   "metadata": {
    "execution": {
     "iopub.execute_input": "2023-04-19T05:09:21.317328Z",
     "iopub.status.busy": "2023-04-19T05:09:21.316331Z",
     "iopub.status.idle": "2023-04-19T05:09:21.334283Z",
     "shell.execute_reply": "2023-04-19T05:09:21.334283Z",
     "shell.execute_reply.started": "2023-04-19T05:09:21.317328Z"
    }
   },
   "outputs": [
    {
     "name": "stderr",
     "output_type": "stream",
     "text": [
      "C:\\Users\\shaohan.tian\\scoop\\apps\\miniconda3\\current\\envs\\d2l\\lib\\site-packages\\torch\\nn\\modules\\lazy.py:178: UserWarning: Lazy modules are a new feature under heavy development so changes to the API or functionality can happen at any moment.\n",
      "  warnings.warn('Lazy modules are a new feature under heavy development '\n"
     ]
    },
    {
     "data": {
      "text/plain": [
       "tensor([[0.3653],\n",
       "        [0.3266]], grad_fn=<AddmmBackward0>)"
      ]
     },
     "execution_count": 204,
     "metadata": {},
     "output_type": "execute_result"
    }
   ],
   "source": [
    "net = nn.Sequential(nn.LazyLinear(8),\n",
    "                    nn.ReLU(),\n",
    "                    nn.LazyLinear(1))\n",
    "X = torch.rand(size=(2, 4))\n",
    "net(X)"
   ]
  },
  {
   "cell_type": "code",
   "execution_count": 205,
   "id": "154dc6a5-a348-4fe1-a876-a53e4e7bb9bb",
   "metadata": {
    "execution": {
     "iopub.execute_input": "2023-04-19T05:09:49.909060Z",
     "iopub.status.busy": "2023-04-19T05:09:49.909060Z",
     "iopub.status.idle": "2023-04-19T05:09:49.930005Z",
     "shell.execute_reply": "2023-04-19T05:09:49.929009Z",
     "shell.execute_reply.started": "2023-04-19T05:09:49.909060Z"
    }
   },
   "outputs": [
    {
     "data": {
      "text/plain": [
       "Sequential(\n",
       "  (0): Linear(in_features=4, out_features=8, bias=True)\n",
       "  (1): ReLU()\n",
       "  (2): Linear(in_features=8, out_features=1, bias=True)\n",
       ")"
      ]
     },
     "execution_count": 205,
     "metadata": {},
     "output_type": "execute_result"
    }
   ],
   "source": [
    "net"
   ]
  },
  {
   "cell_type": "markdown",
   "id": "fa2b92b7-3584-46ec-ba01-8e05ef87a28c",
   "metadata": {},
   "source": [
    "#### Parameter access"
   ]
  },
  {
   "cell_type": "code",
   "execution_count": 206,
   "id": "add1b8c6-af55-430c-b5bd-45a5b4b49d06",
   "metadata": {
    "execution": {
     "iopub.execute_input": "2023-04-19T05:10:03.860988Z",
     "iopub.status.busy": "2023-04-19T05:10:03.859991Z",
     "iopub.status.idle": "2023-04-19T05:10:03.870962Z",
     "shell.execute_reply": "2023-04-19T05:10:03.870962Z",
     "shell.execute_reply.started": "2023-04-19T05:10:03.860988Z"
    }
   },
   "outputs": [
    {
     "data": {
      "text/plain": [
       "OrderedDict([('weight',\n",
       "              tensor([[-0.1951,  0.1670,  0.3505,  0.1089, -0.0129,  0.2969,  0.2359, -0.2969]])),\n",
       "             ('bias', tensor([0.2740]))])"
      ]
     },
     "execution_count": 206,
     "metadata": {},
     "output_type": "execute_result"
    }
   ],
   "source": [
    "net[2].state_dict()"
   ]
  },
  {
   "cell_type": "code",
   "execution_count": 211,
   "id": "eb559030-fbf1-4208-b8cd-46bc209dc362",
   "metadata": {
    "execution": {
     "iopub.execute_input": "2023-04-19T05:12:05.427338Z",
     "iopub.status.busy": "2023-04-19T05:12:05.427338Z",
     "iopub.status.idle": "2023-04-19T05:12:05.439306Z",
     "shell.execute_reply": "2023-04-19T05:12:05.439306Z",
     "shell.execute_reply.started": "2023-04-19T05:12:05.427338Z"
    },
    "tags": []
   },
   "outputs": [
    {
     "data": {
      "text/plain": [
       "(torch.nn.parameter.Parameter, tensor([0.2740]))"
      ]
     },
     "execution_count": 211,
     "metadata": {},
     "output_type": "execute_result"
    }
   ],
   "source": [
    "type(net[2].bias), net[2].bias.data"
   ]
  },
  {
   "cell_type": "code",
   "execution_count": 214,
   "id": "1e1b946c-1ae2-4c73-82e6-669c4fef7f17",
   "metadata": {
    "execution": {
     "iopub.execute_input": "2023-04-19T05:13:28.207980Z",
     "iopub.status.busy": "2023-04-19T05:13:28.207980Z",
     "iopub.status.idle": "2023-04-19T05:13:28.225932Z",
     "shell.execute_reply": "2023-04-19T05:13:28.224935Z",
     "shell.execute_reply.started": "2023-04-19T05:13:28.207980Z"
    },
    "tags": []
   },
   "outputs": [
    {
     "data": {
      "text/plain": [
       "True"
      ]
     },
     "execution_count": 214,
     "metadata": {},
     "output_type": "execute_result"
    }
   ],
   "source": [
    "# we have not invoked backprogation for this NN\n",
    "net[2].weight.grad == None"
   ]
  },
  {
   "cell_type": "code",
   "execution_count": 217,
   "id": "e48bab8e-82a9-4dd4-b981-ad222d8d2995",
   "metadata": {
    "execution": {
     "iopub.execute_input": "2023-04-19T05:14:28.441593Z",
     "iopub.status.busy": "2023-04-19T05:14:28.440596Z",
     "iopub.status.idle": "2023-04-19T05:14:28.452564Z",
     "shell.execute_reply": "2023-04-19T05:14:28.452564Z",
     "shell.execute_reply.started": "2023-04-19T05:14:28.441593Z"
    },
    "tags": []
   },
   "outputs": [
    {
     "data": {
      "text/plain": [
       "[('0.weight', torch.Size([8, 4])),\n",
       " ('0.bias', torch.Size([8])),\n",
       " ('2.weight', torch.Size([1, 8])),\n",
       " ('2.bias', torch.Size([1]))]"
      ]
     },
     "execution_count": 217,
     "metadata": {},
     "output_type": "execute_result"
    }
   ],
   "source": [
    "# all parameters\n",
    "[(name, param.shape) for name, param in net.named_parameters()]"
   ]
  },
  {
   "cell_type": "markdown",
   "id": "15a7d747-67de-46c0-ab27-0b860f3346c2",
   "metadata": {},
   "source": [
    "#### Tied parameters"
   ]
  },
  {
   "cell_type": "code",
   "execution_count": 220,
   "id": "0444d78e-fc36-4792-8df3-e277e58bd6ab",
   "metadata": {
    "execution": {
     "iopub.execute_input": "2023-04-19T05:22:54.159853Z",
     "iopub.status.busy": "2023-04-19T05:22:54.159853Z",
     "iopub.status.idle": "2023-04-19T05:22:54.177804Z",
     "shell.execute_reply": "2023-04-19T05:22:54.176806Z",
     "shell.execute_reply.started": "2023-04-19T05:22:54.159853Z"
    },
    "tags": []
   },
   "outputs": [
    {
     "name": "stderr",
     "output_type": "stream",
     "text": [
      "C:\\Users\\shaohan.tian\\scoop\\apps\\miniconda3\\current\\envs\\d2l\\lib\\site-packages\\torch\\nn\\modules\\lazy.py:178: UserWarning: Lazy modules are a new feature under heavy development so changes to the API or functionality can happen at any moment.\n",
      "  warnings.warn('Lazy modules are a new feature under heavy development '\n"
     ]
    },
    {
     "data": {
      "text/plain": [
       "tensor([[0.1073],\n",
       "        [0.1005]], grad_fn=<AddmmBackward0>)"
      ]
     },
     "execution_count": 220,
     "metadata": {},
     "output_type": "execute_result"
    }
   ],
   "source": [
    "# we need to give a shared layer a name so that we can refer to\n",
    "# its  parameters\n",
    "shared = nn.LazyLinear(8)\n",
    "net = nn.Sequential(nn.LazyLinear(8), nn.ReLU(),\n",
    "                    shared, nn.ReLU(),\n",
    "                    shared, nn.ReLU(),\n",
    "                    nn.LazyLinear(1))\n",
    "net(X)"
   ]
  },
  {
   "cell_type": "code",
   "execution_count": 221,
   "id": "f48f0cfe-413d-468a-99bc-51549c12ea0a",
   "metadata": {
    "execution": {
     "iopub.execute_input": "2023-04-19T05:23:01.939781Z",
     "iopub.status.busy": "2023-04-19T05:23:01.939781Z",
     "iopub.status.idle": "2023-04-19T05:23:01.947730Z",
     "shell.execute_reply": "2023-04-19T05:23:01.947730Z",
     "shell.execute_reply.started": "2023-04-19T05:23:01.939781Z"
    }
   },
   "outputs": [
    {
     "data": {
      "text/plain": [
       "Sequential(\n",
       "  (0): Linear(in_features=4, out_features=8, bias=True)\n",
       "  (1): ReLU()\n",
       "  (2): Linear(in_features=8, out_features=8, bias=True)\n",
       "  (3): ReLU()\n",
       "  (4): Linear(in_features=8, out_features=8, bias=True)\n",
       "  (5): ReLU()\n",
       "  (6): Linear(in_features=8, out_features=1, bias=True)\n",
       ")"
      ]
     },
     "execution_count": 221,
     "metadata": {},
     "output_type": "execute_result"
    }
   ],
   "source": [
    "net"
   ]
  },
  {
   "cell_type": "code",
   "execution_count": 222,
   "id": "bb2ac92f-6b80-488c-9f66-6acc0f6ff404",
   "metadata": {
    "execution": {
     "iopub.execute_input": "2023-04-19T05:23:35.555929Z",
     "iopub.status.busy": "2023-04-19T05:23:35.554933Z",
     "iopub.status.idle": "2023-04-19T05:23:35.565903Z",
     "shell.execute_reply": "2023-04-19T05:23:35.565903Z",
     "shell.execute_reply.started": "2023-04-19T05:23:35.555929Z"
    }
   },
   "outputs": [
    {
     "data": {
      "text/plain": [
       "tensor([[True, True, True, True, True, True, True, True],\n",
       "        [True, True, True, True, True, True, True, True],\n",
       "        [True, True, True, True, True, True, True, True],\n",
       "        [True, True, True, True, True, True, True, True],\n",
       "        [True, True, True, True, True, True, True, True],\n",
       "        [True, True, True, True, True, True, True, True],\n",
       "        [True, True, True, True, True, True, True, True],\n",
       "        [True, True, True, True, True, True, True, True]])"
      ]
     },
     "execution_count": 222,
     "metadata": {},
     "output_type": "execute_result"
    }
   ],
   "source": [
    "net[2].weight.data == net[4].weight.data"
   ]
  },
  {
   "cell_type": "code",
   "execution_count": 226,
   "id": "f75a11da-7e56-42af-9256-d7ad2c30ceb7",
   "metadata": {
    "execution": {
     "iopub.execute_input": "2023-04-19T05:24:55.299432Z",
     "iopub.status.busy": "2023-04-19T05:24:55.299432Z",
     "iopub.status.idle": "2023-04-19T05:24:55.310429Z",
     "shell.execute_reply": "2023-04-19T05:24:55.310429Z",
     "shell.execute_reply.started": "2023-04-19T05:24:55.299432Z"
    },
    "tags": []
   },
   "outputs": [
    {
     "data": {
      "text/plain": [
       "tensor([[True, True, True, True, True, True, True, True],\n",
       "        [True, True, True, True, True, True, True, True],\n",
       "        [True, True, True, True, True, True, True, True],\n",
       "        [True, True, True, True, True, True, True, True],\n",
       "        [True, True, True, True, True, True, True, True],\n",
       "        [True, True, True, True, True, True, True, True],\n",
       "        [True, True, True, True, True, True, True, True],\n",
       "        [True, True, True, True, True, True, True, True]])"
      ]
     },
     "execution_count": 226,
     "metadata": {},
     "output_type": "execute_result"
    }
   ],
   "source": [
    "# modify one of the parameters and keep still\n",
    "net[2].weight.data[0, 0] = 100\n",
    "net[2].weight.data == net[4].weight.data"
   ]
  },
  {
   "cell_type": "code",
   "execution_count": null,
   "id": "9a0d30d2-6d6b-4079-bb23-ee3b12f37b1a",
   "metadata": {},
   "outputs": [],
   "source": []
  },
  {
   "cell_type": "code",
   "execution_count": null,
   "id": "843b2465-3d02-483e-a127-6bc264236ea4",
   "metadata": {},
   "outputs": [],
   "source": []
  },
  {
   "cell_type": "code",
   "execution_count": null,
   "id": "b36b6078-7cb4-4032-9d10-e547edc1500f",
   "metadata": {},
   "outputs": [],
   "source": []
  },
  {
   "cell_type": "code",
   "execution_count": null,
   "id": "7f23cad3-70a9-4689-87c8-06a4317ef01a",
   "metadata": {},
   "outputs": [],
   "source": []
  },
  {
   "cell_type": "code",
   "execution_count": null,
   "id": "d43a4397-1394-45ca-843c-645ec92cdf80",
   "metadata": {},
   "outputs": [],
   "source": []
  },
  {
   "cell_type": "code",
   "execution_count": null,
   "id": "690361b6-4620-48d2-bce8-b157ece62e2b",
   "metadata": {},
   "outputs": [],
   "source": []
  },
  {
   "cell_type": "code",
   "execution_count": null,
   "id": "fcf8f315-e743-4d44-813f-9568b86ffb78",
   "metadata": {},
   "outputs": [],
   "source": []
  },
  {
   "cell_type": "code",
   "execution_count": null,
   "id": "fccfc63f-1c36-46ee-a465-eaf8f8cfb290",
   "metadata": {},
   "outputs": [],
   "source": []
  },
  {
   "cell_type": "code",
   "execution_count": null,
   "id": "124abe12-30a8-4dfa-9526-19b1570dbb17",
   "metadata": {},
   "outputs": [],
   "source": []
  },
  {
   "cell_type": "code",
   "execution_count": null,
   "id": "8b746aeb-22a5-4647-b54a-42e36e5450a4",
   "metadata": {},
   "outputs": [],
   "source": []
  },
  {
   "cell_type": "code",
   "execution_count": null,
   "id": "52a0f658-0d15-4b43-952d-f0b7869cb72e",
   "metadata": {},
   "outputs": [],
   "source": []
  },
  {
   "cell_type": "code",
   "execution_count": null,
   "id": "dac6f0ee-755d-4ec0-82c8-10d87bc7eaf3",
   "metadata": {},
   "outputs": [],
   "source": []
  }
 ],
 "metadata": {
  "kernelspec": {
   "display_name": "d2l",
   "language": "python",
   "name": "d2l"
  },
  "language_info": {
   "codemirror_mode": {
    "name": "ipython",
    "version": 3
   },
   "file_extension": ".py",
   "mimetype": "text/x-python",
   "name": "python",
   "nbconvert_exporter": "python",
   "pygments_lexer": "ipython3",
   "version": "3.9.16"
  },
  "toc-autonumbering": true
 },
 "nbformat": 4,
 "nbformat_minor": 5
}
