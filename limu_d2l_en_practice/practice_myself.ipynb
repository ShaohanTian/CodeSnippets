{
 "cells": [
  {
   "cell_type": "markdown",
   "id": "1cf0d6af-9d04-4065-ae5c-e0f4a8bf5120",
   "metadata": {},
   "source": [
    "## Builder‘s Guide"
   ]
  },
  {
   "cell_type": "markdown",
   "id": "88da4cbf-5046-4caf-bc02-93554d2f2513",
   "metadata": {},
   "source": [
    "### Layers and Modules"
   ]
  },
  {
   "cell_type": "markdown",
   "id": "9abe389a-04bb-4e42-bc0c-73a57f5b215a",
   "metadata": {},
   "source": [
    "- Mulitple layers are combined into modules"
   ]
  },
  {
   "cell_type": "code",
   "execution_count": 3,
   "id": "ff9e30b8-8a3a-407c-b555-d8ca8beffaa9",
   "metadata": {
    "execution": {
     "iopub.execute_input": "2023-04-27T12:01:35.067120Z",
     "iopub.status.busy": "2023-04-27T12:01:35.067120Z",
     "iopub.status.idle": "2023-04-27T12:01:35.079087Z",
     "shell.execute_reply": "2023-04-27T12:01:35.079087Z",
     "shell.execute_reply.started": "2023-04-27T12:01:35.067120Z"
    },
    "tags": []
   },
   "outputs": [],
   "source": [
    "import torch\n",
    "from torch import nn\n",
    "from torch.nn import functional as F"
   ]
  },
  {
   "cell_type": "code",
   "execution_count": null,
   "id": "de26cecc-66b1-48cd-815c-1a75de2e1f8c",
   "metadata": {},
   "outputs": [],
   "source": []
  },
  {
   "cell_type": "code",
   "execution_count": null,
   "id": "4a2019f0-90d9-4fca-af48-69b07d374e3f",
   "metadata": {},
   "outputs": [],
   "source": []
  },
  {
   "cell_type": "code",
   "execution_count": 2,
   "id": "4d1d9ced-62c8-4469-a85e-94efd18ce8aa",
   "metadata": {
    "execution": {
     "iopub.execute_input": "2023-04-27T11:56:18.842367Z",
     "iopub.status.busy": "2023-04-27T11:56:18.841371Z",
     "iopub.status.idle": "2023-04-27T11:56:18.856332Z",
     "shell.execute_reply": "2023-04-27T11:56:18.856332Z",
     "shell.execute_reply.started": "2023-04-27T11:56:18.842367Z"
    },
    "tags": []
   },
   "outputs": [
    {
     "data": {
      "text/plain": [
       "tensor([-1.0000, -0.3333,  0.3333,  1.0000])"
      ]
     },
     "execution_count": 2,
     "metadata": {},
     "output_type": "execute_result"
    }
   ],
   "source": [
    "torch.linspace(-1, 1, steps=4)"
   ]
  },
  {
   "cell_type": "code",
   "execution_count": null,
   "id": "f8ed02de-91f9-4e50-9a98-b09e98004d41",
   "metadata": {},
   "outputs": [],
   "source": []
  },
  {
   "cell_type": "code",
   "execution_count": 3,
   "id": "f562e7dc-fd00-40c6-8c4c-748d62a31f23",
   "metadata": {
    "execution": {
     "iopub.execute_input": "2023-04-27T11:56:18.858326Z",
     "iopub.status.busy": "2023-04-27T11:56:18.857328Z",
     "iopub.status.idle": "2023-04-27T11:56:18.872288Z",
     "shell.execute_reply": "2023-04-27T11:56:18.872288Z",
     "shell.execute_reply.started": "2023-04-27T11:56:18.858326Z"
    },
    "tags": []
   },
   "outputs": [
    {
     "name": "stderr",
     "output_type": "stream",
     "text": [
      "C:\\Users\\shaohan.tian\\scoop\\apps\\miniconda3\\current\\envs\\automl\\lib\\site-packages\\torch\\nn\\modules\\lazy.py:178: UserWarning: Lazy modules are a new feature under heavy development so changes to the API or functionality can happen at any moment.\n",
      "  warnings.warn('Lazy modules are a new feature under heavy development '\n"
     ]
    },
    {
     "data": {
      "text/plain": [
       "torch.Size([2, 10])"
      ]
     },
     "execution_count": 3,
     "metadata": {},
     "output_type": "execute_result"
    }
   ],
   "source": [
    "net = nn.Sequential(nn.LazyLinear(256), nn.ReLU(), nn.LazyLinear(10))\n",
    "\n",
    "X = torch.rand((2, 10))\n",
    "net(X).shape"
   ]
  },
  {
   "cell_type": "code",
   "execution_count": null,
   "id": "f8b4df57-1e54-40da-81bf-02fe92939a49",
   "metadata": {},
   "outputs": [],
   "source": []
  },
  {
   "cell_type": "markdown",
   "id": "2cf60cda-f49a-479e-878f-51e3d5504d99",
   "metadata": {},
   "source": [
    "#### A Custom Module"
   ]
  },
  {
   "cell_type": "code",
   "execution_count": 4,
   "id": "353262c2-ee95-4212-81e7-6323b7d35c2b",
   "metadata": {
    "execution": {
     "iopub.execute_input": "2023-04-27T11:56:18.874283Z",
     "iopub.status.busy": "2023-04-27T11:56:18.874283Z",
     "iopub.status.idle": "2023-04-27T11:56:18.888246Z",
     "shell.execute_reply": "2023-04-27T11:56:18.888246Z",
     "shell.execute_reply.started": "2023-04-27T11:56:18.874283Z"
    },
    "tags": []
   },
   "outputs": [
    {
     "data": {
      "text/plain": [
       "torch.Size([2, 10])"
      ]
     },
     "execution_count": 4,
     "metadata": {},
     "output_type": "execute_result"
    }
   ],
   "source": [
    "class MLP(nn.Module):\n",
    "    def __init__(self):\n",
    "        super().__init__()\n",
    "        self.hidden = nn.LazyLinear(256)\n",
    "        self.out = nn.LazyLinear(10)\n",
    "    def forward(self, X):\n",
    "        return self.out(F.relu(self.hidden(X)))\n",
    "net = MLP()\n",
    "net(X).shape"
   ]
  },
  {
   "cell_type": "code",
   "execution_count": 5,
   "id": "196d420a-edcb-4dd9-8486-5dc1a9130dce",
   "metadata": {
    "execution": {
     "iopub.execute_input": "2023-04-27T11:56:18.889243Z",
     "iopub.status.busy": "2023-04-27T11:56:18.889243Z",
     "iopub.status.idle": "2023-04-27T11:56:18.904203Z",
     "shell.execute_reply": "2023-04-27T11:56:18.904203Z",
     "shell.execute_reply.started": "2023-04-27T11:56:18.889243Z"
    },
    "tags": []
   },
   "outputs": [
    {
     "data": {
      "text/plain": [
       "MLP(\n",
       "  (hidden): Linear(in_features=10, out_features=256, bias=True)\n",
       "  (out): Linear(in_features=256, out_features=10, bias=True)\n",
       ")"
      ]
     },
     "execution_count": 5,
     "metadata": {},
     "output_type": "execute_result"
    }
   ],
   "source": [
    "net"
   ]
  },
  {
   "cell_type": "code",
   "execution_count": 6,
   "id": "24d09354-885f-4979-a9ae-2f80ac9084b4",
   "metadata": {
    "execution": {
     "iopub.execute_input": "2023-04-27T11:56:18.905201Z",
     "iopub.status.busy": "2023-04-27T11:56:18.905201Z",
     "iopub.status.idle": "2023-04-27T11:56:18.919163Z",
     "shell.execute_reply": "2023-04-27T11:56:18.919163Z",
     "shell.execute_reply.started": "2023-04-27T11:56:18.905201Z"
    },
    "tags": []
   },
   "outputs": [
    {
     "data": {
      "text/plain": [
       "4"
      ]
     },
     "execution_count": 6,
     "metadata": {},
     "output_type": "execute_result"
    }
   ],
   "source": [
    "len(net.state_dict())"
   ]
  },
  {
   "cell_type": "code",
   "execution_count": 7,
   "id": "26672f04-c0a0-4e74-b968-e516ec3a680b",
   "metadata": {
    "execution": {
     "iopub.execute_input": "2023-04-27T11:56:18.921158Z",
     "iopub.status.busy": "2023-04-27T11:56:18.920160Z",
     "iopub.status.idle": "2023-04-27T11:56:18.935120Z",
     "shell.execute_reply": "2023-04-27T11:56:18.935120Z",
     "shell.execute_reply.started": "2023-04-27T11:56:18.921158Z"
    },
    "tags": []
   },
   "outputs": [
    {
     "data": {
      "text/plain": [
       "OrderedDict([('hidden.weight',\n",
       "              tensor([[-0.0358,  0.2286, -0.0150,  ..., -0.1135, -0.1324, -0.2940],\n",
       "                      [-0.2464, -0.3121, -0.1574,  ..., -0.1528, -0.2828, -0.2669],\n",
       "                      [-0.0987,  0.3077,  0.0733,  ..., -0.0557, -0.0490,  0.1157],\n",
       "                      ...,\n",
       "                      [ 0.0028, -0.0786, -0.1766,  ..., -0.2333,  0.2971,  0.2376],\n",
       "                      [ 0.2514,  0.1688,  0.2754,  ...,  0.0757, -0.0635, -0.2837],\n",
       "                      [ 0.1652,  0.2226,  0.1951,  ...,  0.2560,  0.1896,  0.2870]])),\n",
       "             ('hidden.bias',\n",
       "              tensor([-0.2673, -0.2728, -0.1025, -0.2329,  0.1333, -0.0797,  0.0279,  0.1653,\n",
       "                      -0.0537,  0.0195, -0.2759,  0.0578, -0.1973,  0.2410,  0.1599,  0.0004,\n",
       "                       0.1304, -0.0534,  0.3011,  0.3027, -0.1651,  0.2628,  0.2966, -0.2835,\n",
       "                      -0.1548, -0.1457,  0.1050,  0.2067,  0.0460,  0.1584,  0.0276, -0.0597,\n",
       "                      -0.2992, -0.0974,  0.1288, -0.2041,  0.2730, -0.2470, -0.1782,  0.1391,\n",
       "                       0.1908,  0.1644,  0.0221,  0.0550,  0.0571, -0.0765, -0.0800, -0.0841,\n",
       "                       0.0837,  0.2282, -0.2552,  0.0387, -0.3034, -0.2175,  0.0514,  0.1567,\n",
       "                      -0.1118,  0.0247, -0.1648,  0.0973, -0.2405,  0.0492, -0.1188,  0.2943,\n",
       "                      -0.0988, -0.1241,  0.0329, -0.1540,  0.1380, -0.2184,  0.0493,  0.2802,\n",
       "                      -0.2900,  0.0959, -0.0019, -0.1917, -0.0752,  0.0890,  0.1493,  0.0213,\n",
       "                       0.0714,  0.2983, -0.0436,  0.2742, -0.0032, -0.1620, -0.2105,  0.0615,\n",
       "                       0.0456, -0.2383, -0.2742, -0.2483, -0.1782, -0.2802, -0.1341, -0.1905,\n",
       "                       0.0871, -0.0704, -0.2489,  0.0279, -0.2328,  0.1168, -0.2327, -0.0470,\n",
       "                      -0.2478,  0.1256, -0.2300,  0.0006, -0.3068,  0.2434,  0.3133, -0.0143,\n",
       "                       0.1047, -0.0346, -0.0276,  0.2293,  0.2939,  0.0292,  0.2004, -0.2129,\n",
       "                      -0.1358,  0.0849, -0.1082, -0.1242, -0.0567,  0.0134,  0.2292, -0.0744,\n",
       "                      -0.1258,  0.1473,  0.2584,  0.2805,  0.1093,  0.1947, -0.1386, -0.2894,\n",
       "                       0.0883,  0.2732,  0.1699,  0.0870,  0.2337, -0.1399,  0.2548,  0.2376,\n",
       "                      -0.2617, -0.2789, -0.2244,  0.1364,  0.2852,  0.1177,  0.1832,  0.1188,\n",
       "                      -0.3029, -0.1182,  0.0058,  0.1386,  0.3119,  0.1617, -0.1337, -0.2362,\n",
       "                       0.2152,  0.1915, -0.2375,  0.1127,  0.1352,  0.1112, -0.1619,  0.2514,\n",
       "                      -0.1765,  0.1084, -0.1142,  0.1016,  0.0952, -0.0199,  0.0416, -0.0102,\n",
       "                      -0.0329, -0.0942,  0.0931,  0.1927, -0.1725, -0.0555, -0.3150, -0.1407,\n",
       "                       0.0029,  0.1016,  0.3108,  0.3052, -0.1188, -0.0682, -0.1250,  0.0260,\n",
       "                      -0.1138, -0.2245, -0.2583,  0.3159, -0.0323,  0.2082,  0.2554,  0.1920,\n",
       "                      -0.2264,  0.2119, -0.1737,  0.1875,  0.1534, -0.0279, -0.0624,  0.1605,\n",
       "                       0.2267, -0.2220, -0.0238,  0.2384, -0.1840,  0.2810, -0.0757,  0.2939,\n",
       "                      -0.1291, -0.1672, -0.0908, -0.3071, -0.1455, -0.2430, -0.2544,  0.0060,\n",
       "                      -0.0312,  0.0265, -0.0438,  0.1355,  0.2166,  0.0289,  0.0516,  0.2690,\n",
       "                      -0.0484,  0.1981,  0.0963,  0.0650, -0.1303, -0.0699,  0.0289, -0.1861,\n",
       "                       0.2213, -0.1892, -0.0334, -0.0833, -0.1031, -0.1295,  0.2103, -0.2041,\n",
       "                       0.0932, -0.2066,  0.1228, -0.0802,  0.2935,  0.1251, -0.2993, -0.3013])),\n",
       "             ('out.weight',\n",
       "              tensor([[ 0.0214,  0.0210,  0.0537,  ..., -0.0006, -0.0525,  0.0209],\n",
       "                      [-0.0457, -0.0497, -0.0023,  ..., -0.0151, -0.0164, -0.0189],\n",
       "                      [-0.0451,  0.0340, -0.0008,  ..., -0.0423, -0.0450, -0.0226],\n",
       "                      ...,\n",
       "                      [-0.0278,  0.0616, -0.0067,  ..., -0.0136, -0.0609,  0.0543],\n",
       "                      [-0.0253,  0.0584, -0.0171,  ...,  0.0593, -0.0462,  0.0470],\n",
       "                      [ 0.0150,  0.0030, -0.0323,  ...,  0.0343, -0.0522,  0.0543]])),\n",
       "             ('out.bias',\n",
       "              tensor([-3.1019e-02, -4.3691e-02,  5.6358e-02, -8.2105e-05, -1.0348e-02,\n",
       "                      -3.4454e-02, -7.6278e-04,  1.1938e-02, -6.5862e-03,  4.1733e-02]))])"
      ]
     },
     "execution_count": 7,
     "metadata": {},
     "output_type": "execute_result"
    }
   ],
   "source": [
    "net.state_dict()"
   ]
  },
  {
   "cell_type": "code",
   "execution_count": null,
   "id": "989b8b35-6b00-480b-93bf-1fa443a16070",
   "metadata": {},
   "outputs": [],
   "source": []
  },
  {
   "cell_type": "markdown",
   "id": "0e3206b2-a8ea-4164-96d4-8435e0c883e7",
   "metadata": {},
   "source": [
    "#### The Sequential Module"
   ]
  },
  {
   "cell_type": "markdown",
   "id": "0fd5b937-8a4a-43a9-bf31-9a279ca4d7b3",
   "metadata": {},
   "source": [
    "- A method to append modules one by one to a list\n",
    "- A forward propagation method to pass an input through the chain of modules, in the same order as they were appended"
   ]
  },
  {
   "cell_type": "code",
   "execution_count": 8,
   "id": "7053070e-f8e7-42c7-93b9-1d1f11dff1e9",
   "metadata": {
    "execution": {
     "iopub.execute_input": "2023-04-27T11:56:18.936118Z",
     "iopub.status.busy": "2023-04-27T11:56:18.936118Z",
     "iopub.status.idle": "2023-04-27T11:56:18.951077Z",
     "shell.execute_reply": "2023-04-27T11:56:18.951077Z",
     "shell.execute_reply.started": "2023-04-27T11:56:18.936118Z"
    },
    "tags": []
   },
   "outputs": [],
   "source": [
    "# using \"childrne\" class to access added modules\n",
    "\n",
    "class MySequential(nn.Module):\n",
    "    def __init__(self, *args):\n",
    "        super().__init__()\n",
    "        for idx, moduels in enumerate(args):\n",
    "            self.add_module('l' + str(idx), moduels)\n",
    "    def forward(self, X):\n",
    "        for module in self.children():\n",
    "            X = module(X)\n",
    "        return X"
   ]
  },
  {
   "cell_type": "code",
   "execution_count": null,
   "id": "073f67d8-ea65-445a-b0fa-ad527875ea20",
   "metadata": {},
   "outputs": [],
   "source": []
  },
  {
   "cell_type": "code",
   "execution_count": 9,
   "id": "e48238ca-8d38-4a9d-99ce-0eab6c7ff4c3",
   "metadata": {
    "execution": {
     "iopub.execute_input": "2023-04-27T11:56:18.952075Z",
     "iopub.status.busy": "2023-04-27T11:56:18.952075Z",
     "iopub.status.idle": "2023-04-27T11:56:18.968032Z",
     "shell.execute_reply": "2023-04-27T11:56:18.967034Z",
     "shell.execute_reply.started": "2023-04-27T11:56:18.952075Z"
    },
    "tags": []
   },
   "outputs": [
    {
     "data": {
      "text/plain": [
       "torch.Size([2, 10])"
      ]
     },
     "execution_count": 9,
     "metadata": {},
     "output_type": "execute_result"
    }
   ],
   "source": [
    "net = MySequential(nn.LazyLinear(256),nn.LazyLinear(256), nn.ReLU(), nn.LazyLinear(10))\n",
    "net(X).shape"
   ]
  },
  {
   "cell_type": "code",
   "execution_count": 10,
   "id": "d7bbffc6-571e-410f-b4ca-d1414218845a",
   "metadata": {
    "execution": {
     "iopub.execute_input": "2023-04-27T11:56:18.972021Z",
     "iopub.status.busy": "2023-04-27T11:56:18.971024Z",
     "iopub.status.idle": "2023-04-27T11:56:18.983990Z",
     "shell.execute_reply": "2023-04-27T11:56:18.982992Z",
     "shell.execute_reply.started": "2023-04-27T11:56:18.972021Z"
    }
   },
   "outputs": [
    {
     "data": {
      "text/plain": [
       "MySequential(\n",
       "  (l0): Linear(in_features=10, out_features=256, bias=True)\n",
       "  (l1): Linear(in_features=256, out_features=256, bias=True)\n",
       "  (l2): ReLU()\n",
       "  (l3): Linear(in_features=256, out_features=10, bias=True)\n",
       ")"
      ]
     },
     "execution_count": 10,
     "metadata": {},
     "output_type": "execute_result"
    }
   ],
   "source": [
    "net"
   ]
  },
  {
   "cell_type": "code",
   "execution_count": 11,
   "id": "5d66decc-ac4c-42cb-835a-8af7a0056014",
   "metadata": {
    "execution": {
     "iopub.execute_input": "2023-04-27T11:56:18.984987Z",
     "iopub.status.busy": "2023-04-27T11:56:18.983990Z",
     "iopub.status.idle": "2023-04-27T11:56:18.997953Z",
     "shell.execute_reply": "2023-04-27T11:56:18.997953Z",
     "shell.execute_reply.started": "2023-04-27T11:56:18.984987Z"
    },
    "tags": []
   },
   "outputs": [
    {
     "data": {
      "text/plain": [
       "Linear(in_features=10, out_features=256, bias=True)"
      ]
     },
     "execution_count": 11,
     "metadata": {},
     "output_type": "execute_result"
    }
   ],
   "source": [
    "net.l0"
   ]
  },
  {
   "cell_type": "markdown",
   "id": "20fd8358-dd85-483f-b1db-f011ef2fbae9",
   "metadata": {},
   "source": [
    "#### Executing Code in the Forward Propagation Method"
   ]
  },
  {
   "cell_type": "markdown",
   "id": "8d646d1e-2ecd-46fc-9706-3db9be9e7ac4",
   "metadata": {},
   "source": [
    "- Perform arbitrary matchmatical operations, not simpely relying on predifned NNs\n",
    "- sharing one linear layer and add some mathmatical operaitons"
   ]
  },
  {
   "cell_type": "code",
   "execution_count": 12,
   "id": "1fd6c1ca-b627-425a-b11f-fcbfd1b3ccf9",
   "metadata": {
    "execution": {
     "iopub.execute_input": "2023-04-27T11:56:18.998949Z",
     "iopub.status.busy": "2023-04-27T11:56:18.998949Z",
     "iopub.status.idle": "2023-04-27T11:56:19.013942Z",
     "shell.execute_reply": "2023-04-27T11:56:19.012912Z",
     "shell.execute_reply.started": "2023-04-27T11:56:18.998949Z"
    },
    "tags": []
   },
   "outputs": [],
   "source": [
    "class FixedHiddenMLP(nn.Module):\n",
    "    def __init__(self):\n",
    "        super().__init__()\n",
    "        # Random weight parameters that will not compute gradients and\n",
    "        # therefore keep constant during training\n",
    "        self.rand_weight = torch.rand((20, 20))\n",
    "        self.linear = nn.LazyLinear(20)\n",
    "    def forward(self, X):\n",
    "        X = self.linear(X)\n",
    "        X = F.relu(X @ self.rand_weight + 1)\n",
    "        # Reuse the fully connected layer. This is equivalent to sharing\n",
    "        # parameters with two fully connected layers\n",
    "        X = self.linear(X)\n",
    "        # Control flow\n",
    "        while X.abs().sum() > 1:\n",
    "            X /= 2\n",
    "        return X.sum()"
   ]
  },
  {
   "cell_type": "code",
   "execution_count": 13,
   "id": "1e80ce96-faa7-477d-bfba-8b8f64d2fe34",
   "metadata": {
    "execution": {
     "iopub.execute_input": "2023-04-27T11:56:19.014907Z",
     "iopub.status.busy": "2023-04-27T11:56:19.014907Z",
     "iopub.status.idle": "2023-04-27T11:56:19.029866Z",
     "shell.execute_reply": "2023-04-27T11:56:19.028868Z",
     "shell.execute_reply.started": "2023-04-27T11:56:19.014907Z"
    },
    "tags": []
   },
   "outputs": [
    {
     "data": {
      "text/plain": [
       "tensor(-0.0563, grad_fn=<SumBackward0>)"
      ]
     },
     "execution_count": 13,
     "metadata": {},
     "output_type": "execute_result"
    }
   ],
   "source": [
    "X = torch.arange(40.0).reshape(2, 20)\n",
    "net = FixedHiddenMLP()\n",
    "net(X)"
   ]
  },
  {
   "cell_type": "code",
   "execution_count": 14,
   "id": "d3274d85-5981-4ffc-bca6-d966f655651e",
   "metadata": {
    "execution": {
     "iopub.execute_input": "2023-04-27T11:56:19.030864Z",
     "iopub.status.busy": "2023-04-27T11:56:19.029866Z",
     "iopub.status.idle": "2023-04-27T11:56:19.044826Z",
     "shell.execute_reply": "2023-04-27T11:56:19.044826Z",
     "shell.execute_reply.started": "2023-04-27T11:56:19.030864Z"
    },
    "tags": []
   },
   "outputs": [
    {
     "data": {
      "text/plain": [
       "tensor(-0.1169, grad_fn=<SumBackward0>)"
      ]
     },
     "execution_count": 14,
     "metadata": {},
     "output_type": "execute_result"
    }
   ],
   "source": [
    "# mixing various modules together\n",
    "class NestMlp(nn.Module):\n",
    "    def __init__(self):\n",
    "        super().__init__()\n",
    "        self.net = nn.Sequential(nn.LazyLinear(20), nn.ReLU(),\n",
    "                                nn.LazyLinear(50), nn.ReLU())\n",
    "        self.linear = nn.LazyLinear(60)\n",
    "    def forward(self, X):\n",
    "        return self.linear(self.net(X))\n",
    "    \n",
    "chimera = nn.Sequential(NestMlp(), nn.LazyLinear(20), FixedHiddenMLP())\n",
    "chimera(X)"
   ]
  },
  {
   "cell_type": "code",
   "execution_count": 15,
   "id": "4b025c74-3495-4923-9a7a-85490cf258eb",
   "metadata": {
    "execution": {
     "iopub.execute_input": "2023-04-27T11:56:19.045825Z",
     "iopub.status.busy": "2023-04-27T11:56:19.045825Z",
     "iopub.status.idle": "2023-04-27T11:56:19.060783Z",
     "shell.execute_reply": "2023-04-27T11:56:19.059786Z",
     "shell.execute_reply.started": "2023-04-27T11:56:19.045825Z"
    },
    "tags": []
   },
   "outputs": [
    {
     "data": {
      "text/plain": [
       "Sequential(\n",
       "  (0): NestMlp(\n",
       "    (net): Sequential(\n",
       "      (0): Linear(in_features=20, out_features=20, bias=True)\n",
       "      (1): ReLU()\n",
       "      (2): Linear(in_features=20, out_features=50, bias=True)\n",
       "      (3): ReLU()\n",
       "    )\n",
       "    (linear): Linear(in_features=50, out_features=60, bias=True)\n",
       "  )\n",
       "  (1): Linear(in_features=60, out_features=20, bias=True)\n",
       "  (2): FixedHiddenMLP(\n",
       "    (linear): Linear(in_features=20, out_features=20, bias=True)\n",
       "  )\n",
       ")"
      ]
     },
     "execution_count": 15,
     "metadata": {},
     "output_type": "execute_result"
    }
   ],
   "source": [
    "chimera"
   ]
  },
  {
   "cell_type": "markdown",
   "id": "d6988ef4-9518-4722-9943-3ed8067f2fd4",
   "metadata": {},
   "source": [
    "#### Summary"
   ]
  },
  {
   "cell_type": "markdown",
   "id": "cedc82ad-787b-4589-a69a-8575fbcc2909",
   "metadata": {},
   "source": [
    "- Layers are modules. Many layers can comprise a module. Many modules can comprise a module.  \n",
    "- A module can contain code. Modules take care of lots of housekeeping, including parameter initialization and backpropagation. Sequential concatenations of layers and modules are handled by the Sequential module"
   ]
  },
  {
   "cell_type": "markdown",
   "id": "5faf3518-4c96-4587-b2cb-711e6e389dc4",
   "metadata": {
    "execution": {
     "iopub.execute_input": "2023-04-19T05:42:19.267973Z",
     "iopub.status.busy": "2023-04-19T05:42:19.267973Z",
     "iopub.status.idle": "2023-04-19T05:42:19.278944Z",
     "shell.execute_reply": "2023-04-19T05:42:19.278944Z",
     "shell.execute_reply.started": "2023-04-19T05:42:19.267973Z"
    }
   },
   "source": [
    "#### Exerises"
   ]
  },
  {
   "cell_type": "markdown",
   "id": "8f97f456-c4fd-4b8d-9d1a-77a3b2ef02d7",
   "metadata": {},
   "source": [
    "1. What kinds of problems will occur if you change MySequential to store modules in a Python list?"
   ]
  },
  {
   "cell_type": "code",
   "execution_count": 16,
   "id": "9e4e83ab-d7a4-42af-af1b-6f044cbaa83e",
   "metadata": {
    "execution": {
     "iopub.execute_input": "2023-04-27T11:56:19.061781Z",
     "iopub.status.busy": "2023-04-27T11:56:19.061781Z",
     "iopub.status.idle": "2023-04-27T11:56:19.075743Z",
     "shell.execute_reply": "2023-04-27T11:56:19.075743Z",
     "shell.execute_reply.started": "2023-04-27T11:56:19.061781Z"
    },
    "tags": []
   },
   "outputs": [
    {
     "data": {
      "text/plain": [
       "MySequentialExe()"
      ]
     },
     "execution_count": 16,
     "metadata": {},
     "output_type": "execute_result"
    }
   ],
   "source": [
    "class MySequentialExe(nn.Module):\n",
    "    def __init__(self, *args):\n",
    "        super().__init__()\n",
    "\n",
    "        self.layers = []\n",
    "        for idx, layer in enumerate(args): # convert module inputs to list\n",
    "            self.layers.append(layer)\n",
    "\n",
    "    def forward(self, X):\n",
    "        for block in self.layers:\n",
    "            X = block(X)\n",
    "        return X\n",
    "\n",
    "x = torch.rand(size=(2, 10))\n",
    "net = MySequentialExe(nn.LazyLinear(8), nn.LazyLinear(4), nn.LazyLinear(1))\n",
    "net"
   ]
  },
  {
   "cell_type": "code",
   "execution_count": 17,
   "id": "47ff6844-6cf9-49e0-99e8-caf381aa3a0a",
   "metadata": {
    "execution": {
     "iopub.execute_input": "2023-04-27T11:56:19.077739Z",
     "iopub.status.busy": "2023-04-27T11:56:19.076743Z",
     "iopub.status.idle": "2023-04-27T11:56:19.091702Z",
     "shell.execute_reply": "2023-04-27T11:56:19.091702Z",
     "shell.execute_reply.started": "2023-04-27T11:56:19.077739Z"
    },
    "tags": []
   },
   "outputs": [
    {
     "data": {
      "text/plain": [
       "tensor([[0.5252],\n",
       "        [0.5746]], grad_fn=<AddmmBackward0>)"
      ]
     },
     "execution_count": 17,
     "metadata": {},
     "output_type": "execute_result"
    }
   ],
   "source": [
    "net(x)"
   ]
  },
  {
   "cell_type": "code",
   "execution_count": 18,
   "id": "0b5601b7-d77e-4256-8c67-1fdd134ff9cf",
   "metadata": {
    "execution": {
     "iopub.execute_input": "2023-04-27T11:56:19.093696Z",
     "iopub.status.busy": "2023-04-27T11:56:19.092699Z",
     "iopub.status.idle": "2023-04-27T11:56:19.107658Z",
     "shell.execute_reply": "2023-04-27T11:56:19.107658Z",
     "shell.execute_reply.started": "2023-04-27T11:56:19.093696Z"
    },
    "tags": []
   },
   "outputs": [
    {
     "data": {
      "text/plain": [
       "OrderedDict()"
      ]
     },
     "execution_count": 18,
     "metadata": {},
     "output_type": "execute_result"
    }
   ],
   "source": [
    "net.state_dict()"
   ]
  },
  {
   "cell_type": "code",
   "execution_count": null,
   "id": "375e8b19-911d-4589-9548-77f2786811bc",
   "metadata": {},
   "outputs": [],
   "source": []
  },
  {
   "cell_type": "markdown",
   "id": "b0be287e-bada-40cc-b4ca-f18ca6ee97e2",
   "metadata": {},
   "source": [
    "2. Implement a module that takes two modules as an argument, say net1 and net2 and returns the concatenated output of both networks in the forward propagation. This is also called a **parallel module**."
   ]
  },
  {
   "cell_type": "code",
   "execution_count": null,
   "id": "6c3206b0-d8ce-4c9f-81b1-cf759b45baaa",
   "metadata": {},
   "outputs": [],
   "source": []
  },
  {
   "cell_type": "code",
   "execution_count": null,
   "id": "3c916995-74d7-4743-9c74-a2b5229b602c",
   "metadata": {},
   "outputs": [],
   "source": []
  },
  {
   "cell_type": "markdown",
   "id": "173ac718-c50a-4941-80ec-3c3b4b308fb7",
   "metadata": {},
   "source": [
    "3. Assume that you want to concatenate multiple instances of the same network. Implement a factory function that generates multiple instances of the same module and build a larger network from it."
   ]
  },
  {
   "cell_type": "code",
   "execution_count": null,
   "id": "e4139326-1b98-46d0-9d9f-41c85921b394",
   "metadata": {},
   "outputs": [],
   "source": []
  },
  {
   "cell_type": "code",
   "execution_count": null,
   "id": "6ba73d9e-fcb2-42a4-a098-5d2ad51b4cb0",
   "metadata": {},
   "outputs": [],
   "source": []
  },
  {
   "cell_type": "code",
   "execution_count": null,
   "id": "56fcfa03-1e39-4d10-9c14-858f2003b07f",
   "metadata": {},
   "outputs": [],
   "source": []
  },
  {
   "cell_type": "code",
   "execution_count": null,
   "id": "b8557da7-22c0-4424-a1ad-75b473279f84",
   "metadata": {},
   "outputs": [],
   "source": []
  },
  {
   "cell_type": "markdown",
   "id": "72a5c3bc-9fb0-4fc5-b02f-1eca295701df",
   "metadata": {},
   "source": [
    "### Parameter Management"
   ]
  },
  {
   "cell_type": "markdown",
   "id": "40276055-dac9-415c-be6b-b47a79c853d1",
   "metadata": {},
   "source": [
    "- Accessing parameters for debugging, diagnostic, and visualizations\n",
    "- Sharing parameters across different model components."
   ]
  },
  {
   "cell_type": "code",
   "execution_count": 19,
   "id": "42ae65d0-5aa0-41c7-9bfd-71e92c4cb92a",
   "metadata": {
    "execution": {
     "iopub.execute_input": "2023-04-27T11:56:19.109655Z",
     "iopub.status.busy": "2023-04-27T11:56:19.108658Z",
     "iopub.status.idle": "2023-04-27T11:56:19.122618Z",
     "shell.execute_reply": "2023-04-27T11:56:19.122618Z",
     "shell.execute_reply.started": "2023-04-27T11:56:19.109655Z"
    }
   },
   "outputs": [],
   "source": [
    "import torch\n",
    "from torch import nn"
   ]
  },
  {
   "cell_type": "code",
   "execution_count": 20,
   "id": "44b1bf5f-6aad-411d-85b3-8e4d1163a8d5",
   "metadata": {
    "execution": {
     "iopub.execute_input": "2023-04-27T11:56:19.123617Z",
     "iopub.status.busy": "2023-04-27T11:56:19.123617Z",
     "iopub.status.idle": "2023-04-27T11:56:19.138575Z",
     "shell.execute_reply": "2023-04-27T11:56:19.138575Z",
     "shell.execute_reply.started": "2023-04-27T11:56:19.123617Z"
    }
   },
   "outputs": [
    {
     "data": {
      "text/plain": [
       "tensor([[0.0726],\n",
       "        [0.1088]], grad_fn=<AddmmBackward0>)"
      ]
     },
     "execution_count": 20,
     "metadata": {},
     "output_type": "execute_result"
    }
   ],
   "source": [
    "net = nn.Sequential(nn.LazyLinear(8),\n",
    "                    nn.ReLU(),\n",
    "                    nn.LazyLinear(1))\n",
    "X = torch.rand(size=(2, 4))\n",
    "net(X)"
   ]
  },
  {
   "cell_type": "code",
   "execution_count": 21,
   "id": "154dc6a5-a348-4fe1-a876-a53e4e7bb9bb",
   "metadata": {
    "execution": {
     "iopub.execute_input": "2023-04-27T11:56:19.140571Z",
     "iopub.status.busy": "2023-04-27T11:56:19.139574Z",
     "iopub.status.idle": "2023-04-27T11:56:19.155530Z",
     "shell.execute_reply": "2023-04-27T11:56:19.153537Z",
     "shell.execute_reply.started": "2023-04-27T11:56:19.140571Z"
    },
    "tags": []
   },
   "outputs": [
    {
     "ename": "SyntaxError",
     "evalue": "invalid syntax (696132364.py, line 1)",
     "output_type": "error",
     "traceback": [
      "\u001b[1;36m  Cell \u001b[1;32mIn[21], line 1\u001b[1;36m\u001b[0m\n\u001b[1;33m    2.tolist()\u001b[0m\n\u001b[1;37m      ^\u001b[0m\n\u001b[1;31mSyntaxError\u001b[0m\u001b[1;31m:\u001b[0m invalid syntax\n"
     ]
    }
   ],
   "source": [
    "2.tolist()"
   ]
  },
  {
   "cell_type": "markdown",
   "id": "fa2b92b7-3584-46ec-ba01-8e05ef87a28c",
   "metadata": {},
   "source": [
    "#### Parameter access"
   ]
  },
  {
   "cell_type": "code",
   "execution_count": null,
   "id": "add1b8c6-af55-430c-b5bd-45a5b4b49d06",
   "metadata": {
    "execution": {
     "iopub.status.busy": "2023-04-27T11:56:19.156528Z",
     "iopub.status.idle": "2023-04-27T11:56:19.156528Z",
     "shell.execute_reply": "2023-04-27T11:56:19.156528Z",
     "shell.execute_reply.started": "2023-04-27T11:56:19.156528Z"
    }
   },
   "outputs": [],
   "source": [
    "net[2].state_dict()"
   ]
  },
  {
   "cell_type": "code",
   "execution_count": null,
   "id": "eb559030-fbf1-4208-b8cd-46bc209dc362",
   "metadata": {
    "execution": {
     "iopub.status.busy": "2023-04-27T11:56:19.157527Z",
     "iopub.status.idle": "2023-04-27T11:56:19.157527Z",
     "shell.execute_reply": "2023-04-27T11:56:19.157527Z",
     "shell.execute_reply.started": "2023-04-27T11:56:19.157527Z"
    },
    "tags": []
   },
   "outputs": [],
   "source": [
    "type(net[2].bias), net[2].bias.data"
   ]
  },
  {
   "cell_type": "code",
   "execution_count": null,
   "id": "1e1b946c-1ae2-4c73-82e6-669c4fef7f17",
   "metadata": {
    "execution": {
     "iopub.status.busy": "2023-04-27T11:56:19.158523Z",
     "iopub.status.idle": "2023-04-27T11:56:19.158523Z",
     "shell.execute_reply": "2023-04-27T11:56:19.158523Z",
     "shell.execute_reply.started": "2023-04-27T11:56:19.158523Z"
    },
    "tags": []
   },
   "outputs": [],
   "source": [
    "# we have not invoked backprogation for this NN\n",
    "net[2].weight.grad == None"
   ]
  },
  {
   "cell_type": "code",
   "execution_count": null,
   "id": "e48bab8e-82a9-4dd4-b981-ad222d8d2995",
   "metadata": {
    "execution": {
     "iopub.status.busy": "2023-04-27T11:56:19.159520Z",
     "iopub.status.idle": "2023-04-27T11:56:19.159520Z",
     "shell.execute_reply": "2023-04-27T11:56:19.159520Z",
     "shell.execute_reply.started": "2023-04-27T11:56:19.159520Z"
    },
    "tags": []
   },
   "outputs": [],
   "source": [
    "# all parameters\n",
    "[(name, param.shape) for name, param in net.named_parameters()]"
   ]
  },
  {
   "cell_type": "markdown",
   "id": "15a7d747-67de-46c0-ab27-0b860f3346c2",
   "metadata": {},
   "source": [
    "#### Tied parameters"
   ]
  },
  {
   "cell_type": "code",
   "execution_count": null,
   "id": "0444d78e-fc36-4792-8df3-e277e58bd6ab",
   "metadata": {
    "execution": {
     "iopub.status.busy": "2023-04-27T11:56:19.160518Z",
     "iopub.status.idle": "2023-04-27T11:56:19.160518Z",
     "shell.execute_reply": "2023-04-27T11:56:19.160518Z",
     "shell.execute_reply.started": "2023-04-27T11:56:19.160518Z"
    },
    "tags": []
   },
   "outputs": [],
   "source": [
    "# we need to give a shared layer a name so that we can refer to\n",
    "# its  parameters\n",
    "shared = nn.LazyLinear(8)\n",
    "net = nn.Sequential(nn.LazyLinear(8), nn.ReLU(),\n",
    "                    shared, nn.ReLU(),\n",
    "                    shared, nn.ReLU(),\n",
    "                    nn.LazyLinear(1))\n",
    "net(X)"
   ]
  },
  {
   "cell_type": "code",
   "execution_count": null,
   "id": "f48f0cfe-413d-468a-99bc-51549c12ea0a",
   "metadata": {
    "execution": {
     "iopub.status.busy": "2023-04-27T11:56:19.161516Z",
     "iopub.status.idle": "2023-04-27T11:56:19.161516Z",
     "shell.execute_reply": "2023-04-27T11:56:19.161516Z",
     "shell.execute_reply.started": "2023-04-27T11:56:19.161516Z"
    }
   },
   "outputs": [],
   "source": [
    "net"
   ]
  },
  {
   "cell_type": "code",
   "execution_count": null,
   "id": "bb2ac92f-6b80-488c-9f66-6acc0f6ff404",
   "metadata": {
    "execution": {
     "iopub.status.busy": "2023-04-27T11:56:19.162512Z",
     "iopub.status.idle": "2023-04-27T11:56:19.162512Z",
     "shell.execute_reply": "2023-04-27T11:56:19.162512Z",
     "shell.execute_reply.started": "2023-04-27T11:56:19.162512Z"
    }
   },
   "outputs": [],
   "source": [
    "net[2].weight.data == net[4].weight.data"
   ]
  },
  {
   "cell_type": "code",
   "execution_count": null,
   "id": "f75a11da-7e56-42af-9256-d7ad2c30ceb7",
   "metadata": {
    "execution": {
     "iopub.status.busy": "2023-04-27T11:56:19.162512Z",
     "iopub.status.idle": "2023-04-27T11:56:19.163509Z",
     "shell.execute_reply": "2023-04-27T11:56:19.163509Z",
     "shell.execute_reply.started": "2023-04-27T11:56:19.163509Z"
    },
    "tags": []
   },
   "outputs": [],
   "source": [
    "# modify one of the parameters and keep still\n",
    "net[2].weight.data[0, 0] = 100\n",
    "net[2].weight.data == net[4].weight.data"
   ]
  },
  {
   "cell_type": "code",
   "execution_count": null,
   "id": "9a0d30d2-6d6b-4079-bb23-ee3b12f37b1a",
   "metadata": {},
   "outputs": [],
   "source": []
  },
  {
   "cell_type": "code",
   "execution_count": null,
   "id": "843b2465-3d02-483e-a127-6bc264236ea4",
   "metadata": {},
   "outputs": [],
   "source": []
  },
  {
   "cell_type": "code",
   "execution_count": null,
   "id": "b36b6078-7cb4-4032-9d10-e547edc1500f",
   "metadata": {},
   "outputs": [],
   "source": []
  },
  {
   "cell_type": "code",
   "execution_count": null,
   "id": "7f23cad3-70a9-4689-87c8-06a4317ef01a",
   "metadata": {},
   "outputs": [],
   "source": []
  },
  {
   "cell_type": "code",
   "execution_count": null,
   "id": "d43a4397-1394-45ca-843c-645ec92cdf80",
   "metadata": {},
   "outputs": [],
   "source": []
  },
  {
   "cell_type": "code",
   "execution_count": null,
   "id": "690361b6-4620-48d2-bce8-b157ece62e2b",
   "metadata": {},
   "outputs": [],
   "source": []
  },
  {
   "cell_type": "code",
   "execution_count": null,
   "id": "fcf8f315-e743-4d44-813f-9568b86ffb78",
   "metadata": {},
   "outputs": [],
   "source": []
  },
  {
   "cell_type": "code",
   "execution_count": null,
   "id": "fccfc63f-1c36-46ee-a465-eaf8f8cfb290",
   "metadata": {},
   "outputs": [],
   "source": []
  },
  {
   "cell_type": "code",
   "execution_count": null,
   "id": "124abe12-30a8-4dfa-9526-19b1570dbb17",
   "metadata": {},
   "outputs": [],
   "source": []
  },
  {
   "cell_type": "code",
   "execution_count": null,
   "id": "8b746aeb-22a5-4647-b54a-42e36e5450a4",
   "metadata": {},
   "outputs": [],
   "source": []
  },
  {
   "cell_type": "code",
   "execution_count": null,
   "id": "52a0f658-0d15-4b43-952d-f0b7869cb72e",
   "metadata": {},
   "outputs": [],
   "source": []
  },
  {
   "cell_type": "code",
   "execution_count": null,
   "id": "dac6f0ee-755d-4ec0-82c8-10d87bc7eaf3",
   "metadata": {},
   "outputs": [],
   "source": []
  }
 ],
 "metadata": {
  "kernelspec": {
   "display_name": "automl",
   "language": "python",
   "name": "automl"
  },
  "language_info": {
   "codemirror_mode": {
    "name": "ipython",
    "version": 3
   },
   "file_extension": ".py",
   "mimetype": "text/x-python",
   "name": "python",
   "nbconvert_exporter": "python",
   "pygments_lexer": "ipython3",
   "version": "3.9.15"
  },
  "toc-autonumbering": true,
  "toc-showcode": false,
  "toc-showmarkdowntxt": false
 },
 "nbformat": 4,
 "nbformat_minor": 5
}
