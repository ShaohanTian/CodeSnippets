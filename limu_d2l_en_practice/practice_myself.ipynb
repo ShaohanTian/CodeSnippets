{
 "cells": [
  {
   "cell_type": "markdown",
   "id": "1cf0d6af-9d04-4065-ae5c-e0f4a8bf5120",
   "metadata": {},
   "source": [
    "## Builder‘s Guide"
   ]
  },
  {
   "cell_type": "markdown",
   "id": "88da4cbf-5046-4caf-bc02-93554d2f2513",
   "metadata": {},
   "source": [
    "### Layers and Modules"
   ]
  },
  {
   "cell_type": "markdown",
   "id": "9abe389a-04bb-4e42-bc0c-73a57f5b215a",
   "metadata": {},
   "source": [
    "- Mulitple layers are combined into modules"
   ]
  },
  {
   "cell_type": "code",
   "execution_count": 8,
   "id": "ff9e30b8-8a3a-407c-b555-d8ca8beffaa9",
   "metadata": {
    "execution": {
     "iopub.execute_input": "2023-04-19T03:00:26.365982Z",
     "iopub.status.busy": "2023-04-19T03:00:26.365982Z",
     "iopub.status.idle": "2023-04-19T03:00:26.376952Z",
     "shell.execute_reply": "2023-04-19T03:00:26.376952Z",
     "shell.execute_reply.started": "2023-04-19T03:00:26.365982Z"
    },
    "tags": []
   },
   "outputs": [],
   "source": [
    "import torch\n",
    "from torch import nn\n",
    "from torch.nn import functional as F"
   ]
  },
  {
   "cell_type": "code",
   "execution_count": 9,
   "id": "f562e7dc-fd00-40c6-8c4c-748d62a31f23",
   "metadata": {
    "execution": {
     "iopub.execute_input": "2023-04-19T03:00:26.378947Z",
     "iopub.status.busy": "2023-04-19T03:00:26.377950Z",
     "iopub.status.idle": "2023-04-19T03:00:26.391912Z",
     "shell.execute_reply": "2023-04-19T03:00:26.391912Z",
     "shell.execute_reply.started": "2023-04-19T03:00:26.378947Z"
    },
    "tags": []
   },
   "outputs": [
    {
     "data": {
      "text/plain": [
       "torch.Size([2, 10])"
      ]
     },
     "execution_count": 9,
     "metadata": {},
     "output_type": "execute_result"
    }
   ],
   "source": [
    "net = nn.Sequential(nn.LazyLinear(256), nn.ReLU(), nn.LazyLinear(10))\n",
    "\n",
    "X = torch.rand((2, 10))\n",
    "net(X).shape"
   ]
  },
  {
   "cell_type": "markdown",
   "id": "2cf60cda-f49a-479e-878f-51e3d5504d99",
   "metadata": {},
   "source": [
    "#### A Custom Module"
   ]
  },
  {
   "cell_type": "code",
   "execution_count": 10,
   "id": "353262c2-ee95-4212-81e7-6323b7d35c2b",
   "metadata": {
    "execution": {
     "iopub.execute_input": "2023-04-19T03:00:26.392910Z",
     "iopub.status.busy": "2023-04-19T03:00:26.392910Z",
     "iopub.status.idle": "2023-04-19T03:00:26.408866Z",
     "shell.execute_reply": "2023-04-19T03:00:26.407870Z",
     "shell.execute_reply.started": "2023-04-19T03:00:26.392910Z"
    },
    "tags": []
   },
   "outputs": [
    {
     "data": {
      "text/plain": [
       "torch.Size([2, 10])"
      ]
     },
     "execution_count": 10,
     "metadata": {},
     "output_type": "execute_result"
    }
   ],
   "source": [
    "class MLP(nn.Module):\n",
    "    def __init__(self):\n",
    "        super().__init__()\n",
    "        self.hidden = nn.LazyLinear(256)\n",
    "        self.out = nn.LazyLinear(10)\n",
    "    def forward(self, X):\n",
    "        return self.out(F.relu(self.hidden(X)))\n",
    "net = MLP()\n",
    "net(X).shape"
   ]
  },
  {
   "cell_type": "markdown",
   "id": "0e3206b2-a8ea-4164-96d4-8435e0c883e7",
   "metadata": {},
   "source": [
    "#### The Sequential Module"
   ]
  },
  {
   "cell_type": "markdown",
   "id": "0fd5b937-8a4a-43a9-bf31-9a279ca4d7b3",
   "metadata": {},
   "source": [
    "- A method to append modules one by one to a list\n",
    "- A forward propagation method to pass an input through the chain of modules, in the same order as they were appended"
   ]
  },
  {
   "cell_type": "code",
   "execution_count": 11,
   "id": "7053070e-f8e7-42c7-93b9-1d1f11dff1e9",
   "metadata": {
    "execution": {
     "iopub.execute_input": "2023-04-19T03:00:26.410862Z",
     "iopub.status.busy": "2023-04-19T03:00:26.409871Z",
     "iopub.status.idle": "2023-04-19T03:00:26.424824Z",
     "shell.execute_reply": "2023-04-19T03:00:26.423826Z",
     "shell.execute_reply.started": "2023-04-19T03:00:26.410862Z"
    },
    "tags": []
   },
   "outputs": [],
   "source": [
    "# using \"childrne\" class to access added modules\n",
    "\n",
    "class MySequential(nn.Module):\n",
    "    def __init__(self, *args):\n",
    "        super().__init__()\n",
    "        for idx, moduels in enumerate(args):\n",
    "            self.add_module(str(idx), moduels)\n",
    "    def forward(self, X):\n",
    "        for module in self.children():\n",
    "            X = module(X)\n",
    "        return X   "
   ]
  },
  {
   "cell_type": "code",
   "execution_count": 12,
   "id": "e48238ca-8d38-4a9d-99ce-0eab6c7ff4c3",
   "metadata": {
    "execution": {
     "iopub.execute_input": "2023-04-19T03:00:26.426819Z",
     "iopub.status.busy": "2023-04-19T03:00:26.425823Z",
     "iopub.status.idle": "2023-04-19T03:00:26.439784Z",
     "shell.execute_reply": "2023-04-19T03:00:26.438787Z",
     "shell.execute_reply.started": "2023-04-19T03:00:26.426819Z"
    },
    "tags": []
   },
   "outputs": [
    {
     "data": {
      "text/plain": [
       "torch.Size([2, 10])"
      ]
     },
     "execution_count": 12,
     "metadata": {},
     "output_type": "execute_result"
    }
   ],
   "source": [
    "net = MySequential(nn.LazyLinear(256),nn.LazyLinear(256), nn.ReLU(), nn.LazyLinear(10))\n",
    "net(X).shape"
   ]
  },
  {
   "cell_type": "code",
   "execution_count": 13,
   "id": "f620a90f-fcb7-44ce-9dcc-50bf6987ea0e",
   "metadata": {
    "execution": {
     "iopub.execute_input": "2023-04-19T03:00:26.440781Z",
     "iopub.status.busy": "2023-04-19T03:00:26.440781Z",
     "iopub.status.idle": "2023-04-19T03:00:26.455741Z",
     "shell.execute_reply": "2023-04-19T03:00:26.454744Z",
     "shell.execute_reply.started": "2023-04-19T03:00:26.440781Z"
    },
    "tags": []
   },
   "outputs": [
    {
     "name": "stdout",
     "output_type": "stream",
     "text": [
      "MySequential(\n",
      "  (0): Linear(in_features=10, out_features=256, bias=True)\n",
      "  (1): Linear(in_features=256, out_features=256, bias=True)\n",
      "  (2): ReLU()\n",
      "  (3): Linear(in_features=256, out_features=10, bias=True)\n",
      ")\n"
     ]
    }
   ],
   "source": [
    "print(net)"
   ]
  },
  {
   "cell_type": "markdown",
   "id": "20fd8358-dd85-483f-b1db-f011ef2fbae9",
   "metadata": {},
   "source": [
    "#### Executing Code in the Forward Propagation Method"
   ]
  },
  {
   "cell_type": "markdown",
   "id": "8d646d1e-2ecd-46fc-9706-3db9be9e7ac4",
   "metadata": {},
   "source": [
    "- Perform arbitrary matchmatical operations, not simpely relying on predifned NNs\n",
    "- sharing one linear layer and add some mathmatical operaitons"
   ]
  },
  {
   "cell_type": "code",
   "execution_count": 45,
   "id": "1fd6c1ca-b627-425a-b11f-fcbfd1b3ccf9",
   "metadata": {
    "execution": {
     "iopub.execute_input": "2023-04-19T03:09:25.111985Z",
     "iopub.status.busy": "2023-04-19T03:09:25.111985Z",
     "iopub.status.idle": "2023-04-19T03:09:25.124949Z",
     "shell.execute_reply": "2023-04-19T03:09:25.123952Z",
     "shell.execute_reply.started": "2023-04-19T03:09:25.111985Z"
    },
    "tags": []
   },
   "outputs": [],
   "source": [
    "class FixedHiddenMLP(nn.Module):\n",
    "    def __init__(self):\n",
    "        super().__init__()\n",
    "        # Random weight parameters that will not compute gradients and\n",
    "        # therefore keep constant during training\n",
    "        self.rand_weight = torch.rand((20, 20))\n",
    "        self.linear = nn.LazyLinear(20)\n",
    "    def forward(self, X):\n",
    "        X = self.linear(X)\n",
    "        X = F.relu(X @ self.rand_weight + 1)\n",
    "        # Reuse the fully connected layer. This is equivalent to sharing\n",
    "        # parameters with two fully connected layers\n",
    "        X = self.linear(X)\n",
    "        # Control flow\n",
    "        while X.abs().sum() > 1:\n",
    "            X /= 2\n",
    "        return X.sum()"
   ]
  },
  {
   "cell_type": "code",
   "execution_count": 63,
   "id": "1e80ce96-faa7-477d-bfba-8b8f64d2fe34",
   "metadata": {
    "execution": {
     "iopub.execute_input": "2023-04-19T03:09:34.246360Z",
     "iopub.status.busy": "2023-04-19T03:09:34.245364Z",
     "iopub.status.idle": "2023-04-19T03:09:34.254340Z",
     "shell.execute_reply": "2023-04-19T03:09:34.254340Z",
     "shell.execute_reply.started": "2023-04-19T03:09:34.246360Z"
    },
    "tags": []
   },
   "outputs": [
    {
     "data": {
      "text/plain": [
       "tensor(-0.1759, grad_fn=<SumBackward0>)"
      ]
     },
     "execution_count": 63,
     "metadata": {},
     "output_type": "execute_result"
    }
   ],
   "source": [
    "X = torch.rand((2, 20))\n",
    "net = FixedHiddenMLP()\n",
    "net(X)"
   ]
  },
  {
   "cell_type": "code",
   "execution_count": 66,
   "id": "d3274d85-5981-4ffc-bca6-d966f655651e",
   "metadata": {
    "execution": {
     "iopub.execute_input": "2023-04-19T03:16:34.310598Z",
     "iopub.status.busy": "2023-04-19T03:16:34.310598Z",
     "iopub.status.idle": "2023-04-19T03:16:34.329548Z",
     "shell.execute_reply": "2023-04-19T03:16:34.329548Z",
     "shell.execute_reply.started": "2023-04-19T03:16:34.310598Z"
    },
    "tags": []
   },
   "outputs": [
    {
     "name": "stderr",
     "output_type": "stream",
     "text": [
      "C:\\Users\\shaohan.tian\\scoop\\apps\\miniconda3\\current\\envs\\d2l\\lib\\site-packages\\torch\\nn\\modules\\lazy.py:178: UserWarning: Lazy modules are a new feature under heavy development so changes to the API or functionality can happen at any moment.\n",
      "  warnings.warn('Lazy modules are a new feature under heavy development '\n"
     ]
    },
    {
     "data": {
      "text/plain": [
       "tensor(-0.1548, grad_fn=<SumBackward0>)"
      ]
     },
     "execution_count": 66,
     "metadata": {},
     "output_type": "execute_result"
    }
   ],
   "source": [
    "# mixing various modules together\n",
    "class NestMlp(nn.Module):\n",
    "    def __init__(self):\n",
    "        super().__init__()\n",
    "        self.net = nn.Sequential(nn.LazyLinear(20), nn.ReLU(),\n",
    "                                nn.LazyLinear(50), nn.ReLU())\n",
    "        self.linear = nn.LazyLinear(60)\n",
    "    def forward(self, X):\n",
    "        return self.linear(self.net(X))\n",
    "    \n",
    "chimera = nn.Sequential(NestMlp(), nn.LazyLinear(20), FixedHiddenMLP())\n",
    "chimera(X)"
   ]
  },
  {
   "cell_type": "code",
   "execution_count": null,
   "id": "b094ca6b-0643-4c2c-83fd-06695974d66f",
   "metadata": {},
   "outputs": [],
   "source": []
  },
  {
   "cell_type": "code",
   "execution_count": null,
   "id": "28145802-3259-412d-9046-785af670d439",
   "metadata": {},
   "outputs": [],
   "source": []
  },
  {
   "cell_type": "code",
   "execution_count": null,
   "id": "7d918183-ff36-4e8a-a500-9dc4bcbd57b7",
   "metadata": {},
   "outputs": [],
   "source": []
  },
  {
   "cell_type": "code",
   "execution_count": null,
   "id": "7aeb601b-0cee-4aee-97f7-864522c43337",
   "metadata": {},
   "outputs": [],
   "source": []
  },
  {
   "cell_type": "code",
   "execution_count": null,
   "id": "fb80cb55-ed8e-44a2-ac51-6e02f0cefa82",
   "metadata": {},
   "outputs": [],
   "source": []
  },
  {
   "cell_type": "code",
   "execution_count": null,
   "id": "dac6f0ee-755d-4ec0-82c8-10d87bc7eaf3",
   "metadata": {},
   "outputs": [],
   "source": []
  }
 ],
 "metadata": {
  "kernelspec": {
   "display_name": "d2l",
   "language": "python",
   "name": "d2l"
  },
  "language_info": {
   "codemirror_mode": {
    "name": "ipython",
    "version": 3
   },
   "file_extension": ".py",
   "mimetype": "text/x-python",
   "name": "python",
   "nbconvert_exporter": "python",
   "pygments_lexer": "ipython3",
   "version": "3.9.16"
  },
  "toc-autonumbering": true
 },
 "nbformat": 4,
 "nbformat_minor": 5
}
