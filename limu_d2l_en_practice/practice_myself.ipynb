{
 "cells": [
  {
   "cell_type": "markdown",
   "id": "1cf0d6af-9d04-4065-ae5c-e0f4a8bf5120",
   "metadata": {},
   "source": [
    "## Builder‘s Guide"
   ]
  },
  {
   "cell_type": "markdown",
   "id": "88da4cbf-5046-4caf-bc02-93554d2f2513",
   "metadata": {},
   "source": [
    "### Layers and Modules"
   ]
  },
  {
   "cell_type": "markdown",
   "id": "9abe389a-04bb-4e42-bc0c-73a57f5b215a",
   "metadata": {},
   "source": [
    "- Mulitple layers are combined into modules"
   ]
  },
  {
   "cell_type": "code",
   "execution_count": 8,
   "id": "ff9e30b8-8a3a-407c-b555-d8ca8beffaa9",
   "metadata": {
    "execution": {
     "iopub.execute_input": "2023-04-19T03:00:26.365982Z",
     "iopub.status.busy": "2023-04-19T03:00:26.365982Z",
     "iopub.status.idle": "2023-04-19T03:00:26.376952Z",
     "shell.execute_reply": "2023-04-19T03:00:26.376952Z",
     "shell.execute_reply.started": "2023-04-19T03:00:26.365982Z"
    },
    "tags": []
   },
   "outputs": [],
   "source": [
    "import torch\n",
    "from torch import nn\n",
    "from torch.nn import functional as F"
   ]
  },
  {
   "cell_type": "code",
   "execution_count": 9,
   "id": "f562e7dc-fd00-40c6-8c4c-748d62a31f23",
   "metadata": {
    "execution": {
     "iopub.execute_input": "2023-04-19T03:00:26.378947Z",
     "iopub.status.busy": "2023-04-19T03:00:26.377950Z",
     "iopub.status.idle": "2023-04-19T03:00:26.391912Z",
     "shell.execute_reply": "2023-04-19T03:00:26.391912Z",
     "shell.execute_reply.started": "2023-04-19T03:00:26.378947Z"
    },
    "tags": []
   },
   "outputs": [
    {
     "data": {
      "text/plain": [
       "torch.Size([2, 10])"
      ]
     },
     "execution_count": 9,
     "metadata": {},
     "output_type": "execute_result"
    }
   ],
   "source": [
    "net = nn.Sequential(nn.LazyLinear(256), nn.ReLU(), nn.LazyLinear(10))\n",
    "\n",
    "X = torch.rand((2, 10))\n",
    "net(X).shape"
   ]
  },
  {
   "cell_type": "markdown",
   "id": "2cf60cda-f49a-479e-878f-51e3d5504d99",
   "metadata": {},
   "source": [
    "#### A Custom Module"
   ]
  },
  {
   "cell_type": "code",
   "execution_count": 10,
   "id": "353262c2-ee95-4212-81e7-6323b7d35c2b",
   "metadata": {
    "execution": {
     "iopub.execute_input": "2023-04-19T03:00:26.392910Z",
     "iopub.status.busy": "2023-04-19T03:00:26.392910Z",
     "iopub.status.idle": "2023-04-19T03:00:26.408866Z",
     "shell.execute_reply": "2023-04-19T03:00:26.407870Z",
     "shell.execute_reply.started": "2023-04-19T03:00:26.392910Z"
    },
    "tags": []
   },
   "outputs": [
    {
     "data": {
      "text/plain": [
       "torch.Size([2, 10])"
      ]
     },
     "execution_count": 10,
     "metadata": {},
     "output_type": "execute_result"
    }
   ],
   "source": [
    "class MLP(nn.Module):\n",
    "    def __init__(self):\n",
    "        super().__init__()\n",
    "        self.hidden = nn.LazyLinear(256)\n",
    "        self.out = nn.LazyLinear(10)\n",
    "    def forward(self, X):\n",
    "        return self.out(F.relu(self.hidden(X)))\n",
    "net = MLP()\n",
    "net(X).shape"
   ]
  },
  {
   "cell_type": "markdown",
   "id": "0e3206b2-a8ea-4164-96d4-8435e0c883e7",
   "metadata": {},
   "source": [
    "#### The Sequential Module"
   ]
  },
  {
   "cell_type": "markdown",
   "id": "0fd5b937-8a4a-43a9-bf31-9a279ca4d7b3",
   "metadata": {},
   "source": [
    "- A method to append modules one by one to a list\n",
    "- A forward propagation method to pass an input through the chain of modules, in the same order as they were appended"
   ]
  },
  {
   "cell_type": "code",
   "execution_count": 198,
   "id": "7053070e-f8e7-42c7-93b9-1d1f11dff1e9",
   "metadata": {
    "execution": {
     "iopub.execute_input": "2023-04-19T04:58:42.476393Z",
     "iopub.status.busy": "2023-04-19T04:58:42.476393Z",
     "iopub.status.idle": "2023-04-19T04:58:42.494346Z",
     "shell.execute_reply": "2023-04-19T04:58:42.494346Z",
     "shell.execute_reply.started": "2023-04-19T04:58:42.476393Z"
    },
    "tags": []
   },
   "outputs": [],
   "source": [
    "# using \"childrne\" class to access added modules\n",
    "\n",
    "class MySequential(nn.Module):\n",
    "    def __init__(self, *args):\n",
    "        super().__init__()\n",
    "        for idx, moduels in enumerate(args):\n",
    "            self.add_module('l' + str(idx), moduels)\n",
    "    def forward(self, X):\n",
    "        for module in self.children():\n",
    "            X = module(X)\n",
    "        return X   "
   ]
  },
  {
   "cell_type": "code",
   "execution_count": 199,
   "id": "e48238ca-8d38-4a9d-99ce-0eab6c7ff4c3",
   "metadata": {
    "execution": {
     "iopub.execute_input": "2023-04-19T04:58:43.427979Z",
     "iopub.status.busy": "2023-04-19T04:58:43.426983Z",
     "iopub.status.idle": "2023-04-19T04:58:43.439975Z",
     "shell.execute_reply": "2023-04-19T04:58:43.439975Z",
     "shell.execute_reply.started": "2023-04-19T04:58:43.427979Z"
    },
    "tags": []
   },
   "outputs": [
    {
     "name": "stderr",
     "output_type": "stream",
     "text": [
      "C:\\Users\\shaohan.tian\\scoop\\apps\\miniconda3\\current\\envs\\d2l\\lib\\site-packages\\torch\\nn\\modules\\lazy.py:178: UserWarning: Lazy modules are a new feature under heavy development so changes to the API or functionality can happen at any moment.\n",
      "  warnings.warn('Lazy modules are a new feature under heavy development '\n"
     ]
    },
    {
     "data": {
      "text/plain": [
       "torch.Size([2, 10])"
      ]
     },
     "execution_count": 199,
     "metadata": {},
     "output_type": "execute_result"
    }
   ],
   "source": [
    "net = MySequential(nn.LazyLinear(256),nn.LazyLinear(256), nn.ReLU(), nn.LazyLinear(10))\n",
    "net(X).shape"
   ]
  },
  {
   "cell_type": "code",
   "execution_count": 200,
   "id": "d7bbffc6-571e-410f-b4ca-d1414218845a",
   "metadata": {
    "execution": {
     "iopub.execute_input": "2023-04-19T04:58:54.833586Z",
     "iopub.status.busy": "2023-04-19T04:58:54.833586Z",
     "iopub.status.idle": "2023-04-19T04:58:54.838573Z",
     "shell.execute_reply": "2023-04-19T04:58:54.838573Z",
     "shell.execute_reply.started": "2023-04-19T04:58:54.833586Z"
    }
   },
   "outputs": [
    {
     "data": {
      "text/plain": [
       "MySequential(\n",
       "  (l0): Linear(in_features=20, out_features=256, bias=True)\n",
       "  (l1): Linear(in_features=256, out_features=256, bias=True)\n",
       "  (l2): ReLU()\n",
       "  (l3): Linear(in_features=256, out_features=10, bias=True)\n",
       ")"
      ]
     },
     "execution_count": 200,
     "metadata": {},
     "output_type": "execute_result"
    }
   ],
   "source": [
    "net"
   ]
  },
  {
   "cell_type": "code",
   "execution_count": 201,
   "id": "5d66decc-ac4c-42cb-835a-8af7a0056014",
   "metadata": {
    "execution": {
     "iopub.execute_input": "2023-04-19T04:58:58.389394Z",
     "iopub.status.busy": "2023-04-19T04:58:58.388398Z",
     "iopub.status.idle": "2023-04-19T04:58:58.394381Z",
     "shell.execute_reply": "2023-04-19T04:58:58.394381Z",
     "shell.execute_reply.started": "2023-04-19T04:58:58.389394Z"
    },
    "tags": []
   },
   "outputs": [
    {
     "data": {
      "text/plain": [
       "Linear(in_features=20, out_features=256, bias=True)"
      ]
     },
     "execution_count": 201,
     "metadata": {},
     "output_type": "execute_result"
    }
   ],
   "source": [
    "net.l0"
   ]
  },
  {
   "cell_type": "markdown",
   "id": "20fd8358-dd85-483f-b1db-f011ef2fbae9",
   "metadata": {},
   "source": [
    "#### Executing Code in the Forward Propagation Method"
   ]
  },
  {
   "cell_type": "markdown",
   "id": "8d646d1e-2ecd-46fc-9706-3db9be9e7ac4",
   "metadata": {},
   "source": [
    "- Perform arbitrary matchmatical operations, not simpely relying on predifned NNs\n",
    "- sharing one linear layer and add some mathmatical operaitons"
   ]
  },
  {
   "cell_type": "code",
   "execution_count": 45,
   "id": "1fd6c1ca-b627-425a-b11f-fcbfd1b3ccf9",
   "metadata": {
    "execution": {
     "iopub.execute_input": "2023-04-19T03:09:25.111985Z",
     "iopub.status.busy": "2023-04-19T03:09:25.111985Z",
     "iopub.status.idle": "2023-04-19T03:09:25.124949Z",
     "shell.execute_reply": "2023-04-19T03:09:25.123952Z",
     "shell.execute_reply.started": "2023-04-19T03:09:25.111985Z"
    },
    "tags": []
   },
   "outputs": [],
   "source": [
    "class FixedHiddenMLP(nn.Module):\n",
    "    def __init__(self):\n",
    "        super().__init__()\n",
    "        # Random weight parameters that will not compute gradients and\n",
    "        # therefore keep constant during training\n",
    "        self.rand_weight = torch.rand((20, 20))\n",
    "        self.linear = nn.LazyLinear(20)\n",
    "    def forward(self, X):\n",
    "        X = self.linear(X)\n",
    "        X = F.relu(X @ self.rand_weight + 1)\n",
    "        # Reuse the fully connected layer. This is equivalent to sharing\n",
    "        # parameters with two fully connected layers\n",
    "        X = self.linear(X)\n",
    "        # Control flow\n",
    "        while X.abs().sum() > 1:\n",
    "            X /= 2\n",
    "        return X.sum()"
   ]
  },
  {
   "cell_type": "code",
   "execution_count": 81,
   "id": "1e80ce96-faa7-477d-bfba-8b8f64d2fe34",
   "metadata": {
    "execution": {
     "iopub.execute_input": "2023-04-19T03:25:32.896257Z",
     "iopub.status.busy": "2023-04-19T03:25:32.895259Z",
     "iopub.status.idle": "2023-04-19T03:25:32.903240Z",
     "shell.execute_reply": "2023-04-19T03:25:32.902242Z",
     "shell.execute_reply.started": "2023-04-19T03:25:32.896257Z"
    },
    "tags": []
   },
   "outputs": [
    {
     "name": "stderr",
     "output_type": "stream",
     "text": [
      "C:\\Users\\shaohan.tian\\scoop\\apps\\miniconda3\\current\\envs\\d2l\\lib\\site-packages\\torch\\nn\\modules\\lazy.py:178: UserWarning: Lazy modules are a new feature under heavy development so changes to the API or functionality can happen at any moment.\n",
      "  warnings.warn('Lazy modules are a new feature under heavy development '\n"
     ]
    },
    {
     "data": {
      "text/plain": [
       "tensor(0.2432, grad_fn=<SumBackward0>)"
      ]
     },
     "execution_count": 81,
     "metadata": {},
     "output_type": "execute_result"
    }
   ],
   "source": [
    "X = torch.arange(40.0).reshape(2, 20)\n",
    "net = FixedHiddenMLP()\n",
    "net(X)"
   ]
  },
  {
   "cell_type": "code",
   "execution_count": 83,
   "id": "d3274d85-5981-4ffc-bca6-d966f655651e",
   "metadata": {
    "execution": {
     "iopub.execute_input": "2023-04-19T03:25:37.866155Z",
     "iopub.status.busy": "2023-04-19T03:25:37.865158Z",
     "iopub.status.idle": "2023-04-19T03:25:37.884108Z",
     "shell.execute_reply": "2023-04-19T03:25:37.884108Z",
     "shell.execute_reply.started": "2023-04-19T03:25:37.866155Z"
    },
    "tags": []
   },
   "outputs": [
    {
     "data": {
      "text/plain": [
       "tensor(0.0621, grad_fn=<SumBackward0>)"
      ]
     },
     "execution_count": 83,
     "metadata": {},
     "output_type": "execute_result"
    }
   ],
   "source": [
    "# mixing various modules together\n",
    "class NestMlp(nn.Module):\n",
    "    def __init__(self):\n",
    "        super().__init__()\n",
    "        self.net = nn.Sequential(nn.LazyLinear(20), nn.ReLU(),\n",
    "                                nn.LazyLinear(50), nn.ReLU())\n",
    "        self.linear = nn.LazyLinear(60)\n",
    "    def forward(self, X):\n",
    "        return self.linear(self.net(X))\n",
    "    \n",
    "chimera = nn.Sequential(NestMlp(), nn.LazyLinear(20), FixedHiddenMLP())\n",
    "chimera(X)"
   ]
  },
  {
   "cell_type": "code",
   "execution_count": 85,
   "id": "4b025c74-3495-4923-9a7a-85490cf258eb",
   "metadata": {
    "execution": {
     "iopub.execute_input": "2023-04-19T03:25:55.998836Z",
     "iopub.status.busy": "2023-04-19T03:25:55.997839Z",
     "iopub.status.idle": "2023-04-19T03:25:56.007812Z",
     "shell.execute_reply": "2023-04-19T03:25:56.006814Z",
     "shell.execute_reply.started": "2023-04-19T03:25:55.998836Z"
    },
    "tags": []
   },
   "outputs": [
    {
     "data": {
      "text/plain": [
       "Sequential(\n",
       "  (0): NestMlp(\n",
       "    (net): Sequential(\n",
       "      (0): Linear(in_features=20, out_features=20, bias=True)\n",
       "      (1): ReLU()\n",
       "      (2): Linear(in_features=20, out_features=50, bias=True)\n",
       "      (3): ReLU()\n",
       "    )\n",
       "    (linear): Linear(in_features=50, out_features=60, bias=True)\n",
       "  )\n",
       "  (1): Linear(in_features=60, out_features=20, bias=True)\n",
       "  (2): FixedHiddenMLP(\n",
       "    (linear): Linear(in_features=20, out_features=20, bias=True)\n",
       "  )\n",
       ")"
      ]
     },
     "execution_count": 85,
     "metadata": {},
     "output_type": "execute_result"
    }
   ],
   "source": [
    "chimera"
   ]
  },
  {
   "cell_type": "code",
   "execution_count": null,
   "id": "088e8c88-e8fc-4a95-8beb-48bfb1d6b22e",
   "metadata": {},
   "outputs": [],
   "source": []
  },
  {
   "cell_type": "code",
   "execution_count": 86,
   "id": "b094ca6b-0643-4c2c-83fd-06695974d66f",
   "metadata": {
    "execution": {
     "iopub.execute_input": "2023-04-19T03:26:09.140759Z",
     "iopub.status.busy": "2023-04-19T03:26:09.140759Z",
     "iopub.status.idle": "2023-04-19T03:26:09.157712Z",
     "shell.execute_reply": "2023-04-19T03:26:09.157712Z",
     "shell.execute_reply.started": "2023-04-19T03:26:09.140759Z"
    },
    "tags": []
   },
   "outputs": [],
   "source": [
    "class MySequential(nn.Module):\n",
    "    def __init__(self, *args):\n",
    "        super().__init__()\n",
    "        for idx, moduels in enumerate(args):\n",
    "            self.add_module(str(idx), moduels)\n",
    "    def forward(self, X):\n",
    "        for module in self.children():\n",
    "            X = module(X)\n",
    "        return X   "
   ]
  },
  {
   "cell_type": "code",
   "execution_count": 87,
   "id": "28145802-3259-412d-9046-785af670d439",
   "metadata": {
    "execution": {
     "iopub.execute_input": "2023-04-19T03:26:11.755243Z",
     "iopub.status.busy": "2023-04-19T03:26:11.755243Z",
     "iopub.status.idle": "2023-04-19T03:26:11.772197Z",
     "shell.execute_reply": "2023-04-19T03:26:11.772197Z",
     "shell.execute_reply.started": "2023-04-19T03:26:11.755243Z"
    },
    "tags": []
   },
   "outputs": [
    {
     "name": "stderr",
     "output_type": "stream",
     "text": [
      "C:\\Users\\shaohan.tian\\scoop\\apps\\miniconda3\\current\\envs\\d2l\\lib\\site-packages\\torch\\nn\\modules\\lazy.py:178: UserWarning: Lazy modules are a new feature under heavy development so changes to the API or functionality can happen at any moment.\n",
      "  warnings.warn('Lazy modules are a new feature under heavy development '\n"
     ]
    },
    {
     "data": {
      "text/plain": [
       "tensor(0.0199, grad_fn=<SumBackward0>)"
      ]
     },
     "execution_count": 99,
     "metadata": {},
     "output_type": "execute_result"
    }
   ],
   "source": [
    "X = torch.arange(40.0).reshape(2, 20)\n",
    "chimera = MySequential(NestMlp(), nn.LazyLinear(20), FixedHiddenMLP())\n",
    "chimera(X)"
   ]
  },
  {
   "cell_type": "code",
   "execution_count": 98,
   "id": "d03e510b-9ab9-40db-b1bd-7a87b13f5914",
   "metadata": {
    "execution": {
     "iopub.execute_input": "2023-04-19T03:28:21.310609Z",
     "iopub.status.busy": "2023-04-19T03:28:21.309612Z",
     "iopub.status.idle": "2023-04-19T03:28:21.330556Z",
     "shell.execute_reply": "2023-04-19T03:28:21.329559Z",
     "shell.execute_reply.started": "2023-04-19T03:28:21.310609Z"
    },
    "tags": []
   },
   "outputs": [
    {
     "data": {
      "text/plain": [
       "Linear(in_features=60, out_features=20, bias=True)"
      ]
     },
     "execution_count": 100,
     "metadata": {},
     "output_type": "execute_result"
    }
   ],
   "source": [
    "chimera[1]"
   ]
  },
  {
   "cell_type": "code",
   "execution_count": 95,
   "id": "a6080a5a-af8e-44a7-8079-b020ae126db9",
   "metadata": {
    "execution": {
     "iopub.execute_input": "2023-04-19T03:27:07.694561Z",
     "iopub.status.busy": "2023-04-19T03:27:07.694561Z",
     "iopub.status.idle": "2023-04-19T03:27:07.721490Z",
     "shell.execute_reply": "2023-04-19T03:27:07.720493Z",
     "shell.execute_reply.started": "2023-04-19T03:27:07.694561Z"
    },
    "tags": []
   },
   "outputs": [
    {
     "ename": "TypeError",
     "evalue": "'MySequential' object is not subscriptable",
     "output_type": "error",
     "traceback": [
      "\u001b[1;31m---------------------------------------------------------------------------\u001b[0m",
      "\u001b[1;31mTypeError\u001b[0m                                 Traceback (most recent call last)",
      "Cell \u001b[1;32mIn[95], line 1\u001b[0m\n\u001b[1;32m----> 1\u001b[0m \u001b[43mchimera\u001b[49m\u001b[43m[\u001b[49m\u001b[38;5;124;43m'\u001b[39;49m\u001b[38;5;124;43m0\u001b[39;49m\u001b[38;5;124;43m'\u001b[39;49m\u001b[43m]\u001b[49m[\u001b[38;5;124m'\u001b[39m\u001b[38;5;124mnet\u001b[39m\u001b[38;5;124m'\u001b[39m][\u001b[38;5;124m'\u001b[39m\u001b[38;5;124m0\u001b[39m\u001b[38;5;124m'\u001b[39m]\u001b[38;5;241m.\u001b[39mstate_dict()\n",
      "\u001b[1;31mTypeError\u001b[0m: 'MySequential' object is not subscriptable"
     ]
    }
   ],
   "source": [
    "chimera['0']['net']['0'].state_dict()"
   ]
  },
  {
   "cell_type": "code",
   "execution_count": 97,
   "id": "b53ee3c1-007f-4e7e-8f07-3c994bdfc6ad",
   "metadata": {
    "execution": {
     "iopub.execute_input": "2023-04-19T03:27:21.347584Z",
     "iopub.status.busy": "2023-04-19T03:27:21.346589Z",
     "iopub.status.idle": "2023-04-19T03:27:21.374513Z",
     "shell.execute_reply": "2023-04-19T03:27:21.373515Z",
     "shell.execute_reply.started": "2023-04-19T03:27:21.347584Z"
    },
    "tags": []
   },
   "outputs": [
    {
     "ename": "TypeError",
     "evalue": "'MySequential' object is not subscriptable",
     "output_type": "error",
     "traceback": [
      "\u001b[1;31m---------------------------------------------------------------------------\u001b[0m",
      "\u001b[1;31mTypeError\u001b[0m                                 Traceback (most recent call last)",
      "Cell \u001b[1;32mIn[97], line 1\u001b[0m\n\u001b[1;32m----> 1\u001b[0m \u001b[43mchimera\u001b[49m\u001b[43m[\u001b[49m\u001b[38;5;241;43m1\u001b[39;49m\u001b[43m]\u001b[49m\n",
      "\u001b[1;31mTypeError\u001b[0m: 'MySequential' object is not subscriptable"
     ]
    }
   ],
   "source": [
    "chimera[1]"
   ]
  },
  {
   "cell_type": "code",
   "execution_count": null,
   "id": "6404344f-4cee-4da8-a1e1-07baff08ccc6",
   "metadata": {},
   "outputs": [],
   "source": []
  },
  {
   "cell_type": "code",
   "execution_count": null,
   "id": "e0c59cf1-a666-4619-b1cb-25e79e0042ad",
   "metadata": {},
   "outputs": [],
   "source": []
  },
  {
   "cell_type": "code",
   "execution_count": null,
   "id": "7d918183-ff36-4e8a-a500-9dc4bcbd57b7",
   "metadata": {},
   "outputs": [],
   "source": []
  },
  {
   "cell_type": "code",
   "execution_count": null,
   "id": "7aeb601b-0cee-4aee-97f7-864522c43337",
   "metadata": {},
   "outputs": [],
   "source": []
  },
  {
   "cell_type": "code",
   "execution_count": null,
   "id": "fb80cb55-ed8e-44a2-ac51-6e02f0cefa82",
   "metadata": {},
   "outputs": [],
   "source": []
  },
  {
   "cell_type": "code",
   "execution_count": null,
   "id": "dac6f0ee-755d-4ec0-82c8-10d87bc7eaf3",
   "metadata": {},
   "outputs": [],
   "source": []
  }
 ],
 "metadata": {
  "kernelspec": {
   "display_name": "d2l",
   "language": "python",
   "name": "d2l"
  },
  "language_info": {
   "codemirror_mode": {
    "name": "ipython",
    "version": 3
   },
   "file_extension": ".py",
   "mimetype": "text/x-python",
   "name": "python",
   "nbconvert_exporter": "python",
   "pygments_lexer": "ipython3",
   "version": "3.9.16"
  },
  "toc-autonumbering": true
 },
 "nbformat": 4,
 "nbformat_minor": 5
}
